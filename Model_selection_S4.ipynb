{
  "cells": [
    {
      "cell_type": "markdown",
      "metadata": {
        "id": "view-in-github",
        "colab_type": "text"
      },
      "source": [
        "<a href=\"https://colab.research.google.com/github/Awalilly/DataMining2023/blob/main/Model_selection_S4.ipynb\" target=\"_parent\"><img src=\"https://colab.research.google.com/assets/colab-badge.svg\" alt=\"Open In Colab\"/></a>"
      ]
    },
    {
      "cell_type": "code",
      "execution_count": null,
      "metadata": {
        "id": "Efya7qbtc6E6"
      },
      "outputs": [],
      "source": [
        "import pandas as pd\n",
        "import numpy as np\n",
        "import os\n",
        "import json\n",
        "import matplotlib.pyplot as plt\n",
        "\n",
        "path_data = 'MyDrive/Colab Notebooks/data/DataMiningProject/Preprocessed/'\n",
        "path_mount = '/content/drive/'"
      ]
    },
    {
      "cell_type": "code",
      "execution_count": null,
      "metadata": {
        "colab": {
          "base_uri": "https://localhost:8080/"
        },
        "id": "EDFFmt2Hmdwp",
        "outputId": "1071d3f8-957c-43e5-d197-53415f13c0aa"
      },
      "outputs": [
        {
          "output_type": "stream",
          "name": "stdout",
          "text": [
            "Mounted at /content/drive/\n"
          ]
        }
      ],
      "source": [
        "from google.colab import drive\n",
        "drive.mount(path_mount)"
      ]
    },
    {
      "cell_type": "markdown",
      "metadata": {
        "id": "ams-32UpWJlv"
      },
      "source": [
        "# Paziente S4 - dati unbalanced (88% vs 12%)"
      ]
    },
    {
      "cell_type": "markdown",
      "metadata": {
        "id": "NAZHyHHfG5kH"
      },
      "source": [
        "## Definizione dei Dataset"
      ]
    },
    {
      "cell_type": "code",
      "execution_count": null,
      "metadata": {
        "colab": {
          "base_uri": "https://localhost:8080/"
        },
        "id": "gB8cM2NvmEg0",
        "outputId": "f2e12319-b8f2-4e66-a800-3f99d986548b"
      },
      "outputs": [
        {
          "output_type": "execute_result",
          "data": {
            "text/plain": [
              "   epoch  condition                                                 Fz  \\\n",
              "0      0          0  [1.9249565042, 0.0949738894, -0.9422494844, -1...   \n",
              "1      1          1  [-2.8460998694, -1.9835247263, -1.0859625802, ...   \n",
              "2      2          0  [2.5491810007, 3.5200899271, 3.9312253227, 3.5...   \n",
              "3      3          0  [5.3651743359, 6.9812859993, 8.1764198115, 8.5...   \n",
              "4      4          1  [-5.0270923442, -5.6959658628, -5.8752652619, ...   \n",
              "\n",
              "                                                  C3  \\\n",
              "0  [-1.8775547081, -1.7177038463, -1.1903673646, ...   \n",
              "1  [2.8247604499000003, 3.3895838916, 3.142858251...   \n",
              "2  [1.1283034608, 1.6621317511, 2.0179260753, 2.1...   \n",
              "3  [-0.0364798277, -1.0064007473, -2.1503404633, ...   \n",
              "4  [-7.1279672888, -7.1528686274, -6.1269346395, ...   \n",
              "\n",
              "                                                  Cz  \\\n",
              "0  [-2.4849622849, -3.277082452, -3.7747507359, -...   \n",
              "1  [-1.8569242185000001, -2.1029123518, -2.092896...   \n",
              "2  [-0.4443867353, -0.0594772744, 0.4022558524, 0...   \n",
              "3  [1.3171461470999999, 1.7972088587, 1.847118012...   \n",
              "4  [-1.0397905144, -1.0775570749, -0.7349574261, ...   \n",
              "\n",
              "                                                  C4  \\\n",
              "0  [0.4879709049, 1.2640916664000001, 1.851953854...   \n",
              "1  [-2.0478299841, -2.4733822075000003, -2.001556...   \n",
              "2  [4.8220671482, 4.7471049282, 4.2272520221, 3.4...   \n",
              "3  [2.0051131605, 1.7986790242000001, 1.449073179...   \n",
              "4  [-0.9489855504, -0.7391041063, -0.5187617423, ...   \n",
              "\n",
              "                                                  Pz  \\\n",
              "0  [-3.585547541, -2.6911806202, -1.8808397665, -...   \n",
              "1  [2.4579422566, 2.0192397154, 1.6497446302, 1.3...   \n",
              "2  [-2.0675218136, -2.1981588392, -2.0062639955, ...   \n",
              "3  [0.07414792740000001, -0.24441571880000001, -0...   \n",
              "4  [2.4498595964, 2.1338872395, 1.7921376621, 1.3...   \n",
              "\n",
              "                                                 PO7  \\\n",
              "0  [0.5537893365000001, 0.611394758, 0.3594605756...   \n",
              "1  [2.760842053, 4.1121992726, 4.3386629001, 3.32...   \n",
              "2  [-2.8399958779, -2.6298084694, -2.322104994, -...   \n",
              "3  [-4.0702854248, -4.5518800819, -4.5002091436, ...   \n",
              "4  [2.1085294613, 2.2888127265, 2.3820081721, 2.3...   \n",
              "\n",
              "                                                  Oz  \\\n",
              "0  [-0.2045038931, 0.3923876867, 0.52018411, 0.23...   \n",
              "1  [-0.8538244146, -1.2581237249, -1.7333055526, ...   \n",
              "2  [-3.8564570939, -3.9811147088, -3.8680058399, ...   \n",
              "3  [-1.0087098763, -0.8014223186, -0.0934652587, ...   \n",
              "4  [6.7005018593, 6.8796215323, 6.2379324571, 5.0...   \n",
              "\n",
              "                                                 PO8  \n",
              "0  [5.1858516814, 5.3231189181, 5.0566088118, 4.2...  \n",
              "1  [-0.4388662728, -1.7030798689000002, -2.217545...  \n",
              "2  [0.7088099109, -1.0607673147, -2.3822844431, -...  \n",
              "3  [-3.6461064421, -3.9730550155, -4.2212984266, ...  \n",
              "4  [2.8849447809, 3.3631741731, 2.8438407784, 1.6...  "
            ],
            "text/html": [
              "\n",
              "  <div id=\"df-d7aa11cc-e3ea-45cb-951a-f1b6548a5d74\">\n",
              "    <div class=\"colab-df-container\">\n",
              "      <div>\n",
              "<style scoped>\n",
              "    .dataframe tbody tr th:only-of-type {\n",
              "        vertical-align: middle;\n",
              "    }\n",
              "\n",
              "    .dataframe tbody tr th {\n",
              "        vertical-align: top;\n",
              "    }\n",
              "\n",
              "    .dataframe thead th {\n",
              "        text-align: right;\n",
              "    }\n",
              "</style>\n",
              "<table border=\"1\" class=\"dataframe\">\n",
              "  <thead>\n",
              "    <tr style=\"text-align: right;\">\n",
              "      <th></th>\n",
              "      <th>epoch</th>\n",
              "      <th>condition</th>\n",
              "      <th>Fz</th>\n",
              "      <th>C3</th>\n",
              "      <th>Cz</th>\n",
              "      <th>C4</th>\n",
              "      <th>Pz</th>\n",
              "      <th>PO7</th>\n",
              "      <th>Oz</th>\n",
              "      <th>PO8</th>\n",
              "    </tr>\n",
              "  </thead>\n",
              "  <tbody>\n",
              "    <tr>\n",
              "      <th>0</th>\n",
              "      <td>0</td>\n",
              "      <td>0</td>\n",
              "      <td>[1.9249565042, 0.0949738894, -0.9422494844, -1...</td>\n",
              "      <td>[-1.8775547081, -1.7177038463, -1.1903673646, ...</td>\n",
              "      <td>[-2.4849622849, -3.277082452, -3.7747507359, -...</td>\n",
              "      <td>[0.4879709049, 1.2640916664000001, 1.851953854...</td>\n",
              "      <td>[-3.585547541, -2.6911806202, -1.8808397665, -...</td>\n",
              "      <td>[0.5537893365000001, 0.611394758, 0.3594605756...</td>\n",
              "      <td>[-0.2045038931, 0.3923876867, 0.52018411, 0.23...</td>\n",
              "      <td>[5.1858516814, 5.3231189181, 5.0566088118, 4.2...</td>\n",
              "    </tr>\n",
              "    <tr>\n",
              "      <th>1</th>\n",
              "      <td>1</td>\n",
              "      <td>1</td>\n",
              "      <td>[-2.8460998694, -1.9835247263, -1.0859625802, ...</td>\n",
              "      <td>[2.8247604499000003, 3.3895838916, 3.142858251...</td>\n",
              "      <td>[-1.8569242185000001, -2.1029123518, -2.092896...</td>\n",
              "      <td>[-2.0478299841, -2.4733822075000003, -2.001556...</td>\n",
              "      <td>[2.4579422566, 2.0192397154, 1.6497446302, 1.3...</td>\n",
              "      <td>[2.760842053, 4.1121992726, 4.3386629001, 3.32...</td>\n",
              "      <td>[-0.8538244146, -1.2581237249, -1.7333055526, ...</td>\n",
              "      <td>[-0.4388662728, -1.7030798689000002, -2.217545...</td>\n",
              "    </tr>\n",
              "    <tr>\n",
              "      <th>2</th>\n",
              "      <td>2</td>\n",
              "      <td>0</td>\n",
              "      <td>[2.5491810007, 3.5200899271, 3.9312253227, 3.5...</td>\n",
              "      <td>[1.1283034608, 1.6621317511, 2.0179260753, 2.1...</td>\n",
              "      <td>[-0.4443867353, -0.0594772744, 0.4022558524, 0...</td>\n",
              "      <td>[4.8220671482, 4.7471049282, 4.2272520221, 3.4...</td>\n",
              "      <td>[-2.0675218136, -2.1981588392, -2.0062639955, ...</td>\n",
              "      <td>[-2.8399958779, -2.6298084694, -2.322104994, -...</td>\n",
              "      <td>[-3.8564570939, -3.9811147088, -3.8680058399, ...</td>\n",
              "      <td>[0.7088099109, -1.0607673147, -2.3822844431, -...</td>\n",
              "    </tr>\n",
              "    <tr>\n",
              "      <th>3</th>\n",
              "      <td>3</td>\n",
              "      <td>0</td>\n",
              "      <td>[5.3651743359, 6.9812859993, 8.1764198115, 8.5...</td>\n",
              "      <td>[-0.0364798277, -1.0064007473, -2.1503404633, ...</td>\n",
              "      <td>[1.3171461470999999, 1.7972088587, 1.847118012...</td>\n",
              "      <td>[2.0051131605, 1.7986790242000001, 1.449073179...</td>\n",
              "      <td>[0.07414792740000001, -0.24441571880000001, -0...</td>\n",
              "      <td>[-4.0702854248, -4.5518800819, -4.5002091436, ...</td>\n",
              "      <td>[-1.0087098763, -0.8014223186, -0.0934652587, ...</td>\n",
              "      <td>[-3.6461064421, -3.9730550155, -4.2212984266, ...</td>\n",
              "    </tr>\n",
              "    <tr>\n",
              "      <th>4</th>\n",
              "      <td>4</td>\n",
              "      <td>1</td>\n",
              "      <td>[-5.0270923442, -5.6959658628, -5.8752652619, ...</td>\n",
              "      <td>[-7.1279672888, -7.1528686274, -6.1269346395, ...</td>\n",
              "      <td>[-1.0397905144, -1.0775570749, -0.7349574261, ...</td>\n",
              "      <td>[-0.9489855504, -0.7391041063, -0.5187617423, ...</td>\n",
              "      <td>[2.4498595964, 2.1338872395, 1.7921376621, 1.3...</td>\n",
              "      <td>[2.1085294613, 2.2888127265, 2.3820081721, 2.3...</td>\n",
              "      <td>[6.7005018593, 6.8796215323, 6.2379324571, 5.0...</td>\n",
              "      <td>[2.8849447809, 3.3631741731, 2.8438407784, 1.6...</td>\n",
              "    </tr>\n",
              "  </tbody>\n",
              "</table>\n",
              "</div>\n",
              "      <button class=\"colab-df-convert\" onclick=\"convertToInteractive('df-d7aa11cc-e3ea-45cb-951a-f1b6548a5d74')\"\n",
              "              title=\"Convert this dataframe to an interactive table.\"\n",
              "              style=\"display:none;\">\n",
              "        \n",
              "  <svg xmlns=\"http://www.w3.org/2000/svg\" height=\"24px\"viewBox=\"0 0 24 24\"\n",
              "       width=\"24px\">\n",
              "    <path d=\"M0 0h24v24H0V0z\" fill=\"none\"/>\n",
              "    <path d=\"M18.56 5.44l.94 2.06.94-2.06 2.06-.94-2.06-.94-.94-2.06-.94 2.06-2.06.94zm-11 1L8.5 8.5l.94-2.06 2.06-.94-2.06-.94L8.5 2.5l-.94 2.06-2.06.94zm10 10l.94 2.06.94-2.06 2.06-.94-2.06-.94-.94-2.06-.94 2.06-2.06.94z\"/><path d=\"M17.41 7.96l-1.37-1.37c-.4-.4-.92-.59-1.43-.59-.52 0-1.04.2-1.43.59L10.3 9.45l-7.72 7.72c-.78.78-.78 2.05 0 2.83L4 21.41c.39.39.9.59 1.41.59.51 0 1.02-.2 1.41-.59l7.78-7.78 2.81-2.81c.8-.78.8-2.07 0-2.86zM5.41 20L4 18.59l7.72-7.72 1.47 1.35L5.41 20z\"/>\n",
              "  </svg>\n",
              "      </button>\n",
              "      \n",
              "  <style>\n",
              "    .colab-df-container {\n",
              "      display:flex;\n",
              "      flex-wrap:wrap;\n",
              "      gap: 12px;\n",
              "    }\n",
              "\n",
              "    .colab-df-convert {\n",
              "      background-color: #E8F0FE;\n",
              "      border: none;\n",
              "      border-radius: 50%;\n",
              "      cursor: pointer;\n",
              "      display: none;\n",
              "      fill: #1967D2;\n",
              "      height: 32px;\n",
              "      padding: 0 0 0 0;\n",
              "      width: 32px;\n",
              "    }\n",
              "\n",
              "    .colab-df-convert:hover {\n",
              "      background-color: #E2EBFA;\n",
              "      box-shadow: 0px 1px 2px rgba(60, 64, 67, 0.3), 0px 1px 3px 1px rgba(60, 64, 67, 0.15);\n",
              "      fill: #174EA6;\n",
              "    }\n",
              "\n",
              "    [theme=dark] .colab-df-convert {\n",
              "      background-color: #3B4455;\n",
              "      fill: #D2E3FC;\n",
              "    }\n",
              "\n",
              "    [theme=dark] .colab-df-convert:hover {\n",
              "      background-color: #434B5C;\n",
              "      box-shadow: 0px 1px 3px 1px rgba(0, 0, 0, 0.15);\n",
              "      filter: drop-shadow(0px 1px 2px rgba(0, 0, 0, 0.3));\n",
              "      fill: #FFFFFF;\n",
              "    }\n",
              "  </style>\n",
              "\n",
              "      <script>\n",
              "        const buttonEl =\n",
              "          document.querySelector('#df-d7aa11cc-e3ea-45cb-951a-f1b6548a5d74 button.colab-df-convert');\n",
              "        buttonEl.style.display =\n",
              "          google.colab.kernel.accessAllowed ? 'block' : 'none';\n",
              "\n",
              "        async function convertToInteractive(key) {\n",
              "          const element = document.querySelector('#df-d7aa11cc-e3ea-45cb-951a-f1b6548a5d74');\n",
              "          const dataTable =\n",
              "            await google.colab.kernel.invokeFunction('convertToInteractive',\n",
              "                                                     [key], {});\n",
              "          if (!dataTable) return;\n",
              "\n",
              "          const docLinkHtml = 'Like what you see? Visit the ' +\n",
              "            '<a target=\"_blank\" href=https://colab.research.google.com/notebooks/data_table.ipynb>data table notebook</a>'\n",
              "            + ' to learn more about interactive tables.';\n",
              "          element.innerHTML = '';\n",
              "          dataTable['output_type'] = 'display_data';\n",
              "          await google.colab.output.renderOutput(dataTable, element);\n",
              "          const docLink = document.createElement('div');\n",
              "          docLink.innerHTML = docLinkHtml;\n",
              "          element.appendChild(docLink);\n",
              "        }\n",
              "      </script>\n",
              "    </div>\n",
              "  </div>\n",
              "  "
            ]
          },
          "metadata": {},
          "execution_count": 3
        }
      ],
      "source": [
        "subject = \"S4\"\n",
        "file_path = os.path.join(path_mount, path_data, subject)\n",
        "df = pd.read_json(file_path + \"_eeg.json\")\n",
        "df.head()"
      ]
    },
    {
      "cell_type": "markdown",
      "metadata": {
        "id": "JetFFoQuKmnf"
      },
      "source": [
        "*Costruzione matrice della features*"
      ]
    },
    {
      "cell_type": "markdown",
      "metadata": {
        "id": "TA3_rpyGrCk1"
      },
      "source": [
        "`X` è la matrice delle *features* di dimensione 1200 x 2808 in cui vengono salvati i dati dopo essere stati standardizzati. In `y` sono inserite le *label* dei dati."
      ]
    },
    {
      "cell_type": "code",
      "execution_count": null,
      "metadata": {
        "id": "JKGzYnzDnE66"
      },
      "outputs": [],
      "source": [
        "unicorn_channels = [\"Fz\", \"C3\", \"Cz\", \"C4\", \"Pz\", \"PO7\", \"Oz\", \"PO8\"]\n",
        "pot = df[unicorn_channels].to_numpy()\n",
        "\n",
        "s = np.zeros(1)\n",
        "X = np.zeros(2808)\n",
        "\n",
        "for i in range(pot.shape[0]):\n",
        "  for j in range(pot.shape[1]):\n",
        "    temp = np.array(pot[i,j])\n",
        "    temp = (temp - np.mean(temp)) / np.std(temp)\n",
        "\n",
        "    s = np.append(s, temp)\n",
        "\n",
        "  X = np.vstack((X, s[1:]))\n",
        "  s = np.zeros(1)\n",
        "\n",
        "y = df.condition.to_numpy()"
      ]
    },
    {
      "cell_type": "code",
      "execution_count": null,
      "metadata": {
        "colab": {
          "base_uri": "https://localhost:8080/"
        },
        "id": "LV9EOD4CG2Qj",
        "outputId": "72d6ad7f-7765-4c96-9b39-edcc6a366b00"
      },
      "outputs": [
        {
          "output_type": "execute_result",
          "data": {
            "text/plain": [
              "(1200, 2808)"
            ]
          },
          "metadata": {},
          "execution_count": 5
        }
      ],
      "source": [
        "X = X[1:,:]\n",
        "X.shape"
      ]
    },
    {
      "cell_type": "code",
      "execution_count": null,
      "metadata": {
        "colab": {
          "base_uri": "https://localhost:8080/"
        },
        "id": "z8T1ZcxQxkcD",
        "outputId": "38b6a5ae-99e3-4903-e690-822903c3b5f1"
      },
      "outputs": [
        {
          "output_type": "execute_result",
          "data": {
            "text/plain": [
              "(1200,)"
            ]
          },
          "metadata": {},
          "execution_count": 6
        }
      ],
      "source": [
        "y.shape"
      ]
    },
    {
      "cell_type": "markdown",
      "metadata": {
        "id": "54DTPCAMK8Vq"
      },
      "source": [
        "*Suddivisione dei dati tra set di training, set di validazione e set di test*"
      ]
    },
    {
      "cell_type": "markdown",
      "metadata": {
        "id": "Z_DrIgMu4A4y"
      },
      "source": [
        "Il dataset viene suddiviso in:\n",
        "\n",
        "\n",
        "*   `X_train` e `y_train`: dataset di training;\n",
        "*   `X_test` e `y_test`: dataset di test contenente il 20% dei dati originali;\n",
        "*   `X_val` e `y_val`: dataset di test di validazione, che contiene il 20% dei dati di training.\n"
      ]
    },
    {
      "cell_type": "code",
      "execution_count": null,
      "metadata": {
        "id": "TjBYn18GLu9j"
      },
      "outputs": [],
      "source": [
        "from sklearn.model_selection import train_test_split\n",
        "from collections import Counter\n",
        "\n",
        "# Suddivisione del dataset in set di training e test\n",
        "X_train, X_test, y_train, y_test = train_test_split(X, y, test_size = 0.2, random_state = 42, stratify = y)\n",
        "\n",
        "# Suddivisione del dataset in set di training e validazione\n",
        "X_train_original, X_val, y_train_original, y_val = train_test_split(X_train, y_train, test_size = 0.2, random_state = 42, stratify = y_train)"
      ]
    },
    {
      "cell_type": "code",
      "execution_count": null,
      "metadata": {
        "id": "gbTVNlutlJjD"
      },
      "outputs": [],
      "source": [
        "X_train = X_train_original\n",
        "y_train = y_train_original"
      ]
    },
    {
      "cell_type": "markdown",
      "metadata": {
        "id": "xJEgbhZm49_h"
      },
      "source": [
        "Il dataset di training risulta essere fortemente sbilanciato: i dati con label *Non-Target* (NT) sono superiori di quelli *Target* (T)."
      ]
    },
    {
      "cell_type": "code",
      "execution_count": null,
      "metadata": {
        "colab": {
          "base_uri": "https://localhost:8080/"
        },
        "id": "GmMrNZKh0Lvk",
        "outputId": "8f83d103-47b7-4781-d8fb-03fea12113ca"
      },
      "outputs": [
        {
          "output_type": "stream",
          "name": "stdout",
          "text": [
            "La parecentuale di dati di training NT è  87.5 % e quella di T è 12.5 %. E in termini assoluti: Counter({0: 672, 1: 96})\n"
          ]
        }
      ],
      "source": [
        "class_counter = Counter(y_train)\n",
        "first_class, count = class_counter.most_common(1)[0]\n",
        "NT_perc = (count/ len(y_train)) * 100\n",
        "print(\"La parecentuale di dati di training NT è \", NT_perc, \"% e quella di T è\", 100 - NT_perc , \"%. E in termini assoluti:\", class_counter)"
      ]
    },
    {
      "cell_type": "markdown",
      "metadata": {
        "id": "MyVeDQhBKqve"
      },
      "source": [
        "## **Model selection**"
      ]
    },
    {
      "cell_type": "code",
      "execution_count": null,
      "metadata": {
        "id": "BlqLN6GoL-Ph"
      },
      "outputs": [],
      "source": [
        "from sklearn import model_selection\n",
        "from sklearn.model_selection import GridSearchCV, StratifiedKFold, cross_val_score\n",
        "from sklearn.metrics import roc_auc_score, accuracy_score, f1_score, precision_score, recall_score, confusion_matrix\n",
        "import seaborn as sns\n",
        "\n",
        "cv = StratifiedKFold(n_splits = 10, shuffle = True, random_state = 42)"
      ]
    },
    {
      "cell_type": "markdown",
      "metadata": {
        "id": "vZVDnkz6ATX-"
      },
      "source": [
        "La fase di *model selection* è strutturata come segue:\n",
        "\n",
        "\n",
        "1.   Ogni modello è allenato con il dataset di training;\n",
        "2.   Si stima il `roc_auc` score su *10 Fold Cross Validation*;\n",
        "3.   Si utilizza `grid_search` per individuare gli iperparametri che consentono di ottimizzare il modello;\n",
        "4.   Si valutano le prestazioni del *best model* con diversi score e si produce la *Confusion Matrix*.\n",
        "\n"
      ]
    },
    {
      "cell_type": "markdown",
      "metadata": {
        "id": "RZIMT57HhL7p"
      },
      "source": [
        "Gli score utillizati in questa sezione sono:\n",
        "\n",
        "\n",
        "*   **ROC AUC** (Receiver Operating Characteristic Area Under the Curve): la curva ROC rappresenta la relazione tra il tasso di veri positivi (True Positive Rate, TPR) e il tasso di falsi positivi (False Positive Rate, FPR) al variare della soglia di classificazione. L'area sotto la curva ROC (AUC) fornisce una stima complessiva delle prestazioni del classificatore, dove un valore più vicino a 1 indica una migliore capacità di classificazione.\n",
        "\n",
        "*   **Accuracy** (Accuratezza): è una misura della percentuale di previsioni corrette rispetto al numero totale di previsioni. È un indicatore generale delle prestazioni del classificatore, calcolato come il rapporto tra il numero di previsioni corrette e il numero totale di campioni.\n",
        "\n",
        "*   **F1-score**: combina la precisione e il richiamo (recall) del classificatore. È utile quando ci interessa un equilibrio tra precisione e richiamo. L'F1-score è il valore medio armonico di precisione e richiamo ed è calcolato come: 2 * (precision * recall) / (precision + recall). Assume valori compresi tra 0 e 1, dove 1 indica il miglior punteggio possibile.\n",
        "\n",
        "*   **Precision** (Precisione): la proporzione di istanze positive correttamente identificate rispetto a tutte le istanze identificate come positive dal classificatore. È calcolata come il rapporto tra i veri positivi e la somma dei veri positivi e dei falsi positivi.\n",
        "\n",
        "*   **Recall** (Richiamo): la proporzione di istanze positive correttamente identificate rispetto al numero totale di istanze positive effettive. È calcolato come il rapporto tra i veri positivi e la somma dei veri positivi e dei falsi negativi.\n",
        "\n",
        "\n"
      ]
    },
    {
      "cell_type": "markdown",
      "metadata": {
        "id": "8jmwzwkj6dgN"
      },
      "source": [
        "La *Confusion Matrix* è una matrice 2 x 2, dove le righe rappresentano le etichette di classe reali e le colonne rappresentano le previsioni del modello. Gli scenari possibili sono quattro: True Positive (TP), False Negative (FN), True negative (TN) e False positive (FP).\n",
        "\n",
        "Ecco un esempio di com'è strutturata una confusion matrix:\n",
        "\n",
        "\n",
        "```\n",
        "               | Predetto Positivo | Predetto Negativo |\n",
        "-------------------------------------------------------\n",
        "Vero Positivo  |       TP          |       FN          |\n",
        "-------------------------------------------------------\n",
        "Vero Negativo  |       FP          |       TN          |\n",
        "```\n",
        "Se il modello funziona bene i valori lungo la diagonale saranno più elevati delle altre caselle.\n"
      ]
    },
    {
      "cell_type": "markdown",
      "metadata": {
        "id": "CHVKUpXrCkSr"
      },
      "source": [
        "Per poter fare delle considerazioni aggiuntive sulle prestazioni di ogni modello su dati *unbalanced* e *balanced* i valori di ciscuna metrica vengono salvati all'interno della matrice `S4_result`."
      ]
    },
    {
      "cell_type": "code",
      "execution_count": null,
      "metadata": {
        "id": "rw-cJz0-1m9-"
      },
      "outputs": [],
      "source": [
        "from sklearn.linear_model import LogisticRegression\n",
        "from sklearn.ensemble import RandomForestClassifier\n",
        "from sklearn.naive_bayes import MultinomialNB,ComplementNB\n",
        "from sklearn.svm import SVC\n",
        "from sklearn.discriminant_analysis import LinearDiscriminantAnalysis"
      ]
    },
    {
      "cell_type": "markdown",
      "metadata": {
        "id": "gmCANThUKvFm"
      },
      "source": [
        "### **S4 (88% vs 12%) 1. Logistic Regression**"
      ]
    },
    {
      "cell_type": "code",
      "execution_count": null,
      "metadata": {
        "colab": {
          "base_uri": "https://localhost:8080/"
        },
        "id": "hCS5N1OcCerk",
        "outputId": "0067a46d-d70f-4e9d-a08b-2baa1268185c"
      },
      "outputs": [
        {
          "output_type": "stream",
          "name": "stdout",
          "text": [
            "ROC (cross-validation):  0.9513827919227392\n"
          ]
        }
      ],
      "source": [
        "LR = LogisticRegression(max_iter = 1000)\n",
        "\n",
        "scores = cross_val_score(LR, X_train, y_train, cv = cv, scoring = 'roc_auc')\n",
        "ROC_mean = scores.mean()\n",
        "print(\"ROC (cross-validation): \", ROC_mean)"
      ]
    },
    {
      "cell_type": "code",
      "execution_count": null,
      "metadata": {
        "colab": {
          "base_uri": "https://localhost:8080/",
          "height": 569
        },
        "id": "0maDYq0hMbBO",
        "outputId": "923992ad-2fd7-4730-8380-a426f9d0deec"
      },
      "outputs": [
        {
          "output_type": "stream",
          "name": "stdout",
          "text": [
            "Migliori parametri: {'C': 0.007368423684210527}\n",
            "ROC AUC: 0.9627976190476191\n",
            "Accuracy: 0.9322916666666666\n",
            "F1-score: 0.6976744186046512\n",
            "Precision: 0.7894736842105263\n",
            "Recall: 0.625\n",
            "CPU times: user 38.4 s, sys: 15.4 s, total: 53.8 s\n",
            "Wall time: 41 s\n"
          ]
        },
        {
          "output_type": "display_data",
          "data": {
            "text/plain": [
              "<Figure size 640x480 with 2 Axes>"
            ],
            "image/png": "[encoded data removed]"
          },
          "metadata": {}
        }
      ],
      "source": [
        "%%time\n",
        "parameters = {'C': np.linspace(1e-8, 0.01, 20)}\n",
        "grid_search = GridSearchCV(LR, parameters, cv = cv, scoring = 'roc_auc')\n",
        "\n",
        "# Grid search sul training set\n",
        "grid_search.fit(X_train, y_train)\n",
        "\n",
        "LR.C = grid_search.best_params_['C']\n",
        "\n",
        "# Addestro il modello con il miglior parametro\n",
        "LR.fit(X_train, y_train)\n",
        "\n",
        "# Predizioni sul set di validazione\n",
        "y_pred_prob = LR.predict_proba(X_val)[0:,1]\n",
        "y_pred = LR.predict(X_val)\n",
        "\n",
        "roc_auc = roc_auc_score(y_val, y_pred_prob)\n",
        "accuracy = accuracy_score(y_val, y_pred)\n",
        "f1 = f1_score(y_val, y_pred)\n",
        "precision = precision_score(y_val, y_pred)\n",
        "recall = recall_score(y_val, y_pred)\n",
        "\n",
        "cf_matrix = confusion_matrix(y_val, y_pred, labels = LR.classes_)\n",
        "\n",
        "cf_ = cf_matrix.copy().astype(float)\n",
        "\n",
        "for j in range(2):\n",
        "  for i in range(2):\n",
        "    cf_[i,j] = (float(cf_matrix[i,j]) / float(np.sum(cf_matrix[:,j])))\n",
        "\n",
        "sns.heatmap(cf_, annot = True, fmt = '.2%', cmap = 'coolwarm')\n",
        "\n",
        "print(\"Migliori parametri:\", grid_search.best_params_)\n",
        "print(\"ROC AUC:\", roc_auc)\n",
        "print(\"Accuracy:\", accuracy)\n",
        "print(\"F1-score:\", f1)\n",
        "print(\"Precision:\", precision)\n",
        "print(\"Recall:\", recall)"
      ]
    },
    {
      "cell_type": "code",
      "execution_count": null,
      "metadata": {
        "id": "fsWH2Ys1pfM8"
      },
      "outputs": [],
      "source": [
        "metrics = np.array(roc_auc)\n",
        "metrics = np.append(metrics, accuracy)\n",
        "metrics = np.append(metrics, f1)\n",
        "metrics = np.append(metrics, precision)\n",
        "metrics = np.append(metrics, recall)"
      ]
    },
    {
      "cell_type": "code",
      "execution_count": null,
      "metadata": {
        "id": "pcw5QErcqxfe"
      },
      "outputs": [],
      "source": [
        "S4_result = metrics"
      ]
    },
    {
      "cell_type": "markdown",
      "metadata": {
        "id": "v7QBfZMONG9N"
      },
      "source": [
        "### **S4 (88% vs 12%) 2. Random Forest**"
      ]
    },
    {
      "cell_type": "code",
      "execution_count": null,
      "metadata": {
        "colab": {
          "base_uri": "https://localhost:8080/"
        },
        "id": "w5k3B2yxNjtU",
        "outputId": "8539f0f0-0db3-4826-ec41-d4044b30eb36"
      },
      "outputs": [
        {
          "output_type": "stream",
          "name": "stdout",
          "text": [
            "ROC score medio (cross validation):  0.9305577504633694\n",
            "CPU times: user 30.6 s, sys: 0 ns, total: 30.6 s\n",
            "Wall time: 30.8 s\n"
          ]
        }
      ],
      "source": [
        "%%time\n",
        "RF = RandomForestClassifier(criterion = 'gini')\n",
        "\n",
        "scores = cross_val_score(RF, X_train, y_train, cv = cv, scoring = 'roc_auc')\n",
        "ROC_mean = scores.mean()\n",
        "\n",
        "print(\"ROC score medio (cross validation): \", ROC_mean)"
      ]
    },
    {
      "cell_type": "code",
      "execution_count": null,
      "metadata": {
        "colab": {
          "base_uri": "https://localhost:8080/"
        },
        "id": "I-74XufPPI1V",
        "outputId": "0fdf54a6-6a9a-4e03-a39f-21cc7f2a3fba"
      },
      "outputs": [
        {
          "output_type": "execute_result",
          "data": {
            "text/plain": [
              "array([ 80,  82,  84,  86,  88,  90,  92,  94,  96,  98, 100, 102, 104,\n",
              "       106, 108, 110, 112, 115, 117, 119, 121, 123, 125, 127, 129, 131,\n",
              "       133, 135, 137, 139, 141, 143, 145, 147, 150])"
            ]
          },
          "metadata": {},
          "execution_count": 17
        }
      ],
      "source": [
        "np.linspace(80, 150, 35).astype(int)"
      ]
    },
    {
      "cell_type": "code",
      "execution_count": null,
      "metadata": {
        "colab": {
          "base_uri": "https://localhost:8080/"
        },
        "id": "Lz9Ytr61U454",
        "outputId": "ff5c071e-2e5f-44b4-ade1-1b964156b654"
      },
      "outputs": [
        {
          "output_type": "stream",
          "name": "stdout",
          "text": [
            "Migliori parametri: {'n_estimators': 122}\n",
            "ROC AUC: 0.9033978174603176\n",
            "Accuracy: 0.9166666666666666\n",
            "F1-score: 0.5294117647058825\n",
            "Precision: 0.9\n",
            "Recall: 0.375\n",
            "CPU times: user 2min 36s, sys: 0 ns, total: 2min 36s\n",
            "Wall time: 2min 38s\n"
          ]
        },
        {
          "output_type": "display_data",
          "data": {
            "text/plain": [
              "<Figure size 640x480 with 2 Axes>"
            ],
            "image/png": "[encoded data removed]"
          },
          "metadata": {}
        }
      ],
      "source": [
        "%%time\n",
        "parameters = {'n_estimators': np.linspace(119, 122, 4).astype(int)}\n",
        "\n",
        "grid_search = GridSearchCV(RF, parameters, cv = cv, scoring = 'roc_auc')\n",
        "\n",
        "# Grid search sul training set\n",
        "grid_search.fit(X_train, y_train)\n",
        "\n",
        "RF.n_estimators = grid_search.best_params_['n_estimators']\n",
        "\n",
        "# Addestro il modello con il miglior parametro\n",
        "RF.fit(X_train, y_train)\n",
        "\n",
        "# Predizioni sul set di validazione\n",
        "y_pred_prob = RF.predict_proba(X_val)[0:,1]\n",
        "y_pred = RF.predict(X_val)\n",
        "\n",
        "roc_auc = roc_auc_score(y_val, y_pred_prob)\n",
        "accuracy = accuracy_score(y_val, y_pred)\n",
        "f1 = f1_score(y_val, y_pred)\n",
        "precision = precision_score(y_val, y_pred)\n",
        "recall = recall_score(y_val, y_pred)\n",
        "\n",
        "cf_matrix = confusion_matrix(y_val, y_pred, labels = RF.classes_)\n",
        "\n",
        "cf_ = cf_matrix.copy().astype(float)\n",
        "\n",
        "for j in range(2):\n",
        "  for i in range(2):\n",
        "    cf_[i,j] = (float(cf_matrix[i,j]) / (float(np.sum(cf_matrix[:,j])) + 1e-5))\n",
        "\n",
        "sns.heatmap(cf_, annot = True, fmt = '.2%', cmap = 'coolwarm')\n",
        "\n",
        "print(\"Migliori parametri:\", grid_search.best_params_)\n",
        "print(\"ROC AUC:\", roc_auc)\n",
        "print(\"Accuracy:\", accuracy)\n",
        "print(\"F1-score:\", f1)\n",
        "print(\"Precision:\", precision)\n",
        "print(\"Recall:\", recall)"
      ]
    },
    {
      "cell_type": "code",
      "execution_count": null,
      "metadata": {
        "id": "dTquGX7GqYDK"
      },
      "outputs": [],
      "source": [
        "metrics = np.array(roc_auc)\n",
        "metrics = np.append(metrics, accuracy)\n",
        "metrics = np.append(metrics, f1)\n",
        "metrics = np.append(metrics, precision)\n",
        "metrics = np.append(metrics, recall)\n",
        "\n",
        "S4_result = np.vstack((S4_result, metrics))"
      ]
    },
    {
      "cell_type": "markdown",
      "metadata": {
        "id": "n584zO6BXzky"
      },
      "source": [
        "### **S4 (88% vs 12%) 3. Naive Bayes**"
      ]
    },
    {
      "cell_type": "markdown",
      "metadata": {
        "id": "yRHgmtq0lzrp"
      },
      "source": [
        "Il modello Naive Bayes prende come input solo dati positivi, pertanto è necessario traslare i dati come segue."
      ]
    },
    {
      "cell_type": "code",
      "execution_count": null,
      "metadata": {
        "id": "aaEfHHHIYV6o"
      },
      "outputs": [],
      "source": [
        "s = np.zeros(1)\n",
        "X_bayes = np.zeros(2808)\n",
        "\n",
        "for i in range(pot.shape[0]):\n",
        "  for j in range(pot.shape[1]):\n",
        "    temp = np.array(pot[i,j])\n",
        "    temp = (temp - np.mean(temp)) / np.std(temp)\n",
        "    temp = temp - np.min(temp)\n",
        "\n",
        "    s = np.append(s, temp)\n",
        "\n",
        "  X_bayes = np.vstack((X_bayes, s[1:]))\n",
        "  s = np.zeros(1)\n",
        "\n",
        "\n",
        "X_bayes = X_bayes[1:,:]\n",
        "y_bayes = df.condition.to_numpy()"
      ]
    },
    {
      "cell_type": "code",
      "execution_count": null,
      "metadata": {
        "colab": {
          "base_uri": "https://localhost:8080/"
        },
        "id": "vUi0nIacb2u7",
        "outputId": "a1352873-d396-4239-dcdd-a39c94e70ed9"
      },
      "outputs": [
        {
          "output_type": "stream",
          "name": "stdout",
          "text": [
            "(1200, 2808) (1200,)\n"
          ]
        }
      ],
      "source": [
        "print(X_bayes.shape, y_bayes.shape)"
      ]
    },
    {
      "cell_type": "code",
      "execution_count": null,
      "metadata": {
        "id": "8Lyy4D5Qalyr"
      },
      "outputs": [],
      "source": [
        "# Suddivisione del dataset in set di training e test\n",
        "X_bayes_train, X_bayes_test, y_bayes_train, y_bayes_test = train_test_split(X_bayes, y_bayes, test_size = 0.2, random_state = 42, stratify = y_bayes)\n",
        "\n",
        "# Suddivisione del dataset in set di training e validazione\n",
        "X_bayes_train_original, X_bayes_val, y_bayes_train_original, y_bayes_val = train_test_split(X_bayes_train, y_bayes_train, test_size = 0.2, random_state = 42, stratify = y_bayes_train)"
      ]
    },
    {
      "cell_type": "code",
      "execution_count": null,
      "metadata": {
        "id": "S1mO8e9Rp8cj"
      },
      "outputs": [],
      "source": [
        "X_bayes_train = X_bayes_train_original\n",
        "y_bayes_train = y_bayes_train_original"
      ]
    },
    {
      "cell_type": "markdown",
      "metadata": {
        "id": "fj_xyi0eV9aT"
      },
      "source": [
        "#### *MultiNB*"
      ]
    },
    {
      "cell_type": "code",
      "execution_count": null,
      "metadata": {
        "colab": {
          "base_uri": "https://localhost:8080/"
        },
        "id": "hgbkhzQiVOuN",
        "outputId": "2a4de7bf-0309-4f51-c40f-056cdb1f0eb6"
      },
      "outputs": [
        {
          "output_type": "stream",
          "name": "stdout",
          "text": [
            "ROC score medio (cross-validation): 0.927704370305336\n"
          ]
        }
      ],
      "source": [
        "Multi_NB = MultinomialNB()\n",
        "\n",
        "# Valutazione tramite validazione incrociata (cross-validation)\n",
        "scores = cross_val_score(Multi_NB, X_bayes_train, y_bayes_train, cv = cv, scoring = 'roc_auc')\n",
        "\n",
        "# ROC medio dei risultati\n",
        "mean_ROC = np.mean(scores)\n",
        "print(\"ROC score medio (cross-validation):\", mean_ROC)"
      ]
    },
    {
      "cell_type": "code",
      "execution_count": null,
      "metadata": {
        "colab": {
          "base_uri": "https://localhost:8080/"
        },
        "id": "JORUjfFvVbsb",
        "outputId": "0005d414-8358-4ed4-e609-d0ae508b8c57"
      },
      "outputs": [
        {
          "output_type": "stream",
          "name": "stdout",
          "text": [
            "Migliori parametri: {'alpha': 6.106130653266332}\n",
            "ROC AUC: 0.9064980158730158\n",
            "Accuracy: 0.859375\n",
            "F1-score: 0.5846153846153846\n",
            "Precision: 0.4634146341463415\n",
            "Recall: 0.7916666666666666\n",
            "CPU times: user 44.6 s, sys: 22.1 s, total: 1min 6s\n",
            "Wall time: 40.5 s\n"
          ]
        },
        {
          "output_type": "display_data",
          "data": {
            "text/plain": [
              "<Figure size 640x480 with 2 Axes>"
            ],
            "image/png": "[encoded data removed]"
          },
          "metadata": {}
        }
      ],
      "source": [
        "%%time\n",
        "\n",
        "# GridSearchCV\n",
        "parameters = {'alpha': np.linspace(6.10, 6.11, 200)}\n",
        "grid_search = GridSearchCV(Multi_NB, parameters, cv = cv, scoring = 'roc_auc')\n",
        "\n",
        "# grid search sul training set\n",
        "grid_search.fit(X_bayes_train, y_bayes_train)\n",
        "\n",
        "Multi_NB.alpha =  grid_search.best_params_['alpha']\n",
        "\n",
        "# Addestro il modello con il miglior parametro\n",
        "Multi_NB.fit(X_bayes_train, y_bayes_train)\n",
        "\n",
        "# Predizioni sul set di validazione\n",
        "y_pred_prob = Multi_NB.predict_proba(X_bayes_val)[:,1]\n",
        "y_pred = Multi_NB.predict(X_bayes_val)\n",
        "\n",
        "roc_auc = roc_auc_score(y_bayes_val, y_pred_prob)\n",
        "accuracy = accuracy_score(y_bayes_val, y_pred)\n",
        "f1 = f1_score(y_bayes_val, y_pred)\n",
        "precision = precision_score(y_bayes_val, y_pred)\n",
        "recall = recall_score(y_bayes_val, y_pred)\n",
        "\n",
        "cf_matrix = confusion_matrix(y_bayes_val, y_pred, labels = Multi_NB.classes_)\n",
        "\n",
        "cf_ = cf_matrix.copy().astype(float)\n",
        "\n",
        "for j in range(2):\n",
        "  for i in range(2):\n",
        "    cf_[i,j] = (float(cf_matrix[i,j]) / float(np.sum(cf_matrix[:,j])))\n",
        "\n",
        "sns.heatmap(cf_, annot = True, fmt = '.2%', cmap = 'coolwarm')\n",
        "\n",
        "\n",
        "print(\"Migliori parametri:\", grid_search.best_params_)\n",
        "print(\"ROC AUC:\", roc_auc)\n",
        "print(\"Accuracy:\", accuracy)\n",
        "print(\"F1-score:\", f1)\n",
        "print(\"Precision:\", precision)\n",
        "print(\"Recall:\", recall)"
      ]
    },
    {
      "cell_type": "code",
      "execution_count": null,
      "metadata": {
        "id": "i0JSiESMuDLo"
      },
      "outputs": [],
      "source": [
        "metrics = np.array(roc_auc)\n",
        "metrics = np.append(metrics, accuracy)\n",
        "metrics = np.append(metrics, f1)\n",
        "metrics = np.append(metrics, precision)\n",
        "metrics = np.append(metrics, recall)\n",
        "\n",
        "S4_result = np.vstack((S4_result, metrics))"
      ]
    },
    {
      "cell_type": "markdown",
      "metadata": {
        "id": "E-mDL2WVV6ED"
      },
      "source": [
        "#### *Complement NB*"
      ]
    },
    {
      "cell_type": "code",
      "execution_count": null,
      "metadata": {
        "colab": {
          "base_uri": "https://localhost:8080/"
        },
        "id": "CR0Pk5G9VhRZ",
        "outputId": "e8800db4-e3e1-4423-af7a-6067ad06ad34"
      },
      "outputs": [
        {
          "output_type": "stream",
          "name": "stdout",
          "text": [
            "ROC Auc (cross-validation): 0.9271239391278898\n"
          ]
        }
      ],
      "source": [
        "Compl_NB = ComplementNB()\n",
        "\n",
        "# Cross-validation\n",
        "scores = cross_val_score(Compl_NB, X_bayes_train, y_bayes_train, cv = cv, scoring = 'roc_auc')\n",
        "\n",
        "# ROC medio dei risultati\n",
        "mean_ROC = np.mean(scores)\n",
        "\n",
        "print(\"ROC Auc (cross-validation):\", mean_ROC)"
      ]
    },
    {
      "cell_type": "code",
      "execution_count": null,
      "metadata": {
        "colab": {
          "base_uri": "https://localhost:8080/"
        },
        "id": "_24_pHHqVpaQ",
        "outputId": "9cdcda87-8b6a-4417-a3cf-3a86ba1f93e7"
      },
      "outputs": [
        {
          "output_type": "stream",
          "name": "stdout",
          "text": [
            "Migliori parametri: {'alpha': 2.7845454545454547}\n",
            "ROC AUC: 0.9062499999999999\n",
            "Accuracy: 0.859375\n",
            "F1-score: 0.5846153846153846\n",
            "Precision: 0.4634146341463415\n",
            "Recall: 0.7916666666666666\n",
            "CPU times: user 22 s, sys: 10.8 s, total: 32.8 s\n",
            "Wall time: 19.5 s\n"
          ]
        },
        {
          "output_type": "display_data",
          "data": {
            "text/plain": [
              "<Figure size 640x480 with 2 Axes>"
            ],
            "image/png": "[encoded data removed]"
          },
          "metadata": {}
        }
      ],
      "source": [
        "%%time\n",
        "\n",
        "parameters = {'alpha': np.linspace(2.78, 2.79, 100)}\n",
        "grid_search = GridSearchCV(Compl_NB, parameters, cv = cv, scoring = 'roc_auc')\n",
        "\n",
        "grid_search.fit(X_bayes_train, y_bayes_train)\n",
        "\n",
        "Compl_NB.alpha = grid_search.best_params_['alpha']\n",
        "\n",
        "# Addestro il modello con il miglior parametro\n",
        "Compl_NB.fit(X_bayes_train, y_bayes_train)\n",
        "\n",
        "# Predizioni sul set di validazione\n",
        "y_pred_prob = Compl_NB.predict_proba(X_bayes_val)[:,1]\n",
        "y_pred = Compl_NB.predict(X_bayes_val)\n",
        "\n",
        "roc_auc = roc_auc_score(y_bayes_val, y_pred_prob)\n",
        "accuracy = accuracy_score(y_bayes_val, y_pred)\n",
        "f1 = f1_score(y_bayes_val, y_pred)\n",
        "precision = precision_score(y_bayes_val, y_pred)\n",
        "recall = recall_score(y_bayes_val, y_pred)\n",
        "\n",
        "cf_matrix = confusion_matrix(y_bayes_val, y_pred, labels = Compl_NB.classes_)\n",
        "\n",
        "cf_ = cf_matrix.copy().astype(float)\n",
        "\n",
        "for j in range(2):\n",
        "  for i in range(2):\n",
        "    cf_[i,j] = (float(cf_matrix[i,j]) / float(np.sum(cf_matrix[:,j])))\n",
        "\n",
        "sns.heatmap(cf_, annot = True, fmt = '.2%', cmap = 'coolwarm')\n",
        "\n",
        "print(\"Migliori parametri:\", grid_search.best_params_)\n",
        "print(\"ROC AUC:\", roc_auc)\n",
        "print(\"Accuracy:\", accuracy)\n",
        "print(\"F1-score:\", f1)\n",
        "print(\"Precision:\", precision)\n",
        "print(\"Recall:\", recall)"
      ]
    },
    {
      "cell_type": "code",
      "execution_count": null,
      "metadata": {
        "id": "RtK0ZW8auFX7"
      },
      "outputs": [],
      "source": [
        "metrics = np.array(roc_auc)\n",
        "metrics = np.append(metrics, accuracy)\n",
        "metrics = np.append(metrics, f1)\n",
        "metrics = np.append(metrics, precision)\n",
        "metrics = np.append(metrics, recall)\n",
        "\n",
        "S4_result = np.vstack((S4_result, metrics))"
      ]
    },
    {
      "cell_type": "markdown",
      "metadata": {
        "id": "FQ9sdmIyVzp3"
      },
      "source": [
        "### **S4 (88% vs 12%) 4. SVM**"
      ]
    },
    {
      "cell_type": "markdown",
      "metadata": {
        "id": "jtAwXaknWHs5"
      },
      "source": [
        "#### *Lineare*"
      ]
    },
    {
      "cell_type": "code",
      "execution_count": null,
      "metadata": {
        "colab": {
          "base_uri": "https://localhost:8080/"
        },
        "id": "ygYOibWdV2O9",
        "outputId": "d12342be-d465-4552-88d6-3094b7c624db"
      },
      "outputs": [
        {
          "output_type": "stream",
          "name": "stdout",
          "text": [
            "ROC score medio (cross validation):  0.9463681592039801\n"
          ]
        }
      ],
      "source": [
        "svm_linear = SVC(kernel = 'linear',class_weight = \"balanced\", random_state = 42, probability = True)\n",
        "\n",
        "scores = cross_val_score(svm_linear, X_train, y_train, cv = cv, scoring = 'roc_auc')\n",
        "ROC_mean = scores.mean()\n",
        "\n",
        "print(\"ROC score medio (cross validation): \", ROC_mean)"
      ]
    },
    {
      "cell_type": "code",
      "execution_count": null,
      "metadata": {
        "colab": {
          "base_uri": "https://localhost:8080/"
        },
        "id": "MHpxttldWfAH",
        "outputId": "bdf96d54-9c23-487d-cd12-0ddae2af9eea"
      },
      "outputs": [
        {
          "output_type": "stream",
          "name": "stdout",
          "text": [
            "Migliori parametri: {'C': 0.0006210526315789474}\n",
            "ROC AUC: 0.9565972222222223\n",
            "Accuracy: 0.9114583333333334\n",
            "F1-score: 0.6909090909090909\n",
            "Precision: 0.6129032258064516\n",
            "Recall: 0.7916666666666666\n",
            "CPU times: user 3min 3s, sys: 137 ms, total: 3min 3s\n",
            "Wall time: 3min 3s\n"
          ]
        },
        {
          "output_type": "display_data",
          "data": {
            "text/plain": [
              "<Figure size 640x480 with 2 Axes>"
            ],
            "image/png": "[encoded data removed]"
          },
          "metadata": {}
        }
      ],
      "source": [
        "%%time\n",
        "parameters = {'C': np.linspace(1e-4, 0.01, 20)}\n",
        "\n",
        "grid_search = GridSearchCV(svm_linear, parameters, cv = cv, scoring = 'roc_auc')\n",
        "\n",
        "# Grid search sul training set\n",
        "grid_search.fit(X_train, y_train)\n",
        "\n",
        "svm_linear.C = grid_search.best_params_['C']\n",
        "\n",
        "# Addestro il modello con il miglior parametro\n",
        "svm_linear.fit(X_train, y_train)\n",
        "\n",
        "# Predizioni sul set di validazione\n",
        "y_pred_prob = svm_linear.predict_proba(X_val)[0:,1]\n",
        "y_pred = svm_linear.predict(X_val)\n",
        "\n",
        "roc_auc = roc_auc_score(y_val, y_pred_prob)\n",
        "accuracy = accuracy_score(y_val, y_pred)\n",
        "f1 = f1_score(y_val, y_pred)\n",
        "precision = precision_score(y_val, y_pred)\n",
        "recall = recall_score(y_val, y_pred)\n",
        "\n",
        "cf_matrix = confusion_matrix(y_val, y_pred, labels = svm_linear.classes_)\n",
        "\n",
        "cf_ = cf_matrix.copy().astype(float)\n",
        "\n",
        "for j in range(2):\n",
        "  for i in range(2):\n",
        "    cf_[i,j] = (float(cf_matrix[i,j]) / float(np.sum(cf_matrix[:,j])))\n",
        "\n",
        "sns.heatmap(cf_, annot = True, fmt = '.2%', cmap = 'coolwarm')\n",
        "\n",
        "print(\"Migliori parametri:\", grid_search.best_params_)\n",
        "print(\"ROC AUC:\", roc_auc)\n",
        "print(\"Accuracy:\", accuracy)\n",
        "print(\"F1-score:\", f1)\n",
        "print(\"Precision:\", precision)\n",
        "print(\"Recall:\", recall)"
      ]
    },
    {
      "cell_type": "code",
      "execution_count": null,
      "metadata": {
        "id": "Jmja_MoHuL_N"
      },
      "outputs": [],
      "source": [
        "metrics = np.array(roc_auc)\n",
        "metrics = np.append(metrics, accuracy)\n",
        "metrics = np.append(metrics, f1)\n",
        "metrics = np.append(metrics, precision)\n",
        "metrics = np.append(metrics, recall)\n",
        "\n",
        "S4_result = np.vstack((S4_result, metrics))"
      ]
    },
    {
      "cell_type": "markdown",
      "metadata": {
        "id": "MtBIQMRkWjo_"
      },
      "source": [
        "#### *Polinomiale*"
      ]
    },
    {
      "cell_type": "code",
      "execution_count": null,
      "metadata": {
        "colab": {
          "base_uri": "https://localhost:8080/"
        },
        "id": "BkM7WjZwWl5m",
        "outputId": "89313668-5864-4fff-fa79-28d10948b419"
      },
      "outputs": [
        {
          "output_type": "stream",
          "name": "stdout",
          "text": [
            "ROC score medio (cross validation):  0.9473778167983612\n",
            "CPU times: user 27.2 s, sys: 19.6 ms, total: 27.2 s\n",
            "Wall time: 27.3 s\n"
          ]
        }
      ],
      "source": [
        "%%time\n",
        "svm_poli = SVC(kernel = 'poly', probability = True)\n",
        "\n",
        "scores = cross_val_score(svm_poli, X_train, y_train, cv = cv, scoring = 'roc_auc')\n",
        "ROC_mean = scores.mean()\n",
        "\n",
        "print(\"ROC score medio (cross validation): \", ROC_mean)"
      ]
    },
    {
      "cell_type": "code",
      "source": [
        "np.linspace(1.77, 1.99, 5)"
      ],
      "metadata": {
        "colab": {
          "base_uri": "https://localhost:8080/"
        },
        "id": "NCtEyWOy1flL",
        "outputId": "239f5267-8e0f-463a-a5e4-8aaa86175c59"
      },
      "execution_count": null,
      "outputs": [
        {
          "output_type": "execute_result",
          "data": {
            "text/plain": [
              "array([1.77 , 1.825, 1.88 , 1.935, 1.99 ])"
            ]
          },
          "metadata": {},
          "execution_count": 34
        }
      ]
    },
    {
      "cell_type": "code",
      "execution_count": null,
      "metadata": {
        "colab": {
          "base_uri": "https://localhost:8080/"
        },
        "id": "pmjGda5EZMQm",
        "outputId": "32cef793-a527-4681-8c2d-84d0978512cd"
      },
      "outputs": [
        {
          "output_type": "stream",
          "name": "stderr",
          "text": [
            "/usr/local/lib/python3.10/dist-packages/sklearn/metrics/_classification.py:1344: UndefinedMetricWarning: Precision is ill-defined and being set to 0.0 due to no predicted samples. Use `zero_division` parameter to control this behavior.\n",
            "  _warn_prf(average, modifier, msg_start, len(result))\n"
          ]
        },
        {
          "output_type": "stream",
          "name": "stdout",
          "text": [
            "Migliori parametri: {'C': 1.825, 'degree': 3}\n",
            "ROC AUC: 0.9377480158730158\n",
            "Accuracy: 0.875\n",
            "F1-score: 0.0\n",
            "Precision: 0.0\n",
            "Recall: 0.0\n",
            "CPU times: user 6min 45s, sys: 340 ms, total: 6min 46s\n",
            "Wall time: 6min 47s\n"
          ]
        },
        {
          "output_type": "display_data",
          "data": {
            "text/plain": [
              "<Figure size 640x480 with 2 Axes>"
            ],
            "image/png": "[encoded data removed]"
          },
          "metadata": {}
        }
      ],
      "source": [
        "%%time\n",
        "parameters = {'degree': [2, 3, 4], 'C': np.linspace(1.77, 1.88, 5)}\n",
        "\n",
        "grid_search = GridSearchCV(svm_poli, parameters, cv = cv, scoring = 'roc_auc')\n",
        "\n",
        "# Grid search sul training set\n",
        "grid_search.fit(X_train, y_train)\n",
        "\n",
        "svm_poli.C = grid_search.best_params_['C']\n",
        "svm_poli.degree = grid_search.best_params_['degree']\n",
        "\n",
        "# Addestro il modello con il miglior parametro\n",
        "svm_poli.fit(X_train, y_train)\n",
        "\n",
        "# Predizioni sul set di validazione\n",
        "y_pred_prob = svm_poli.predict_proba(X_val)[0:,1]\n",
        "y_pred = svm_poli.predict(X_val)\n",
        "\n",
        "roc_auc = roc_auc_score(y_val, y_pred_prob)\n",
        "accuracy = accuracy_score(y_val, y_pred)\n",
        "f1 = f1_score(y_val, y_pred)\n",
        "precision = precision_score(y_val, y_pred)\n",
        "recall = recall_score(y_val, y_pred)\n",
        "\n",
        "cf_matrix = confusion_matrix(y_val, y_pred, labels = svm_poli.classes_)\n",
        "\n",
        "cf_ = cf_matrix.copy().astype(float)\n",
        "\n",
        "for j in range(2):\n",
        "  for i in range(2):\n",
        "    cf_[i,j] = (float(cf_matrix[i,j]) / float(np.sum(cf_matrix[:,j])+ 1e-5))\n",
        "\n",
        "sns.heatmap(cf_, annot = True, fmt = '.2%', cmap = 'coolwarm')\n",
        "\n",
        "print(\"Migliori parametri:\", grid_search.best_params_)\n",
        "print(\"ROC AUC:\", roc_auc)\n",
        "print(\"Accuracy:\", accuracy)\n",
        "print(\"F1-score:\", f1)\n",
        "print(\"Precision:\", precision)\n",
        "print(\"Recall:\", recall)"
      ]
    },
    {
      "cell_type": "code",
      "execution_count": null,
      "metadata": {
        "id": "qB3uaFuJuNgG"
      },
      "outputs": [],
      "source": [
        "metrics = np.array(roc_auc)\n",
        "metrics = np.append(metrics, accuracy)\n",
        "metrics = np.append(metrics, f1)\n",
        "metrics = np.append(metrics, precision)\n",
        "metrics = np.append(metrics, recall)\n",
        "\n",
        "S4_result = np.vstack((S4_result, metrics))"
      ]
    },
    {
      "cell_type": "markdown",
      "metadata": {
        "id": "fEZvV80-b_Ja"
      },
      "source": [
        "#### *Radial Basis Function (RBF)*"
      ]
    },
    {
      "cell_type": "code",
      "execution_count": null,
      "metadata": {
        "colab": {
          "base_uri": "https://localhost:8080/"
        },
        "id": "t09hGb6FcDRj",
        "outputId": "874712df-4e4c-4a4c-99ef-7e71d28ab547"
      },
      "outputs": [
        {
          "output_type": "stream",
          "name": "stdout",
          "text": [
            "ROC score medio (cross validation):  0.9498102624134231\n",
            "CPU times: user 24.9 s, sys: 33.4 ms, total: 25 s\n",
            "Wall time: 25 s\n"
          ]
        }
      ],
      "source": [
        "%%time\n",
        "svm_rbf = SVC(C = 0.3, kernel = \"rbf\", class_weight = \"balanced\", random_state = 42, probability = True)\n",
        "\n",
        "scores = cross_val_score(svm_rbf, X_train, y_train, cv = cv, scoring = 'roc_auc')\n",
        "ROC_mean = scores.mean()\n",
        "\n",
        "print(\"ROC score medio (cross validation): \", ROC_mean)"
      ]
    },
    {
      "cell_type": "code",
      "source": [
        "np.linspace(1e-10, 3, 10)"
      ],
      "metadata": {
        "colab": {
          "base_uri": "https://localhost:8080/"
        },
        "id": "rzlfNKvF7lgt",
        "outputId": "7aad637e-f8d8-4919-9d87-61671a83d756"
      },
      "execution_count": null,
      "outputs": [
        {
          "output_type": "execute_result",
          "data": {
            "text/plain": [
              "array([1.00000000e-10, 3.33333333e-01, 6.66666667e-01, 1.00000000e+00,\n",
              "       1.33333333e+00, 1.66666667e+00, 2.00000000e+00, 2.33333333e+00,\n",
              "       2.66666667e+00, 3.00000000e+00])"
            ]
          },
          "metadata": {},
          "execution_count": 38
        }
      ]
    },
    {
      "cell_type": "code",
      "execution_count": null,
      "metadata": {
        "colab": {
          "base_uri": "https://localhost:8080/"
        },
        "id": "5vrb-DdGcOFd",
        "outputId": "7c39e141-abe1-4b6b-fcbc-457277c45816"
      },
      "outputs": [
        {
          "output_type": "stream",
          "name": "stdout",
          "text": [
            "Migliori parametri: {'C': 2.0377777777777775}\n",
            "ROC AUC: 0.9660218253968254\n",
            "Accuracy: 0.9270833333333334\n",
            "F1-score: 0.611111111111111\n",
            "Precision: 0.9166666666666666\n",
            "Recall: 0.4583333333333333\n",
            "CPU times: user 3min 13s, sys: 240 ms, total: 3min 13s\n",
            "Wall time: 3min 13s\n"
          ]
        },
        {
          "output_type": "display_data",
          "data": {
            "text/plain": [
              "<Figure size 640x480 with 2 Axes>"
            ],
            "image/png": "[encoded data removed]"
          },
          "metadata": {}
        }
      ],
      "source": [
        "%%time\n",
        "parameters = {'C': np.linspace(1.66, 2.34, 10)}\n",
        "\n",
        "grid_search = GridSearchCV(svm_rbf, parameters, cv = cv, scoring = 'roc_auc')\n",
        "\n",
        "# Grid search sul training set\n",
        "grid_search.fit(X_train, y_train)\n",
        "\n",
        "svm_rbf.C = grid_search.best_params_['C']\n",
        "#svm_rbf.gamma = grid_search.best_params_['gamma']\n",
        "\n",
        "# Addestro il modello con il miglior parametro\n",
        "svm_rbf.fit(X_train, y_train)\n",
        "\n",
        "# Predizioni sul set di validazione\n",
        "y_pred_prob = svm_rbf.predict_proba(X_val)[0:,1]\n",
        "y_pred = svm_rbf.predict(X_val)\n",
        "\n",
        "roc_auc = roc_auc_score(y_val, y_pred_prob)\n",
        "accuracy = accuracy_score(y_val, y_pred)\n",
        "f1 = f1_score(y_val, y_pred)\n",
        "precision = precision_score(y_val, y_pred)\n",
        "recall = recall_score(y_val, y_pred)\n",
        "\n",
        "cf_matrix = confusion_matrix(y_val, y_pred, labels = svm_rbf.classes_)\n",
        "\n",
        "cf_ = cf_matrix.copy().astype(float)\n",
        "\n",
        "for j in range(2):\n",
        "  for i in range(2):\n",
        "    cf_[i,j] = (float(cf_matrix[i,j]) / float(np.sum(cf_matrix[:,j]) + 1e-5))\n",
        "\n",
        "sns.heatmap(cf_, annot = True, fmt = '.2%', cmap = 'coolwarm')\n",
        "\n",
        "print(\"Migliori parametri:\", grid_search.best_params_)\n",
        "print(\"ROC AUC:\", roc_auc)\n",
        "print(\"Accuracy:\", accuracy)\n",
        "print(\"F1-score:\", f1)\n",
        "print(\"Precision:\", precision)\n",
        "print(\"Recall:\", recall)"
      ]
    },
    {
      "cell_type": "code",
      "execution_count": null,
      "metadata": {
        "id": "Ls0N77IJuOzq"
      },
      "outputs": [],
      "source": [
        "metrics = np.array(roc_auc)\n",
        "metrics = np.append(metrics, accuracy)\n",
        "metrics = np.append(metrics, f1)\n",
        "metrics = np.append(metrics, precision)\n",
        "metrics = np.append(metrics, recall)\n",
        "\n",
        "S4_result = np.vstack((S4_result, metrics))"
      ]
    },
    {
      "cell_type": "markdown",
      "metadata": {
        "id": "qlTphEX1cdc9"
      },
      "source": [
        "### **S4 (88% vs 12%) 5. LDA**"
      ]
    },
    {
      "cell_type": "code",
      "execution_count": null,
      "metadata": {
        "colab": {
          "base_uri": "https://localhost:8080/"
        },
        "id": "J-_uVt-lcfta",
        "outputId": "4e4857cd-c1f1-47b1-c775-5045b35677c9"
      },
      "outputs": [
        {
          "output_type": "stream",
          "name": "stdout",
          "text": [
            "ROC score medio (cross validation):  0.9514915617988489\n",
            "CPU times: user 3min 12s, sys: 16.1 s, total: 3min 28s\n",
            "Wall time: 2min 8s\n"
          ]
        }
      ],
      "source": [
        "%%time\n",
        "lda = LinearDiscriminantAnalysis(solver = 'lsqr', shrinkage = 'auto')\n",
        "\n",
        "scores = cross_val_score(lda, X_train, y_train, cv = cv, scoring = 'roc_auc')\n",
        "ROC_mean = scores.mean()\n",
        "\n",
        "print(\"ROC score medio (cross validation): \", ROC_mean)"
      ]
    },
    {
      "cell_type": "code",
      "execution_count": null,
      "metadata": {
        "colab": {
          "base_uri": "https://localhost:8080/"
        },
        "id": "HiipTmf-lFP8",
        "outputId": "1f5ad869-dfae-4ca0-e566-e618ec3f79bb"
      },
      "outputs": [
        {
          "output_type": "execute_result",
          "data": {
            "text/plain": [
              "array([0.1  , 0.325, 0.55 , 0.775, 1.   ])"
            ]
          },
          "metadata": {},
          "execution_count": 42
        }
      ],
      "source": [
        "np.linspace(0.1, 1, 5)"
      ]
    },
    {
      "cell_type": "code",
      "execution_count": null,
      "metadata": {
        "colab": {
          "base_uri": "https://localhost:8080/"
        },
        "id": "a85WEbbzdv8X",
        "outputId": "c5ffe556-ae62-44e4-aac2-d3a2918a053a"
      },
      "outputs": [
        {
          "output_type": "stream",
          "name": "stdout",
          "text": [
            "Migliori parametri: {'shrinkage': 0.55}\n",
            "ROC AUC: 0.9538690476190477\n",
            "Accuracy: 0.9479166666666666\n",
            "F1-score: 0.7916666666666666\n",
            "Precision: 0.7916666666666666\n",
            "Recall: 0.7916666666666666\n",
            "CPU times: user 14min 50s, sys: 1min 5s, total: 15min 56s\n",
            "Wall time: 9min 35s\n"
          ]
        },
        {
          "output_type": "display_data",
          "data": {
            "text/plain": [
              "<Figure size 640x480 with 2 Axes>"
            ],
            "image/png": "[encoded data removed]"
          },
          "metadata": {}
        }
      ],
      "source": [
        "%%time\n",
        "parameters = {'shrinkage' : np.linspace(0.325, 0.775, 5)}\n",
        "\n",
        "grid_search = GridSearchCV(lda, parameters, cv = cv, scoring = 'roc_auc')\n",
        "\n",
        "# Grid search sul training set\n",
        "grid_search.fit(X_train, y_train)\n",
        "\n",
        "lda.shrinkage = grid_search.best_params_['shrinkage']\n",
        "\n",
        "# Addestro il modello con il miglior parametro\n",
        "lda.fit(X_train, y_train)\n",
        "\n",
        "# Predizioni sul set di validazione\n",
        "y_pred_prob = lda.predict_proba(X_val)[0:,1]\n",
        "y_pred = lda.predict(X_val)\n",
        "\n",
        "roc_auc = roc_auc_score(y_val, y_pred_prob)\n",
        "accuracy = accuracy_score(y_val, y_pred)\n",
        "f1 = f1_score(y_val, y_pred)\n",
        "precision = precision_score(y_val, y_pred)\n",
        "recall = recall_score(y_val, y_pred)\n",
        "\n",
        "cf_matrix = confusion_matrix(y_val, y_pred, labels = lda.classes_)\n",
        "\n",
        "cf_ = cf_matrix.copy().astype(float)\n",
        "\n",
        "for j in range(2):\n",
        "  for i in range(2):\n",
        "    cf_[i,j] = (float(cf_matrix[i,j]) / float(np.sum(cf_matrix[:,j])))\n",
        "\n",
        "sns.heatmap(cf_, annot = True, fmt = '.2%', cmap = 'coolwarm')\n",
        "\n",
        "print(\"Migliori parametri:\", grid_search.best_params_)\n",
        "print(\"ROC AUC:\", roc_auc)\n",
        "print(\"Accuracy:\", accuracy)\n",
        "print(\"F1-score:\", f1)\n",
        "print(\"Precision:\", precision)\n",
        "print(\"Recall:\", recall)"
      ]
    },
    {
      "cell_type": "code",
      "execution_count": null,
      "metadata": {
        "id": "N32dSYx2uQeH"
      },
      "outputs": [],
      "source": [
        "metrics = np.array(roc_auc)\n",
        "metrics = np.append(metrics, accuracy)\n",
        "metrics = np.append(metrics, f1)\n",
        "metrics = np.append(metrics, precision)\n",
        "metrics = np.append(metrics, recall)\n",
        "\n",
        "S4_result = np.vstack((S4_result, metrics))"
      ]
    },
    {
      "cell_type": "markdown",
      "metadata": {
        "id": "9OeGjsCbxXZE"
      },
      "source": [
        "# Paziente S4 - dati unbalanced (70% vs 30%)"
      ]
    },
    {
      "cell_type": "markdown",
      "metadata": {
        "id": "_ty3cB3YxXZO"
      },
      "source": [
        "## Definizione dei Dataset"
      ]
    },
    {
      "cell_type": "markdown",
      "metadata": {
        "id": "TPusEuHfxXZP"
      },
      "source": [
        "Suddivisione dei dati tra set di training, set di validazione e set di test e bilanciamento dei dati"
      ]
    },
    {
      "cell_type": "code",
      "execution_count": null,
      "metadata": {
        "id": "SNoAuKSEyYRW"
      },
      "outputs": [],
      "source": [
        "from imblearn.under_sampling import RandomUnderSampler\n",
        "from collections import Counter"
      ]
    },
    {
      "cell_type": "code",
      "execution_count": null,
      "metadata": {
        "colab": {
          "base_uri": "https://localhost:8080/"
        },
        "id": "MYyJiR7-xXZP",
        "outputId": "34b598c6-f116-4984-f3bd-d474c9d7328a"
      },
      "outputs": [
        {
          "output_type": "stream",
          "name": "stdout",
          "text": [
            "La parecentuale di dati di training NT è  70.0 % e quella di T è 30.0 %. E in termini assoluti: Counter({0: 224, 1: 96})\n"
          ]
        }
      ],
      "source": [
        "undersampler = RandomUnderSampler(sampling_strategy = 30/70, random_state = 42)\n",
        "X_train, y_train = undersampler.fit_resample(X_train_original, y_train_original)\n",
        "\n",
        "class_counter = Counter(y_train)\n",
        "first_class, count = class_counter.most_common(1)[0]\n",
        "NT_perc = (count/ len(y_train)) * 100\n",
        "print(\"La parecentuale di dati di training NT è \", NT_perc, \"% e quella di T è\", 100 - NT_perc , \"%. E in termini assoluti:\", class_counter)"
      ]
    },
    {
      "cell_type": "markdown",
      "metadata": {
        "id": "49_OhYErxXZP"
      },
      "source": [
        "## **Model selection**"
      ]
    },
    {
      "cell_type": "markdown",
      "metadata": {
        "id": "K0jIbmA9xXZQ"
      },
      "source": [
        "### **S4 (70% vs 30%) 1. Logistic Regression**"
      ]
    },
    {
      "cell_type": "code",
      "execution_count": null,
      "metadata": {
        "colab": {
          "base_uri": "https://localhost:8080/"
        },
        "id": "Fy6zTc6cxXZQ",
        "outputId": "74ee99df-4e51-4cec-82b9-c45358db6451"
      },
      "outputs": [
        {
          "output_type": "stream",
          "name": "stdout",
          "text": [
            "ROC (cross-validation):  0.9277448397013615\n"
          ]
        }
      ],
      "source": [
        "LR = LogisticRegression(max_iter = 1000)\n",
        "\n",
        "scores = cross_val_score(LR, X_train, y_train, cv = cv, scoring = 'roc_auc')\n",
        "ROC_mean = scores.mean()\n",
        "\n",
        "print(\"ROC (cross-validation): \", ROC_mean)"
      ]
    },
    {
      "cell_type": "markdown",
      "metadata": {
        "id": "yAYrWFvyxXZQ"
      },
      "source": [
        "Cerco i migliori parameti con Grid search"
      ]
    },
    {
      "cell_type": "code",
      "execution_count": null,
      "metadata": {
        "colab": {
          "base_uri": "https://localhost:8080/"
        },
        "id": "YwZAWOToxXZQ",
        "outputId": "f28edfa0-f6ee-4757-a6ae-3d813789c732"
      },
      "outputs": [
        {
          "output_type": "stream",
          "name": "stdout",
          "text": [
            "Migliori parametri: {'C': 0.15666666666666668}\n",
            "ROC AUC: 0.9352678571428572\n",
            "Accuracy: 0.9010416666666666\n",
            "F1-score: 0.6984126984126983\n",
            "Precision: 0.5641025641025641\n",
            "Recall: 0.9166666666666666\n",
            "CPU times: user 15.6 s, sys: 5.76 s, total: 21.4 s\n",
            "Wall time: 13.2 s\n"
          ]
        },
        {
          "output_type": "display_data",
          "data": {
            "text/plain": [
              "<Figure size 640x480 with 2 Axes>"
            ],
            "image/png": "[encoded data removed]"
          },
          "metadata": {}
        }
      ],
      "source": [
        "%%time\n",
        "parameters = {'C': np.linspace(0.15, 0.16, 10)}\n",
        "grid_search = GridSearchCV(LR, parameters, cv = cv, scoring = 'roc_auc')\n",
        "\n",
        "# Grid search sul training set\n",
        "grid_search.fit(X_train, y_train)\n",
        "\n",
        "LR.C = grid_search.best_params_['C']\n",
        "LR.fit(X_train, y_train)\n",
        "\n",
        "# Predizioni sul set di validazione\n",
        "y_pred_prob = LR.predict_proba(X_val)[0:,1]\n",
        "y_pred = LR.predict(X_val)\n",
        "\n",
        "roc_auc = roc_auc_score(y_val, y_pred_prob)\n",
        "accuracy = accuracy_score(y_val, y_pred)\n",
        "f1 = f1_score(y_val, y_pred)\n",
        "precision = precision_score(y_val, y_pred)\n",
        "recall = recall_score(y_val, y_pred)\n",
        "\n",
        "cf_matrix = confusion_matrix(y_val, y_pred, labels = LR.classes_)\n",
        "\n",
        "cf_ = cf_matrix.copy().astype(float)\n",
        "\n",
        "for j in range(2):\n",
        "  for i in range(2):\n",
        "    cf_[i,j] = (float(cf_matrix[i,j]) / float(np.sum(cf_matrix[:,j])))\n",
        "\n",
        "sns.heatmap(cf_, annot = True, fmt = '.2%', cmap = 'coolwarm')\n",
        "\n",
        "print(\"Migliori parametri:\", grid_search.best_params_)\n",
        "print(\"ROC AUC:\", roc_auc)\n",
        "print(\"Accuracy:\", accuracy)\n",
        "print(\"F1-score:\", f1)\n",
        "print(\"Precision:\", precision)\n",
        "print(\"Recall:\", recall)"
      ]
    },
    {
      "cell_type": "code",
      "execution_count": null,
      "metadata": {
        "id": "CQ0tHfDDxXZQ"
      },
      "outputs": [],
      "source": [
        "metrics = np.array(roc_auc)\n",
        "metrics = np.append(metrics, accuracy)\n",
        "metrics = np.append(metrics, f1)\n",
        "metrics = np.append(metrics, precision)\n",
        "metrics = np.append(metrics, recall)\n",
        "S4_result = np.vstack((S4_result, metrics))"
      ]
    },
    {
      "cell_type": "markdown",
      "metadata": {
        "id": "6Qknv_xexXZQ"
      },
      "source": [
        "### **S4 (70% vs 30%) 2. Random Forest**"
      ]
    },
    {
      "cell_type": "code",
      "execution_count": null,
      "metadata": {
        "colab": {
          "base_uri": "https://localhost:8080/"
        },
        "id": "FgYnMGDkxXZQ",
        "outputId": "a8580882-194e-4d03-85ae-b561cc2df3c8"
      },
      "outputs": [
        {
          "output_type": "stream",
          "name": "stdout",
          "text": [
            "ROC score medio (cross validation):  0.9301185770750988\n",
            "CPU times: user 9.03 s, sys: 22.1 ms, total: 9.05 s\n",
            "Wall time: 9.15 s\n"
          ]
        }
      ],
      "source": [
        "%%time\n",
        "RF = RandomForestClassifier(criterion = 'gini')\n",
        "\n",
        "scores = cross_val_score(RF, X_train, y_train, cv = cv, scoring = 'roc_auc')\n",
        "ROC_mean = scores.mean()\n",
        "\n",
        "print(\"ROC score medio (cross validation): \", ROC_mean)"
      ]
    },
    {
      "cell_type": "code",
      "source": [
        "np.linspace(80, 150, 35).astype(int)"
      ],
      "metadata": {
        "colab": {
          "base_uri": "https://localhost:8080/"
        },
        "id": "88nAvsFh_KD4",
        "outputId": "2c6f422a-b503-4864-cb94-9fb22d0917ea"
      },
      "execution_count": null,
      "outputs": [
        {
          "output_type": "execute_result",
          "data": {
            "text/plain": [
              "array([ 80,  82,  84,  86,  88,  90,  92,  94,  96,  98, 100, 102, 104,\n",
              "       106, 108, 110, 112, 115, 117, 119, 121, 123, 125, 127, 129, 131,\n",
              "       133, 135, 137, 139, 141, 143, 145, 147, 150])"
            ]
          },
          "metadata": {},
          "execution_count": 51
        }
      ]
    },
    {
      "cell_type": "code",
      "execution_count": null,
      "metadata": {
        "colab": {
          "base_uri": "https://localhost:8080/"
        },
        "id": "FwKdGoYpxXZQ",
        "outputId": "f3d6afcd-7660-4a27-c246-37f004645354"
      },
      "outputs": [
        {
          "output_type": "stream",
          "name": "stdout",
          "text": [
            "Migliori parametri: {'n_estimators': 118}\n",
            "ROC AUC: 0.908234126984127\n",
            "Accuracy: 0.8958333333333334\n",
            "F1-score: 0.5238095238095238\n",
            "Precision: 0.6111111111111112\n",
            "Recall: 0.4583333333333333\n",
            "CPU times: user 33 s, sys: 119 ms, total: 33.1 s\n",
            "Wall time: 33.2 s\n"
          ]
        },
        {
          "output_type": "display_data",
          "data": {
            "text/plain": [
              "<Figure size 640x480 with 2 Axes>"
            ],
            "image/png": "[encoded data removed]"
          },
          "metadata": {}
        }
      ],
      "source": [
        "%%time\n",
        "parameters = {'n_estimators': np.linspace(118, 120, 3).astype(int)}\n",
        "\n",
        "grid_search = GridSearchCV(RF, parameters, cv = cv, scoring = 'roc_auc')\n",
        "\n",
        "# Grid search sul training set\n",
        "grid_search.fit(X_train, y_train)\n",
        "\n",
        "RF.n_estimators = grid_search.best_params_['n_estimators']\n",
        "RF.fit(X_train, y_train)\n",
        "\n",
        "# Predizioni sul set di validazione\n",
        "y_pred_prob = RF.predict_proba(X_val)[0:,1]\n",
        "y_pred = RF.predict(X_val)\n",
        "\n",
        "roc_auc = roc_auc_score(y_val, y_pred_prob)\n",
        "accuracy = accuracy_score(y_val, y_pred)\n",
        "f1 = f1_score(y_val, y_pred)\n",
        "precision = precision_score(y_val, y_pred)\n",
        "recall = recall_score(y_val, y_pred)\n",
        "\n",
        "cf_matrix = confusion_matrix(y_val, y_pred, labels = RF.classes_)\n",
        "\n",
        "cf_ = cf_matrix.copy().astype(float)\n",
        "\n",
        "for j in range(2):\n",
        "  for i in range(2):\n",
        "    cf_[i,j] = (float(cf_matrix[i,j]) / float(np.sum(cf_matrix[:,j]) + 1e-5))\n",
        "\n",
        "sns.heatmap(cf_, annot = True, fmt = '.2%', cmap = 'coolwarm')\n",
        "\n",
        "print(\"Migliori parametri:\", grid_search.best_params_)\n",
        "print(\"ROC AUC:\", roc_auc)\n",
        "print(\"Accuracy:\", accuracy)\n",
        "print(\"F1-score:\", f1)\n",
        "print(\"Precision:\", precision)\n",
        "print(\"Recall:\", recall)"
      ]
    },
    {
      "cell_type": "code",
      "execution_count": null,
      "metadata": {
        "id": "tZSaYP-7xXZQ"
      },
      "outputs": [],
      "source": [
        "metrics = np.array(roc_auc)\n",
        "metrics = np.append(metrics, accuracy)\n",
        "metrics = np.append(metrics, f1)\n",
        "metrics = np.append(metrics, precision)\n",
        "metrics = np.append(metrics, recall)\n",
        "\n",
        "S4_result = np.vstack((S4_result, metrics))"
      ]
    },
    {
      "cell_type": "markdown",
      "metadata": {
        "id": "DTDUYQznxXZR"
      },
      "source": [
        "### **S4 (70% vs 30%) 3. Naive Bayes**"
      ]
    },
    {
      "cell_type": "markdown",
      "metadata": {
        "id": "LsWg6jWWxXZR"
      },
      "source": [
        "Traslazione dei dati per rendere positivi i valori per il Naive Bayes"
      ]
    },
    {
      "cell_type": "code",
      "execution_count": null,
      "metadata": {
        "colab": {
          "base_uri": "https://localhost:8080/"
        },
        "id": "X0ddUrufW68d",
        "outputId": "f92e9e72-1fba-4788-fe12-4e8c9a14e3a9"
      },
      "outputs": [
        {
          "output_type": "stream",
          "name": "stdout",
          "text": [
            "La parecentuale di dati di training NT è  70.0 % e quella di T è 30.0 %. E in termini assoluti: Counter({0: 224, 1: 96})\n"
          ]
        }
      ],
      "source": [
        "undersampler = RandomUnderSampler(sampling_strategy = 30/70, random_state = 42)\n",
        "X_bayes_train, y_bayes_train = undersampler.fit_resample(X_bayes_train_original, y_bayes_train_original)\n",
        "\n",
        "class_counter = Counter(y_bayes_train)\n",
        "first_class, count = class_counter.most_common(1)[0]\n",
        "NT_perc = (count/ len(y_bayes_train)) * 100\n",
        "print(\"La parecentuale di dati di training NT è \", NT_perc, \"% e quella di T è\", 100 - NT_perc , \"%. E in termini assoluti:\", class_counter)"
      ]
    },
    {
      "cell_type": "markdown",
      "metadata": {
        "id": "pxRi9_AYxXZR"
      },
      "source": [
        "#### *MultiNB*"
      ]
    },
    {
      "cell_type": "code",
      "execution_count": null,
      "metadata": {
        "colab": {
          "base_uri": "https://localhost:8080/"
        },
        "id": "yvtJMydsxXZR",
        "outputId": "62804a4c-d55e-490b-f3ff-b7c19ec82cdb"
      },
      "outputs": [
        {
          "output_type": "stream",
          "name": "stdout",
          "text": [
            "ROC score medio (cross-validation): 0.9162790953008344\n",
            "CPU times: user 116 ms, sys: 67.8 ms, total: 184 ms\n",
            "Wall time: 106 ms\n"
          ]
        }
      ],
      "source": [
        "%%time\n",
        "Multi_NB = MultinomialNB()\n",
        "\n",
        "# Valutazione tramite validazione incrociata (cross-validation)\n",
        "scores = cross_val_score(Multi_NB, X_bayes_train, y_bayes_train, cv = cv, scoring = 'roc_auc')\n",
        "\n",
        "# ROC medio dei risultati\n",
        "mean_ROC = np.mean(scores)\n",
        "\n",
        "print(\"ROC score medio (cross-validation):\", mean_ROC)"
      ]
    },
    {
      "cell_type": "code",
      "execution_count": null,
      "metadata": {
        "colab": {
          "base_uri": "https://localhost:8080/"
        },
        "id": "9tJcWKTlxXZR",
        "outputId": "859dc579-447c-416e-9b21-7bc0704116b2"
      },
      "outputs": [
        {
          "output_type": "stream",
          "name": "stdout",
          "text": [
            "Migliori parametri: {'alpha': 1e-08}\n",
            "ROC AUC: 0.9021577380952381\n",
            "Accuracy: 0.8489583333333334\n",
            "F1-score: 0.5396825396825398\n",
            "Precision: 0.4358974358974359\n",
            "Recall: 0.7083333333333334\n",
            "CPU times: user 10.7 s, sys: 6.29 s, total: 16.9 s\n",
            "Wall time: 10.8 s\n"
          ]
        },
        {
          "output_type": "display_data",
          "data": {
            "text/plain": [
              "<Figure size 640x480 with 2 Axes>"
            ],
            "image/png": "[encoded data removed]"
          },
          "metadata": {}
        }
      ],
      "source": [
        "%%time\n",
        "\n",
        "# GridSearchCV\n",
        "parameters = {'alpha': np.linspace(1e-8, 0.01, 100)}\n",
        "grid_search = GridSearchCV(Multi_NB, parameters, cv = cv, scoring = 'roc_auc')\n",
        "\n",
        "# grid search sul training set\n",
        "grid_search.fit(X_bayes_train, y_bayes_train)\n",
        "\n",
        "best_alpha_M = grid_search.best_params_['alpha']\n",
        "\n",
        "# Addestro il modello con il miglior parametro\n",
        "Multi_NB = MultinomialNB(alpha = best_alpha_M)\n",
        "Multi_NB.fit(X_bayes_train, y_bayes_train)\n",
        "\n",
        "# Predizioni sul set di validazione\n",
        "y_pred_prob = Multi_NB.predict_proba(X_bayes_val)[:,1]\n",
        "y_pred = Multi_NB.predict(X_bayes_val)\n",
        "\n",
        "roc_auc = roc_auc_score(y_bayes_val, y_pred_prob)\n",
        "accuracy = accuracy_score(y_bayes_val, y_pred)\n",
        "f1 = f1_score(y_bayes_val, y_pred)\n",
        "precision = precision_score(y_bayes_val, y_pred)\n",
        "recall = recall_score(y_bayes_val, y_pred)\n",
        "\n",
        "cf_matrix = confusion_matrix(y_bayes_val, y_pred, labels = Multi_NB.classes_)\n",
        "\n",
        "cf_ = cf_matrix.copy().astype(float)\n",
        "\n",
        "for j in range(2):\n",
        "  for i in range(2):\n",
        "    cf_[i,j] = (float(cf_matrix[i,j]) / float(np.sum(cf_matrix[:,j])))\n",
        "\n",
        "sns.heatmap(cf_, annot = True, fmt = '.2%', cmap = 'coolwarm')\n",
        "\n",
        "\n",
        "print(\"Migliori parametri:\", grid_search.best_params_)\n",
        "print(\"ROC AUC:\", roc_auc)\n",
        "print(\"Accuracy:\", accuracy)\n",
        "print(\"F1-score:\", f1)\n",
        "print(\"Precision:\", precision)\n",
        "print(\"Recall:\", recall)"
      ]
    },
    {
      "cell_type": "code",
      "execution_count": null,
      "metadata": {
        "id": "fS102HdYxXZR"
      },
      "outputs": [],
      "source": [
        "metrics = np.array(roc_auc)\n",
        "metrics = np.append(metrics, accuracy)\n",
        "metrics = np.append(metrics, f1)\n",
        "metrics = np.append(metrics, precision)\n",
        "metrics = np.append(metrics, recall)\n",
        "\n",
        "S4_result = np.vstack((S4_result, metrics))"
      ]
    },
    {
      "cell_type": "markdown",
      "metadata": {
        "id": "qV_lpkY4xXZR"
      },
      "source": [
        "#### *Complement NB*"
      ]
    },
    {
      "cell_type": "code",
      "execution_count": null,
      "metadata": {
        "colab": {
          "base_uri": "https://localhost:8080/"
        },
        "id": "kFAjEckdxXZR",
        "outputId": "f05e124a-97fa-4a2d-c55c-cd20d69ed26d"
      },
      "outputs": [
        {
          "output_type": "stream",
          "name": "stdout",
          "text": [
            "ROC Auc (cross-validation): 0.9162790953008344\n",
            "CPU times: user 110 ms, sys: 56.9 ms, total: 167 ms\n",
            "Wall time: 87 ms\n"
          ]
        }
      ],
      "source": [
        "%%time\n",
        "Compl_NB = ComplementNB()\n",
        "\n",
        "# Cross-validation\n",
        "scores = cross_val_score(Compl_NB, X_bayes_train, y_bayes_train, cv = cv, scoring = 'roc_auc')\n",
        "\n",
        "# ROC medio dei risultati\n",
        "mean_ROC = np.mean(scores)\n",
        "\n",
        "print(\"ROC Auc (cross-validation):\", mean_ROC)"
      ]
    },
    {
      "cell_type": "code",
      "execution_count": null,
      "metadata": {
        "colab": {
          "base_uri": "https://localhost:8080/"
        },
        "id": "yOYjOc4mxXZS",
        "outputId": "3baebbda-7cc0-4ddf-ae98-90ff1a41a7dc"
      },
      "outputs": [
        {
          "output_type": "stream",
          "name": "stdout",
          "text": [
            "Migliori parametri: {'alpha': 1e-08}\n",
            "ROC AUC: 0.9021577380952381\n",
            "Accuracy: 0.8489583333333334\n",
            "F1-score: 0.5396825396825398\n",
            "Precision: 0.4358974358974359\n",
            "Recall: 0.7083333333333334\n",
            "CPU times: user 10.6 s, sys: 6.33 s, total: 16.9 s\n",
            "Wall time: 9.75 s\n"
          ]
        },
        {
          "output_type": "display_data",
          "data": {
            "text/plain": [
              "<Figure size 640x480 with 2 Axes>"
            ],
            "image/png": "[encoded data removed]"
          },
          "metadata": {}
        }
      ],
      "source": [
        "%%time\n",
        "\n",
        "parameters = {'alpha': np.linspace(1e-8, 0.01, 100)}\n",
        "grid_search = GridSearchCV(Compl_NB, parameters, cv = cv, scoring = 'roc_auc')\n",
        "\n",
        "grid_search.fit(X_bayes_train, y_bayes_train)\n",
        "\n",
        "Compl_NB.alpha = grid_search.best_params_['alpha']\n",
        "Compl_NB.fit(X_bayes_train, y_bayes_train)\n",
        "\n",
        "# Predizioni sul set di validazione\n",
        "y_pred_prob = Compl_NB.predict_proba(X_bayes_val)[:,1]\n",
        "y_pred = Compl_NB.predict(X_bayes_val)\n",
        "\n",
        "roc_auc = roc_auc_score(y_bayes_val, y_pred_prob)\n",
        "accuracy = accuracy_score(y_bayes_val, y_pred)\n",
        "f1 = f1_score(y_bayes_val, y_pred)\n",
        "precision = precision_score(y_bayes_val, y_pred)\n",
        "recall = recall_score(y_bayes_val, y_pred)\n",
        "\n",
        "cf_matrix = confusion_matrix(y_bayes_val, y_pred, labels = Compl_NB.classes_)\n",
        "\n",
        "\n",
        "cf_ = cf_matrix.copy().astype(float)\n",
        "\n",
        "for j in range(2):\n",
        "  for i in range(2):\n",
        "    cf_[i,j] = (float(cf_matrix[i,j]) / float(np.sum(cf_matrix[:,j])))\n",
        "\n",
        "sns.heatmap(cf_, annot = True, fmt = '.2%', cmap = 'coolwarm')\n",
        "\n",
        "\n",
        "print(\"Migliori parametri:\", grid_search.best_params_)\n",
        "print(\"ROC AUC:\", roc_auc)\n",
        "print(\"Accuracy:\", accuracy)\n",
        "print(\"F1-score:\", f1)\n",
        "print(\"Precision:\", precision)\n",
        "print(\"Recall:\", recall)"
      ]
    },
    {
      "cell_type": "code",
      "execution_count": null,
      "metadata": {
        "id": "MJHBtridxXZS"
      },
      "outputs": [],
      "source": [
        "metrics = np.array(roc_auc)\n",
        "metrics = np.append(metrics, accuracy)\n",
        "metrics = np.append(metrics, f1)\n",
        "metrics = np.append(metrics, precision)\n",
        "metrics = np.append(metrics, recall)\n",
        "\n",
        "S4_result = np.vstack((S4_result, metrics))"
      ]
    },
    {
      "cell_type": "markdown",
      "metadata": {
        "id": "rxMeh3uZxXZS"
      },
      "source": [
        "### **S4 (70% vs 30%) 4. SVM**"
      ]
    },
    {
      "cell_type": "markdown",
      "metadata": {
        "id": "2eNUYYVxxXZS"
      },
      "source": [
        "*Lineare*"
      ]
    },
    {
      "cell_type": "code",
      "execution_count": null,
      "metadata": {
        "colab": {
          "base_uri": "https://localhost:8080/"
        },
        "id": "ltRd25VGxXZS",
        "outputId": "d6444bfb-7357-4737-92ac-41c989e04d7b"
      },
      "outputs": [
        {
          "output_type": "stream",
          "name": "stdout",
          "text": [
            "ROC score medio (cross validation):  0.9264097496706192\n"
          ]
        }
      ],
      "source": [
        "svm_linear = SVC(kernel = 'linear',class_weight = \"balanced\", random_state = 42, probability = True)\n",
        "\n",
        "scores = cross_val_score(svm_linear, X_train, y_train, cv = cv, scoring = 'roc_auc')\n",
        "ROC_mean = scores.mean()\n",
        "\n",
        "print(\"ROC score medio (cross validation): \", ROC_mean)"
      ]
    },
    {
      "cell_type": "code",
      "execution_count": null,
      "metadata": {
        "colab": {
          "base_uri": "https://localhost:8080/"
        },
        "id": "9yj4uBKxxXZT",
        "outputId": "c6d63ac7-9fab-444a-ead4-ff44cf152689"
      },
      "outputs": [
        {
          "output_type": "stream",
          "name": "stdout",
          "text": [
            "Migliori parametri: {'C': 0.0006210526315789474}\n",
            "ROC AUC: 0.9422123015873016\n",
            "Accuracy: 0.8958333333333334\n",
            "F1-score: 0.6874999999999999\n",
            "Precision: 0.55\n",
            "Recall: 0.9166666666666666\n",
            "CPU times: user 55.1 s, sys: 101 ms, total: 55.2 s\n",
            "Wall time: 55.5 s\n"
          ]
        },
        {
          "output_type": "display_data",
          "data": {
            "text/plain": [
              "<Figure size 640x480 with 2 Axes>"
            ],
            "image/png": "[encoded data removed]"
          },
          "metadata": {}
        }
      ],
      "source": [
        "%%time\n",
        "parameters = {'C': np.linspace(1e-4, 0.01, 20)}\n",
        "\n",
        "grid_search = GridSearchCV(svm_linear, parameters, cv = cv, scoring = 'roc_auc')\n",
        "\n",
        "# Grid search sul training set\n",
        "grid_search.fit(X_train, y_train)\n",
        "\n",
        "svm_linear.C = grid_search.best_params_['C']\n",
        "\n",
        "# Addestro il modello con il miglior parametro\n",
        "svm_linear.fit(X_train, y_train)\n",
        "\n",
        "# Predizioni sul set di validazione\n",
        "y_pred_prob = svm_linear.predict_proba(X_val)[0:,1]\n",
        "y_pred = svm_linear.predict(X_val)\n",
        "\n",
        "roc_auc = roc_auc_score(y_val, y_pred_prob)\n",
        "accuracy = accuracy_score(y_val, y_pred)\n",
        "f1 = f1_score(y_val, y_pred)\n",
        "precision = precision_score(y_val, y_pred)\n",
        "recall = recall_score(y_val, y_pred)\n",
        "\n",
        "cf_matrix = confusion_matrix(y_val, y_pred, labels = svm_linear.classes_)\n",
        "\n",
        "cf_ = cf_matrix.copy().astype(float)\n",
        "\n",
        "for j in range(2):\n",
        "  for i in range(2):\n",
        "    cf_[i,j] = (float(cf_matrix[i,j]) / float(np.sum(cf_matrix[:,j])))\n",
        "\n",
        "sns.heatmap(cf_, annot = True, fmt = '.2%', cmap = 'coolwarm')\n",
        "\n",
        "print(\"Migliori parametri:\", grid_search.best_params_)\n",
        "print(\"ROC AUC:\", roc_auc)\n",
        "print(\"Accuracy:\", accuracy)\n",
        "print(\"F1-score:\", f1)\n",
        "print(\"Precision:\", precision)\n",
        "print(\"Recall:\", recall)"
      ]
    },
    {
      "cell_type": "code",
      "execution_count": null,
      "metadata": {
        "id": "EelRtHPZxXZT"
      },
      "outputs": [],
      "source": [
        "metrics = np.array(roc_auc)\n",
        "metrics = np.append(metrics, accuracy)\n",
        "metrics = np.append(metrics, f1)\n",
        "metrics = np.append(metrics, precision)\n",
        "metrics = np.append(metrics, recall)\n",
        "\n",
        "S4_result = np.vstack((S4_result, metrics))"
      ]
    },
    {
      "cell_type": "markdown",
      "metadata": {
        "id": "1woPJM4MxXZT"
      },
      "source": [
        "*Polinomiale*"
      ]
    },
    {
      "cell_type": "code",
      "execution_count": null,
      "metadata": {
        "colab": {
          "base_uri": "https://localhost:8080/"
        },
        "id": "2cRRu2jTxXZT",
        "outputId": "bf1e5fba-43b0-4d2c-9708-c7ece7919e0e"
      },
      "outputs": [
        {
          "output_type": "stream",
          "name": "stdout",
          "text": [
            "ROC score medio (cross validation):  0.9348462889767237\n"
          ]
        }
      ],
      "source": [
        "svm_poli = SVC(kernel = 'poly', probability = True)\n",
        "\n",
        "scores = cross_val_score(svm_poli, X_train, y_train, cv = cv, scoring = 'roc_auc')\n",
        "ROC_mean = scores.mean()\n",
        "\n",
        "print(\"ROC score medio (cross validation): \", ROC_mean)"
      ]
    },
    {
      "cell_type": "code",
      "source": [
        "np.linspace(1, 1.7, 10)"
      ],
      "metadata": {
        "colab": {
          "base_uri": "https://localhost:8080/"
        },
        "id": "4FHCDHeUBZhC",
        "outputId": "f979a190-3f0f-490e-f9e9-14eb50f2386b"
      },
      "execution_count": null,
      "outputs": [
        {
          "output_type": "execute_result",
          "data": {
            "text/plain": [
              "array([1.        , 1.07777778, 1.15555556, 1.23333333, 1.31111111,\n",
              "       1.38888889, 1.46666667, 1.54444444, 1.62222222, 1.7       ])"
            ]
          },
          "metadata": {},
          "execution_count": 65
        }
      ]
    },
    {
      "cell_type": "code",
      "execution_count": null,
      "metadata": {
        "colab": {
          "base_uri": "https://localhost:8080/"
        },
        "id": "4H-YIf2bxXZT",
        "outputId": "88d7983d-f537-48c1-a122-16b6abb5ee6f"
      },
      "outputs": [
        {
          "output_type": "stream",
          "name": "stdout",
          "text": [
            "Migliori parametri: {'C': 1.1877777777777778, 'degree': 3}\n",
            "ROC AUC: 0.9372519841269842\n",
            "Accuracy: 0.8958333333333334\n",
            "F1-score: 0.2857142857142857\n",
            "Precision: 1.0\n",
            "Recall: 0.16666666666666666\n",
            "CPU times: user 2min 20s, sys: 175 ms, total: 2min 20s\n",
            "Wall time: 2min 20s\n"
          ]
        },
        {
          "output_type": "display_data",
          "data": {
            "text/plain": [
              "<Figure size 640x480 with 2 Axes>"
            ],
            "image/png": "[encoded data removed]"
          },
          "metadata": {}
        }
      ],
      "source": [
        "%%time\n",
        "parameters = {'degree': [2, 3, 4], 'C': np.linspace(1.15, 1.32, 10)}\n",
        "\n",
        "grid_search = GridSearchCV(svm_poli, parameters, cv = cv, scoring = 'roc_auc')\n",
        "\n",
        "# Grid search sul training set\n",
        "grid_search.fit(X_train, y_train)\n",
        "\n",
        "svm_poli.C = grid_search.best_params_['C']\n",
        "svm_poli.degree = grid_search.best_params_['degree']\n",
        "\n",
        "# Addestro il modello con il miglior parametro\n",
        "svm_poli.fit(X_train, y_train)\n",
        "\n",
        "# Predizioni sul set di validazione\n",
        "y_pred_prob = svm_poli.predict_proba(X_val)[0:,1]\n",
        "y_pred = svm_poli.predict(X_val)\n",
        "\n",
        "roc_auc = roc_auc_score(y_val, y_pred_prob)\n",
        "accuracy = accuracy_score(y_val, y_pred)\n",
        "f1 = f1_score(y_val, y_pred)\n",
        "precision = precision_score(y_val, y_pred)\n",
        "recall = recall_score(y_val, y_pred)\n",
        "\n",
        "cf_matrix = confusion_matrix(y_val, y_pred, labels = svm_poli.classes_)\n",
        "\n",
        "cf_ = cf_matrix.copy().astype(float)\n",
        "\n",
        "for j in range(2):\n",
        "  for i in range(2):\n",
        "    cf_[i,j] = (float(cf_matrix[i,j]) / float(np.sum(cf_matrix[:,j])))\n",
        "\n",
        "sns.heatmap(cf_, annot = True, fmt = '.2%', cmap = 'coolwarm')\n",
        "\n",
        "print(\"Migliori parametri:\", grid_search.best_params_)\n",
        "print(\"ROC AUC:\", roc_auc)\n",
        "print(\"Accuracy:\", accuracy)\n",
        "print(\"F1-score:\", f1)\n",
        "print(\"Precision:\", precision)\n",
        "print(\"Recall:\", recall)"
      ]
    },
    {
      "cell_type": "code",
      "execution_count": null,
      "metadata": {
        "id": "2oxpN-HQxXZU"
      },
      "outputs": [],
      "source": [
        "metrics = np.array(roc_auc)\n",
        "metrics = np.append(metrics, accuracy)\n",
        "metrics = np.append(metrics, f1)\n",
        "metrics = np.append(metrics, precision)\n",
        "metrics = np.append(metrics, recall)\n",
        "\n",
        "S4_result = np.vstack((S4_result, metrics))"
      ]
    },
    {
      "cell_type": "markdown",
      "metadata": {
        "id": "528etsEuxXZU"
      },
      "source": [
        "*Radial Basis Function (RBF)*"
      ]
    },
    {
      "cell_type": "code",
      "execution_count": null,
      "metadata": {
        "colab": {
          "base_uri": "https://localhost:8080/"
        },
        "id": "i-nH55XzxXZU",
        "outputId": "670d8ef7-9951-4e06-987f-148fd433227c"
      },
      "outputs": [
        {
          "output_type": "stream",
          "name": "stdout",
          "text": [
            "ROC score medio (cross validation):  0.9401602986385595\n"
          ]
        }
      ],
      "source": [
        "svm_rbf = SVC(kernel = \"rbf\", class_weight = \"balanced\", random_state = 42, probability = True)\n",
        "\n",
        "scores = cross_val_score(svm_rbf, X_train, y_train, cv = cv, scoring = 'roc_auc')\n",
        "ROC_mean = scores.mean()\n",
        "\n",
        "print(\"ROC score medio (cross validation): \", ROC_mean)"
      ]
    },
    {
      "cell_type": "code",
      "source": [
        "np.linspace(1.532, 1.623, 10)"
      ],
      "metadata": {
        "colab": {
          "base_uri": "https://localhost:8080/"
        },
        "id": "F_R_cFXSEPp4",
        "outputId": "3d46f042-5c53-4622-b03a-4174d2ef70c1"
      },
      "execution_count": null,
      "outputs": [
        {
          "output_type": "execute_result",
          "data": {
            "text/plain": [
              "array([1.532     , 1.54211111, 1.55222222, 1.56233333, 1.57244444,\n",
              "       1.58255556, 1.59266667, 1.60277778, 1.61288889, 1.623     ])"
            ]
          },
          "metadata": {},
          "execution_count": 69
        }
      ]
    },
    {
      "cell_type": "code",
      "execution_count": null,
      "metadata": {
        "colab": {
          "base_uri": "https://localhost:8080/"
        },
        "id": "5b0iyYioxXZU",
        "outputId": "c764639e-8e06-41d7-9fd9-7d24b26a5ce0"
      },
      "outputs": [
        {
          "output_type": "stream",
          "name": "stdout",
          "text": [
            "Migliori parametri: {'C': 1.568421052631579}\n",
            "ROC AUC: 0.953125\n",
            "Accuracy: 0.9114583333333334\n",
            "F1-score: 0.6382978723404256\n",
            "Precision: 0.6521739130434783\n",
            "Recall: 0.625\n",
            "CPU times: user 1min 45s, sys: 164 ms, total: 1min 45s\n",
            "Wall time: 1min 46s\n"
          ]
        },
        {
          "output_type": "display_data",
          "data": {
            "text/plain": [
              "<Figure size 640x480 with 2 Axes>"
            ],
            "image/png": "[encoded data removed]"
          },
          "metadata": {}
        }
      ],
      "source": [
        "%%time\n",
        "parameters = {'C': np.linspace(1.56, 1.58, 20)}\n",
        "\n",
        "grid_search = GridSearchCV(svm_rbf, parameters, cv = cv, scoring = 'roc_auc')\n",
        "\n",
        "# Grid search sul training set\n",
        "grid_search.fit(X_train, y_train)\n",
        "\n",
        "svm_rbf.C = grid_search.best_params_['C']\n",
        "\n",
        "# Addestro il modello con il miglior parametro\n",
        "svm_rbf.fit(X_train, y_train)\n",
        "\n",
        "# Predizioni sul set di validazione\n",
        "y_pred_prob = svm_rbf.predict_proba(X_val)[0:,1]\n",
        "y_pred = svm_rbf.predict(X_val)\n",
        "\n",
        "roc_auc = roc_auc_score(y_val, y_pred_prob)\n",
        "accuracy = accuracy_score(y_val, y_pred)\n",
        "f1 = f1_score(y_val, y_pred)\n",
        "precision = precision_score(y_val, y_pred)\n",
        "recall = recall_score(y_val, y_pred)\n",
        "\n",
        "cf_matrix = confusion_matrix(y_val, y_pred, labels = svm_rbf.classes_)\n",
        "\n",
        "cf_ = cf_matrix.copy().astype(float)\n",
        "\n",
        "for j in range(2):\n",
        "  for i in range(2):\n",
        "    cf_[i,j] = (float(cf_matrix[i,j]) / float(np.sum(cf_matrix[:,j]) + 1e-5))\n",
        "\n",
        "sns.heatmap(cf_, annot = True, fmt = '.2%', cmap = 'coolwarm')\n",
        "\n",
        "print(\"Migliori parametri:\", grid_search.best_params_)\n",
        "print(\"ROC AUC:\", roc_auc)\n",
        "print(\"Accuracy:\", accuracy)\n",
        "print(\"F1-score:\", f1)\n",
        "print(\"Precision:\", precision)\n",
        "print(\"Recall:\", recall)"
      ]
    },
    {
      "cell_type": "code",
      "execution_count": null,
      "metadata": {
        "id": "RiccaTaqxXZU"
      },
      "outputs": [],
      "source": [
        "metrics = np.array(roc_auc)\n",
        "metrics = np.append(metrics, accuracy)\n",
        "metrics = np.append(metrics, f1)\n",
        "metrics = np.append(metrics, precision)\n",
        "metrics = np.append(metrics, recall)\n",
        "\n",
        "S4_result = np.vstack((S4_result, metrics))"
      ]
    },
    {
      "cell_type": "markdown",
      "metadata": {
        "id": "35HCmPRxxXZU"
      },
      "source": [
        "### **S4 (70% vs 30%) 5. LDA**"
      ]
    },
    {
      "cell_type": "code",
      "execution_count": null,
      "metadata": {
        "colab": {
          "base_uri": "https://localhost:8080/"
        },
        "id": "mzx5jTEYxXZU",
        "outputId": "e1b8d5e5-d5eb-4937-b236-0f69a0e77448"
      },
      "outputs": [
        {
          "output_type": "stream",
          "name": "stdout",
          "text": [
            "ROC score medio (cross validation):  0.9068906455862977\n",
            "CPU times: user 3min 2s, sys: 14.5 s, total: 3min 17s\n",
            "Wall time: 1min 58s\n"
          ]
        }
      ],
      "source": [
        "%%time\n",
        "lda = LinearDiscriminantAnalysis(solver = 'lsqr', shrinkage = 'auto')\n",
        "\n",
        "scores = cross_val_score(lda, X_train, y_train, cv = cv, scoring = 'roc_auc')\n",
        "ROC_mean = scores.mean()\n",
        "\n",
        "print(\"ROC score medio (cross validation): \", ROC_mean)"
      ]
    },
    {
      "cell_type": "code",
      "source": [
        "np.linspace(0.1, 1, 5)"
      ],
      "metadata": {
        "colab": {
          "base_uri": "https://localhost:8080/"
        },
        "id": "rF3HYjMbF72w",
        "outputId": "95c191ab-060e-4e6b-8cc0-74aa79503f95"
      },
      "execution_count": null,
      "outputs": [
        {
          "output_type": "execute_result",
          "data": {
            "text/plain": [
              "array([0.1  , 0.325, 0.55 , 0.775, 1.   ])"
            ]
          },
          "metadata": {},
          "execution_count": 73
        }
      ]
    },
    {
      "cell_type": "code",
      "execution_count": null,
      "metadata": {
        "colab": {
          "base_uri": "https://localhost:8080/"
        },
        "id": "fwNnhgYpxXZU",
        "outputId": "fd9d0c88-926f-420d-fd5f-a4396cf3fe73"
      },
      "outputs": [
        {
          "output_type": "stream",
          "name": "stdout",
          "text": [
            "Migliori parametri: {'shrinkage': 0.8875}\n",
            "ROC AUC: 0.9342757936507937\n",
            "Accuracy: 0.8958333333333334\n",
            "F1-score: 0.6774193548387096\n",
            "Precision: 0.5526315789473685\n",
            "Recall: 0.875\n",
            "CPU times: user 15min 5s, sys: 1min 6s, total: 16min 11s\n",
            "Wall time: 9min 42s\n"
          ]
        },
        {
          "output_type": "display_data",
          "data": {
            "text/plain": [
              "<Figure size 640x480 with 2 Axes>"
            ],
            "image/png": "[encoded data removed]"
          },
          "metadata": {}
        }
      ],
      "source": [
        "%%time\n",
        "parameters = {'shrinkage' : np.linspace(0.55, 1, 5)}\n",
        "\n",
        "grid_search = GridSearchCV(lda, parameters, cv = cv, scoring = 'roc_auc')\n",
        "\n",
        "# Grid search sul training set\n",
        "grid_search.fit(X_train, y_train)\n",
        "\n",
        "lda.shrinkage = grid_search.best_params_['shrinkage']\n",
        "\n",
        "# Addestro il modello con il miglior parametro\n",
        "lda.fit(X_train, y_train)\n",
        "\n",
        "# Predizioni sul set di validazione\n",
        "y_pred_prob = lda.predict_proba(X_val)[0:,1]\n",
        "y_pred = lda.predict(X_val)\n",
        "\n",
        "roc_auc = roc_auc_score(y_val, y_pred_prob)\n",
        "accuracy = accuracy_score(y_val, y_pred)\n",
        "f1 = f1_score(y_val, y_pred)\n",
        "precision = precision_score(y_val, y_pred)\n",
        "recall = recall_score(y_val, y_pred)\n",
        "\n",
        "cf_matrix = confusion_matrix(y_val, y_pred, labels = lda.classes_)\n",
        "\n",
        "cf_ = cf_matrix.copy().astype(float)\n",
        "\n",
        "for j in range(2):\n",
        "  for i in range(2):\n",
        "    cf_[i,j] = (float(cf_matrix[i,j]) / float(np.sum(cf_matrix[:,j])))\n",
        "\n",
        "sns.heatmap(cf_, annot = True, fmt = '.2%', cmap = 'coolwarm')\n",
        "\n",
        "print(\"Migliori parametri:\", grid_search.best_params_)\n",
        "print(\"ROC AUC:\", roc_auc)\n",
        "print(\"Accuracy:\", accuracy)\n",
        "print(\"F1-score:\", f1)\n",
        "print(\"Precision:\", precision)\n",
        "print(\"Recall:\", recall)"
      ]
    },
    {
      "cell_type": "code",
      "execution_count": null,
      "metadata": {
        "id": "B1LObPIkxXZV"
      },
      "outputs": [],
      "source": [
        "metrics = np.array(roc_auc)\n",
        "metrics = np.append(metrics, accuracy)\n",
        "metrics = np.append(metrics, f1)\n",
        "metrics = np.append(metrics, precision)\n",
        "metrics = np.append(metrics, recall)\n",
        "\n",
        "S4_result = np.vstack((S4_result, metrics))"
      ]
    },
    {
      "cell_type": "code",
      "execution_count": null,
      "metadata": {
        "colab": {
          "base_uri": "https://localhost:8080/"
        },
        "id": "Z4vAyN3QxXZV",
        "outputId": "a549d5b5-f764-44a7-9c46-6cf872dee498"
      },
      "outputs": [
        {
          "output_type": "execute_result",
          "data": {
            "text/plain": [
              "(16, 5)"
            ]
          },
          "metadata": {},
          "execution_count": 76
        }
      ],
      "source": [
        "S4_result.shape"
      ]
    },
    {
      "cell_type": "markdown",
      "metadata": {
        "id": "-LFIJEag0exq"
      },
      "source": [
        "# Paziente S4 - dati unbalanced (60% vs 40%)"
      ]
    },
    {
      "cell_type": "markdown",
      "metadata": {
        "id": "SvokKSOg0exr"
      },
      "source": [
        "## Definizione dei Dataset"
      ]
    },
    {
      "cell_type": "markdown",
      "metadata": {
        "id": "NV13AXEN0exr"
      },
      "source": [
        "Suddivisione dei dati tra set di training, set di validazione e set di test e bilanciamento dei dati"
      ]
    },
    {
      "cell_type": "code",
      "execution_count": null,
      "metadata": {
        "colab": {
          "base_uri": "https://localhost:8080/"
        },
        "id": "oUKPdp050ext",
        "outputId": "2f299e34-5a6d-4130-cf24-a5a6c1f888f4"
      },
      "outputs": [
        {
          "output_type": "stream",
          "name": "stdout",
          "text": [
            "La parecentuale di dati di training NT è  60.0 % e quella di T è 40.0 %. E in termini assoluti: Counter({0: 144, 1: 96})\n"
          ]
        }
      ],
      "source": [
        "undersampler = RandomUnderSampler(sampling_strategy = 40/60, random_state=42)\n",
        "X_train, y_train = undersampler.fit_resample(X_train_original, y_train_original)\n",
        "\n",
        "class_counter = Counter(y_train)\n",
        "first_class, count = class_counter.most_common(1)[0]\n",
        "NT_perc = (count/ len(y_train)) * 100\n",
        "print(\"La parecentuale di dati di training NT è \", NT_perc, \"% e quella di T è\", 100 - NT_perc , \"%. E in termini assoluti:\", class_counter)"
      ]
    },
    {
      "cell_type": "markdown",
      "metadata": {
        "id": "fgIDnjs30exu"
      },
      "source": [
        "## **Model selection**"
      ]
    },
    {
      "cell_type": "markdown",
      "metadata": {
        "id": "7lPXRQru0exv"
      },
      "source": [
        "### **S4 (60% vs 40%) 1. Logistic Regression**"
      ]
    },
    {
      "cell_type": "code",
      "execution_count": null,
      "metadata": {
        "colab": {
          "base_uri": "https://localhost:8080/"
        },
        "id": "F-L-q0_M0exv",
        "outputId": "a1e8d46f-be09-4e1b-891e-2149039e3c0c"
      },
      "outputs": [
        {
          "output_type": "stream",
          "name": "stdout",
          "text": [
            "ROC (cross-validation):  0.931957671957672\n",
            "CPU times: user 1.47 s, sys: 739 ms, total: 2.21 s\n",
            "Wall time: 1.36 s\n"
          ]
        }
      ],
      "source": [
        "%%time\n",
        "LR = LogisticRegression(max_iter = 1000)\n",
        "\n",
        "scores = cross_val_score(LR, X_train, y_train, cv = cv, scoring = 'roc_auc')\n",
        "ROC_mean = scores.mean()\n",
        "\n",
        "print(\"ROC (cross-validation): \", ROC_mean)"
      ]
    },
    {
      "cell_type": "markdown",
      "metadata": {
        "id": "EAqriaAa0exv"
      },
      "source": [
        "Cerco i migliori parameti con Grid search"
      ]
    },
    {
      "cell_type": "code",
      "execution_count": null,
      "metadata": {
        "colab": {
          "base_uri": "https://localhost:8080/"
        },
        "id": "obxD2v1V0exv",
        "outputId": "c9daf399-eab8-481d-8071-f91575b94e1e"
      },
      "outputs": [
        {
          "output_type": "stream",
          "name": "stdout",
          "text": [
            "Migliori parametri: {'C': 0.0010526405263157894}\n",
            "ROC AUC: 0.9459325396825397\n",
            "Accuracy: 0.90625\n",
            "F1-score: 0.6896551724137931\n",
            "Precision: 0.5882352941176471\n",
            "Recall: 0.8333333333333334\n",
            "CPU times: user 11.9 s, sys: 6.14 s, total: 18 s\n",
            "Wall time: 13.4 s\n"
          ]
        },
        {
          "output_type": "display_data",
          "data": {
            "text/plain": [
              "<Figure size 640x480 with 2 Axes>"
            ],
            "image/png": "[encoded data removed]"
          },
          "metadata": {}
        }
      ],
      "source": [
        "%%time\n",
        "parameters = {'C': np.linspace(1e-8, 0.01, 20)}\n",
        "grid_search = GridSearchCV(LR, parameters, cv = cv, scoring = 'roc_auc')\n",
        "\n",
        "# Grid search sul training set\n",
        "grid_search.fit(X_train, y_train)\n",
        "\n",
        "LR.C = grid_search.best_params_['C']\n",
        "\n",
        "# Addestro il modello con il miglior parametro\n",
        "LR.fit(X_train, y_train)\n",
        "\n",
        "# Predizioni sul set di validazione\n",
        "y_pred_prob = LR.predict_proba(X_val)[0:,1]\n",
        "y_pred = LR.predict(X_val)\n",
        "\n",
        "roc_auc = roc_auc_score(y_val, y_pred_prob)\n",
        "accuracy = accuracy_score(y_val, y_pred)\n",
        "f1 = f1_score(y_val, y_pred)\n",
        "precision = precision_score(y_val, y_pred)\n",
        "recall = recall_score(y_val, y_pred)\n",
        "\n",
        "cf_matrix = confusion_matrix(y_val, y_pred, labels = LR.classes_)\n",
        "\n",
        "cf_ = cf_matrix.copy().astype(float)\n",
        "\n",
        "for j in range(2):\n",
        "  for i in range(2):\n",
        "    cf_[i,j] = (float(cf_matrix[i,j]) / float(np.sum(cf_matrix[:,j]) + 1e-5))\n",
        "\n",
        "sns.heatmap(cf_, annot = True, fmt = '.2%', cmap = 'coolwarm')\n",
        "\n",
        "print(\"Migliori parametri:\", grid_search.best_params_)\n",
        "print(\"ROC AUC:\", roc_auc)\n",
        "print(\"Accuracy:\", accuracy)\n",
        "print(\"F1-score:\", f1)\n",
        "print(\"Precision:\", precision)\n",
        "print(\"Recall:\", recall)"
      ]
    },
    {
      "cell_type": "code",
      "execution_count": null,
      "metadata": {
        "id": "vtpCxvl70exv"
      },
      "outputs": [],
      "source": [
        "metrics = np.array(roc_auc)\n",
        "metrics = np.append(metrics, accuracy)\n",
        "metrics = np.append(metrics, f1)\n",
        "metrics = np.append(metrics, precision)\n",
        "metrics = np.append(metrics, recall)\n",
        "S4_result = np.vstack((S4_result, metrics))"
      ]
    },
    {
      "cell_type": "markdown",
      "metadata": {
        "id": "YlDteQjx0exw"
      },
      "source": [
        "### **S4 (60% vs 40%) 2. Random Forest**"
      ]
    },
    {
      "cell_type": "code",
      "execution_count": null,
      "metadata": {
        "colab": {
          "base_uri": "https://localhost:8080/"
        },
        "id": "R0gJUyzJ0exw",
        "outputId": "8327a2f3-ed64-4372-ec78-add87f7923e0"
      },
      "outputs": [
        {
          "output_type": "stream",
          "name": "stdout",
          "text": [
            "ROC score medio (cross validation):  0.9420502645502646\n",
            "CPU times: user 5.52 s, sys: 12 ms, total: 5.53 s\n",
            "Wall time: 5.55 s\n"
          ]
        }
      ],
      "source": [
        "%%time\n",
        "RF = RandomForestClassifier(criterion = 'gini')\n",
        "\n",
        "scores = cross_val_score(RF, X_train, y_train, cv = cv, scoring = 'roc_auc')\n",
        "ROC_mean = scores.mean()\n",
        "\n",
        "print(\"ROC score medio (cross validation): \", ROC_mean)"
      ]
    },
    {
      "cell_type": "code",
      "source": [
        "np.linspace(80, 150, 35).astype(int)"
      ],
      "metadata": {
        "colab": {
          "base_uri": "https://localhost:8080/"
        },
        "id": "n8ySmOKMGuJA",
        "outputId": "b617c1ce-7a23-44c8-9c3a-2e211a9240fa"
      },
      "execution_count": null,
      "outputs": [
        {
          "output_type": "execute_result",
          "data": {
            "text/plain": [
              "array([ 80,  82,  84,  86,  88,  90,  92,  94,  96,  98, 100, 102, 104,\n",
              "       106, 108, 110, 112, 115, 117, 119, 121, 123, 125, 127, 129, 131,\n",
              "       133, 135, 137, 139, 141, 143, 145, 147, 150])"
            ]
          },
          "metadata": {},
          "execution_count": 82
        }
      ]
    },
    {
      "cell_type": "code",
      "execution_count": null,
      "metadata": {
        "colab": {
          "base_uri": "https://localhost:8080/"
        },
        "id": "ET5i23ji0exw",
        "outputId": "5bf2e51a-3242-4f57-9c44-b40ffdf0b10f"
      },
      "outputs": [
        {
          "output_type": "stream",
          "name": "stdout",
          "text": [
            "Migliori parametri: {'n_estimators': 137}\n",
            "ROC AUC: 0.9005456349206349\n",
            "Accuracy: 0.8854166666666666\n",
            "F1-score: 0.5599999999999999\n",
            "Precision: 0.5384615384615384\n",
            "Recall: 0.5833333333333334\n",
            "CPU times: user 43.4 s, sys: 182 ms, total: 43.6 s\n",
            "Wall time: 43.7 s\n"
          ]
        },
        {
          "output_type": "display_data",
          "data": {
            "text/plain": [
              "<Figure size 640x480 with 2 Axes>"
            ],
            "image/png": "[encoded data removed]"
          },
          "metadata": {}
        }
      ],
      "source": [
        "%%time\n",
        "parameters = {'n_estimators': np.linspace(137, 141, 5).astype(int)}\n",
        "\n",
        "grid_search = GridSearchCV(RF, parameters, cv = cv, scoring = 'roc_auc')\n",
        "\n",
        "# Grid search sul training set\n",
        "grid_search.fit(X_train, y_train)\n",
        "\n",
        "RF.n_estimators = grid_search.best_params_['n_estimators']\n",
        "RF.fit(X_train, y_train)\n",
        "\n",
        "# Predizioni sul set di validazione\n",
        "y_pred_prob = RF.predict_proba(X_val)[0:,1]\n",
        "y_pred = RF.predict(X_val)\n",
        "\n",
        "roc_auc = roc_auc_score(y_val, y_pred_prob)\n",
        "accuracy = accuracy_score(y_val, y_pred)\n",
        "f1 = f1_score(y_val, y_pred)\n",
        "precision = precision_score(y_val, y_pred)\n",
        "recall = recall_score(y_val, y_pred)\n",
        "\n",
        "cf_matrix = confusion_matrix(y_val, y_pred, labels = RF.classes_)\n",
        "\n",
        "cf_ = cf_matrix.copy().astype(float)\n",
        "\n",
        "for j in range(2):\n",
        "  for i in range(2):\n",
        "    cf_[i,j] = (float(cf_matrix[i,j]) / float(np.sum(cf_matrix[:,j]) + 1e-5))\n",
        "\n",
        "sns.heatmap(cf_, annot = True, fmt = '.2%', cmap = 'coolwarm')\n",
        "\n",
        "print(\"Migliori parametri:\", grid_search.best_params_)\n",
        "print(\"ROC AUC:\", roc_auc)\n",
        "print(\"Accuracy:\", accuracy)\n",
        "print(\"F1-score:\", f1)\n",
        "print(\"Precision:\", precision)\n",
        "print(\"Recall:\", recall)"
      ]
    },
    {
      "cell_type": "code",
      "execution_count": null,
      "metadata": {
        "id": "3nh1V45g0exw"
      },
      "outputs": [],
      "source": [
        "metrics = np.array(roc_auc)\n",
        "metrics = np.append(metrics, accuracy)\n",
        "metrics = np.append(metrics, f1)\n",
        "metrics = np.append(metrics, precision)\n",
        "metrics = np.append(metrics, recall)\n",
        "\n",
        "S4_result = np.vstack((S4_result, metrics))"
      ]
    },
    {
      "cell_type": "markdown",
      "metadata": {
        "id": "SNo3RYdv0exw"
      },
      "source": [
        "### **S4 (60% vs 40%) 3. Naive Bayes**"
      ]
    },
    {
      "cell_type": "markdown",
      "metadata": {
        "id": "CSqIMRkL0exw"
      },
      "source": [
        "Traslazione dei dati per rendere positivi i valori per il Naive Bayes"
      ]
    },
    {
      "cell_type": "code",
      "execution_count": null,
      "metadata": {
        "colab": {
          "base_uri": "https://localhost:8080/"
        },
        "id": "KnSv7b74Xt2q",
        "outputId": "1cf772bf-b86d-4c0b-80cf-60aed486cdf5"
      },
      "outputs": [
        {
          "output_type": "stream",
          "name": "stdout",
          "text": [
            "La parecentuale di dati di training NT è  60.0 % e quella di T è 40.0 %. E in termini assoluti: Counter({0: 144, 1: 96})\n"
          ]
        }
      ],
      "source": [
        "undersampler = RandomUnderSampler(sampling_strategy = 40/60, random_state = 42)\n",
        "X_bayes_train, y_bayes_train = undersampler.fit_resample(X_bayes_train_original, y_bayes_train_original)\n",
        "\n",
        "class_counter = Counter(y_bayes_train)\n",
        "first_class, count = class_counter.most_common(1)[0]\n",
        "NT_perc = (count/ len(y_bayes_train)) * 100\n",
        "print(\"La parecentuale di dati di training NT è \", NT_perc, \"% e quella di T è\", 100 - NT_perc , \"%. E in termini assoluti:\", class_counter)"
      ]
    },
    {
      "cell_type": "markdown",
      "metadata": {
        "id": "bN4uqGvH0exx"
      },
      "source": [
        "#### *MultiNB*"
      ]
    },
    {
      "cell_type": "code",
      "execution_count": null,
      "metadata": {
        "colab": {
          "base_uri": "https://localhost:8080/"
        },
        "id": "AEjRSSZC0exx",
        "outputId": "39b26b39-6935-4f16-b49b-592706690b7f"
      },
      "outputs": [
        {
          "output_type": "stream",
          "name": "stdout",
          "text": [
            "ROC score medio (cross-validation): 0.9162790953008344\n",
            "CPU times: user 96.4 ms, sys: 62.8 ms, total: 159 ms\n",
            "Wall time: 91.9 ms\n"
          ]
        }
      ],
      "source": [
        "%%time\n",
        "Multi_NB = MultinomialNB()\n",
        "\n",
        "# Valutazione tramite validazione incrociata (cross-validation)\n",
        "scores = cross_val_score(Multi_NB, X_bayes_train, y_bayes_train, cv = cv, scoring = 'roc_auc')\n",
        "\n",
        "# ROC medio dei risultati\n",
        "print(\"ROC score medio (cross-validation):\", mean_ROC)"
      ]
    },
    {
      "cell_type": "code",
      "execution_count": null,
      "metadata": {
        "colab": {
          "base_uri": "https://localhost:8080/"
        },
        "id": "i4mdtWMB0exx",
        "outputId": "be3f1871-4834-46a2-d142-d4649ba5d008"
      },
      "outputs": [
        {
          "output_type": "stream",
          "name": "stdout",
          "text": [
            "Migliori parametri: {'alpha': 1.145326633165829}\n",
            "ROC AUC: 0.9055059523809524\n",
            "Accuracy: 0.8385416666666666\n",
            "F1-score: 0.5507246376811594\n",
            "Precision: 0.4222222222222222\n",
            "Recall: 0.7916666666666666\n",
            "CPU times: user 18.7 s, sys: 11.1 s, total: 29.8 s\n",
            "Wall time: 17.5 s\n"
          ]
        },
        {
          "output_type": "display_data",
          "data": {
            "text/plain": [
              "<Figure size 640x480 with 2 Axes>"
            ],
            "image/png": "[encoded data removed]"
          },
          "metadata": {}
        }
      ],
      "source": [
        "%%time\n",
        "# GridSearchCV\n",
        "parameters = {'alpha': np.linspace(1.14, 1.15, 200)}\n",
        "grid_search = GridSearchCV(Multi_NB, parameters, cv = cv, scoring = 'roc_auc')\n",
        "\n",
        "# grid search sul training set\n",
        "grid_search.fit(X_bayes_train, y_bayes_train)\n",
        "\n",
        "Multi_NB.alpha = grid_search.best_params_['alpha']\n",
        "\n",
        "# Addestro il modello con il miglior parametro\n",
        "Multi_NB.fit(X_bayes_train, y_bayes_train)\n",
        "\n",
        "# Predizioni sul set di validazione\n",
        "y_pred_prob = Multi_NB.predict_proba(X_bayes_val)[:,1]\n",
        "y_pred = Multi_NB.predict(X_bayes_val)\n",
        "\n",
        "roc_auc = roc_auc_score(y_bayes_val, y_pred_prob)\n",
        "accuracy = accuracy_score(y_bayes_val, y_pred)\n",
        "f1 = f1_score(y_bayes_val, y_pred)\n",
        "precision = precision_score(y_bayes_val, y_pred)\n",
        "recall = recall_score(y_bayes_val, y_pred)\n",
        "\n",
        "cf_matrix = confusion_matrix(y_bayes_val, y_pred, labels = Multi_NB.classes_)\n",
        "\n",
        "cf_ = cf_matrix.copy().astype(float)\n",
        "\n",
        "for j in range(2):\n",
        "  for i in range(2):\n",
        "    cf_[i,j] = (float(cf_matrix[i,j]) / float(np.sum(cf_matrix[:,j])))\n",
        "\n",
        "sns.heatmap(cf_, annot = True, fmt = '.2%', cmap = 'coolwarm')\n",
        "\n",
        "\n",
        "print(\"Migliori parametri:\", grid_search.best_params_)\n",
        "print(\"ROC AUC:\", roc_auc)\n",
        "print(\"Accuracy:\", accuracy)\n",
        "print(\"F1-score:\", f1)\n",
        "print(\"Precision:\", precision)\n",
        "print(\"Recall:\", recall)"
      ]
    },
    {
      "cell_type": "code",
      "execution_count": null,
      "metadata": {
        "id": "2hoCtAKy0exy"
      },
      "outputs": [],
      "source": [
        "metrics = np.array(roc_auc)\n",
        "metrics = np.append(metrics, accuracy)\n",
        "metrics = np.append(metrics, f1)\n",
        "metrics = np.append(metrics, precision)\n",
        "metrics = np.append(metrics, recall)\n",
        "\n",
        "S4_result = np.vstack((S4_result, metrics))"
      ]
    },
    {
      "cell_type": "markdown",
      "metadata": {
        "id": "8BAX8LkC0exy"
      },
      "source": [
        "#### *Complement NB*"
      ]
    },
    {
      "cell_type": "code",
      "execution_count": null,
      "metadata": {
        "colab": {
          "base_uri": "https://localhost:8080/"
        },
        "id": "H8hmHlGe0exy",
        "outputId": "c1104e21-a27f-49ac-d477-7d452c3dbe63"
      },
      "outputs": [
        {
          "output_type": "stream",
          "name": "stdout",
          "text": [
            "ROC Auc (cross-validation): 0.921574074074074\n",
            "CPU times: user 108 ms, sys: 87 ms, total: 195 ms\n",
            "Wall time: 141 ms\n"
          ]
        }
      ],
      "source": [
        "%%time\n",
        "# Cross-validation\n",
        "scores = cross_val_score(Compl_NB, X_bayes_train, y_bayes_train, cv = cv, scoring = 'roc_auc')\n",
        "\n",
        "# ROC medio dei risultati\n",
        "mean_ROC = np.mean(scores)\n",
        "\n",
        "print(\"ROC Auc (cross-validation):\", mean_ROC)"
      ]
    },
    {
      "cell_type": "code",
      "execution_count": null,
      "metadata": {
        "colab": {
          "base_uri": "https://localhost:8080/"
        },
        "id": "duQsYalY0exy",
        "outputId": "cf34780e-a06b-48d3-d3f8-b1cdfe0d77c0"
      },
      "outputs": [
        {
          "output_type": "stream",
          "name": "stdout",
          "text": [
            "Migliori parametri: {'alpha': 1.145326633165829}\n",
            "ROC AUC: 0.9055059523809524\n",
            "Accuracy: 0.8385416666666666\n",
            "F1-score: 0.5507246376811594\n",
            "Precision: 0.4222222222222222\n",
            "Recall: 0.7916666666666666\n",
            "CPU times: user 19.5 s, sys: 11.8 s, total: 31.2 s\n",
            "Wall time: 20.2 s\n"
          ]
        },
        {
          "output_type": "display_data",
          "data": {
            "text/plain": [
              "<Figure size 640x480 with 2 Axes>"
            ],
            "image/png": "[encoded data removed]"
          },
          "metadata": {}
        }
      ],
      "source": [
        "%%time\n",
        "\n",
        "parameters = {'alpha': np.linspace(1.14, 1.15, 200)}\n",
        "grid_search = GridSearchCV(Compl_NB, parameters, cv = cv, scoring = 'roc_auc')\n",
        "\n",
        "grid_search.fit(X_bayes_train, y_bayes_train)\n",
        "\n",
        "Compl_NB.alpha = grid_search.best_params_['alpha']\n",
        "\n",
        "# Addestro il modello con il miglior parametro\n",
        "Compl_NB.fit(X_bayes_train, y_bayes_train)\n",
        "\n",
        "# Predizioni sul set di validazione\n",
        "y_pred_prob = Compl_NB.predict_proba(X_bayes_val)[:,1]\n",
        "y_pred = Compl_NB.predict(X_bayes_val)\n",
        "\n",
        "roc_auc = roc_auc_score(y_bayes_val, y_pred_prob)\n",
        "accuracy = accuracy_score(y_bayes_val, y_pred)\n",
        "f1 = f1_score(y_bayes_val, y_pred)\n",
        "precision = precision_score(y_bayes_val, y_pred)\n",
        "recall = recall_score(y_bayes_val, y_pred)\n",
        "\n",
        "cf_matrix = confusion_matrix(y_bayes_val, y_pred, labels = Compl_NB.classes_)\n",
        "\n",
        "cf_ = cf_matrix.copy().astype(float)\n",
        "\n",
        "for j in range(2):\n",
        "  for i in range(2):\n",
        "    cf_[i,j] = (float(cf_matrix[i,j]) / float(np.sum(cf_matrix[:,j])))\n",
        "\n",
        "sns.heatmap(cf_, annot = True, fmt = '.2%', cmap = 'coolwarm')\n",
        "\n",
        "\n",
        "print(\"Migliori parametri:\", grid_search.best_params_)\n",
        "print(\"ROC AUC:\", roc_auc)\n",
        "print(\"Accuracy:\", accuracy)\n",
        "print(\"F1-score:\", f1)\n",
        "print(\"Precision:\", precision)\n",
        "print(\"Recall:\", recall)"
      ]
    },
    {
      "cell_type": "code",
      "execution_count": null,
      "metadata": {
        "id": "KI7lFvxk0exy"
      },
      "outputs": [],
      "source": [
        "metrics = np.array(roc_auc)\n",
        "metrics = np.append(metrics, accuracy)\n",
        "metrics = np.append(metrics, f1)\n",
        "metrics = np.append(metrics, precision)\n",
        "metrics = np.append(metrics, recall)\n",
        "\n",
        "S4_result = np.vstack((S4_result, metrics))"
      ]
    },
    {
      "cell_type": "markdown",
      "metadata": {
        "id": "Spbq7lfX0exy"
      },
      "source": [
        "### **S4 (60% vs 40%) 4. SVM**"
      ]
    },
    {
      "cell_type": "markdown",
      "metadata": {
        "id": "2eJk6zcX0exy"
      },
      "source": [
        "#### *Lineare*"
      ]
    },
    {
      "cell_type": "code",
      "execution_count": null,
      "metadata": {
        "colab": {
          "base_uri": "https://localhost:8080/"
        },
        "id": "rRvL3Vtv0exz",
        "outputId": "42ea373e-8157-4708-8899-ab45539b3855"
      },
      "outputs": [
        {
          "output_type": "stream",
          "name": "stdout",
          "text": [
            "ROC score medio (cross validation):  0.9318783068783068\n"
          ]
        }
      ],
      "source": [
        "svm_linear = SVC(C = 2, kernel = 'linear',class_weight = \"balanced\", random_state = 42, probability = True)\n",
        "\n",
        "scores = cross_val_score(svm_linear, X_train, y_train, cv = cv, scoring = 'roc_auc')\n",
        "ROC_mean = scores.mean()\n",
        "\n",
        "print(\"ROC score medio (cross validation): \", ROC_mean)"
      ]
    },
    {
      "cell_type": "code",
      "execution_count": null,
      "metadata": {
        "colab": {
          "base_uri": "https://localhost:8080/"
        },
        "id": "wp7lGc-ZJaSj",
        "outputId": "00b769aa-6017-4f7f-e7f0-223d426d954c"
      },
      "outputs": [
        {
          "output_type": "execute_result",
          "data": {
            "text/plain": [
              "array([0.001     , 0.00733333, 0.01366667, 0.02      ])"
            ]
          },
          "metadata": {},
          "execution_count": 93
        }
      ],
      "source": [
        "np.linspace(0.001, 0.02, 4)"
      ]
    },
    {
      "cell_type": "code",
      "execution_count": null,
      "metadata": {
        "colab": {
          "base_uri": "https://localhost:8080/"
        },
        "id": "zR03zD820exz",
        "outputId": "ccacc5f3-c18b-4870-f1b5-5825bb8c8eab"
      },
      "outputs": [
        {
          "output_type": "stream",
          "name": "stdout",
          "text": [
            "Migliori parametri: {'C': 0.05644444444444444}\n",
            "ROC AUC: 0.9149305555555556\n",
            "Accuracy: 0.8333333333333334\n",
            "F1-score: 0.5555555555555556\n",
            "Precision: 0.4166666666666667\n",
            "Recall: 0.8333333333333334\n",
            "CPU times: user 20.7 s, sys: 68.7 ms, total: 20.8 s\n",
            "Wall time: 20.8 s\n"
          ]
        },
        {
          "output_type": "display_data",
          "data": {
            "text/plain": [
              "<Figure size 640x480 with 2 Axes>"
            ],
            "image/png": "[encoded data removed]"
          },
          "metadata": {}
        }
      ],
      "source": [
        "%%time\n",
        "parameters = {'C': np.linspace(0.001, 0.5, 10)}\n",
        "\n",
        "grid_search = GridSearchCV(svm_linear, parameters, cv = cv, scoring = 'roc_auc')\n",
        "\n",
        "# Grid search sul training set\n",
        "grid_search.fit(X_train, y_train)\n",
        "\n",
        "svm_linear.C = grid_search.best_params_['C']\n",
        "svm_linear.fit(X_train, y_train)\n",
        "\n",
        "# Predizioni sul set di validazione\n",
        "y_pred_prob = svm_linear.predict_proba(X_val)[0:,1]\n",
        "y_pred = svm_linear.predict(X_val)\n",
        "\n",
        "roc_auc = roc_auc_score(y_val, y_pred_prob)\n",
        "accuracy = accuracy_score(y_val, y_pred)\n",
        "f1 = f1_score(y_val, y_pred)\n",
        "precision = precision_score(y_val, y_pred)\n",
        "recall = recall_score(y_val, y_pred)\n",
        "\n",
        "cf_matrix = confusion_matrix(y_val, y_pred, labels = svm_linear.classes_)\n",
        "\n",
        "cf_ = cf_matrix.copy().astype(float)\n",
        "\n",
        "for j in range(2):\n",
        "  for i in range(2):\n",
        "    cf_[i,j] = (float(cf_matrix[i,j]) / float(np.sum(cf_matrix[:,j]) + 1e-5))\n",
        "\n",
        "sns.heatmap(cf_, annot = True, fmt = '.2%', cmap = 'coolwarm')\n",
        "\n",
        "print(\"Migliori parametri:\", grid_search.best_params_)\n",
        "print(\"ROC AUC:\", roc_auc)\n",
        "print(\"Accuracy:\", accuracy)\n",
        "print(\"F1-score:\", f1)\n",
        "print(\"Precision:\", precision)\n",
        "print(\"Recall:\", recall)"
      ]
    },
    {
      "cell_type": "code",
      "execution_count": null,
      "metadata": {
        "id": "AClHolMO0exz"
      },
      "outputs": [],
      "source": [
        "metrics = np.array(roc_auc)\n",
        "metrics = np.append(metrics, accuracy)\n",
        "metrics = np.append(metrics, f1)\n",
        "metrics = np.append(metrics, precision)\n",
        "metrics = np.append(metrics, recall)\n",
        "\n",
        "S4_result = np.vstack((S4_result, metrics))"
      ]
    },
    {
      "cell_type": "markdown",
      "metadata": {
        "id": "bXYfNAdQ0exz"
      },
      "source": [
        "#### *Polinomiale*"
      ]
    },
    {
      "cell_type": "code",
      "execution_count": null,
      "metadata": {
        "colab": {
          "base_uri": "https://localhost:8080/"
        },
        "id": "D9X0xBxI0exz",
        "outputId": "5da8bf1a-71c5-470e-fa38-abf8e6202d07"
      },
      "outputs": [
        {
          "output_type": "stream",
          "name": "stdout",
          "text": [
            "ROC score medio (cross validation):  0.9318783068783068\n"
          ]
        }
      ],
      "source": [
        "svm_poli = SVC(kernel = 'poly', probability = True)\n",
        "\n",
        "#scores = cross_val_score(svm_poli, X_train, y_train, cv = cv, scoring = 'roc_auc')\n",
        "ROC_mean = scores.mean()\n",
        "\n",
        "print(\"ROC score medio (cross validation): \", ROC_mean)"
      ]
    },
    {
      "cell_type": "code",
      "execution_count": null,
      "metadata": {
        "colab": {
          "base_uri": "https://localhost:8080/"
        },
        "id": "rYCU9Yow0exz",
        "outputId": "7978a11e-9cb6-4949-b804-88e7fd4bf7ce"
      },
      "outputs": [
        {
          "output_type": "stream",
          "name": "stdout",
          "text": [
            "Migliori parametri: {'C': 1.3157894736842106, 'degree': 3}\n",
            "ROC AUC: 0.9449404761904762\n",
            "Accuracy: 0.921875\n",
            "F1-score: 0.5454545454545454\n",
            "Precision: 1.0\n",
            "Recall: 0.375\n",
            "CPU times: user 2min 41s, sys: 206 ms, total: 2min 41s\n",
            "Wall time: 2min 42s\n"
          ]
        },
        {
          "output_type": "execute_result",
          "data": {
            "text/plain": [
              "0.9360119047619049"
            ]
          },
          "metadata": {},
          "execution_count": 97
        },
        {
          "output_type": "display_data",
          "data": {
            "text/plain": [
              "<Figure size 640x480 with 2 Axes>"
            ],
            "image/png": "[encoded data removed]"
          },
          "metadata": {}
        }
      ],
      "source": [
        "%%time\n",
        "parameters = {'degree': [2, 3, 4], 'C': np.linspace(1, 3, 20)}\n",
        "\n",
        "grid_search = GridSearchCV(svm_poli, parameters, cv = cv, scoring = 'roc_auc')\n",
        "\n",
        "# Grid search sul training set\n",
        "grid_search.fit(X_train, y_train)\n",
        "\n",
        "svm_poli.C = grid_search.best_params_['C']\n",
        "svm_poli.degree = grid_search.best_params_['degree']\n",
        "svm_poli.fit(X_train, y_train)\n",
        "\n",
        "# Predizioni sul set di validazione\n",
        "y_pred_prob = svm_poli.predict_proba(X_val)[0:,1]\n",
        "y_pred = svm_poli.predict(X_val)\n",
        "\n",
        "roc_auc = roc_auc_score(y_val, y_pred_prob)\n",
        "accuracy = accuracy_score(y_val, y_pred)\n",
        "f1 = f1_score(y_val, y_pred)\n",
        "precision = precision_score(y_val, y_pred)\n",
        "recall = recall_score(y_val, y_pred)\n",
        "\n",
        "cf_matrix = confusion_matrix(y_val, y_pred, labels = svm_poli.classes_)\n",
        "\n",
        "cf_ = cf_matrix.copy().astype(float)\n",
        "\n",
        "for j in range(2):\n",
        "  for i in range(2):\n",
        "    cf_[i,j] = (float(cf_matrix[i,j]) / float(np.sum(cf_matrix[:,j]) + 1e-5))\n",
        "\n",
        "sns.heatmap(cf_, annot = True, fmt = '.2%', cmap = 'coolwarm')\n",
        "\n",
        "print(\"Migliori parametri:\", grid_search.best_params_)\n",
        "print(\"ROC AUC:\", roc_auc)\n",
        "print(\"Accuracy:\", accuracy)\n",
        "print(\"F1-score:\", f1)\n",
        "print(\"Precision:\", precision)\n",
        "print(\"Recall:\", recall)\n",
        "0.9360119047619049"
      ]
    },
    {
      "cell_type": "code",
      "execution_count": null,
      "metadata": {
        "id": "_OQZu_W00exz"
      },
      "outputs": [],
      "source": [
        "metrics = np.array(roc_auc)\n",
        "metrics = np.append(metrics, accuracy)\n",
        "metrics = np.append(metrics, f1)\n",
        "metrics = np.append(metrics, precision)\n",
        "metrics = np.append(metrics, recall)\n",
        "\n",
        "S4_result = np.vstack((S4_result, metrics))"
      ]
    },
    {
      "cell_type": "markdown",
      "metadata": {
        "id": "ZGJj4y7e0ex0"
      },
      "source": [
        "*Radial Basis Function (RBF)*"
      ]
    },
    {
      "cell_type": "code",
      "execution_count": null,
      "metadata": {
        "colab": {
          "base_uri": "https://localhost:8080/"
        },
        "id": "hxLhgHwE0ex0",
        "outputId": "d875b713-c5a5-4fcc-e518-e8786521fd2f"
      },
      "outputs": [
        {
          "output_type": "stream",
          "name": "stdout",
          "text": [
            "ROC score medio (cross validation):  0.946984126984127\n"
          ]
        }
      ],
      "source": [
        "svm_rbf = SVC(kernel = \"rbf\", class_weight = \"balanced\", random_state = 42, probability = True)\n",
        "\n",
        "scores = cross_val_score(svm_rbf, X_train, y_train, cv = cv, scoring = 'roc_auc')\n",
        "ROC_mean = scores.mean()\n",
        "\n",
        "print(\"ROC score medio (cross validation): \", ROC_mean)"
      ]
    },
    {
      "cell_type": "code",
      "execution_count": null,
      "metadata": {
        "colab": {
          "base_uri": "https://localhost:8080/"
        },
        "id": "pGuOnEjA0ex0",
        "outputId": "d8dfd283-5ab5-4640-8751-34fa70d86348"
      },
      "outputs": [
        {
          "output_type": "stream",
          "name": "stdout",
          "text": [
            "Migliori parametri: {'C': 1.894736842105263}\n",
            "ROC AUC: 0.9595734126984127\n",
            "Accuracy: 0.9166666666666666\n",
            "F1-score: 0.7142857142857143\n",
            "Precision: 0.625\n",
            "Recall: 0.8333333333333334\n",
            "CPU times: user 1min 3s, sys: 106 ms, total: 1min 3s\n",
            "Wall time: 1min 3s\n"
          ]
        },
        {
          "output_type": "display_data",
          "data": {
            "text/plain": [
              "<Figure size 640x480 with 2 Axes>"
            ],
            "image/png": "[encoded data removed]"
          },
          "metadata": {}
        }
      ],
      "source": [
        "%%time\n",
        "parameters = {'C': np.linspace(1, 2, 20)}\n",
        "\n",
        "grid_search = GridSearchCV(svm_rbf, parameters, cv = cv, scoring = 'roc_auc')\n",
        "\n",
        "# Grid search sul training set\n",
        "grid_search.fit(X_train, y_train)\n",
        "\n",
        "svm_rbf.C = grid_search.best_params_['C']\n",
        "\n",
        "# Addestro il modello con il miglior parametro\n",
        "svm_rbf.fit(X_train, y_train)\n",
        "\n",
        "# Predizioni sul set di validazione\n",
        "y_pred_prob = svm_rbf.predict_proba(X_val)[0:,1]\n",
        "y_pred = svm_rbf.predict(X_val)\n",
        "\n",
        "roc_auc = roc_auc_score(y_val, y_pred_prob)\n",
        "accuracy = accuracy_score(y_val, y_pred)\n",
        "f1 = f1_score(y_val, y_pred)\n",
        "precision = precision_score(y_val, y_pred)\n",
        "recall = recall_score(y_val, y_pred)\n",
        "\n",
        "cf_matrix = confusion_matrix(y_val, y_pred, labels = svm_rbf.classes_)\n",
        "\n",
        "cf_ = cf_matrix.copy().astype(float)\n",
        "\n",
        "for j in range(2):\n",
        "  for i in range(2):\n",
        "    cf_[i,j] = (float(cf_matrix[i,j]) / float(np.sum(cf_matrix[:,j]) + 1e-5))\n",
        "\n",
        "sns.heatmap(cf_, annot = True, fmt = '.2%', cmap = 'coolwarm')\n",
        "\n",
        "print(\"Migliori parametri:\", grid_search.best_params_)\n",
        "print(\"ROC AUC:\", roc_auc)\n",
        "print(\"Accuracy:\", accuracy)\n",
        "print(\"F1-score:\", f1)\n",
        "print(\"Precision:\", precision)\n",
        "print(\"Recall:\", recall)"
      ]
    },
    {
      "cell_type": "code",
      "execution_count": null,
      "metadata": {
        "id": "GWp6eThr0ex0"
      },
      "outputs": [],
      "source": [
        "metrics = np.array(roc_auc)\n",
        "metrics = np.append(metrics, accuracy)\n",
        "metrics = np.append(metrics, f1)\n",
        "metrics = np.append(metrics, precision)\n",
        "metrics = np.append(metrics, recall)\n",
        "\n",
        "S4_result = np.vstack((S4_result, metrics))"
      ]
    },
    {
      "cell_type": "markdown",
      "metadata": {
        "id": "l4iYOleI0ex0"
      },
      "source": [
        "### **S4 (60% vs 40%) 5. LDA**"
      ]
    },
    {
      "cell_type": "code",
      "execution_count": null,
      "metadata": {
        "colab": {
          "base_uri": "https://localhost:8080/"
        },
        "id": "mp01jydU0ex0",
        "outputId": "95f84362-e461-4617-c9a0-f6f11667c47f"
      },
      "outputs": [
        {
          "output_type": "stream",
          "name": "stdout",
          "text": [
            "ROC score medio (cross validation):  0.9135978835978836\n"
          ]
        }
      ],
      "source": [
        "lda = LinearDiscriminantAnalysis(solver = 'lsqr', shrinkage = 'auto')\n",
        "\n",
        "scores = cross_val_score(lda, X_train, y_train, cv = cv, scoring = 'roc_auc')\n",
        "ROC_mean = scores.mean()\n",
        "\n",
        "print(\"ROC score medio (cross validation): \", ROC_mean)"
      ]
    },
    {
      "cell_type": "code",
      "execution_count": null,
      "metadata": {
        "colab": {
          "base_uri": "https://localhost:8080/"
        },
        "id": "YbrHvm7X0ex0",
        "outputId": "ff41a4bc-e1b4-45be-af7b-fac0fc0c1389"
      },
      "outputs": [
        {
          "output_type": "stream",
          "name": "stdout",
          "text": [
            "Migliori parametri: {'shrinkage': 0.94375}\n",
            "ROC AUC: 0.9409722222222221\n",
            "Accuracy: 0.8802083333333334\n",
            "F1-score: 0.6567164179104478\n",
            "Precision: 0.5116279069767442\n",
            "Recall: 0.9166666666666666\n",
            "CPU times: user 15min 40s, sys: 1min 8s, total: 16min 48s\n",
            "Wall time: 10min 5s\n"
          ]
        },
        {
          "output_type": "display_data",
          "data": {
            "text/plain": [
              "<Figure size 640x480 with 2 Axes>"
            ],
            "image/png": "[encoded data removed]"
          },
          "metadata": {}
        }
      ],
      "source": [
        "%%time\n",
        "parameters = {'shrinkage' : np.linspace(0.775, 1, 5)}\n",
        "\n",
        "grid_search = GridSearchCV(lda, parameters, cv = cv, scoring = 'roc_auc')\n",
        "\n",
        "# Grid search sul training set\n",
        "grid_search.fit(X_train, y_train)\n",
        "\n",
        "lda.shrinkage = grid_search.best_params_['shrinkage']\n",
        "\n",
        "# Addestro il modello con il miglior parametro\n",
        "lda.fit(X_train, y_train)\n",
        "\n",
        "# Predizioni sul set di validazione\n",
        "y_pred_prob = lda.predict_proba(X_val)[0:,1]\n",
        "y_pred = lda.predict(X_val)\n",
        "\n",
        "roc_auc = roc_auc_score(y_val, y_pred_prob)\n",
        "accuracy = accuracy_score(y_val, y_pred)\n",
        "f1 = f1_score(y_val, y_pred)\n",
        "precision = precision_score(y_val, y_pred)\n",
        "recall = recall_score(y_val, y_pred)\n",
        "\n",
        "cf_matrix = confusion_matrix(y_val, y_pred, labels = lda.classes_)\n",
        "\n",
        "cf_ = cf_matrix.copy().astype(float)\n",
        "\n",
        "for j in range(2):\n",
        "  for i in range(2):\n",
        "    cf_[i,j] = (float(cf_matrix[i,j]) / float(np.sum(cf_matrix[:,j])))\n",
        "\n",
        "sns.heatmap(cf_, annot = True, fmt = '.2%', cmap = 'coolwarm')\n",
        "\n",
        "print(\"Migliori parametri:\", grid_search.best_params_)\n",
        "print(\"ROC AUC:\", roc_auc)\n",
        "print(\"Accuracy:\", accuracy)\n",
        "print(\"F1-score:\", f1)\n",
        "print(\"Precision:\", precision)\n",
        "print(\"Recall:\", recall)"
      ]
    },
    {
      "cell_type": "code",
      "execution_count": null,
      "metadata": {
        "id": "AS72hJXF0ex1"
      },
      "outputs": [],
      "source": [
        "metrics = np.array(roc_auc)\n",
        "metrics = np.append(metrics, accuracy)\n",
        "metrics = np.append(metrics, f1)\n",
        "metrics = np.append(metrics, precision)\n",
        "metrics = np.append(metrics, recall)\n",
        "\n",
        "S4_result = np.vstack((S4_result, metrics))"
      ]
    },
    {
      "cell_type": "code",
      "execution_count": null,
      "metadata": {
        "colab": {
          "base_uri": "https://localhost:8080/"
        },
        "id": "TZYKqgGb0ex1",
        "outputId": "fa64f41e-cb2a-4a40-d8f4-cb53f55c2b49"
      },
      "outputs": [
        {
          "output_type": "execute_result",
          "data": {
            "text/plain": [
              "(24, 5)"
            ]
          },
          "metadata": {},
          "execution_count": 105
        }
      ],
      "source": [
        "S4_result.shape"
      ]
    },
    {
      "cell_type": "markdown",
      "metadata": {
        "id": "vGu5r86c2LMc"
      },
      "source": [
        "# Paziente S4 - dati unbalanced (50% vs 50%)"
      ]
    },
    {
      "cell_type": "markdown",
      "metadata": {
        "id": "76ZH0aBD2LMi"
      },
      "source": [
        "## Definizione dei Dataset"
      ]
    },
    {
      "cell_type": "markdown",
      "metadata": {
        "id": "2dT1bvm_2LMj"
      },
      "source": [
        "Suddivisione dei dati tra set di training, set di validazione e set di test e bilanciamento dei dati"
      ]
    },
    {
      "cell_type": "code",
      "execution_count": null,
      "metadata": {
        "colab": {
          "base_uri": "https://localhost:8080/"
        },
        "id": "YGlgJKuE2LMj",
        "outputId": "7779bb81-ad82-499e-f234-3ba8d8326505"
      },
      "outputs": [
        {
          "output_type": "stream",
          "name": "stdout",
          "text": [
            "La parecentuale di dati di training NT è  50.0 % e quella di T è 50.0 %. E in termini assoluti: Counter({0: 96, 1: 96})\n"
          ]
        }
      ],
      "source": [
        "undersampler = RandomUnderSampler(sampling_strategy = 1, random_state = 42)\n",
        "X_train, y_train = undersampler.fit_resample(X_train_original, y_train_original)\n",
        "\n",
        "class_counter = Counter(y_train)\n",
        "first_class, count = class_counter.most_common(1)[0]\n",
        "NT_perc = (count/ len(y_train)) * 100\n",
        "print(\"La parecentuale di dati di training NT è \", NT_perc, \"% e quella di T è\", 100 - NT_perc , \"%. E in termini assoluti:\", class_counter)"
      ]
    },
    {
      "cell_type": "markdown",
      "metadata": {
        "id": "LN5KLDXa2LMk"
      },
      "source": [
        "## **Model selection**"
      ]
    },
    {
      "cell_type": "markdown",
      "metadata": {
        "id": "uzjW9tLk2LMk"
      },
      "source": [
        "### **S4 (50% vs 50%) 1. Logistic Regression**"
      ]
    },
    {
      "cell_type": "code",
      "execution_count": null,
      "metadata": {
        "colab": {
          "base_uri": "https://localhost:8080/"
        },
        "id": "mUCjAyRx2LMk",
        "outputId": "4a41b1b0-797c-4a64-d7a7-3190274a8b0d"
      },
      "outputs": [
        {
          "output_type": "stream",
          "name": "stdout",
          "text": [
            "ROC (cross-validation):  0.8855388471177946\n",
            "CPU times: user 984 ms, sys: 543 ms, total: 1.53 s\n",
            "Wall time: 955 ms\n"
          ]
        }
      ],
      "source": [
        "%%time\n",
        "\n",
        "LR = LogisticRegression(max_iter = 1000)\n",
        "\n",
        "scores = cross_val_score(LR, X_train, y_train, cv = cv, scoring = 'f1')\n",
        "ROC_mean = scores.mean()\n",
        "\n",
        "print(\"ROC (cross-validation): \", ROC_mean)"
      ]
    },
    {
      "cell_type": "markdown",
      "metadata": {
        "id": "eCKaXZhc2LMl"
      },
      "source": [
        "Cerco i migliori parameti con Grid search"
      ]
    },
    {
      "cell_type": "code",
      "execution_count": null,
      "metadata": {
        "colab": {
          "base_uri": "https://localhost:8080/"
        },
        "id": "xPWqc2252LMl",
        "outputId": "0075ea4a-8939-47de-a996-246848e571ce"
      },
      "outputs": [
        {
          "output_type": "stream",
          "name": "stdout",
          "text": [
            "Migliori parametri: {'C': 0.014736842105263158}\n",
            "ROC AUC: 0.9231150793650793\n",
            "Accuracy: 0.8541666666666666\n",
            "F1-score: 0.611111111111111\n",
            "Precision: 0.4583333333333333\n",
            "Recall: 0.9166666666666666\n",
            "CPU times: user 12.7 s, sys: 6.37 s, total: 19.1 s\n",
            "Wall time: 11.9 s\n"
          ]
        },
        {
          "output_type": "display_data",
          "data": {
            "text/plain": [
              "<Figure size 640x480 with 2 Axes>"
            ],
            "image/png": "[encoded data removed]"
          },
          "metadata": {}
        }
      ],
      "source": [
        "%%time\n",
        "parameters = {'C': np.linspace(0.01, 0.02, 20)}\n",
        "grid_search = GridSearchCV(LR, parameters, cv = cv, scoring = 'roc_auc')\n",
        "\n",
        "# Grid search sul training set\n",
        "grid_search.fit(X_train, y_train)\n",
        "\n",
        "LR.C = grid_search.best_params_['C']\n",
        "LR.fit(X_train, y_train)\n",
        "\n",
        "# Predizioni sul set di validazione\n",
        "y_pred_prob = LR.predict_proba(X_val)[0:,1]\n",
        "y_pred = LR.predict(X_val)\n",
        "\n",
        "roc_auc = roc_auc_score(y_val, y_pred_prob)\n",
        "accuracy = accuracy_score(y_val, y_pred)\n",
        "f1 = f1_score(y_val, y_pred)\n",
        "precision = precision_score(y_val, y_pred)\n",
        "recall = recall_score(y_val, y_pred)\n",
        "\n",
        "cf_matrix = confusion_matrix(y_val, y_pred, labels = LR.classes_)\n",
        "\n",
        "cf_ = cf_matrix.copy().astype(float)\n",
        "\n",
        "for j in range(2):\n",
        "  for i in range(2):\n",
        "    cf_[i,j] = (float(cf_matrix[i,j]) / float(np.sum(cf_matrix[:,j])))\n",
        "\n",
        "sns.heatmap(cf_, annot = True, fmt = '.2%', cmap = 'coolwarm')\n",
        "\n",
        "print(\"Migliori parametri:\", grid_search.best_params_)\n",
        "print(\"ROC AUC:\", roc_auc)\n",
        "print(\"Accuracy:\", accuracy)\n",
        "print(\"F1-score:\", f1)\n",
        "print(\"Precision:\", precision)\n",
        "print(\"Recall:\", recall)"
      ]
    },
    {
      "cell_type": "code",
      "execution_count": null,
      "metadata": {
        "id": "H4UoQvI12LMl"
      },
      "outputs": [],
      "source": [
        "metrics = np.array(roc_auc)\n",
        "metrics = np.append(metrics, accuracy)\n",
        "metrics = np.append(metrics, f1)\n",
        "metrics = np.append(metrics, precision)\n",
        "metrics = np.append(metrics, recall)\n",
        "S4_result = np.vstack((S4_result, metrics))"
      ]
    },
    {
      "cell_type": "markdown",
      "metadata": {
        "id": "kzH6hG4w2LMl"
      },
      "source": [
        "### **S4 (50% vs 50%) 2. Random Forest**"
      ]
    },
    {
      "cell_type": "code",
      "execution_count": null,
      "metadata": {
        "id": "Abr-_GZL2LMl",
        "colab": {
          "base_uri": "https://localhost:8080/"
        },
        "outputId": "57ef9915-5a6b-4020-b8f6-697c42c9b650"
      },
      "outputs": [
        {
          "output_type": "stream",
          "name": "stdout",
          "text": [
            "ROC score medio (cross validation):  0.9481111111111111\n",
            "CPU times: user 5.37 s, sys: 14 ms, total: 5.38 s\n",
            "Wall time: 5.45 s\n"
          ]
        }
      ],
      "source": [
        "%%time\n",
        "RF = RandomForestClassifier(criterion = 'gini')\n",
        "\n",
        "scores = cross_val_score(RF, X_train, y_train, cv = cv, scoring = 'roc_auc')\n",
        "ROC_mean = scores.mean()\n",
        "\n",
        "print(\"ROC score medio (cross validation): \", ROC_mean)"
      ]
    },
    {
      "cell_type": "code",
      "source": [
        "np.linspace(80, 150, 35).astype(int)"
      ],
      "metadata": {
        "id": "V6iUhJPAR73m",
        "colab": {
          "base_uri": "https://localhost:8080/"
        },
        "outputId": "240fac02-da52-404b-ec9a-ac01a75856f6"
      },
      "execution_count": null,
      "outputs": [
        {
          "output_type": "execute_result",
          "data": {
            "text/plain": [
              "array([ 80,  82,  84,  86,  88,  90,  92,  94,  96,  98, 100, 102, 104,\n",
              "       106, 108, 110, 112, 115, 117, 119, 121, 123, 125, 127, 129, 131,\n",
              "       133, 135, 137, 139, 141, 143, 145, 147, 150])"
            ]
          },
          "metadata": {},
          "execution_count": 111
        }
      ]
    },
    {
      "cell_type": "code",
      "execution_count": null,
      "metadata": {
        "id": "uVW2HZJH2LMl",
        "colab": {
          "base_uri": "https://localhost:8080/"
        },
        "outputId": "2c86971d-7a2a-4e9d-8f23-720315d3cf10"
      },
      "outputs": [
        {
          "output_type": "stream",
          "name": "stdout",
          "text": [
            "Migliori parametri: {'n_estimators': 96}\n",
            "ROC AUC: 0.8892609126984127\n",
            "Accuracy: 0.828125\n",
            "F1-score: 0.5074626865671642\n",
            "Precision: 0.3953488372093023\n",
            "Recall: 0.7083333333333334\n",
            "CPU times: user 23.7 s, sys: 112 ms, total: 23.8 s\n",
            "Wall time: 23.8 s\n"
          ]
        },
        {
          "output_type": "display_data",
          "data": {
            "text/plain": [
              "<Figure size 640x480 with 2 Axes>"
            ],
            "image/png": "[encoded data removed]"
          },
          "metadata": {}
        }
      ],
      "source": [
        "%%time\n",
        "parameters = {'n_estimators': np.linspace(96, 100, 5).astype(int)}\n",
        "\n",
        "grid_search = GridSearchCV(RF, parameters, cv = cv, scoring = 'roc_auc')\n",
        "\n",
        "# Grid search sul training set\n",
        "grid_search.fit(X_train, y_train)\n",
        "\n",
        "RF.n_estimators = grid_search.best_params_['n_estimators']\n",
        "RF.fit(X_train, y_train)\n",
        "\n",
        "# Predizioni sul set di validazione\n",
        "y_pred_prob = RF.predict_proba(X_val)[0:,1]\n",
        "y_pred = RF.predict(X_val)\n",
        "\n",
        "roc_auc = roc_auc_score(y_val, y_pred_prob)\n",
        "accuracy = accuracy_score(y_val, y_pred)\n",
        "f1 = f1_score(y_val, y_pred)\n",
        "precision = precision_score(y_val, y_pred)\n",
        "recall = recall_score(y_val, y_pred)\n",
        "\n",
        "cf_matrix = confusion_matrix(y_val, y_pred, labels = RF.classes_)\n",
        "\n",
        "cf_ = cf_matrix.copy().astype(float)\n",
        "\n",
        "for j in range(2):\n",
        "  for i in range(2):\n",
        "    cf_[i,j] = (float(cf_matrix[i,j]) / float(np.sum(cf_matrix[:,j])))\n",
        "\n",
        "sns.heatmap(cf_, annot = True, fmt = '.2%', cmap = 'coolwarm')\n",
        "\n",
        "print(\"Migliori parametri:\", grid_search.best_params_)\n",
        "print(\"ROC AUC:\", roc_auc)\n",
        "print(\"Accuracy:\", accuracy)\n",
        "print(\"F1-score:\", f1)\n",
        "print(\"Precision:\", precision)\n",
        "print(\"Recall:\", recall)"
      ]
    },
    {
      "cell_type": "code",
      "execution_count": null,
      "metadata": {
        "id": "Qc6y9KcR2LMl"
      },
      "outputs": [],
      "source": [
        "metrics = np.array(roc_auc)\n",
        "metrics = np.append(metrics, accuracy)\n",
        "metrics = np.append(metrics, f1)\n",
        "metrics = np.append(metrics, precision)\n",
        "metrics = np.append(metrics, recall)\n",
        "\n",
        "S4_result = np.vstack((S4_result, metrics))"
      ]
    },
    {
      "cell_type": "markdown",
      "metadata": {
        "id": "JwWa84wB2LMl"
      },
      "source": [
        "### **S4 (50% vs 50%) 3. Naive Bayes**"
      ]
    },
    {
      "cell_type": "markdown",
      "metadata": {
        "id": "mLUoQPc52LMl"
      },
      "source": [
        "Traslazione dei dati per rendere positivi i valori per il Naive Bayes"
      ]
    },
    {
      "cell_type": "code",
      "execution_count": null,
      "metadata": {
        "id": "GTgNrT8zYAHO",
        "colab": {
          "base_uri": "https://localhost:8080/"
        },
        "outputId": "9c48eff9-fb6b-45dc-f5cf-e8d3aeeb94e7"
      },
      "outputs": [
        {
          "output_type": "stream",
          "name": "stdout",
          "text": [
            "La parecentuale di dati di training NT è  50.0 % e quella di T è 50.0 %. E in termini assoluti: Counter({0: 96, 1: 96})\n"
          ]
        }
      ],
      "source": [
        "undersampler = RandomUnderSampler(sampling_strategy = 1, random_state = 42)\n",
        "X_bayes_train, y_bayes_train = undersampler.fit_resample(X_bayes_train_original, y_bayes_train_original)\n",
        "\n",
        "class_counter = Counter(y_bayes_train)\n",
        "first_class, count = class_counter.most_common(1)[0]\n",
        "NT_perc = (count/ len(y_bayes_train)) * 100\n",
        "print(\"La parecentuale di dati di training NT è \", NT_perc, \"% e quella di T è\", 100 - NT_perc , \"%. E in termini assoluti:\", class_counter)"
      ]
    },
    {
      "cell_type": "markdown",
      "metadata": {
        "id": "I4OeVbhD2LMm"
      },
      "source": [
        "#### *MultiNB*"
      ]
    },
    {
      "cell_type": "code",
      "execution_count": null,
      "metadata": {
        "id": "vhVIyXZ02LMm",
        "colab": {
          "base_uri": "https://localhost:8080/"
        },
        "outputId": "b32cb504-8172-49e0-bf0d-e69a457c2d32"
      },
      "outputs": [
        {
          "output_type": "stream",
          "name": "stdout",
          "text": [
            "ROC score medio (cross-validation): 0.9316666666666666\n"
          ]
        }
      ],
      "source": [
        "Multi_NB = MultinomialNB()\n",
        "\n",
        "# Valutazione tramite validazione incrociata (cross-validation)\n",
        "scores = cross_val_score(Multi_NB, X_bayes_train, y_bayes_train, cv = cv, scoring = 'roc_auc')\n",
        "\n",
        "# ROC medio dei risultati\n",
        "mean_ROC = np.mean(scores)\n",
        "\n",
        "print(\"ROC score medio (cross-validation):\", mean_ROC)"
      ]
    },
    {
      "cell_type": "code",
      "execution_count": null,
      "metadata": {
        "id": "svindlK12LMm",
        "colab": {
          "base_uri": "https://localhost:8080/"
        },
        "outputId": "daaf4de7-1947-4cfc-d77e-2645bd048c97"
      },
      "outputs": [
        {
          "output_type": "stream",
          "name": "stdout",
          "text": [
            "Migliori parametri: {'alpha': 1644.6761779946628}\n",
            "ROC AUC: 0.9050099206349206\n",
            "Accuracy: 0.5833333333333334\n",
            "F1-score: 0.375\n",
            "Precision: 0.23076923076923078\n",
            "Recall: 1.0\n",
            "CPU times: user 18.1 s, sys: 10.9 s, total: 29 s\n",
            "Wall time: 18.3 s\n"
          ]
        },
        {
          "output_type": "display_data",
          "data": {
            "text/plain": [
              "<Figure size 640x480 with 2 Axes>"
            ],
            "image/png": "[encoded data removed]"
          },
          "metadata": {}
        }
      ],
      "source": [
        "%%time\n",
        "# GridSearchCV\n",
        "parameters = {'alpha': np.logspace(2, 4, 200)}\n",
        "grid_search = GridSearchCV(Multi_NB, parameters, cv = cv, scoring = 'roc_auc')\n",
        "\n",
        "# grid search sul training set\n",
        "grid_search.fit(X_bayes_train, y_bayes_train)\n",
        "\n",
        "Multi_NB.alpha = grid_search.best_params_['alpha']\n",
        "Multi_NB.fit(X_bayes_train, y_bayes_train)\n",
        "\n",
        "# Predizioni sul set di validazione\n",
        "y_pred_prob = Multi_NB.predict_proba(X_bayes_val)[:,1]\n",
        "y_pred = Multi_NB.predict(X_bayes_val)\n",
        "\n",
        "roc_auc = roc_auc_score(y_bayes_val, y_pred_prob)\n",
        "accuracy = accuracy_score(y_bayes_val, y_pred)\n",
        "f1 = f1_score(y_bayes_val, y_pred)\n",
        "precision = precision_score(y_bayes_val, y_pred)\n",
        "recall = recall_score(y_bayes_val, y_pred)\n",
        "\n",
        "cf_matrix = confusion_matrix(y_bayes_val, y_pred, labels = Multi_NB.classes_)\n",
        "\n",
        "cf_ = cf_matrix.copy().astype(float)\n",
        "\n",
        "for j in range(2):\n",
        "  for i in range(2):\n",
        "    cf_[i,j] = (float(cf_matrix[i,j]) / float(np.sum(cf_matrix[:,j])))\n",
        "\n",
        "sns.heatmap(cf_, annot = True, fmt = '.2%', cmap = 'coolwarm')\n",
        "\n",
        "\n",
        "print(\"Migliori parametri:\", grid_search.best_params_)\n",
        "print(\"ROC AUC:\", roc_auc)\n",
        "print(\"Accuracy:\", accuracy)\n",
        "print(\"F1-score:\", f1)\n",
        "print(\"Precision:\", precision)\n",
        "print(\"Recall:\", recall)"
      ]
    },
    {
      "cell_type": "code",
      "execution_count": null,
      "metadata": {
        "id": "NNbediJY2LMm"
      },
      "outputs": [],
      "source": [
        "metrics = np.array(roc_auc)\n",
        "metrics = np.append(metrics, accuracy)\n",
        "metrics = np.append(metrics, f1)\n",
        "metrics = np.append(metrics, precision)\n",
        "metrics = np.append(metrics, recall)\n",
        "\n",
        "S4_result = np.vstack((S4_result, metrics))"
      ]
    },
    {
      "cell_type": "markdown",
      "metadata": {
        "id": "-EoL-dLC2LMm"
      },
      "source": [
        "#### *Complement NB*"
      ]
    },
    {
      "cell_type": "code",
      "execution_count": null,
      "metadata": {
        "id": "UFJvqCpK2LMm",
        "colab": {
          "base_uri": "https://localhost:8080/"
        },
        "outputId": "071c85fe-8eb2-4041-e79c-4fdc917e8463"
      },
      "outputs": [
        {
          "output_type": "stream",
          "name": "stdout",
          "text": [
            "ROC Auc (cross-validation): 0.9316666666666666\n",
            "CPU times: user 96.3 ms, sys: 38.9 ms, total: 135 ms\n",
            "Wall time: 111 ms\n"
          ]
        }
      ],
      "source": [
        "%%time\n",
        "Compl_NB = ComplementNB()\n",
        "\n",
        "# Cross-validation\n",
        "scores = cross_val_score(Compl_NB, X_bayes_train, y_bayes_train, cv = cv, scoring = 'roc_auc')\n",
        "\n",
        "# ROC medio dei risultati\n",
        "mean_ROC = np.mean(scores)\n",
        "\n",
        "print(\"ROC Auc (cross-validation):\", mean_ROC)"
      ]
    },
    {
      "cell_type": "code",
      "execution_count": null,
      "metadata": {
        "id": "6YMdu4CD2LMm",
        "colab": {
          "base_uri": "https://localhost:8080/"
        },
        "outputId": "afdc0dc3-78af-4d4b-f389-8b1b5b54a580"
      },
      "outputs": [
        {
          "output_type": "stream",
          "name": "stdout",
          "text": [
            "Migliori parametri: {'alpha': 1644.6761779946644}\n",
            "ROC AUC: 0.9050099206349206\n",
            "Accuracy: 0.5833333333333334\n",
            "F1-score: 0.375\n",
            "Precision: 0.23076923076923078\n",
            "Recall: 1.0\n",
            "CPU times: user 18.7 s, sys: 11.5 s, total: 30.1 s\n",
            "Wall time: 18.3 s\n"
          ]
        },
        {
          "output_type": "display_data",
          "data": {
            "text/plain": [
              "<Figure size 640x480 with 2 Axes>"
            ],
            "image/png": "[encoded data removed]"
          },
          "metadata": {}
        }
      ],
      "source": [
        "%%time\n",
        "parameters = {'alpha': np.logspace(3, 4, 200)}\n",
        "grid_search = GridSearchCV(Compl_NB, parameters, cv = cv, scoring = 'roc_auc')\n",
        "\n",
        "grid_search.fit(X_bayes_train, y_bayes_train)\n",
        "\n",
        "Compl_NB.alpha = grid_search.best_params_['alpha']\n",
        "Compl_NB.fit(X_bayes_train, y_bayes_train)\n",
        "\n",
        "# Predizioni sul set di validazione\n",
        "y_pred_prob = Compl_NB.predict_proba(X_bayes_val)[:,1]\n",
        "y_pred = Compl_NB.predict(X_bayes_val)\n",
        "\n",
        "roc_auc = roc_auc_score(y_bayes_val, y_pred_prob)\n",
        "accuracy = accuracy_score(y_bayes_val, y_pred)\n",
        "f1 = f1_score(y_bayes_val, y_pred)\n",
        "precision = precision_score(y_bayes_val, y_pred)\n",
        "recall = recall_score(y_bayes_val, y_pred)\n",
        "\n",
        "cf_matrix = confusion_matrix(y_bayes_val, y_pred, labels = Compl_NB.classes_)\n",
        "\n",
        "cf_ = cf_matrix.copy().astype(float)\n",
        "\n",
        "for j in range(2):\n",
        "  for i in range(2):\n",
        "    cf_[i,j] = (float(cf_matrix[i,j]) / float(np.sum(cf_matrix[:,j])))\n",
        "\n",
        "sns.heatmap(cf_, annot = True, fmt = '.2%', cmap = 'coolwarm')\n",
        "\n",
        "\n",
        "print(\"Migliori parametri:\", grid_search.best_params_)\n",
        "print(\"ROC AUC:\", roc_auc)\n",
        "print(\"Accuracy:\", accuracy)\n",
        "print(\"F1-score:\", f1)\n",
        "print(\"Precision:\", precision)\n",
        "print(\"Recall:\", recall)"
      ]
    },
    {
      "cell_type": "code",
      "execution_count": null,
      "metadata": {
        "id": "STgrvuEN2LMn"
      },
      "outputs": [],
      "source": [
        "metrics = np.array(roc_auc)\n",
        "metrics = np.append(metrics, accuracy)\n",
        "metrics = np.append(metrics, f1)\n",
        "metrics = np.append(metrics, precision)\n",
        "metrics = np.append(metrics, recall)\n",
        "\n",
        "S4_result = np.vstack((S4_result, metrics))"
      ]
    },
    {
      "cell_type": "markdown",
      "metadata": {
        "id": "sIGzsl0Y2LMn"
      },
      "source": [
        "### **S4 (50% vs 50%) 4. SVM**"
      ]
    },
    {
      "cell_type": "markdown",
      "metadata": {
        "id": "okcA3FIX2LMn"
      },
      "source": [
        "#### *Lineare*"
      ]
    },
    {
      "cell_type": "code",
      "execution_count": null,
      "metadata": {
        "id": "QgPQfWpm2LMn",
        "colab": {
          "base_uri": "https://localhost:8080/"
        },
        "outputId": "9542fc62-fc51-401b-d836-9e6b071da6f0"
      },
      "outputs": [
        {
          "output_type": "stream",
          "name": "stdout",
          "text": [
            "ROC score medio (cross validation):  0.9316666666666666\n"
          ]
        }
      ],
      "source": [
        "svm_linear = SVC(C = 10000, kernel = 'linear',class_weight = \"balanced\", random_state = 42, probability = True)\n",
        "\n",
        "#scores = cross_val_score(svm_linear, X_train, y_train, cv = cv, scoring = 'roc_auc')\n",
        "ROC_mean = scores.mean()\n",
        "\n",
        "print(\"ROC score medio (cross validation): \", ROC_mean)"
      ]
    },
    {
      "cell_type": "code",
      "execution_count": null,
      "metadata": {
        "id": "gXbM5XVD2LMn",
        "colab": {
          "base_uri": "https://localhost:8080/"
        },
        "outputId": "6d634779-cb06-499f-89c5-549fd1133653"
      },
      "outputs": [
        {
          "output_type": "stream",
          "name": "stdout",
          "text": [
            "Migliori parametri: {'C': 0.0004736894736842105}\n",
            "ROC AUC: 0.9288194444444444\n",
            "Accuracy: 0.8645833333333334\n",
            "F1-score: 0.6285714285714286\n",
            "Precision: 0.4782608695652174\n",
            "Recall: 0.9166666666666666\n",
            "CPU times: user 26.2 s, sys: 73.1 ms, total: 26.3 s\n",
            "Wall time: 26.3 s\n"
          ]
        },
        {
          "output_type": "display_data",
          "data": {
            "text/plain": [
              "<Figure size 640x480 with 2 Axes>"
            ],
            "image/png": "[encoded data removed]"
          },
          "metadata": {}
        }
      ],
      "source": [
        "%%time\n",
        "parameters = {'C': np.linspace(1e-8, 0.001, 20)}\n",
        "\n",
        "grid_search = GridSearchCV(svm_linear, parameters, cv = cv, scoring = 'roc_auc')\n",
        "\n",
        "# Grid search sul training set\n",
        "grid_search.fit(X_train, y_train)\n",
        "\n",
        "svm_linear.C = grid_search.best_params_['C']\n",
        "svm_linear.fit(X_train, y_train)\n",
        "\n",
        "# Predizioni sul set di validazione\n",
        "y_pred_prob = svm_linear.predict_proba(X_val)[0:,1]\n",
        "y_pred = svm_linear.predict(X_val)\n",
        "\n",
        "roc_auc = roc_auc_score(y_val, y_pred_prob)\n",
        "accuracy = accuracy_score(y_val, y_pred)\n",
        "f1 = f1_score(y_val, y_pred)\n",
        "precision = precision_score(y_val, y_pred)\n",
        "recall = recall_score(y_val, y_pred)\n",
        "\n",
        "cf_matrix = confusion_matrix(y_val, y_pred, labels = svm_linear.classes_)\n",
        "\n",
        "cf_ = cf_matrix.copy().astype(float)\n",
        "\n",
        "for j in range(2):\n",
        "  for i in range(2):\n",
        "    cf_[i,j] = (float(cf_matrix[i,j]) / float(np.sum(cf_matrix[:,j])))\n",
        "\n",
        "sns.heatmap(cf_, annot = True, fmt = '.2%', cmap = 'coolwarm')\n",
        "\n",
        "print(\"Migliori parametri:\", grid_search.best_params_)\n",
        "print(\"ROC AUC:\", roc_auc)\n",
        "print(\"Accuracy:\", accuracy)\n",
        "print(\"F1-score:\", f1)\n",
        "print(\"Precision:\", precision)\n",
        "print(\"Recall:\", recall)"
      ]
    },
    {
      "cell_type": "code",
      "execution_count": null,
      "metadata": {
        "id": "h1VvLpwo2LMn"
      },
      "outputs": [],
      "source": [
        "metrics = np.array(roc_auc)\n",
        "metrics = np.append(metrics, accuracy)\n",
        "metrics = np.append(metrics, f1)\n",
        "metrics = np.append(metrics, precision)\n",
        "metrics = np.append(metrics, recall)\n",
        "\n",
        "S4_result = np.vstack((S4_result, metrics))"
      ]
    },
    {
      "cell_type": "markdown",
      "metadata": {
        "id": "L22JXYP42LMn"
      },
      "source": [
        "#### *Polinomiale*"
      ]
    },
    {
      "cell_type": "code",
      "execution_count": null,
      "metadata": {
        "id": "UUy62qTF2LMn",
        "colab": {
          "base_uri": "https://localhost:8080/"
        },
        "outputId": "44ae1d3c-76a2-4fe9-88b2-cb4bf3dd857a"
      },
      "outputs": [
        {
          "output_type": "stream",
          "name": "stdout",
          "text": [
            "ROC score medio (cross validation):  0.9572222222222223\n"
          ]
        }
      ],
      "source": [
        "svm_poli = SVC(kernel = 'poly', probability = True)\n",
        "\n",
        "scores = cross_val_score(svm_poli, X_train, y_train, cv = cv, scoring = 'roc_auc')\n",
        "ROC_mean = scores.mean()\n",
        "\n",
        "print(\"ROC score medio (cross validation): \", ROC_mean)"
      ]
    },
    {
      "cell_type": "code",
      "source": [
        "np.linspace(0.001, 3, 10)"
      ],
      "metadata": {
        "id": "JxFz9LqjWuOa",
        "colab": {
          "base_uri": "https://localhost:8080/"
        },
        "outputId": "2991f597-c4cb-40e2-f29a-893d766645dd"
      },
      "execution_count": null,
      "outputs": [
        {
          "output_type": "execute_result",
          "data": {
            "text/plain": [
              "array([1.00000000e-03, 3.34222222e-01, 6.67444444e-01, 1.00066667e+00,\n",
              "       1.33388889e+00, 1.66711111e+00, 2.00033333e+00, 2.33355556e+00,\n",
              "       2.66677778e+00, 3.00000000e+00])"
            ]
          },
          "metadata": {},
          "execution_count": 125
        }
      ]
    },
    {
      "cell_type": "code",
      "execution_count": null,
      "metadata": {
        "id": "33fOMiFT2LMn",
        "colab": {
          "base_uri": "https://localhost:8080/"
        },
        "outputId": "449b8b58-87cc-47d8-b487-3e2d3c76064d"
      },
      "outputs": [
        {
          "output_type": "stream",
          "name": "stdout",
          "text": [
            "Migliori parametri: {'C': 1.037777777777778, 'degree': 3}\n",
            "ROC AUC: 0.9263392857142858\n",
            "Accuracy: 0.8802083333333334\n",
            "F1-score: 0.5818181818181819\n",
            "Precision: 0.5161290322580645\n",
            "Recall: 0.6666666666666666\n",
            "CPU times: user 52.5 s, sys: 109 ms, total: 52.6 s\n",
            "Wall time: 53 s\n"
          ]
        },
        {
          "output_type": "display_data",
          "data": {
            "text/plain": [
              "<Figure size 640x480 with 2 Axes>"
            ],
            "image/png": "[encoded data removed]"
          },
          "metadata": {}
        }
      ],
      "source": [
        "%%time\n",
        "parameters = {'degree': [2, 3, 4], 'C': np.linspace(0.66, 1.34, 10)}\n",
        "\n",
        "grid_search = GridSearchCV(svm_poli, parameters, cv = cv, scoring = 'roc_auc')\n",
        "\n",
        "# Grid search sul training set\n",
        "grid_search.fit(X_train, y_train)\n",
        "\n",
        "svm_poli.C = grid_search.best_params_['C']\n",
        "svm_poli.degree = grid_search.best_params_['degree']\n",
        "svm_poli.fit(X_train, y_train)\n",
        "\n",
        "# Predizioni sul set di validazione\n",
        "y_pred_prob = svm_poli.predict_proba(X_val)[0:,1]\n",
        "y_pred = svm_poli.predict(X_val)\n",
        "\n",
        "roc_auc = roc_auc_score(y_val, y_pred_prob)\n",
        "accuracy = accuracy_score(y_val, y_pred)\n",
        "f1 = f1_score(y_val, y_pred)\n",
        "precision = precision_score(y_val, y_pred)\n",
        "recall = recall_score(y_val, y_pred)\n",
        "\n",
        "cf_matrix = confusion_matrix(y_val, y_pred, labels = svm_poli.classes_)\n",
        "\n",
        "cf_ = cf_matrix.copy().astype(float)\n",
        "\n",
        "for j in range(2):\n",
        "  for i in range(2):\n",
        "    cf_[i,j] = (float(cf_matrix[i,j]) / float(np.sum(cf_matrix[:,j]) + 1e-5))\n",
        "\n",
        "sns.heatmap(cf_, annot = True, fmt = '.2%', cmap = 'coolwarm')\n",
        "\n",
        "print(\"Migliori parametri:\", grid_search.best_params_)\n",
        "print(\"ROC AUC:\", roc_auc)\n",
        "print(\"Accuracy:\", accuracy)\n",
        "print(\"F1-score:\", f1)\n",
        "print(\"Precision:\", precision)\n",
        "print(\"Recall:\", recall)"
      ]
    },
    {
      "cell_type": "code",
      "execution_count": null,
      "metadata": {
        "id": "GStusqdi2LMn"
      },
      "outputs": [],
      "source": [
        "metrics = np.array(roc_auc)\n",
        "metrics = np.append(metrics, accuracy)\n",
        "metrics = np.append(metrics, f1)\n",
        "metrics = np.append(metrics, precision)\n",
        "metrics = np.append(metrics, recall)\n",
        "\n",
        "S4_result = np.vstack((S4_result, metrics))"
      ]
    },
    {
      "cell_type": "markdown",
      "metadata": {
        "id": "k2Sb8LM_2LMn"
      },
      "source": [
        "#### *Radial Basis Function (RBF)*"
      ]
    },
    {
      "cell_type": "code",
      "execution_count": null,
      "metadata": {
        "id": "dK6v5N2s2LMn",
        "colab": {
          "base_uri": "https://localhost:8080/"
        },
        "outputId": "b8e9c719-8794-4e35-db90-599a1a79a782"
      },
      "outputs": [
        {
          "output_type": "stream",
          "name": "stdout",
          "text": [
            "ROC score medio (cross validation):  0.9630000000000001\n"
          ]
        }
      ],
      "source": [
        "svm_rbf = SVC(kernel = \"rbf\", class_weight = \"balanced\", random_state = 42, probability = True)\n",
        "\n",
        "scores = cross_val_score(svm_rbf, X_train, y_train, cv = cv, scoring = 'roc_auc')\n",
        "ROC_mean = scores.mean()\n",
        "\n",
        "print(\"ROC score medio (cross validation): \", ROC_mean)"
      ]
    },
    {
      "cell_type": "code",
      "execution_count": null,
      "metadata": {
        "id": "U_hJZwBc2LMo",
        "colab": {
          "base_uri": "https://localhost:8080/"
        },
        "outputId": "dff00f38-5177-4199-f947-c259f94264f1"
      },
      "outputs": [
        {
          "output_type": "stream",
          "name": "stdout",
          "text": [
            "Migliori parametri: {'C': 1.3157894736842106}\n",
            "ROC AUC: 0.9389880952380951\n",
            "Accuracy: 0.8541666666666666\n",
            "F1-score: 0.611111111111111\n",
            "Precision: 0.4583333333333333\n",
            "Recall: 0.9166666666666666\n",
            "CPU times: user 40.7 s, sys: 88.8 ms, total: 40.8 s\n",
            "Wall time: 40.9 s\n"
          ]
        },
        {
          "output_type": "display_data",
          "data": {
            "text/plain": [
              "<Figure size 640x480 with 2 Axes>"
            ],
            "image/png": "[encoded data removed]"
          },
          "metadata": {}
        }
      ],
      "source": [
        "%%time\n",
        "parameters = {'C': np.linspace(1, 2, 20)}\n",
        "\n",
        "grid_search = GridSearchCV(svm_rbf, parameters, cv = cv, scoring = 'roc_auc')\n",
        "\n",
        "# Grid search sul training set\n",
        "grid_search.fit(X_train, y_train)\n",
        "\n",
        "svm_rbf.C = grid_search.best_params_['C']\n",
        "svm_rbf.fit(X_train, y_train)\n",
        "\n",
        "# Predizioni sul set di validazione\n",
        "y_pred_prob = svm_rbf.predict_proba(X_val)[0:,1]\n",
        "y_pred = svm_rbf.predict(X_val)\n",
        "\n",
        "roc_auc = roc_auc_score(y_val, y_pred_prob)\n",
        "accuracy = accuracy_score(y_val, y_pred)\n",
        "f1 = f1_score(y_val, y_pred)\n",
        "precision = precision_score(y_val, y_pred)\n",
        "recall = recall_score(y_val, y_pred)\n",
        "\n",
        "cf_matrix = confusion_matrix(y_val, y_pred, labels = svm_rbf.classes_)\n",
        "\n",
        "cf_ = cf_matrix.copy().astype(float)\n",
        "\n",
        "for j in range(2):\n",
        "  for i in range(2):\n",
        "    cf_[i,j] = (float(cf_matrix[i,j]) / float(np.sum(cf_matrix[:,j]) + 1e-5))\n",
        "\n",
        "sns.heatmap(cf_, annot = True, fmt = '.2%', cmap = 'coolwarm')\n",
        "\n",
        "print(\"Migliori parametri:\", grid_search.best_params_)\n",
        "print(\"ROC AUC:\", roc_auc)\n",
        "print(\"Accuracy:\", accuracy)\n",
        "print(\"F1-score:\", f1)\n",
        "print(\"Precision:\", precision)\n",
        "print(\"Recall:\", recall)"
      ]
    },
    {
      "cell_type": "code",
      "execution_count": null,
      "metadata": {
        "id": "N-5qiXOJ2LMo"
      },
      "outputs": [],
      "source": [
        "metrics = np.array(roc_auc)\n",
        "metrics = np.append(metrics, accuracy)\n",
        "metrics = np.append(metrics, f1)\n",
        "metrics = np.append(metrics, precision)\n",
        "metrics = np.append(metrics, recall)\n",
        "\n",
        "S4_result = np.vstack((S4_result, metrics))"
      ]
    },
    {
      "cell_type": "markdown",
      "metadata": {
        "id": "Q0wDLl_H2LMo"
      },
      "source": [
        "### **S4 (50% vs 50%) 5. LDA**"
      ]
    },
    {
      "cell_type": "code",
      "execution_count": null,
      "metadata": {
        "id": "dHPS3knU2LMo",
        "colab": {
          "base_uri": "https://localhost:8080/"
        },
        "outputId": "506aa799-e776-4276-812b-947966963f9f"
      },
      "outputs": [
        {
          "output_type": "stream",
          "name": "stdout",
          "text": [
            "ROC score medio (cross validation):  0.9573333333333334\n"
          ]
        }
      ],
      "source": [
        "lda = LinearDiscriminantAnalysis(solver = 'lsqr', shrinkage = 'auto')\n",
        "\n",
        "scores = cross_val_score(lda, X_train, y_train, cv = cv, scoring = 'roc_auc')\n",
        "ROC_mean = scores.mean()\n",
        "\n",
        "print(\"ROC score medio (cross validation): \", ROC_mean)"
      ]
    },
    {
      "cell_type": "code",
      "execution_count": null,
      "metadata": {
        "id": "dTx2pp242LMo",
        "colab": {
          "base_uri": "https://localhost:8080/"
        },
        "outputId": "378f0830-f80d-4a68-a38f-0262fb90c969"
      },
      "outputs": [
        {
          "output_type": "stream",
          "name": "stdout",
          "text": [
            "Migliori parametri: {'shrinkage': 0.94375}\n",
            "ROC AUC: 0.9222470238095238\n",
            "Accuracy: 0.84375\n",
            "F1-score: 0.5945945945945945\n",
            "Precision: 0.44\n",
            "Recall: 0.9166666666666666\n",
            "CPU times: user 7min 54s, sys: 34.1 s, total: 8min 28s\n",
            "Wall time: 5min 6s\n"
          ]
        },
        {
          "output_type": "display_data",
          "data": {
            "text/plain": [
              "<Figure size 640x480 with 2 Axes>"
            ],
            "image/png": "[encoded data removed]"
          },
          "metadata": {}
        }
      ],
      "source": [
        "%%time\n",
        "parameters = {'shrinkage' : np.linspace(0.775, 1, 5)}\n",
        "\n",
        "grid_search = GridSearchCV(lda, parameters, cv = 5, scoring = 'roc_auc')\n",
        "\n",
        "# Grid search sul training set\n",
        "grid_search.fit(X_train, y_train)\n",
        "\n",
        "lda.shrinkage = grid_search.best_params_['shrinkage']\n",
        "lda.fit(X_train, y_train)\n",
        "\n",
        "# Predizioni sul set di validazione\n",
        "y_pred_prob = lda.predict_proba(X_val)[0:,1]\n",
        "y_pred = lda.predict(X_val)\n",
        "\n",
        "roc_auc = roc_auc_score(y_val, y_pred_prob)\n",
        "accuracy = accuracy_score(y_val, y_pred)\n",
        "f1 = f1_score(y_val, y_pred)\n",
        "precision = precision_score(y_val, y_pred)\n",
        "recall = recall_score(y_val, y_pred)\n",
        "\n",
        "cf_matrix = confusion_matrix(y_val, y_pred, labels = lda.classes_)\n",
        "\n",
        "cf_ = cf_matrix.copy().astype(float)\n",
        "\n",
        "for j in range(2):\n",
        "  for i in range(2):\n",
        "    cf_[i,j] = (float(cf_matrix[i,j]) / float(np.sum(cf_matrix[:,j])))\n",
        "\n",
        "sns.heatmap(cf_, annot = True, fmt = '.2%', cmap = 'coolwarm')\n",
        "\n",
        "print(\"Migliori parametri:\", grid_search.best_params_)\n",
        "print(\"ROC AUC:\", roc_auc)\n",
        "print(\"Accuracy:\", accuracy)\n",
        "print(\"F1-score:\", f1)\n",
        "print(\"Precision:\", precision)\n",
        "print(\"Recall:\", recall)"
      ]
    },
    {
      "cell_type": "code",
      "execution_count": null,
      "metadata": {
        "id": "cRYQP9kr2LMo"
      },
      "outputs": [],
      "source": [
        "metrics = np.array(roc_auc)\n",
        "metrics = np.append(metrics, accuracy)\n",
        "metrics = np.append(metrics, f1)\n",
        "metrics = np.append(metrics, precision)\n",
        "metrics = np.append(metrics, recall)\n",
        "\n",
        "S4_result = np.vstack((S4_result, metrics))"
      ]
    },
    {
      "cell_type": "code",
      "execution_count": null,
      "metadata": {
        "id": "LQf9kQT72LMo",
        "colab": {
          "base_uri": "https://localhost:8080/"
        },
        "outputId": "cb8cc0cb-4faa-4a01-f747-81d0f174fbfe"
      },
      "outputs": [
        {
          "output_type": "execute_result",
          "data": {
            "text/plain": [
              "(32, 5)"
            ]
          },
          "metadata": {},
          "execution_count": 134
        }
      ],
      "source": [
        "S4_result.shape"
      ]
    },
    {
      "cell_type": "markdown",
      "metadata": {
        "id": "0I63pGyiuImp"
      },
      "source": [
        "# Salvataggio dei Risultati"
      ]
    },
    {
      "cell_type": "code",
      "execution_count": null,
      "metadata": {
        "colab": {
          "base_uri": "https://localhost:8080/"
        },
        "id": "W47iACvjGei0",
        "outputId": "d20e5e49-e1b5-4df5-b1ed-071684ffdf9c"
      },
      "outputs": [
        {
          "output_type": "stream",
          "name": "stdout",
          "text": [
            "/content/drive/MyDrive/Colab Notebooks/data/DataMiningProject/Results/S4\n"
          ]
        }
      ],
      "source": [
        "path_data = '/content/drive/MyDrive/Colab Notebooks/data/DataMiningProject/Results'\n",
        "file_path = os.path.join(path_mount, path_data, subject)\n",
        "np.save(file_path + \"_results\", S4_result)\n",
        "print(file_path)"
      ]
    },
    {
      "cell_type": "code",
      "execution_count": null,
      "metadata": {
        "id": "4KJnT5Zda2Vn"
      },
      "outputs": [],
      "source": []
    }
  ],
  "metadata": {
    "colab": {
      "collapsed_sections": [
        "NAZHyHHfG5kH",
        "v7QBfZMONG9N",
        "n584zO6BXzky",
        "fj_xyi0eV9aT",
        "E-mDL2WVV6ED",
        "FQ9sdmIyVzp3",
        "jtAwXaknWHs5",
        "MtBIQMRkWjo_",
        "fEZvV80-b_Ja",
        "qlTphEX1cdc9",
        "9OeGjsCbxXZE",
        "49_OhYErxXZP",
        "K0jIbmA9xXZQ",
        "6Qknv_xexXZQ",
        "DTDUYQznxXZR",
        "pxRi9_AYxXZR",
        "qV_lpkY4xXZR",
        "rxMeh3uZxXZS",
        "35HCmPRxxXZU",
        "-LFIJEag0exq",
        "SvokKSOg0exr",
        "fgIDnjs30exu",
        "7lPXRQru0exv",
        "YlDteQjx0exw",
        "SNo3RYdv0exw",
        "bN4uqGvH0exx",
        "8BAX8LkC0exy",
        "Spbq7lfX0exy",
        "2eJk6zcX0exy",
        "bXYfNAdQ0exz",
        "l4iYOleI0ex0",
        "vGu5r86c2LMc",
        "76ZH0aBD2LMi",
        "LN5KLDXa2LMk",
        "uzjW9tLk2LMk",
        "kzH6hG4w2LMl",
        "JwWa84wB2LMl",
        "I4OeVbhD2LMm",
        "-EoL-dLC2LMm",
        "sIGzsl0Y2LMn",
        "okcA3FIX2LMn",
        "L22JXYP42LMn",
        "k2Sb8LM_2LMn",
        "Q0wDLl_H2LMo"
      ],
      "provenance": [],
      "include_colab_link": true
    },
    "kernelspec": {
      "display_name": "Python 3",
      "name": "python3"
    },
    "language_info": {
      "name": "python"
    }
  },
  "nbformat": 4,
  "nbformat_minor": 0
}