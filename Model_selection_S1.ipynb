{
  "cells": [
    {
      "cell_type": "markdown",
      "metadata": {
        "id": "view-in-github",
        "colab_type": "text"
      },
      "source": [
        "<a href=\"https://colab.research.google.com/github/Awalilly/DataMining2023/blob/main/Model_selection_S1.ipynb\" target=\"_parent\"><img src=\"https://colab.research.google.com/assets/colab-badge.svg\" alt=\"Open In Colab\"/></a>"
      ]
    },
    {
      "cell_type": "code",
      "execution_count": null,
      "metadata": {
        "id": "Efya7qbtc6E6"
      },
      "outputs": [],
      "source": [
        "import pandas as pd\n",
        "import numpy as np\n",
        "import os\n",
        "import json\n",
        "import matplotlib.pyplot as plt\n",
        "\n",
        "path_data = 'MyDrive/Colab Notebooks/data/DataMiningProject/Preprocessed/'\n",
        "path_mount = '/content/drive/'"
      ]
    },
    {
      "cell_type": "code",
      "execution_count": null,
      "metadata": {
        "colab": {
          "base_uri": "https://localhost:8080/"
        },
        "id": "EDFFmt2Hmdwp",
        "outputId": "88776c60-7fb4-4e28-a044-7574c4418e79"
      },
      "outputs": [
        {
          "output_type": "stream",
          "name": "stdout",
          "text": [
            "Mounted at /content/drive/\n"
          ]
        }
      ],
      "source": [
        "from google.colab import drive\n",
        "drive.mount(path_mount)"
      ]
    },
    {
      "cell_type": "markdown",
      "metadata": {
        "id": "ams-32UpWJlv"
      },
      "source": [
        "# Paziente S1 - dati unbalanced (88% vs 12%)"
      ]
    },
    {
      "cell_type": "markdown",
      "metadata": {
        "id": "NAZHyHHfG5kH"
      },
      "source": [
        "## Definizione dei Dataset"
      ]
    },
    {
      "cell_type": "code",
      "execution_count": null,
      "metadata": {
        "colab": {
          "base_uri": "https://localhost:8080/",
          "height": 438
        },
        "id": "gB8cM2NvmEg0",
        "outputId": "9be94bc5-4f53-4b37-fbec-d723b9506aab"
      },
      "outputs": [
        {
          "output_type": "execute_result",
          "data": {
            "text/plain": [
              "   epoch  condition                                                 Fz  \\\n",
              "0      0          0  [0.0008037215, 0.0815292189, 0.1903349691, 0.2...   \n",
              "1      1          0  [0.0565051934, -0.1043749771, -0.2030341222, -...   \n",
              "2      2          0  [0.9549364583000001, 0.8849270548, 0.853716113...   \n",
              "3      3          0  [-0.4681590855, -0.4007133684, -0.289481526000...   \n",
              "4      4          1  [-0.5178229191, -0.5338781233000001, -0.542303...   \n",
              "\n",
              "                                                  C3  \\\n",
              "0  [-0.0354806138, -0.0402267625, -0.025918934100...   \n",
              "1  [0.28382840260000003, 0.2751959066, 0.30554853...   \n",
              "2  [0.5969822345, 0.6780565207, 0.6815831723, 0.5...   \n",
              "3  [0.6830797544, 0.7110553063, 0.700722273, 0.64...   \n",
              "4  [-0.4064988799, -0.4673856038, -0.495266728500...   \n",
              "\n",
              "                                                  Cz  \\\n",
              "0  [1.2079755061, 1.1997424097, 1.1384106932, 1.0...   \n",
              "1  [1.6889450958999999, 1.2034051054, 0.883378228...   \n",
              "2  [1.790019948, 1.4886599328, 1.1558435656000001...   \n",
              "3  [-0.6042769627, -0.43161978030000003, -0.32656...   \n",
              "4  [0.0759927365, 0.032683769, -0.061223361000000...   \n",
              "\n",
              "                                                  C4  \\\n",
              "0  [-0.9933329351, -0.7627846224, -0.457322514900...   \n",
              "1  [0.31041258800000004, 0.4915010637, 0.59487942...   \n",
              "2  [0.2877611178, 0.3901774518, 0.4871341823, 0.5...   \n",
              "3  [-1.8472369684, -1.8040627868999999, -1.700912...   \n",
              "4  [0.5240188341, 0.7349614393, 0.8933296425, 0.9...   \n",
              "\n",
              "                                                  Pz  \\\n",
              "0  [0.27907707860000003, 0.2134605768, 0.07743959...   \n",
              "1  [0.11432276770000001, 0.217928116, 0.283403069...   \n",
              "2  [-0.7168209143000001, -0.8028761675, -0.848389...   \n",
              "3  [0.43763839920000003, 0.3444413381, 0.21234344...   \n",
              "4  [0.5004560176, 0.4167412558, 0.2908421639, 0.1...   \n",
              "\n",
              "                                                 PO7  \\\n",
              "0  [-0.9221044471000001, -1.0992268133, -1.254985...   \n",
              "1  [-1.2272155366, -1.0431844936, -0.9425910211, ...   \n",
              "2  [-2.2965988261, -1.9626064741, -1.567119423399...   \n",
              "3  [2.1946599362, 2.0902168705, 1.978128287200000...   \n",
              "4  [-0.014428586600000001, -0.1247274361, -0.1952...   \n",
              "\n",
              "                                                  Oz  \\\n",
              "0  [0.5921590206, 0.5064987129, 0.3957207864, 0.2...   \n",
              "1  [-0.4610306826, -0.3391225015, -0.2695762826, ...   \n",
              "2  [-0.5044859566000001, -0.5009389778000001, -0....   \n",
              "3  [-0.024563356600000003, -0.1067953604, -0.1762...   \n",
              "4  [-0.09828970370000001, -0.0501661434, 0.019342...   \n",
              "\n",
              "                                                 PO8  \n",
              "0  [-0.1290973307, -0.0989927201, -0.0636789098, ...  \n",
              "1  [-0.7657678284, -0.7013482195, -0.6520078263, ...  \n",
              "2  [-0.1117940615, -0.1753993408, -0.2642431052, ...  \n",
              "3  [-0.3711417165, -0.4025222189, -0.397964057700...  \n",
              "4  [-0.0634274989, -0.0082291576, 0.0905233106, 0...  "
            ],
            "text/html": [
              "\n",
              "  <div id=\"df-fbf0d57b-11e4-466e-952f-d63ce058948d\">\n",
              "    <div class=\"colab-df-container\">\n",
              "      <div>\n",
              "<style scoped>\n",
              "    .dataframe tbody tr th:only-of-type {\n",
              "        vertical-align: middle;\n",
              "    }\n",
              "\n",
              "    .dataframe tbody tr th {\n",
              "        vertical-align: top;\n",
              "    }\n",
              "\n",
              "    .dataframe thead th {\n",
              "        text-align: right;\n",
              "    }\n",
              "</style>\n",
              "<table border=\"1\" class=\"dataframe\">\n",
              "  <thead>\n",
              "    <tr style=\"text-align: right;\">\n",
              "      <th></th>\n",
              "      <th>epoch</th>\n",
              "      <th>condition</th>\n",
              "      <th>Fz</th>\n",
              "      <th>C3</th>\n",
              "      <th>Cz</th>\n",
              "      <th>C4</th>\n",
              "      <th>Pz</th>\n",
              "      <th>PO7</th>\n",
              "      <th>Oz</th>\n",
              "      <th>PO8</th>\n",
              "    </tr>\n",
              "  </thead>\n",
              "  <tbody>\n",
              "    <tr>\n",
              "      <th>0</th>\n",
              "      <td>0</td>\n",
              "      <td>0</td>\n",
              "      <td>[0.0008037215, 0.0815292189, 0.1903349691, 0.2...</td>\n",
              "      <td>[-0.0354806138, -0.0402267625, -0.025918934100...</td>\n",
              "      <td>[1.2079755061, 1.1997424097, 1.1384106932, 1.0...</td>\n",
              "      <td>[-0.9933329351, -0.7627846224, -0.457322514900...</td>\n",
              "      <td>[0.27907707860000003, 0.2134605768, 0.07743959...</td>\n",
              "      <td>[-0.9221044471000001, -1.0992268133, -1.254985...</td>\n",
              "      <td>[0.5921590206, 0.5064987129, 0.3957207864, 0.2...</td>\n",
              "      <td>[-0.1290973307, -0.0989927201, -0.0636789098, ...</td>\n",
              "    </tr>\n",
              "    <tr>\n",
              "      <th>1</th>\n",
              "      <td>1</td>\n",
              "      <td>0</td>\n",
              "      <td>[0.0565051934, -0.1043749771, -0.2030341222, -...</td>\n",
              "      <td>[0.28382840260000003, 0.2751959066, 0.30554853...</td>\n",
              "      <td>[1.6889450958999999, 1.2034051054, 0.883378228...</td>\n",
              "      <td>[0.31041258800000004, 0.4915010637, 0.59487942...</td>\n",
              "      <td>[0.11432276770000001, 0.217928116, 0.283403069...</td>\n",
              "      <td>[-1.2272155366, -1.0431844936, -0.9425910211, ...</td>\n",
              "      <td>[-0.4610306826, -0.3391225015, -0.2695762826, ...</td>\n",
              "      <td>[-0.7657678284, -0.7013482195, -0.6520078263, ...</td>\n",
              "    </tr>\n",
              "    <tr>\n",
              "      <th>2</th>\n",
              "      <td>2</td>\n",
              "      <td>0</td>\n",
              "      <td>[0.9549364583000001, 0.8849270548, 0.853716113...</td>\n",
              "      <td>[0.5969822345, 0.6780565207, 0.6815831723, 0.5...</td>\n",
              "      <td>[1.790019948, 1.4886599328, 1.1558435656000001...</td>\n",
              "      <td>[0.2877611178, 0.3901774518, 0.4871341823, 0.5...</td>\n",
              "      <td>[-0.7168209143000001, -0.8028761675, -0.848389...</td>\n",
              "      <td>[-2.2965988261, -1.9626064741, -1.567119423399...</td>\n",
              "      <td>[-0.5044859566000001, -0.5009389778000001, -0....</td>\n",
              "      <td>[-0.1117940615, -0.1753993408, -0.2642431052, ...</td>\n",
              "    </tr>\n",
              "    <tr>\n",
              "      <th>3</th>\n",
              "      <td>3</td>\n",
              "      <td>0</td>\n",
              "      <td>[-0.4681590855, -0.4007133684, -0.289481526000...</td>\n",
              "      <td>[0.6830797544, 0.7110553063, 0.700722273, 0.64...</td>\n",
              "      <td>[-0.6042769627, -0.43161978030000003, -0.32656...</td>\n",
              "      <td>[-1.8472369684, -1.8040627868999999, -1.700912...</td>\n",
              "      <td>[0.43763839920000003, 0.3444413381, 0.21234344...</td>\n",
              "      <td>[2.1946599362, 2.0902168705, 1.978128287200000...</td>\n",
              "      <td>[-0.024563356600000003, -0.1067953604, -0.1762...</td>\n",
              "      <td>[-0.3711417165, -0.4025222189, -0.397964057700...</td>\n",
              "    </tr>\n",
              "    <tr>\n",
              "      <th>4</th>\n",
              "      <td>4</td>\n",
              "      <td>1</td>\n",
              "      <td>[-0.5178229191, -0.5338781233000001, -0.542303...</td>\n",
              "      <td>[-0.4064988799, -0.4673856038, -0.495266728500...</td>\n",
              "      <td>[0.0759927365, 0.032683769, -0.061223361000000...</td>\n",
              "      <td>[0.5240188341, 0.7349614393, 0.8933296425, 0.9...</td>\n",
              "      <td>[0.5004560176, 0.4167412558, 0.2908421639, 0.1...</td>\n",
              "      <td>[-0.014428586600000001, -0.1247274361, -0.1952...</td>\n",
              "      <td>[-0.09828970370000001, -0.0501661434, 0.019342...</td>\n",
              "      <td>[-0.0634274989, -0.0082291576, 0.0905233106, 0...</td>\n",
              "    </tr>\n",
              "  </tbody>\n",
              "</table>\n",
              "</div>\n",
              "      <button class=\"colab-df-convert\" onclick=\"convertToInteractive('df-fbf0d57b-11e4-466e-952f-d63ce058948d')\"\n",
              "              title=\"Convert this dataframe to an interactive table.\"\n",
              "              style=\"display:none;\">\n",
              "        \n",
              "  <svg xmlns=\"http://www.w3.org/2000/svg\" height=\"24px\"viewBox=\"0 0 24 24\"\n",
              "       width=\"24px\">\n",
              "    <path d=\"M0 0h24v24H0V0z\" fill=\"none\"/>\n",
              "    <path d=\"M18.56 5.44l.94 2.06.94-2.06 2.06-.94-2.06-.94-.94-2.06-.94 2.06-2.06.94zm-11 1L8.5 8.5l.94-2.06 2.06-.94-2.06-.94L8.5 2.5l-.94 2.06-2.06.94zm10 10l.94 2.06.94-2.06 2.06-.94-2.06-.94-.94-2.06-.94 2.06-2.06.94z\"/><path d=\"M17.41 7.96l-1.37-1.37c-.4-.4-.92-.59-1.43-.59-.52 0-1.04.2-1.43.59L10.3 9.45l-7.72 7.72c-.78.78-.78 2.05 0 2.83L4 21.41c.39.39.9.59 1.41.59.51 0 1.02-.2 1.41-.59l7.78-7.78 2.81-2.81c.8-.78.8-2.07 0-2.86zM5.41 20L4 18.59l7.72-7.72 1.47 1.35L5.41 20z\"/>\n",
              "  </svg>\n",
              "      </button>\n",
              "      \n",
              "  <style>\n",
              "    .colab-df-container {\n",
              "      display:flex;\n",
              "      flex-wrap:wrap;\n",
              "      gap: 12px;\n",
              "    }\n",
              "\n",
              "    .colab-df-convert {\n",
              "      background-color: #E8F0FE;\n",
              "      border: none;\n",
              "      border-radius: 50%;\n",
              "      cursor: pointer;\n",
              "      display: none;\n",
              "      fill: #1967D2;\n",
              "      height: 32px;\n",
              "      padding: 0 0 0 0;\n",
              "      width: 32px;\n",
              "    }\n",
              "\n",
              "    .colab-df-convert:hover {\n",
              "      background-color: #E2EBFA;\n",
              "      box-shadow: 0px 1px 2px rgba(60, 64, 67, 0.3), 0px 1px 3px 1px rgba(60, 64, 67, 0.15);\n",
              "      fill: #174EA6;\n",
              "    }\n",
              "\n",
              "    [theme=dark] .colab-df-convert {\n",
              "      background-color: #3B4455;\n",
              "      fill: #D2E3FC;\n",
              "    }\n",
              "\n",
              "    [theme=dark] .colab-df-convert:hover {\n",
              "      background-color: #434B5C;\n",
              "      box-shadow: 0px 1px 3px 1px rgba(0, 0, 0, 0.15);\n",
              "      filter: drop-shadow(0px 1px 2px rgba(0, 0, 0, 0.3));\n",
              "      fill: #FFFFFF;\n",
              "    }\n",
              "  </style>\n",
              "\n",
              "      <script>\n",
              "        const buttonEl =\n",
              "          document.querySelector('#df-fbf0d57b-11e4-466e-952f-d63ce058948d button.colab-df-convert');\n",
              "        buttonEl.style.display =\n",
              "          google.colab.kernel.accessAllowed ? 'block' : 'none';\n",
              "\n",
              "        async function convertToInteractive(key) {\n",
              "          const element = document.querySelector('#df-fbf0d57b-11e4-466e-952f-d63ce058948d');\n",
              "          const dataTable =\n",
              "            await google.colab.kernel.invokeFunction('convertToInteractive',\n",
              "                                                     [key], {});\n",
              "          if (!dataTable) return;\n",
              "\n",
              "          const docLinkHtml = 'Like what you see? Visit the ' +\n",
              "            '<a target=\"_blank\" href=https://colab.research.google.com/notebooks/data_table.ipynb>data table notebook</a>'\n",
              "            + ' to learn more about interactive tables.';\n",
              "          element.innerHTML = '';\n",
              "          dataTable['output_type'] = 'display_data';\n",
              "          await google.colab.output.renderOutput(dataTable, element);\n",
              "          const docLink = document.createElement('div');\n",
              "          docLink.innerHTML = docLinkHtml;\n",
              "          element.appendChild(docLink);\n",
              "        }\n",
              "      </script>\n",
              "    </div>\n",
              "  </div>\n",
              "  "
            ]
          },
          "metadata": {},
          "execution_count": 3
        }
      ],
      "source": [
        "subject = \"S1\"\n",
        "file_path = os.path.join(path_mount, path_data, subject)\n",
        "df = pd.read_json(file_path + \"_eeg.json\")\n",
        "df.head()"
      ]
    },
    {
      "cell_type": "markdown",
      "metadata": {
        "id": "JetFFoQuKmnf"
      },
      "source": [
        "*Costruzione matrice della features*"
      ]
    },
    {
      "cell_type": "markdown",
      "metadata": {
        "id": "TA3_rpyGrCk1"
      },
      "source": [
        "`X` è la matrice delle *features* di dimensione 1200 x 2808 in cui vengono salvati i dati dopo essere stati standardizzati. In `y` sono inserite le *label* dei dati."
      ]
    },
    {
      "cell_type": "code",
      "execution_count": null,
      "metadata": {
        "id": "JKGzYnzDnE66"
      },
      "outputs": [],
      "source": [
        "unicorn_channels = [\"Fz\", \"C3\", \"Cz\", \"C4\", \"Pz\", \"PO7\", \"Oz\", \"PO8\"]\n",
        "pot = df[unicorn_channels].to_numpy()\n",
        "\n",
        "s = np.zeros(1)\n",
        "X = np.zeros(2808)\n",
        "\n",
        "for i in range(pot.shape[0]):\n",
        "  for j in range(pot.shape[1]):\n",
        "    temp = np.array(pot[i,j])\n",
        "    temp = (temp - np.mean(temp)) / np.std(temp)\n",
        "\n",
        "    s = np.append(s, temp)\n",
        "\n",
        "  X = np.vstack((X, s[1:]))\n",
        "  s = np.zeros(1)\n",
        "\n",
        "y = df.condition.to_numpy()"
      ]
    },
    {
      "cell_type": "code",
      "execution_count": null,
      "metadata": {
        "colab": {
          "base_uri": "https://localhost:8080/"
        },
        "id": "LV9EOD4CG2Qj",
        "outputId": "83f330f0-4655-4673-838f-cd6f672ff919"
      },
      "outputs": [
        {
          "output_type": "execute_result",
          "data": {
            "text/plain": [
              "(962, 2808)"
            ]
          },
          "metadata": {},
          "execution_count": 5
        }
      ],
      "source": [
        "X = X[1:,:]\n",
        "X.shape"
      ]
    },
    {
      "cell_type": "code",
      "execution_count": null,
      "metadata": {
        "colab": {
          "base_uri": "https://localhost:8080/"
        },
        "id": "z8T1ZcxQxkcD",
        "outputId": "4314a0a9-a5eb-4f57-ac5b-b0b0f6c6623a"
      },
      "outputs": [
        {
          "output_type": "execute_result",
          "data": {
            "text/plain": [
              "(962,)"
            ]
          },
          "metadata": {},
          "execution_count": 6
        }
      ],
      "source": [
        "y.shape"
      ]
    },
    {
      "cell_type": "markdown",
      "metadata": {
        "id": "54DTPCAMK8Vq"
      },
      "source": [
        "*Suddivisione dei dati tra set di training, set di validazione e set di test*"
      ]
    },
    {
      "cell_type": "markdown",
      "metadata": {
        "id": "Z_DrIgMu4A4y"
      },
      "source": [
        "Il dataset viene suddiviso in:\n",
        "\n",
        "\n",
        "*   `X_train` e `y_train`: dataset di training;\n",
        "*   `X_test` e `y_test`: dataset di test contenente il 20% dei dati originali;\n",
        "*   `X_val` e `y_val`: dataset di test di validazione, che contiene il 20% dei dati di training.\n"
      ]
    },
    {
      "cell_type": "code",
      "execution_count": null,
      "metadata": {
        "id": "TjBYn18GLu9j"
      },
      "outputs": [],
      "source": [
        "from sklearn.model_selection import train_test_split\n",
        "from collections import Counter\n",
        "\n",
        "# Suddivisione del dataset in set di training e test\n",
        "X_train, X_test, y_train, y_test = train_test_split(X, y, test_size = 0.2, random_state = 42, stratify = y)\n",
        "\n",
        "# Suddivisione del dataset in set di training e validazione\n",
        "X_train_original, X_val, y_train_original, y_val = train_test_split(X_train, y_train, test_size = 0.2, random_state = 42, stratify = y_train)"
      ]
    },
    {
      "cell_type": "code",
      "execution_count": null,
      "metadata": {
        "id": "-h8zAbyJux0p"
      },
      "outputs": [],
      "source": [
        "X_train = X_train_original\n",
        "y_train = y_train_original"
      ]
    },
    {
      "cell_type": "markdown",
      "metadata": {
        "id": "xJEgbhZm49_h"
      },
      "source": [
        "Il dataset di training risulta essere fortemente sbilanciato: i dati con label *Non-Target* (NT) sono superiori di quelli *Target* (T)."
      ]
    },
    {
      "cell_type": "code",
      "execution_count": null,
      "metadata": {
        "colab": {
          "base_uri": "https://localhost:8080/"
        },
        "id": "GmMrNZKh0Lvk",
        "outputId": "6d7ac7e0-71bc-4bd0-81aa-71e015883e2c"
      },
      "outputs": [
        {
          "output_type": "stream",
          "name": "stdout",
          "text": [
            "La parecentuale di dati di training NT è  87.64227642276423 % e quella di T è 12.357723577235774 %. E in termini assoluti: Counter({0: 539, 1: 76})\n"
          ]
        }
      ],
      "source": [
        "class_counter = Counter(y_train)\n",
        "first_class, count = class_counter.most_common(1)[0]\n",
        "NT_perc = (count/ len(y_train)) * 100\n",
        "print(\"La parecentuale di dati di training NT è \", NT_perc, \"% e quella di T è\", 100 - NT_perc , \"%. E in termini assoluti:\", class_counter)"
      ]
    },
    {
      "cell_type": "markdown",
      "metadata": {
        "id": "MyVeDQhBKqve"
      },
      "source": [
        "## **Model selection**"
      ]
    },
    {
      "cell_type": "code",
      "execution_count": null,
      "metadata": {
        "id": "BlqLN6GoL-Ph"
      },
      "outputs": [],
      "source": [
        "from sklearn import model_selection\n",
        "from sklearn.model_selection import GridSearchCV, StratifiedKFold, cross_val_score\n",
        "from sklearn.metrics import roc_auc_score, accuracy_score, f1_score, precision_score, recall_score, confusion_matrix, ConfusionMatrixDisplay\n",
        "import seaborn as sns\n",
        "\n",
        "cv = StratifiedKFold(n_splits = 10, shuffle = True, random_state = 42)"
      ]
    },
    {
      "cell_type": "markdown",
      "metadata": {
        "id": "vZVDnkz6ATX-"
      },
      "source": [
        "La fase di *model selection* è strutturata come segue:\n",
        "\n",
        "\n",
        "1.   Ogni modello è allenato con il dataset di training;\n",
        "2.   Si stima il `roc_auc` score su *10 Fold Cross Validation*;\n",
        "3.   Si utilizza `grid_search` per individuare gli iperparametri che consentono di ottimizzare il modello;\n",
        "4.   Si valutano le prestazioni del *best model* con diversi score e si produce la *Confusion Matrix*.\n",
        "\n"
      ]
    },
    {
      "cell_type": "markdown",
      "metadata": {
        "id": "RZIMT57HhL7p"
      },
      "source": [
        "Gli score utillizati in questa sezione sono:\n",
        "\n",
        "\n",
        "*   **ROC AUC** (Receiver Operating Characteristic Area Under the Curve): la curva ROC rappresenta la relazione tra il tasso di veri positivi (True Positive Rate, TPR) e il tasso di falsi positivi (False Positive Rate, FPR) al variare della soglia di classificazione. L'area sotto la curva ROC (AUC) fornisce una stima complessiva delle prestazioni del classificatore, dove un valore più vicino a 1 indica una migliore capacità di classificazione.\n",
        "\n",
        "*   **Accuracy** (Accuratezza): è una misura della percentuale di previsioni corrette rispetto al numero totale di previsioni. È un indicatore generale delle prestazioni del classificatore, calcolato come il rapporto tra il numero di previsioni corrette e il numero totale di campioni.\n",
        "\n",
        "*   **F1-score**: combina la precisione e il richiamo (recall) del classificatore. È utile quando ci interessa un equilibrio tra precisione e richiamo. L'F1-score è il valore medio armonico di precisione e richiamo ed è calcolato come: 2 * (precision * recall) / (precision + recall). Assume valori compresi tra 0 e 1, dove 1 indica il miglior punteggio possibile.\n",
        "\n",
        "*   **Precision** (Precisione): la proporzione di istanze positive correttamente identificate rispetto a tutte le istanze identificate come positive dal classificatore. È calcolata come il rapporto tra i veri positivi e la somma dei veri positivi e dei falsi positivi.\n",
        "\n",
        "*   **Recall** (Richiamo): la proporzione di istanze positive correttamente identificate rispetto al numero totale di istanze positive effettive. È calcolato come il rapporto tra i veri positivi e la somma dei veri positivi e dei falsi negativi.\n",
        "\n",
        "\n"
      ]
    },
    {
      "cell_type": "markdown",
      "metadata": {
        "id": "8jmwzwkj6dgN"
      },
      "source": [
        "La *Confusion Matrix* è una matrice 2 x 2, dove le righe rappresentano le etichette di classe reali e le colonne rappresentano le previsioni del modello. Gli scenari possibili sono quattro: True Positive (TP), False Negative (FN), True negative (TN) e False positive (FP).\n",
        "\n",
        "Ecco un esempio di com'è strutturata una confusion matrix:\n",
        "\n",
        "\n",
        "```\n",
        "               | Predetto Positivo | Predetto Negativo |\n",
        "-------------------------------------------------------\n",
        "Vero Positivo  |       TP          |       FN          |\n",
        "-------------------------------------------------------\n",
        "Vero Negativo  |       FP          |       TN          |\n",
        "```\n",
        "Se il modello funziona bene i valori lungo la diagonale saranno più elevati delle altre caselle.\n"
      ]
    },
    {
      "cell_type": "markdown",
      "metadata": {
        "id": "CHVKUpXrCkSr"
      },
      "source": [
        "Per poter fare delle considerazioni aggiuntive sulle prestazioni di ogni modello su dati *unbalanced* e *balanced* i valori di ciscuna metrica vengono salvati all'interno della matrice `S1_result`."
      ]
    },
    {
      "cell_type": "code",
      "execution_count": null,
      "metadata": {
        "id": "rw-cJz0-1m9-"
      },
      "outputs": [],
      "source": [
        "from sklearn.linear_model import LogisticRegression\n",
        "from sklearn.ensemble import RandomForestClassifier\n",
        "from sklearn.naive_bayes import MultinomialNB,ComplementNB\n",
        "from sklearn.svm import SVC\n",
        "from sklearn.discriminant_analysis import LinearDiscriminantAnalysis"
      ]
    },
    {
      "cell_type": "markdown",
      "metadata": {
        "id": "gmCANThUKvFm"
      },
      "source": [
        "### **S1 (88% vs 12%) 1. Logistic Regression**"
      ]
    },
    {
      "cell_type": "code",
      "execution_count": null,
      "metadata": {
        "colab": {
          "base_uri": "https://localhost:8080/"
        },
        "id": "hCS5N1OcCerk",
        "outputId": "a8878a48-89a1-4bcf-a193-f255177f7fd3"
      },
      "outputs": [
        {
          "output_type": "stream",
          "name": "stdout",
          "text": [
            "ROC (cross-validation):  0.950635794149945\n"
          ]
        }
      ],
      "source": [
        "LR = LogisticRegression(max_iter = 1000)\n",
        "\n",
        "scores = cross_val_score(LR, X_train, y_train, cv = cv, scoring = 'roc_auc')\n",
        "ROC_mean = scores.mean()\n",
        "print(\"ROC (cross-validation): \", ROC_mean)"
      ]
    },
    {
      "cell_type": "code",
      "source": [
        "np.linspace(0.001, 10, 100)"
      ],
      "metadata": {
        "colab": {
          "base_uri": "https://localhost:8080/"
        },
        "id": "L7bXKZURmn01",
        "outputId": "94042068-19d3-4c66-fc23-7ae1c8b1f12b"
      },
      "execution_count": null,
      "outputs": [
        {
          "output_type": "execute_result",
          "data": {
            "text/plain": [
              "array([1.000e-03, 1.020e-01, 2.030e-01, 3.040e-01, 4.050e-01, 5.060e-01,\n",
              "       6.070e-01, 7.080e-01, 8.090e-01, 9.100e-01, 1.011e+00, 1.112e+00,\n",
              "       1.213e+00, 1.314e+00, 1.415e+00, 1.516e+00, 1.617e+00, 1.718e+00,\n",
              "       1.819e+00, 1.920e+00, 2.021e+00, 2.122e+00, 2.223e+00, 2.324e+00,\n",
              "       2.425e+00, 2.526e+00, 2.627e+00, 2.728e+00, 2.829e+00, 2.930e+00,\n",
              "       3.031e+00, 3.132e+00, 3.233e+00, 3.334e+00, 3.435e+00, 3.536e+00,\n",
              "       3.637e+00, 3.738e+00, 3.839e+00, 3.940e+00, 4.041e+00, 4.142e+00,\n",
              "       4.243e+00, 4.344e+00, 4.445e+00, 4.546e+00, 4.647e+00, 4.748e+00,\n",
              "       4.849e+00, 4.950e+00, 5.051e+00, 5.152e+00, 5.253e+00, 5.354e+00,\n",
              "       5.455e+00, 5.556e+00, 5.657e+00, 5.758e+00, 5.859e+00, 5.960e+00,\n",
              "       6.061e+00, 6.162e+00, 6.263e+00, 6.364e+00, 6.465e+00, 6.566e+00,\n",
              "       6.667e+00, 6.768e+00, 6.869e+00, 6.970e+00, 7.071e+00, 7.172e+00,\n",
              "       7.273e+00, 7.374e+00, 7.475e+00, 7.576e+00, 7.677e+00, 7.778e+00,\n",
              "       7.879e+00, 7.980e+00, 8.081e+00, 8.182e+00, 8.283e+00, 8.384e+00,\n",
              "       8.485e+00, 8.586e+00, 8.687e+00, 8.788e+00, 8.889e+00, 8.990e+00,\n",
              "       9.091e+00, 9.192e+00, 9.293e+00, 9.394e+00, 9.495e+00, 9.596e+00,\n",
              "       9.697e+00, 9.798e+00, 9.899e+00, 1.000e+01])"
            ]
          },
          "metadata": {},
          "execution_count": 13
        }
      ]
    },
    {
      "cell_type": "code",
      "execution_count": null,
      "metadata": {
        "colab": {
          "base_uri": "https://localhost:8080/",
          "height": 566
        },
        "id": "0maDYq0hMbBO",
        "outputId": "38d670ff-cdfb-4430-a4e9-02de51df4830"
      },
      "outputs": [
        {
          "output_type": "stream",
          "name": "stdout",
          "text": [
            "Migliori parametri: {'C': 0.10200000000000001}\n",
            "ROC AUC: 0.9150097465886939\n",
            "Accuracy: 0.9025974025974026\n",
            "F1-score: 0.5945945945945946\n",
            "Precision: 0.6111111111111112\n",
            "Recall: 0.5789473684210527\n",
            "CPU times: user 2min 32s, sys: 45.1 s, total: 3min 17s\n",
            "Wall time: 1min 53s\n"
          ]
        },
        {
          "output_type": "display_data",
          "data": {
            "text/plain": [
              "<Figure size 640x480 with 2 Axes>"
            ],
            "image/png": "[encoded data removed]"
          },
          "metadata": {}
        }
      ],
      "source": [
        "%%time\n",
        "parameters = {'C': np.linspace(0.001, 10, 100)}\n",
        "grid_search = GridSearchCV(LR, parameters, cv = cv, scoring = 'roc_auc')\n",
        "\n",
        "# Grid search sul training set\n",
        "grid_search.fit(X_train, y_train)\n",
        "\n",
        "LR.C = grid_search.best_params_['C']\n",
        "\n",
        "# Addestro il modello con il miglior parametro\n",
        "LR.fit(X_train, y_train)\n",
        "\n",
        "# Predizioni sul set di validazione\n",
        "y_pred_prob = LR.predict_proba(X_val)[0:,1]\n",
        "y_pred = LR.predict(X_val)\n",
        "\n",
        "roc_auc = roc_auc_score(y_val, y_pred_prob)\n",
        "accuracy = accuracy_score(y_val, y_pred)\n",
        "f1 = f1_score(y_val, y_pred)\n",
        "precision = precision_score(y_val, y_pred)\n",
        "recall = recall_score(y_val, y_pred)\n",
        "\n",
        "cf_matrix = confusion_matrix(y_val, y_pred, labels = LR.classes_)\n",
        "\n",
        "cf_ = cf_matrix.copy().astype(float)\n",
        "\n",
        "for j in range(2):\n",
        "  for i in range(2):\n",
        "    cf_[i,j] = (float(cf_matrix[i,j]) / float(np.sum(cf_matrix[:,j]) + 1e-5))\n",
        "\n",
        "sns.heatmap(cf_, annot = True, fmt = '.2%', cmap = 'coolwarm')\n",
        "\n",
        "print(\"Migliori parametri:\", grid_search.best_params_)\n",
        "print(\"ROC AUC:\", roc_auc)\n",
        "print(\"Accuracy:\", accuracy)\n",
        "print(\"F1-score:\", f1)\n",
        "print(\"Precision:\", precision)\n",
        "print(\"Recall:\", recall)"
      ]
    },
    {
      "cell_type": "code",
      "execution_count": null,
      "metadata": {
        "id": "fsWH2Ys1pfM8"
      },
      "outputs": [],
      "source": [
        "metrics = np.array(roc_auc)\n",
        "metrics = np.append(metrics, accuracy)\n",
        "metrics = np.append(metrics, f1)\n",
        "metrics = np.append(metrics, precision)\n",
        "metrics = np.append(metrics, recall)"
      ]
    },
    {
      "cell_type": "code",
      "execution_count": null,
      "metadata": {
        "id": "pcw5QErcqxfe"
      },
      "outputs": [],
      "source": [
        "S1_result = metrics"
      ]
    },
    {
      "cell_type": "markdown",
      "metadata": {
        "id": "v7QBfZMONG9N"
      },
      "source": [
        "### **S1 (88% vs 12%) 2. Random Forest**"
      ]
    },
    {
      "cell_type": "code",
      "execution_count": null,
      "metadata": {
        "colab": {
          "base_uri": "https://localhost:8080/"
        },
        "id": "w5k3B2yxNjtU",
        "outputId": "ad76a015-cfb8-4023-f2e1-212e3f6ffd87"
      },
      "outputs": [
        {
          "output_type": "stream",
          "name": "stdout",
          "text": [
            "ROC score medio (cross validation):  0.8718453628830988\n",
            "CPU times: user 14min 28s, sys: 970 ms, total: 14min 29s\n",
            "Wall time: 14min 33s\n"
          ]
        }
      ],
      "source": [
        "%%time\n",
        "RF = RandomForestClassifier(n_estimators = 4000, criterion = 'gini')\n",
        "\n",
        "scores = cross_val_score(RF, X_train, y_train, cv = cv, scoring = 'roc_auc')\n",
        "ROC_mean = scores.mean()\n",
        "\n",
        "print(\"ROC score medio (cross validation): \", ROC_mean)"
      ]
    },
    {
      "cell_type": "code",
      "source": [
        "np.linspace(300, 1000, 29).astype(int)"
      ],
      "metadata": {
        "colab": {
          "base_uri": "https://localhost:8080/"
        },
        "id": "wCnlwstFmzBQ",
        "outputId": "2d1767eb-285d-4ff1-df83-eaec3190e514"
      },
      "execution_count": null,
      "outputs": [
        {
          "output_type": "execute_result",
          "data": {
            "text/plain": [
              "array([ 300,  325,  350,  375,  400,  425,  450,  475,  500,  525,  550,\n",
              "        575,  600,  625,  650,  675,  700,  725,  750,  775,  800,  825,\n",
              "        850,  875,  900,  925,  950,  975, 1000])"
            ]
          },
          "metadata": {},
          "execution_count": 18
        }
      ]
    },
    {
      "cell_type": "code",
      "execution_count": null,
      "metadata": {
        "colab": {
          "base_uri": "https://localhost:8080/",
          "height": 620
        },
        "id": "Lz9Ytr61U454",
        "outputId": "8cde2dc3-8789-4657-8c7b-7725b6bcd7aa"
      },
      "outputs": [
        {
          "output_type": "stream",
          "name": "stdout",
          "text": [
            "Migliori parametri: {'n_estimators': 775}\n",
            "ROC AUC: 0.8910331384015595\n",
            "Accuracy: 0.8766233766233766\n",
            "F1-score: 0.0\n",
            "Precision: 0.0\n",
            "Recall: 0.0\n",
            "CPU times: user 1h 8min 46s, sys: 4.98 s, total: 1h 8min 51s\n",
            "Wall time: 1h 9min 11s\n"
          ]
        },
        {
          "output_type": "stream",
          "name": "stderr",
          "text": [
            "/usr/local/lib/python3.10/dist-packages/sklearn/metrics/_classification.py:1344: UndefinedMetricWarning: Precision is ill-defined and being set to 0.0 due to no predicted samples. Use `zero_division` parameter to control this behavior.\n",
            "  _warn_prf(average, modifier, msg_start, len(result))\n"
          ]
        },
        {
          "output_type": "display_data",
          "data": {
            "text/plain": [
              "<Figure size 640x480 with 2 Axes>"
            ],
            "image/png": "[encoded data removed]"
          },
          "metadata": {}
        }
      ],
      "source": [
        "%%time\n",
        "parameters = {'n_estimators': np.linspace(300, 1000, 29).astype(int)}\n",
        "\n",
        "grid_search = GridSearchCV(RF, parameters, cv = cv, scoring = 'roc_auc')\n",
        "\n",
        "# Grid search sul training set\n",
        "grid_search.fit(X_train, y_train)\n",
        "\n",
        "RF.n_estimators = grid_search.best_params_['n_estimators']\n",
        "\n",
        "# Addestro il modello con il miglior parametro\n",
        "RF.fit(X_train, y_train)\n",
        "\n",
        "# Predizioni sul set di validazione\n",
        "y_pred_prob = RF.predict_proba(X_val)[0:,1]\n",
        "y_pred = RF.predict(X_val)\n",
        "\n",
        "roc_auc = roc_auc_score(y_val, y_pred_prob)\n",
        "accuracy = accuracy_score(y_val, y_pred)\n",
        "f1 = f1_score(y_val, y_pred)\n",
        "precision = precision_score(y_val, y_pred)\n",
        "recall = recall_score(y_val, y_pred)\n",
        "\n",
        "cf_matrix = confusion_matrix(y_val, y_pred, labels = RF.classes_)\n",
        "\n",
        "cf_ = cf_matrix.copy().astype(float)\n",
        "\n",
        "for j in range(2):\n",
        "  for i in range(2):\n",
        "    cf_[i,j] = (float(cf_matrix[i,j]) / (float(np.sum(cf_matrix[:,j])) + 1e-5))\n",
        "\n",
        "sns.heatmap(cf_, annot = True, fmt = '.2%', cmap = 'coolwarm')\n",
        "\n",
        "print(\"Migliori parametri:\", grid_search.best_params_)\n",
        "print(\"ROC AUC:\", roc_auc)\n",
        "print(\"Accuracy:\", accuracy)\n",
        "print(\"F1-score:\", f1)\n",
        "print(\"Precision:\", precision)\n",
        "print(\"Recall:\", recall)"
      ]
    },
    {
      "cell_type": "code",
      "execution_count": null,
      "metadata": {
        "id": "dTquGX7GqYDK"
      },
      "outputs": [],
      "source": [
        "metrics = np.array(roc_auc)\n",
        "metrics = np.append(metrics, accuracy)\n",
        "metrics = np.append(metrics, f1)\n",
        "metrics = np.append(metrics, precision)\n",
        "metrics = np.append(metrics, recall)\n",
        "\n",
        "S1_result = np.vstack((S1_result, metrics))"
      ]
    },
    {
      "cell_type": "markdown",
      "metadata": {
        "id": "n584zO6BXzky"
      },
      "source": [
        "### **S1 (88% vs 12%) 3. Naive Bayes**"
      ]
    },
    {
      "cell_type": "markdown",
      "metadata": {
        "id": "yRHgmtq0lzrp"
      },
      "source": [
        "Il modello Naive Bayes prende come input solo dati positivi, pertanto è necessario traslare i dati come segue."
      ]
    },
    {
      "cell_type": "code",
      "execution_count": null,
      "metadata": {
        "id": "aaEfHHHIYV6o"
      },
      "outputs": [],
      "source": [
        "s = np.zeros(1)\n",
        "X_bayes = np.zeros(2808)\n",
        "\n",
        "for i in range(pot.shape[0]):\n",
        "  for j in range(pot.shape[1]):\n",
        "    temp = np.array(pot[i,j])\n",
        "    temp = (temp - np.mean(temp)) / np.std(temp)\n",
        "    temp = temp - np.min(temp)\n",
        "\n",
        "    s = np.append(s, temp)\n",
        "\n",
        "  X_bayes = np.vstack((X_bayes, s[1:]))\n",
        "  s = np.zeros(1)\n",
        "\n",
        "\n",
        "X_bayes = X_bayes[1:,:]\n",
        "y_bayes = df.condition.to_numpy()"
      ]
    },
    {
      "cell_type": "code",
      "execution_count": null,
      "metadata": {
        "colab": {
          "base_uri": "https://localhost:8080/"
        },
        "id": "vUi0nIacb2u7",
        "outputId": "915671c2-7026-42dd-aa5c-b7d06a1fc2af"
      },
      "outputs": [
        {
          "output_type": "stream",
          "name": "stdout",
          "text": [
            "(962, 2808) (962,)\n"
          ]
        }
      ],
      "source": [
        "print(X_bayes.shape, y_bayes.shape)"
      ]
    },
    {
      "cell_type": "code",
      "execution_count": null,
      "metadata": {
        "id": "8Lyy4D5Qalyr"
      },
      "outputs": [],
      "source": [
        "# Suddivisione del dataset in set di training e test\n",
        "X_bayes_train, X_bayes_test, y_bayes_train, y_bayes_test = train_test_split(X_bayes, y_bayes, test_size = 0.2, random_state = 42, stratify = y_bayes)\n",
        "\n",
        "# Suddivisione del dataset in set di training e validazione\n",
        "X_bayes_train_original, X_bayes_val, y_bayes_train_original, y_bayes_val = train_test_split(X_bayes_train, y_bayes_train, test_size = 0.2, random_state = 42, stratify = y_bayes_train)"
      ]
    },
    {
      "cell_type": "code",
      "execution_count": null,
      "metadata": {
        "id": "uFOv8wY9u-aE"
      },
      "outputs": [],
      "source": [
        "X_bayes_train = X_bayes_train_original\n",
        "y_bayes_train = y_bayes_train_original"
      ]
    },
    {
      "cell_type": "markdown",
      "metadata": {
        "id": "fj_xyi0eV9aT"
      },
      "source": [
        "#### *MultiNB*"
      ]
    },
    {
      "cell_type": "code",
      "execution_count": null,
      "metadata": {
        "colab": {
          "base_uri": "https://localhost:8080/"
        },
        "id": "hgbkhzQiVOuN",
        "outputId": "e7ff7da3-8265-4bb7-877b-467f8be37a8e"
      },
      "outputs": [
        {
          "output_type": "stream",
          "name": "stdout",
          "text": [
            "ROC score medio (cross-validation): 0.8603505291005291\n"
          ]
        }
      ],
      "source": [
        "Multi_NB = MultinomialNB()\n",
        "\n",
        "# Valutazione tramite validazione incrociata (cross-validation)\n",
        "scores = cross_val_score(Multi_NB, X_bayes_train, y_bayes_train, cv = cv, scoring = 'roc_auc')\n",
        "\n",
        "# ROC medio dei risultati\n",
        "mean_ROC = np.mean(scores)\n",
        "\n",
        "print(\"ROC score medio (cross-validation):\", mean_ROC)"
      ]
    },
    {
      "cell_type": "code",
      "execution_count": null,
      "metadata": {
        "colab": {
          "base_uri": "https://localhost:8080/",
          "height": 566
        },
        "id": "JORUjfFvVbsb",
        "outputId": "5b3e3797-3d31-4f53-d44d-14b116462cd0"
      },
      "outputs": [
        {
          "output_type": "stream",
          "name": "stdout",
          "text": [
            "Migliori parametri: {'alpha': 0.8314567805772047}\n",
            "ROC AUC: 0.8502923976608187\n",
            "Accuracy: 0.8181818181818182\n",
            "F1-score: 0.44000000000000006\n",
            "Precision: 0.3548387096774194\n",
            "Recall: 0.5789473684210527\n",
            "CPU times: user 46.7 s, sys: 24.2 s, total: 1min 10s\n",
            "Wall time: 41.3 s\n"
          ]
        },
        {
          "output_type": "display_data",
          "data": {
            "text/plain": [
              "<Figure size 640x480 with 2 Axes>"
            ],
            "image/png": "[encoded data removed]"
          },
          "metadata": {}
        }
      ],
      "source": [
        "%%time\n",
        "# GridSearchCV\n",
        "parameters = {'alpha': np.logspace(-8, 5, 500)}\n",
        "grid_search = GridSearchCV(Multi_NB, parameters, cv = cv, scoring = 'roc_auc')\n",
        "\n",
        "# grid search sul training set\n",
        "grid_search.fit(X_bayes_train, y_bayes_train)\n",
        "\n",
        "Multi_NB.alpha =  grid_search.best_params_['alpha']\n",
        "\n",
        "# Addestro il modello con il miglior parametro\n",
        "Multi_NB.fit(X_bayes_train, y_bayes_train)\n",
        "\n",
        "# Predizioni sul set di validazione\n",
        "y_pred_prob = Multi_NB.predict_proba(X_bayes_val)[:,1]\n",
        "y_pred = Multi_NB.predict(X_bayes_val)\n",
        "\n",
        "roc_auc = roc_auc_score(y_bayes_val, y_pred_prob)\n",
        "accuracy = accuracy_score(y_bayes_val, y_pred)\n",
        "f1 = f1_score(y_bayes_val, y_pred)\n",
        "precision = precision_score(y_bayes_val, y_pred)\n",
        "recall = recall_score(y_bayes_val, y_pred)\n",
        "\n",
        "cf_matrix = confusion_matrix(y_bayes_val, y_pred, labels = Multi_NB.classes_)\n",
        "\n",
        "cf_ = cf_matrix.copy().astype(float)\n",
        "\n",
        "for j in range(2):\n",
        "  for i in range(2):\n",
        "    cf_[i,j] = (float(cf_matrix[i,j]) / float(np.sum(cf_matrix[:,j]) + 1e-5))\n",
        "\n",
        "sns.heatmap(cf_, annot = True, fmt = '.2%', cmap = 'coolwarm')\n",
        "\n",
        "\n",
        "print(\"Migliori parametri:\", grid_search.best_params_)\n",
        "print(\"ROC AUC:\", roc_auc)\n",
        "print(\"Accuracy:\", accuracy)\n",
        "print(\"F1-score:\", f1)\n",
        "print(\"Precision:\", precision)\n",
        "print(\"Recall:\", recall)"
      ]
    },
    {
      "cell_type": "code",
      "execution_count": null,
      "metadata": {
        "id": "i0JSiESMuDLo"
      },
      "outputs": [],
      "source": [
        "metrics = np.array(roc_auc)\n",
        "metrics = np.append(metrics, accuracy)\n",
        "metrics = np.append(metrics, f1)\n",
        "metrics = np.append(metrics, precision)\n",
        "metrics = np.append(metrics, recall)\n",
        "\n",
        "S1_result = np.vstack((S1_result, metrics))"
      ]
    },
    {
      "cell_type": "markdown",
      "metadata": {
        "id": "E-mDL2WVV6ED"
      },
      "source": [
        "#### *Complement NB*"
      ]
    },
    {
      "cell_type": "code",
      "execution_count": null,
      "metadata": {
        "colab": {
          "base_uri": "https://localhost:8080/"
        },
        "id": "CR0Pk5G9VhRZ",
        "outputId": "b4aa33c0-4ece-4413-a22a-38a4ee68fc88"
      },
      "outputs": [
        {
          "output_type": "stream",
          "name": "stdout",
          "text": [
            "ROC Auc (cross-validation): 0.8603505291005291\n"
          ]
        }
      ],
      "source": [
        "Compl_NB = ComplementNB()\n",
        "\n",
        "# Cross-validation\n",
        "scores = cross_val_score(Compl_NB, X_bayes_train, y_bayes_train, cv = cv, scoring = 'roc_auc')\n",
        "\n",
        "# ROC medio dei risultati\n",
        "mean_ROC = np.mean(scores)\n",
        "\n",
        "print(\"ROC Auc (cross-validation):\", mean_ROC)"
      ]
    },
    {
      "cell_type": "code",
      "execution_count": null,
      "metadata": {
        "colab": {
          "base_uri": "https://localhost:8080/",
          "height": 566
        },
        "id": "_24_pHHqVpaQ",
        "outputId": "60ee51b1-f028-49f0-b5de-073f30de2ca8"
      },
      "outputs": [
        {
          "output_type": "stream",
          "name": "stdout",
          "text": [
            "Migliori parametri: {'alpha': 0.8314567805772047}\n",
            "ROC AUC: 0.849512670565302\n",
            "Accuracy: 0.7987012987012987\n",
            "F1-score: 0.4363636363636364\n",
            "Precision: 0.3333333333333333\n",
            "Recall: 0.631578947368421\n",
            "CPU times: user 47.2 s, sys: 24.2 s, total: 1min 11s\n",
            "Wall time: 42 s\n"
          ]
        },
        {
          "output_type": "display_data",
          "data": {
            "text/plain": [
              "<Figure size 640x480 with 2 Axes>"
            ],
            "image/png": "[encoded data removed]"
          },
          "metadata": {}
        }
      ],
      "source": [
        "%%time\n",
        "\n",
        "parameters = {'alpha': np.logspace(-8, 5, 500)}\n",
        "grid_search = GridSearchCV(Compl_NB, parameters, cv = cv, scoring = 'roc_auc')\n",
        "\n",
        "grid_search.fit(X_bayes_train, y_bayes_train)\n",
        "\n",
        "Compl_NB.alpha = grid_search.best_params_['alpha']\n",
        "\n",
        "# Addestro il modello con il miglior parametro\n",
        "Compl_NB.fit(X_bayes_train, y_bayes_train)\n",
        "\n",
        "# Predizioni sul set di validazione\n",
        "y_pred_prob = Compl_NB.predict_proba(X_bayes_val)[:,1]\n",
        "y_pred = Compl_NB.predict(X_bayes_val)\n",
        "\n",
        "roc_auc = roc_auc_score(y_bayes_val, y_pred_prob)\n",
        "accuracy = accuracy_score(y_bayes_val, y_pred)\n",
        "f1 = f1_score(y_bayes_val, y_pred)\n",
        "precision = precision_score(y_bayes_val, y_pred)\n",
        "recall = recall_score(y_bayes_val, y_pred)\n",
        "\n",
        "cf_matrix = confusion_matrix(y_bayes_val, y_pred, labels = Compl_NB.classes_)\n",
        "\n",
        "cf_ = cf_matrix.copy().astype(float)\n",
        "\n",
        "for j in range(2):\n",
        "  for i in range(2):\n",
        "    cf_[i,j] = (float(cf_matrix[i,j]) / float(np.sum(cf_matrix[:,j]) + 1e-5))\n",
        "\n",
        "sns.heatmap(cf_, annot = True, fmt = '.2%', cmap = 'coolwarm')\n",
        "\n",
        "print(\"Migliori parametri:\", grid_search.best_params_)\n",
        "print(\"ROC AUC:\", roc_auc)\n",
        "print(\"Accuracy:\", accuracy)\n",
        "print(\"F1-score:\", f1)\n",
        "print(\"Precision:\", precision)\n",
        "print(\"Recall:\", recall)"
      ]
    },
    {
      "cell_type": "code",
      "execution_count": null,
      "metadata": {
        "id": "RtK0ZW8auFX7"
      },
      "outputs": [],
      "source": [
        "metrics = np.array(roc_auc)\n",
        "metrics = np.append(metrics, accuracy)\n",
        "metrics = np.append(metrics, f1)\n",
        "metrics = np.append(metrics, precision)\n",
        "metrics = np.append(metrics, recall)\n",
        "\n",
        "S1_result = np.vstack((S1_result, metrics))"
      ]
    },
    {
      "cell_type": "markdown",
      "metadata": {
        "id": "FQ9sdmIyVzp3"
      },
      "source": [
        "### **S1 (88% vs 12%) 4. SVM**"
      ]
    },
    {
      "cell_type": "markdown",
      "metadata": {
        "id": "jtAwXaknWHs5"
      },
      "source": [
        "#### *Lineare*"
      ]
    },
    {
      "cell_type": "code",
      "execution_count": null,
      "metadata": {
        "colab": {
          "base_uri": "https://localhost:8080/"
        },
        "id": "ygYOibWdV2O9",
        "outputId": "907a1c16-c761-462b-f745-f2df99173910"
      },
      "outputs": [
        {
          "output_type": "stream",
          "name": "stdout",
          "text": [
            "ROC score medio (cross validation):  0.9444850004991515\n"
          ]
        }
      ],
      "source": [
        "svm_linear = SVC(kernel = 'linear',class_weight = \"balanced\", random_state = 42, probability = True)\n",
        "\n",
        "scores = cross_val_score(svm_linear, X_train, y_train, cv = cv, scoring = 'roc_auc')\n",
        "ROC_mean = scores.mean()\n",
        "\n",
        "print(\"ROC score medio (cross validation): \", ROC_mean)"
      ]
    },
    {
      "cell_type": "code",
      "execution_count": null,
      "metadata": {
        "colab": {
          "base_uri": "https://localhost:8080/"
        },
        "id": "WrfCLqeNEy99",
        "outputId": "3a2c336b-ff23-44e9-c810-4dc8faaed96a"
      },
      "outputs": [
        {
          "output_type": "execute_result",
          "data": {
            "text/plain": [
              "array([0.0001, 0.0112, 0.0223, 0.0334, 0.0445, 0.0556, 0.0667, 0.0778,\n",
              "       0.0889, 0.1   ])"
            ]
          },
          "metadata": {},
          "execution_count": 32
        }
      ],
      "source": [
        "np.linspace(1e-4, 0.1, 10)"
      ]
    },
    {
      "cell_type": "code",
      "execution_count": null,
      "metadata": {
        "colab": {
          "base_uri": "https://localhost:8080/",
          "height": 566
        },
        "id": "MHpxttldWfAH",
        "outputId": "150de4a8-4c46-40b5-9fe1-835e7239c37c"
      },
      "outputs": [
        {
          "output_type": "stream",
          "name": "stdout",
          "text": [
            "Migliori parametri: {'C': 0.10110909090909091}\n",
            "ROC AUC: 0.8978557504873295\n",
            "Accuracy: 0.8896103896103896\n",
            "F1-score: 0.5853658536585366\n",
            "Precision: 0.5454545454545454\n",
            "Recall: 0.631578947368421\n",
            "CPU times: user 6min 2s, sys: 375 ms, total: 6min 2s\n",
            "Wall time: 6min 2s\n"
          ]
        },
        {
          "output_type": "display_data",
          "data": {
            "text/plain": [
              "<Figure size 640x480 with 2 Axes>"
            ],
            "image/png": "[encoded data removed]"
          },
          "metadata": {}
        }
      ],
      "source": [
        "%%time\n",
        "parameters = {'C': np.linspace(1e-4, 10, 100)}\n",
        "\n",
        "grid_search = GridSearchCV(svm_linear, parameters, cv = cv, scoring = 'roc_auc')\n",
        "\n",
        "# Grid search sul training set\n",
        "grid_search.fit(X_train, y_train)\n",
        "\n",
        "svm_linear.C = grid_search.best_params_['C']\n",
        "\n",
        "# Addestro il modello con il miglior parametro\n",
        "svm_linear.fit(X_train, y_train)\n",
        "\n",
        "# Predizioni sul set di validazione\n",
        "y_pred_prob = svm_linear.predict_proba(X_val)[0:,1]\n",
        "y_pred = svm_linear.predict(X_val)\n",
        "\n",
        "roc_auc = roc_auc_score(y_val, y_pred_prob)\n",
        "accuracy = accuracy_score(y_val, y_pred)\n",
        "f1 = f1_score(y_val, y_pred)\n",
        "precision = precision_score(y_val, y_pred)\n",
        "recall = recall_score(y_val, y_pred)\n",
        "\n",
        "cf_matrix = confusion_matrix(y_val, y_pred, labels = svm_linear.classes_)\n",
        "\n",
        "cf_ = cf_matrix.copy().astype(float)\n",
        "\n",
        "for j in range(2):\n",
        "  for i in range(2):\n",
        "    cf_[i,j] = (float(cf_matrix[i,j]) / float(np.sum(cf_matrix[:,j]) + 1e-5))\n",
        "\n",
        "sns.heatmap(cf_, annot = True, fmt = '.2%', cmap = 'coolwarm')\n",
        "\n",
        "print(\"Migliori parametri:\", grid_search.best_params_)\n",
        "print(\"ROC AUC:\", roc_auc)\n",
        "print(\"Accuracy:\", accuracy)\n",
        "print(\"F1-score:\", f1)\n",
        "print(\"Precision:\", precision)\n",
        "print(\"Recall:\", recall)"
      ]
    },
    {
      "cell_type": "code",
      "execution_count": null,
      "metadata": {
        "id": "Jmja_MoHuL_N"
      },
      "outputs": [],
      "source": [
        "metrics = np.array(roc_auc)\n",
        "metrics = np.append(metrics, accuracy)\n",
        "metrics = np.append(metrics, f1)\n",
        "metrics = np.append(metrics, precision)\n",
        "metrics = np.append(metrics, recall)\n",
        "\n",
        "S1_result = np.vstack((S1_result, metrics))"
      ]
    },
    {
      "cell_type": "markdown",
      "metadata": {
        "id": "MtBIQMRkWjo_"
      },
      "source": [
        "#### *Polinomiale*"
      ]
    },
    {
      "cell_type": "code",
      "execution_count": null,
      "metadata": {
        "colab": {
          "base_uri": "https://localhost:8080/"
        },
        "id": "BkM7WjZwWl5m",
        "outputId": "8f4c1a96-4748-407b-b111-0e82e9a9bc74"
      },
      "outputs": [
        {
          "output_type": "stream",
          "name": "stdout",
          "text": [
            "ROC score medio (cross validation):  0.8789376809423979\n",
            "CPU times: user 8.83 s, sys: 8.04 ms, total: 8.84 s\n",
            "Wall time: 8.84 s\n"
          ]
        }
      ],
      "source": [
        "%%time\n",
        "svm_poli = SVC(kernel = 'poly', probability = True)\n",
        "\n",
        "scores = cross_val_score(svm_poli, X_train, y_train, cv = cv, scoring = 'roc_auc')\n",
        "ROC_mean = scores.mean()\n",
        "\n",
        "print(\"ROC score medio (cross validation): \", ROC_mean)"
      ]
    },
    {
      "cell_type": "code",
      "source": [
        "np.linspace(0.01, 5, 20)"
      ],
      "metadata": {
        "colab": {
          "base_uri": "https://localhost:8080/"
        },
        "id": "XW8fcCmFnovi",
        "outputId": "8baf902f-f4f8-4724-dc47-921444beff1a"
      },
      "execution_count": null,
      "outputs": [
        {
          "output_type": "execute_result",
          "data": {
            "text/plain": [
              "array([0.01      , 0.27263158, 0.53526316, 0.79789474, 1.06052632,\n",
              "       1.32315789, 1.58578947, 1.84842105, 2.11105263, 2.37368421,\n",
              "       2.63631579, 2.89894737, 3.16157895, 3.42421053, 3.68684211,\n",
              "       3.94947368, 4.21210526, 4.47473684, 4.73736842, 5.        ])"
            ]
          },
          "metadata": {},
          "execution_count": 36
        }
      ]
    },
    {
      "cell_type": "code",
      "execution_count": null,
      "metadata": {
        "colab": {
          "base_uri": "https://localhost:8080/",
          "height": 620
        },
        "id": "pmjGda5EZMQm",
        "outputId": "3909a263-7aad-4973-f202-d276c0339653"
      },
      "outputs": [
        {
          "output_type": "stream",
          "name": "stderr",
          "text": [
            "/usr/local/lib/python3.10/dist-packages/sklearn/metrics/_classification.py:1344: UndefinedMetricWarning: Precision is ill-defined and being set to 0.0 due to no predicted samples. Use `zero_division` parameter to control this behavior.\n",
            "  _warn_prf(average, modifier, msg_start, len(result))\n"
          ]
        },
        {
          "output_type": "stream",
          "name": "stdout",
          "text": [
            "Migliori parametri: {'C': 0.01, 'degree': 3}\n",
            "ROC AUC: 0.8241715399610137\n",
            "Accuracy: 0.8766233766233766\n",
            "F1-score: 0.0\n",
            "Precision: 0.0\n",
            "Recall: 0.0\n",
            "CPU times: user 8min 52s, sys: 566 ms, total: 8min 53s\n",
            "Wall time: 8min 53s\n"
          ]
        },
        {
          "output_type": "display_data",
          "data": {
            "text/plain": [
              "<Figure size 640x480 with 2 Axes>"
            ],
            "image/png": "[encoded data removed]"
          },
          "metadata": {}
        }
      ],
      "source": [
        "%%time\n",
        "parameters = {'degree': [2, 3, 4], 'C': np.linspace(0.01, 5, 20)}\n",
        "\n",
        "grid_search = GridSearchCV(svm_poli, parameters, cv = cv, scoring = 'roc_auc')\n",
        "\n",
        "# Grid search sul training set\n",
        "grid_search.fit(X_train, y_train)\n",
        "\n",
        "svm_poli.C = grid_search.best_params_['C']\n",
        "svm_poli.degree = grid_search.best_params_['degree']\n",
        "\n",
        "# Addestro il modello con il miglior parametro\n",
        "svm_poli.fit(X_train, y_train)\n",
        "\n",
        "# Predizioni sul set di validazione\n",
        "y_pred_prob = svm_poli.predict_proba(X_val)[0:,1]\n",
        "y_pred = svm_poli.predict(X_val)\n",
        "\n",
        "roc_auc = roc_auc_score(y_val, y_pred_prob)\n",
        "accuracy = accuracy_score(y_val, y_pred)\n",
        "f1 = f1_score(y_val, y_pred)\n",
        "precision = precision_score(y_val, y_pred)\n",
        "recall = recall_score(y_val, y_pred)\n",
        "\n",
        "cf_matrix = confusion_matrix(y_val, y_pred, labels = svm_poli.classes_)\n",
        "\n",
        "cf_ = cf_matrix.copy().astype(float)\n",
        "\n",
        "for j in range(2):\n",
        "  for i in range(2):\n",
        "    cf_[i,j] = (float(cf_matrix[i,j]) / float(np.sum(cf_matrix[:,j])+ 1e-5))\n",
        "\n",
        "sns.heatmap(cf_, annot = True, fmt = '.2%', cmap = 'coolwarm')\n",
        "\n",
        "print(\"Migliori parametri:\", grid_search.best_params_)\n",
        "print(\"ROC AUC:\", roc_auc)\n",
        "print(\"Accuracy:\", accuracy)\n",
        "print(\"F1-score:\", f1)\n",
        "print(\"Precision:\", precision)\n",
        "print(\"Recall:\", recall)"
      ]
    },
    {
      "cell_type": "code",
      "execution_count": null,
      "metadata": {
        "id": "qB3uaFuJuNgG"
      },
      "outputs": [],
      "source": [
        "metrics = np.array(roc_auc)\n",
        "metrics = np.append(metrics, accuracy)\n",
        "metrics = np.append(metrics, f1)\n",
        "metrics = np.append(metrics, precision)\n",
        "metrics = np.append(metrics, recall)\n",
        "\n",
        "S1_result = np.vstack((S1_result, metrics))"
      ]
    },
    {
      "cell_type": "markdown",
      "metadata": {
        "id": "fEZvV80-b_Ja"
      },
      "source": [
        "#### *Radial Basis Function (RBF)*"
      ]
    },
    {
      "cell_type": "code",
      "execution_count": null,
      "metadata": {
        "colab": {
          "base_uri": "https://localhost:8080/"
        },
        "id": "t09hGb6FcDRj",
        "outputId": "7703b2f4-0ca7-47a2-d98b-7056a83977d3"
      },
      "outputs": [
        {
          "output_type": "stream",
          "name": "stdout",
          "text": [
            "ROC score medio (cross validation):  0.9444656583807527\n",
            "CPU times: user 10.1 s, sys: 6.87 ms, total: 10.1 s\n",
            "Wall time: 10.2 s\n"
          ]
        }
      ],
      "source": [
        "%%time\n",
        "svm_rbf = SVC(kernel = \"rbf\", class_weight = \"balanced\", random_state = 42, probability = True)\n",
        "\n",
        "scores = cross_val_score(svm_rbf, X_train, y_train, cv = cv, scoring = 'roc_auc')\n",
        "ROC_mean = scores.mean()\n",
        "\n",
        "print(\"ROC score medio (cross validation): \", ROC_mean)"
      ]
    },
    {
      "cell_type": "code",
      "execution_count": null,
      "metadata": {
        "colab": {
          "base_uri": "https://localhost:8080/",
          "height": 566
        },
        "id": "5vrb-DdGcOFd",
        "outputId": "43a5acb7-6868-4eab-9ac7-13d0478808c5"
      },
      "outputs": [
        {
          "output_type": "stream",
          "name": "stdout",
          "text": [
            "Migliori parametri: {'C': 1.9473684210526314}\n",
            "ROC AUC: 0.9021442495126706\n",
            "Accuracy: 0.8766233766233766\n",
            "F1-score: 0.09523809523809525\n",
            "Precision: 0.5\n",
            "Recall: 0.05263157894736842\n",
            "CPU times: user 3min 19s, sys: 182 ms, total: 3min 20s\n",
            "Wall time: 3min 20s\n"
          ]
        },
        {
          "output_type": "display_data",
          "data": {
            "text/plain": [
              "<Figure size 640x480 with 2 Axes>"
            ],
            "image/png": "[encoded data removed]"
          },
          "metadata": {}
        }
      ],
      "source": [
        "%%time\n",
        "parameters = {'C': np.linspace(1, 10, 20)}\n",
        "\n",
        "grid_search = GridSearchCV(svm_rbf, parameters, cv = cv, scoring = 'roc_auc')\n",
        "\n",
        "# Grid search sul training set\n",
        "grid_search.fit(X_train, y_train)\n",
        "\n",
        "svm_rbf.C = grid_search.best_params_['C']\n",
        "\n",
        "# Addestro il modello con il miglior parametro\n",
        "svm_rbf.fit(X_train, y_train)\n",
        "\n",
        "# Predizioni sul set di validazione\n",
        "y_pred_prob = svm_rbf.predict_proba(X_val)[0:,1]\n",
        "y_pred = svm_rbf.predict(X_val)\n",
        "\n",
        "roc_auc = roc_auc_score(y_val, y_pred_prob)\n",
        "accuracy = accuracy_score(y_val, y_pred)\n",
        "f1 = f1_score(y_val, y_pred)\n",
        "precision = precision_score(y_val, y_pred)\n",
        "recall = recall_score(y_val, y_pred)\n",
        "\n",
        "cf_matrix = confusion_matrix(y_val, y_pred, labels = svm_rbf.classes_)\n",
        "\n",
        "cf_ = cf_matrix.copy().astype(float)\n",
        "\n",
        "for j in range(2):\n",
        "  for i in range(2):\n",
        "    cf_[i,j] = (float(cf_matrix[i,j]) / float(np.sum(cf_matrix[:,j]) + 1e-5))\n",
        "\n",
        "sns.heatmap(cf_, annot = True, fmt = '.2%', cmap = 'coolwarm')\n",
        "\n",
        "print(\"Migliori parametri:\", grid_search.best_params_)\n",
        "print(\"ROC AUC:\", roc_auc)\n",
        "print(\"Accuracy:\", accuracy)\n",
        "print(\"F1-score:\", f1)\n",
        "print(\"Precision:\", precision)\n",
        "print(\"Recall:\", recall)"
      ]
    },
    {
      "cell_type": "code",
      "execution_count": null,
      "metadata": {
        "id": "Ls0N77IJuOzq"
      },
      "outputs": [],
      "source": [
        "metrics = np.array(roc_auc)\n",
        "metrics = np.append(metrics, accuracy)\n",
        "metrics = np.append(metrics, f1)\n",
        "metrics = np.append(metrics, precision)\n",
        "metrics = np.append(metrics, recall)\n",
        "\n",
        "S1_result = np.vstack((S1_result, metrics))"
      ]
    },
    {
      "cell_type": "markdown",
      "metadata": {
        "id": "qlTphEX1cdc9"
      },
      "source": [
        "### **S1 (88% vs 12%) 5. LDA**"
      ]
    },
    {
      "cell_type": "code",
      "execution_count": null,
      "metadata": {
        "colab": {
          "base_uri": "https://localhost:8080/"
        },
        "id": "J-_uVt-lcfta",
        "outputId": "b9cb101c-0905-4fc7-8186-a6609d00e139"
      },
      "outputs": [
        {
          "output_type": "stream",
          "name": "stdout",
          "text": [
            "ROC score medio (cross validation):  0.915430642907058\n",
            "CPU times: user 1min 37s, sys: 10.5 s, total: 1min 47s\n",
            "Wall time: 1min 4s\n"
          ]
        }
      ],
      "source": [
        "%%time\n",
        "lda = LinearDiscriminantAnalysis(solver = 'lsqr', shrinkage = 'auto')\n",
        "\n",
        "scores = cross_val_score(lda, X_train, y_train, cv = cv, scoring = 'roc_auc')\n",
        "ROC_mean = scores.mean()\n",
        "\n",
        "print(\"ROC score medio (cross validation): \", ROC_mean)"
      ]
    },
    {
      "cell_type": "code",
      "execution_count": null,
      "metadata": {
        "colab": {
          "base_uri": "https://localhost:8080/"
        },
        "id": "HiipTmf-lFP8",
        "outputId": "642bf820-9681-4a37-862b-6e0328f721cd"
      },
      "outputs": [
        {
          "output_type": "execute_result",
          "data": {
            "text/plain": [
              "array([1.00000000e-08, 2.50000008e-01, 5.00000005e-01, 7.50000002e-01,\n",
              "       1.00000000e+00])"
            ]
          },
          "metadata": {},
          "execution_count": 43
        }
      ],
      "source": [
        "np.linspace(1e-8, 1, 5)"
      ]
    },
    {
      "cell_type": "code",
      "execution_count": null,
      "metadata": {
        "colab": {
          "base_uri": "https://localhost:8080/",
          "height": 566
        },
        "id": "a85WEbbzdv8X",
        "outputId": "1ea5c2f8-dd19-4bd4-e7a0-ab619490bf69"
      },
      "outputs": [
        {
          "output_type": "stream",
          "name": "stdout",
          "text": [
            "Migliori parametri: {'shrinkage': 0.7777777800000001}\n",
            "ROC AUC: 0.9450292397660819\n",
            "Accuracy: 0.922077922077922\n",
            "F1-score: 0.7\n",
            "Precision: 0.6666666666666666\n",
            "Recall: 0.7368421052631579\n",
            "CPU times: user 14min 34s, sys: 1min 24s, total: 15min 59s\n",
            "Wall time: 9min 17s\n"
          ]
        },
        {
          "output_type": "display_data",
          "data": {
            "text/plain": [
              "<Figure size 640x480 with 2 Axes>"
            ],
            "image/png": "[encoded data removed]"
          },
          "metadata": {}
        }
      ],
      "source": [
        "%%time\n",
        "parameters = {'shrinkage' : np.linspace(1e-8, 1, 10)}\n",
        "\n",
        "grid_search = GridSearchCV(lda, parameters, cv = cv, scoring = 'roc_auc')\n",
        "\n",
        "# Grid search sul training set\n",
        "grid_search.fit(X_train, y_train)\n",
        "\n",
        "lda.shrinkage = grid_search.best_params_['shrinkage']\n",
        "\n",
        "# Addestro il modello con il miglior parametro\n",
        "lda.fit(X_train, y_train)\n",
        "\n",
        "# Predizioni sul set di validazione\n",
        "y_pred_prob = lda.predict_proba(X_val)[0:,1]\n",
        "y_pred = lda.predict(X_val)\n",
        "\n",
        "roc_auc = roc_auc_score(y_val, y_pred_prob)\n",
        "accuracy = accuracy_score(y_val, y_pred)\n",
        "f1 = f1_score(y_val, y_pred)\n",
        "precision = precision_score(y_val, y_pred)\n",
        "recall = recall_score(y_val, y_pred)\n",
        "\n",
        "cf_matrix = confusion_matrix(y_val, y_pred, labels = lda.classes_)\n",
        "\n",
        "cf_ = cf_matrix.copy().astype(float)\n",
        "\n",
        "for j in range(2):\n",
        "  for i in range(2):\n",
        "    cf_[i,j] = (float(cf_matrix[i,j]) / float(np.sum(cf_matrix[:,j]) + 1e-5))\n",
        "\n",
        "sns.heatmap(cf_, annot = True, fmt = '.2%', cmap = 'coolwarm')\n",
        "\n",
        "print(\"Migliori parametri:\", grid_search.best_params_)\n",
        "print(\"ROC AUC:\", roc_auc)\n",
        "print(\"Accuracy:\", accuracy)\n",
        "print(\"F1-score:\", f1)\n",
        "print(\"Precision:\", precision)\n",
        "print(\"Recall:\", recall)"
      ]
    },
    {
      "cell_type": "code",
      "execution_count": null,
      "metadata": {
        "id": "N32dSYx2uQeH"
      },
      "outputs": [],
      "source": [
        "metrics = np.array(roc_auc)\n",
        "metrics = np.append(metrics, accuracy)\n",
        "metrics = np.append(metrics, f1)\n",
        "metrics = np.append(metrics, precision)\n",
        "metrics = np.append(metrics, recall)\n",
        "\n",
        "S1_result = np.vstack((S1_result, metrics))"
      ]
    },
    {
      "cell_type": "markdown",
      "metadata": {
        "id": "9OeGjsCbxXZE"
      },
      "source": [
        "# Paziente S1 - dati unbalanced (70% vs 30%)"
      ]
    },
    {
      "cell_type": "markdown",
      "metadata": {
        "id": "_ty3cB3YxXZO"
      },
      "source": [
        "## Definizione dei Dataset"
      ]
    },
    {
      "cell_type": "markdown",
      "metadata": {
        "id": "TPusEuHfxXZP"
      },
      "source": [
        "Suddivisione dei dati tra set di training, set di validazione e set di test e bilanciamento dei dati"
      ]
    },
    {
      "cell_type": "code",
      "execution_count": null,
      "metadata": {
        "id": "SNoAuKSEyYRW"
      },
      "outputs": [],
      "source": [
        "from imblearn.under_sampling import RandomUnderSampler\n",
        "from collections import Counter"
      ]
    },
    {
      "cell_type": "code",
      "execution_count": null,
      "metadata": {
        "colab": {
          "base_uri": "https://localhost:8080/"
        },
        "id": "MYyJiR7-xXZP",
        "outputId": "f7300619-e2cd-4df4-fbf5-abcefaa1d61c"
      },
      "outputs": [
        {
          "output_type": "stream",
          "name": "stdout",
          "text": [
            "La parecentuale di dati di training NT è  69.96047430830039 % e quella di T è 30.03952569169961 %. E in termini assoluti: Counter({0: 177, 1: 76})\n"
          ]
        }
      ],
      "source": [
        "undersampler = RandomUnderSampler(sampling_strategy = 30/70, random_state = 42)\n",
        "X_train, y_train = undersampler.fit_resample(X_train_original, y_train_original)\n",
        "\n",
        "class_counter = Counter(y_train)\n",
        "first_class, count = class_counter.most_common(1)[0]\n",
        "NT_perc = (count/ len(y_train)) * 100\n",
        "print(\"La parecentuale di dati di training NT è \", NT_perc, \"% e quella di T è\", 100 - NT_perc , \"%. E in termini assoluti:\", class_counter)"
      ]
    },
    {
      "cell_type": "markdown",
      "metadata": {
        "id": "49_OhYErxXZP"
      },
      "source": [
        "## **Model selection**"
      ]
    },
    {
      "cell_type": "markdown",
      "metadata": {
        "id": "K0jIbmA9xXZQ"
      },
      "source": [
        "### **S1 (70% vs 30%) 1. Logistic Regression**"
      ]
    },
    {
      "cell_type": "code",
      "execution_count": null,
      "metadata": {
        "colab": {
          "base_uri": "https://localhost:8080/"
        },
        "id": "Fy6zTc6cxXZQ",
        "outputId": "a579cd5d-d91d-40e5-9ff4-6b27c1bee3cf"
      },
      "outputs": [
        {
          "output_type": "stream",
          "name": "stdout",
          "text": [
            "ROC (cross-validation):  0.9295985060690943\n"
          ]
        }
      ],
      "source": [
        "LR = LogisticRegression(max_iter = 1000)\n",
        "\n",
        "scores = cross_val_score(LR, X_train, y_train, cv = cv, scoring = 'roc_auc')\n",
        "ROC_mean = scores.mean()\n",
        "\n",
        "print(\"ROC (cross-validation): \", ROC_mean)"
      ]
    },
    {
      "cell_type": "markdown",
      "metadata": {
        "id": "yAYrWFvyxXZQ"
      },
      "source": [
        "Cerco i migliori parameti con Grid search"
      ]
    },
    {
      "cell_type": "code",
      "execution_count": null,
      "metadata": {
        "colab": {
          "base_uri": "https://localhost:8080/",
          "height": 566
        },
        "id": "YwZAWOToxXZQ",
        "outputId": "c5c1b104-73ff-425a-d844-15ab3ee93ddb"
      },
      "outputs": [
        {
          "output_type": "stream",
          "name": "stdout",
          "text": [
            "Migliori parametri: {'C': 1.819}\n",
            "ROC AUC: 0.8803118908382066\n",
            "Accuracy: 0.8376623376623377\n",
            "F1-score: 0.5098039215686275\n",
            "Precision: 0.40625\n",
            "Recall: 0.6842105263157895\n",
            "CPU times: user 1min 9s, sys: 29.7 s, total: 1min 39s\n",
            "Wall time: 56.8 s\n"
          ]
        },
        {
          "output_type": "display_data",
          "data": {
            "text/plain": [
              "<Figure size 640x480 with 2 Axes>"
            ],
            "image/png": "[encoded data removed]"
          },
          "metadata": {}
        }
      ],
      "source": [
        "%%time\n",
        "parameters = {'C': np.linspace(0.001, 10, 100)}\n",
        "grid_search = GridSearchCV(LR, parameters, cv = cv, scoring = 'roc_auc')\n",
        "\n",
        "# Grid search sul training set\n",
        "grid_search.fit(X_train, y_train)\n",
        "\n",
        "LR.C = grid_search.best_params_['C']\n",
        "LR.fit(X_train, y_train)\n",
        "\n",
        "# Predizioni sul set di validazione\n",
        "y_pred_prob = LR.predict_proba(X_val)[0:,1]\n",
        "y_pred = LR.predict(X_val)\n",
        "\n",
        "roc_auc = roc_auc_score(y_val, y_pred_prob)\n",
        "accuracy = accuracy_score(y_val, y_pred)\n",
        "f1 = f1_score(y_val, y_pred)\n",
        "precision = precision_score(y_val, y_pred)\n",
        "recall = recall_score(y_val, y_pred)\n",
        "\n",
        "cf_matrix = confusion_matrix(y_val, y_pred, labels = LR.classes_)\n",
        "\n",
        "cf_ = cf_matrix.copy().astype(float)\n",
        "\n",
        "for j in range(2):\n",
        "  for i in range(2):\n",
        "    cf_[i,j] = (float(cf_matrix[i,j]) / float(np.sum(cf_matrix[:,j]) + 1e-5))\n",
        "\n",
        "sns.heatmap(cf_, annot = True, fmt = '.2%', cmap = 'coolwarm')\n",
        "\n",
        "print(\"Migliori parametri:\", grid_search.best_params_)\n",
        "print(\"ROC AUC:\", roc_auc)\n",
        "print(\"Accuracy:\", accuracy)\n",
        "print(\"F1-score:\", f1)\n",
        "print(\"Precision:\", precision)\n",
        "print(\"Recall:\", recall)"
      ]
    },
    {
      "cell_type": "code",
      "execution_count": null,
      "metadata": {
        "id": "CQ0tHfDDxXZQ"
      },
      "outputs": [],
      "source": [
        "metrics = np.array(roc_auc)\n",
        "metrics = np.append(metrics, accuracy)\n",
        "metrics = np.append(metrics, f1)\n",
        "metrics = np.append(metrics, precision)\n",
        "metrics = np.append(metrics, recall)\n",
        "S1_result = np.vstack((S1_result, metrics))"
      ]
    },
    {
      "cell_type": "markdown",
      "metadata": {
        "id": "6Qknv_xexXZQ"
      },
      "source": [
        "### **S1 (70% vs 30%) 2. Random Forest**"
      ]
    },
    {
      "cell_type": "code",
      "execution_count": null,
      "metadata": {
        "colab": {
          "base_uri": "https://localhost:8080/"
        },
        "id": "FgYnMGDkxXZQ",
        "outputId": "bbc65822-54af-4b6c-98df-481bfcdce8d1"
      },
      "outputs": [
        {
          "output_type": "stream",
          "name": "stdout",
          "text": [
            "ROC score medio (cross validation):  0.8735760971055088\n",
            "CPU times: user 5.31 s, sys: 7.59 ms, total: 5.32 s\n",
            "Wall time: 5.37 s\n"
          ]
        }
      ],
      "source": [
        "%%time\n",
        "RF = RandomForestClassifier(criterion = 'gini')\n",
        "\n",
        "scores = cross_val_score(RF, X_train, y_train, cv = cv, scoring = 'roc_auc')\n",
        "ROC_mean = scores.mean()\n",
        "\n",
        "print(\"ROC score medio (cross validation): \", ROC_mean)"
      ]
    },
    {
      "cell_type": "code",
      "execution_count": null,
      "metadata": {
        "colab": {
          "base_uri": "https://localhost:8080/",
          "height": 566
        },
        "id": "FwKdGoYpxXZQ",
        "outputId": "f6099a42-40ed-4687-b4b0-e6952a94a111"
      },
      "outputs": [
        {
          "output_type": "stream",
          "name": "stdout",
          "text": [
            "Migliori parametri: {'n_estimators': 850}\n",
            "ROC AUC: 0.9313840155945419\n",
            "Accuracy: 0.8961038961038961\n",
            "F1-score: 0.3333333333333333\n",
            "Precision: 0.8\n",
            "Recall: 0.21052631578947367\n",
            "CPU times: user 15min 50s, sys: 1.97 s, total: 15min 52s\n",
            "Wall time: 15min 56s\n"
          ]
        },
        {
          "output_type": "display_data",
          "data": {
            "text/plain": [
              "<Figure size 640x480 with 2 Axes>"
            ],
            "image/png": "[encoded data removed]"
          },
          "metadata": {}
        }
      ],
      "source": [
        "%%time\n",
        "parameters = {'n_estimators': np.linspace(300, 1000, 29).astype(int)}\n",
        "\n",
        "grid_search = GridSearchCV(RF, parameters, cv = cv, scoring = 'roc_auc')\n",
        "\n",
        "# Grid search sul training set\n",
        "grid_search.fit(X_train, y_train)\n",
        "\n",
        "RF.n_estimators = grid_search.best_params_['n_estimators']\n",
        "RF.fit(X_train, y_train)\n",
        "\n",
        "# Predizioni sul set di validazione\n",
        "y_pred_prob = RF.predict_proba(X_val)[0:,1]\n",
        "y_pred = RF.predict(X_val)\n",
        "\n",
        "roc_auc = roc_auc_score(y_val, y_pred_prob)\n",
        "accuracy = accuracy_score(y_val, y_pred)\n",
        "f1 = f1_score(y_val, y_pred)\n",
        "precision = precision_score(y_val, y_pred)\n",
        "recall = recall_score(y_val, y_pred)\n",
        "\n",
        "cf_matrix = confusion_matrix(y_val, y_pred, labels = RF.classes_)\n",
        "\n",
        "cf_ = cf_matrix.copy().astype(float)\n",
        "\n",
        "for j in range(2):\n",
        "  for i in range(2):\n",
        "    cf_[i,j] = (float(cf_matrix[i,j]) / float(np.sum(cf_matrix[:,j]) + 1e-5))\n",
        "\n",
        "sns.heatmap(cf_, annot = True, fmt = '.2%', cmap = 'coolwarm')\n",
        "\n",
        "print(\"Migliori parametri:\", grid_search.best_params_)\n",
        "print(\"ROC AUC:\", roc_auc)\n",
        "print(\"Accuracy:\", accuracy)\n",
        "print(\"F1-score:\", f1)\n",
        "print(\"Precision:\", precision)\n",
        "print(\"Recall:\", recall)"
      ]
    },
    {
      "cell_type": "code",
      "execution_count": null,
      "metadata": {
        "id": "tZSaYP-7xXZQ"
      },
      "outputs": [],
      "source": [
        "metrics = np.array(roc_auc)\n",
        "metrics = np.append(metrics, accuracy)\n",
        "metrics = np.append(metrics, f1)\n",
        "metrics = np.append(metrics, precision)\n",
        "metrics = np.append(metrics, recall)\n",
        "\n",
        "S1_result = np.vstack((S1_result, metrics))"
      ]
    },
    {
      "cell_type": "markdown",
      "metadata": {
        "id": "DTDUYQznxXZR"
      },
      "source": [
        "### **S1 (70% vs 30%) 3. Naive Bayes**"
      ]
    },
    {
      "cell_type": "markdown",
      "metadata": {
        "id": "LsWg6jWWxXZR"
      },
      "source": [
        "Traslazione dei dati per rendere positivi i valori per il Naive Bayes"
      ]
    },
    {
      "cell_type": "code",
      "execution_count": null,
      "metadata": {
        "colab": {
          "base_uri": "https://localhost:8080/"
        },
        "id": "X0ddUrufW68d",
        "outputId": "bf9cebd7-88c1-451a-ac91-fdbbef64bad3"
      },
      "outputs": [
        {
          "output_type": "stream",
          "name": "stdout",
          "text": [
            "La parecentuale di dati di training NT è  69.96047430830039 % e quella di T è 30.03952569169961 %. E in termini assoluti: Counter({0: 177, 1: 76})\n"
          ]
        }
      ],
      "source": [
        "undersampler = RandomUnderSampler(sampling_strategy = 30/70, random_state = 42)\n",
        "X_bayes_train, y_bayes_train = undersampler.fit_resample(X_bayes_train_original, y_bayes_train_original)\n",
        "\n",
        "class_counter = Counter(y_bayes_train)\n",
        "first_class, count = class_counter.most_common(1)[0]\n",
        "NT_perc = (count/ len(y_bayes_train)) * 100\n",
        "print(\"La parecentuale di dati di training NT è \", NT_perc, \"% e quella di T è\", 100 - NT_perc , \"%. E in termini assoluti:\", class_counter)"
      ]
    },
    {
      "cell_type": "markdown",
      "metadata": {
        "id": "pxRi9_AYxXZR"
      },
      "source": [
        "#### *MultiNB*"
      ]
    },
    {
      "cell_type": "code",
      "execution_count": null,
      "metadata": {
        "colab": {
          "base_uri": "https://localhost:8080/"
        },
        "id": "yvtJMydsxXZR",
        "outputId": "5a18cdb6-471c-40db-8c94-1d22c5752715"
      },
      "outputs": [
        {
          "output_type": "stream",
          "name": "stdout",
          "text": [
            "ROC score medio (cross-validation): 0.8537640056022407\n",
            "CPU times: user 53.2 ms, sys: 27.9 ms, total: 81.1 ms\n",
            "Wall time: 49.9 ms\n"
          ]
        }
      ],
      "source": [
        "%%time\n",
        "Multi_NB = MultinomialNB()\n",
        "\n",
        "# Valutazione tramite validazione incrociata (cross-validation)\n",
        "scores = cross_val_score(Multi_NB, X_bayes_train, y_bayes_train, cv = cv, scoring = 'roc_auc')\n",
        "\n",
        "# ROC medio dei risultati\n",
        "mean_ROC = np.mean(scores)\n",
        "\n",
        "print(\"ROC score medio (cross-validation):\", mean_ROC)"
      ]
    },
    {
      "cell_type": "code",
      "execution_count": null,
      "metadata": {
        "colab": {
          "base_uri": "https://localhost:8080/",
          "height": 566
        },
        "id": "9tJcWKTlxXZR",
        "outputId": "47be2101-c091-4253-e72b-70518fd81d14"
      },
      "outputs": [
        {
          "output_type": "stream",
          "name": "stdout",
          "text": [
            "Migliori parametri: {'alpha': 0.5463550352214875}\n",
            "ROC AUC: 0.802729044834308\n",
            "Accuracy: 0.7142857142857143\n",
            "F1-score: 0.3888888888888889\n",
            "Precision: 0.2641509433962264\n",
            "Recall: 0.7368421052631579\n",
            "CPU times: user 27.4 s, sys: 15.9 s, total: 43.3 s\n",
            "Wall time: 26.3 s\n"
          ]
        },
        {
          "output_type": "display_data",
          "data": {
            "text/plain": [
              "<Figure size 640x480 with 2 Axes>"
            ],
            "image/png": "[encoded data removed]"
          },
          "metadata": {}
        }
      ],
      "source": [
        "%%time\n",
        "Multi_NB = MultinomialNB()\n",
        "\n",
        "# GridSearchCV\n",
        "parameters = {'alpha': np.logspace(-8, 5, 500)}\n",
        "grid_search = GridSearchCV(Multi_NB, parameters, cv = cv, scoring = 'roc_auc')\n",
        "\n",
        "# grid search sul training set\n",
        "grid_search.fit(X_bayes_train, y_bayes_train)\n",
        "\n",
        "best_alpha_M = grid_search.best_params_['alpha']\n",
        "\n",
        "# Addestro il modello con il miglior parametro\n",
        "Multi_NB = MultinomialNB(alpha = best_alpha_M)\n",
        "Multi_NB.fit(X_bayes_train, y_bayes_train)\n",
        "\n",
        "# Predizioni sul set di validazione\n",
        "y_pred_prob = Multi_NB.predict_proba(X_bayes_val)[:,1]\n",
        "y_pred = Multi_NB.predict(X_bayes_val)\n",
        "\n",
        "roc_auc = roc_auc_score(y_bayes_val, y_pred_prob)\n",
        "accuracy = accuracy_score(y_bayes_val, y_pred)\n",
        "f1 = f1_score(y_bayes_val, y_pred)\n",
        "precision = precision_score(y_bayes_val, y_pred)\n",
        "recall = recall_score(y_bayes_val, y_pred)\n",
        "\n",
        "cf_matrix = confusion_matrix(y_bayes_val, y_pred, labels = Multi_NB.classes_)\n",
        "\n",
        "cf_ = cf_matrix.copy().astype(float)\n",
        "\n",
        "for j in range(2):\n",
        "  for i in range(2):\n",
        "    cf_[i,j] = (float(cf_matrix[i,j]) / float(np.sum(cf_matrix[:,j]) + 1e-5))\n",
        "\n",
        "sns.heatmap(cf_, annot = True, fmt = '.2%', cmap = 'coolwarm')\n",
        "\n",
        "\n",
        "print(\"Migliori parametri:\", grid_search.best_params_)\n",
        "print(\"ROC AUC:\", roc_auc)\n",
        "print(\"Accuracy:\", accuracy)\n",
        "print(\"F1-score:\", f1)\n",
        "print(\"Precision:\", precision)\n",
        "print(\"Recall:\", recall)"
      ]
    },
    {
      "cell_type": "code",
      "execution_count": null,
      "metadata": {
        "id": "fS102HdYxXZR"
      },
      "outputs": [],
      "source": [
        "metrics = np.array(roc_auc)\n",
        "metrics = np.append(metrics, accuracy)\n",
        "metrics = np.append(metrics, f1)\n",
        "metrics = np.append(metrics, precision)\n",
        "metrics = np.append(metrics, recall)\n",
        "\n",
        "S1_result = np.vstack((S1_result, metrics))"
      ]
    },
    {
      "cell_type": "markdown",
      "metadata": {
        "id": "qV_lpkY4xXZR"
      },
      "source": [
        "#### *Complement NB*"
      ]
    },
    {
      "cell_type": "code",
      "execution_count": null,
      "metadata": {
        "colab": {
          "base_uri": "https://localhost:8080/"
        },
        "id": "kFAjEckdxXZR",
        "outputId": "e6be63ca-2e74-482d-88be-f7ac1467a657"
      },
      "outputs": [
        {
          "output_type": "stream",
          "name": "stdout",
          "text": [
            "ROC Auc (cross-validation): 0.8537844304388422\n",
            "CPU times: user 58.8 ms, sys: 44.9 ms, total: 104 ms\n",
            "Wall time: 64 ms\n"
          ]
        }
      ],
      "source": [
        "%%time\n",
        "Compl_NB = ComplementNB()\n",
        "\n",
        "# Cross-validation\n",
        "scores = cross_val_score(Compl_NB, X_bayes_train, y_bayes_train, cv = cv, scoring = 'roc_auc')\n",
        "\n",
        "# ROC medio dei risultati\n",
        "mean_ROC = np.mean(scores)\n",
        "\n",
        "print(\"ROC Auc (cross-validation):\", mean_ROC)"
      ]
    },
    {
      "cell_type": "code",
      "execution_count": null,
      "metadata": {
        "colab": {
          "base_uri": "https://localhost:8080/",
          "height": 566
        },
        "id": "yOYjOc4mxXZS",
        "outputId": "73ebb1b1-1539-4812-8a61-88e9f82302c4"
      },
      "outputs": [
        {
          "output_type": "stream",
          "name": "stdout",
          "text": [
            "Migliori parametri: {'alpha': 0.5463550352214875}\n",
            "ROC AUC: 0.804288499025341\n",
            "Accuracy: 0.7012987012987013\n",
            "F1-score: 0.37837837837837834\n",
            "Precision: 0.2545454545454545\n",
            "Recall: 0.7368421052631579\n",
            "CPU times: user 27.3 s, sys: 16.1 s, total: 43.4 s\n",
            "Wall time: 25 s\n"
          ]
        },
        {
          "output_type": "display_data",
          "data": {
            "text/plain": [
              "<Figure size 640x480 with 2 Axes>"
            ],
            "image/png": "[encoded data removed]"
          },
          "metadata": {}
        }
      ],
      "source": [
        "%%time\n",
        "\n",
        "parameters = {'alpha': np.logspace(-8, 5, 500)}\n",
        "grid_search = GridSearchCV(Compl_NB, parameters, cv = cv, scoring = 'roc_auc')\n",
        "\n",
        "grid_search.fit(X_bayes_train, y_bayes_train)\n",
        "\n",
        "Compl_NB.alpha = grid_search.best_params_['alpha']\n",
        "Compl_NB.fit(X_bayes_train, y_bayes_train)\n",
        "\n",
        "# Predizioni sul set di validazione\n",
        "y_pred_prob = Compl_NB.predict_proba(X_bayes_val)[:,1]\n",
        "y_pred = Compl_NB.predict(X_bayes_val)\n",
        "\n",
        "roc_auc = roc_auc_score(y_bayes_val, y_pred_prob)\n",
        "accuracy = accuracy_score(y_bayes_val, y_pred)\n",
        "f1 = f1_score(y_bayes_val, y_pred)\n",
        "precision = precision_score(y_bayes_val, y_pred)\n",
        "recall = recall_score(y_bayes_val, y_pred)\n",
        "\n",
        "cf_matrix = confusion_matrix(y_bayes_val, y_pred, labels = Compl_NB.classes_)\n",
        "\n",
        "\n",
        "cf_ = cf_matrix.copy().astype(float)\n",
        "\n",
        "for j in range(2):\n",
        "  for i in range(2):\n",
        "    cf_[i,j] = (float(cf_matrix[i,j]) / float(np.sum(cf_matrix[:,j]) + 1e-5))\n",
        "\n",
        "sns.heatmap(cf_, annot = True, fmt = '.2%', cmap = 'coolwarm')\n",
        "\n",
        "\n",
        "print(\"Migliori parametri:\", grid_search.best_params_)\n",
        "print(\"ROC AUC:\", roc_auc)\n",
        "print(\"Accuracy:\", accuracy)\n",
        "print(\"F1-score:\", f1)\n",
        "print(\"Precision:\", precision)\n",
        "print(\"Recall:\", recall)"
      ]
    },
    {
      "cell_type": "code",
      "execution_count": null,
      "metadata": {
        "id": "MJHBtridxXZS"
      },
      "outputs": [],
      "source": [
        "metrics = np.array(roc_auc)\n",
        "metrics = np.append(metrics, accuracy)\n",
        "metrics = np.append(metrics, f1)\n",
        "metrics = np.append(metrics, precision)\n",
        "metrics = np.append(metrics, recall)\n",
        "\n",
        "S1_result = np.vstack((S1_result, metrics))"
      ]
    },
    {
      "cell_type": "markdown",
      "metadata": {
        "id": "rxMeh3uZxXZS"
      },
      "source": [
        "### **S1 (70% vs 30%) 4. SVM**"
      ]
    },
    {
      "cell_type": "markdown",
      "metadata": {
        "id": "2eNUYYVxxXZS"
      },
      "source": [
        "#### *Lineare*"
      ]
    },
    {
      "cell_type": "code",
      "execution_count": null,
      "metadata": {
        "colab": {
          "base_uri": "https://localhost:8080/"
        },
        "id": "ltRd25VGxXZS",
        "outputId": "831c7208-e1a3-4236-898c-6c3f250c5763"
      },
      "outputs": [
        {
          "output_type": "stream",
          "name": "stdout",
          "text": [
            "ROC score medio (cross validation):  0.9249941643323997\n"
          ]
        }
      ],
      "source": [
        "svm_linear = SVC(kernel = 'linear',class_weight = \"balanced\", random_state = 42, probability = True)\n",
        "\n",
        "scores = cross_val_score(svm_linear, X_train, y_train, cv = cv, scoring = 'roc_auc')\n",
        "ROC_mean = scores.mean()\n",
        "\n",
        "print(\"ROC score medio (cross validation): \", ROC_mean)"
      ]
    },
    {
      "cell_type": "code",
      "execution_count": null,
      "metadata": {
        "colab": {
          "base_uri": "https://localhost:8080/",
          "height": 566
        },
        "id": "9yj4uBKxxXZT",
        "outputId": "2ba41175-a4c7-4ff0-cc90-e3d54057ba69"
      },
      "outputs": [
        {
          "output_type": "stream",
          "name": "stdout",
          "text": [
            "Migliori parametri: {'C': 0.10110909090909091}\n",
            "ROC AUC: 0.8814814814814814\n",
            "Accuracy: 0.8246753246753247\n",
            "F1-score: 0.49056603773584906\n",
            "Precision: 0.38235294117647056\n",
            "Recall: 0.6842105263157895\n",
            "CPU times: user 2min 11s, sys: 214 ms, total: 2min 11s\n",
            "Wall time: 2min 11s\n"
          ]
        },
        {
          "output_type": "display_data",
          "data": {
            "text/plain": [
              "<Figure size 640x480 with 2 Axes>"
            ],
            "image/png": "[encoded data removed]"
          },
          "metadata": {}
        }
      ],
      "source": [
        "%%time\n",
        "parameters = {'C': np.linspace(1e-4, 10, 100)}\n",
        "\n",
        "grid_search = GridSearchCV(svm_linear, parameters, cv = cv, scoring = 'roc_auc')\n",
        "\n",
        "# Grid search sul training set\n",
        "grid_search.fit(X_train, y_train)\n",
        "\n",
        "svm_linear.C = grid_search.best_params_['C']\n",
        "\n",
        "# Addestro il modello con il miglior parametro\n",
        "svm_linear.fit(X_train, y_train)\n",
        "\n",
        "# Predizioni sul set di validazione\n",
        "y_pred_prob = svm_linear.predict_proba(X_val)[0:,1]\n",
        "y_pred = svm_linear.predict(X_val)\n",
        "\n",
        "roc_auc = roc_auc_score(y_val, y_pred_prob)\n",
        "accuracy = accuracy_score(y_val, y_pred)\n",
        "f1 = f1_score(y_val, y_pred)\n",
        "precision = precision_score(y_val, y_pred)\n",
        "recall = recall_score(y_val, y_pred)\n",
        "\n",
        "cf_matrix = confusion_matrix(y_val, y_pred, labels = svm_linear.classes_)\n",
        "\n",
        "cf_ = cf_matrix.copy().astype(float)\n",
        "\n",
        "for j in range(2):\n",
        "  for i in range(2):\n",
        "    cf_[i,j] = (float(cf_matrix[i,j]) / float(np.sum(cf_matrix[:,j]) + 1e-5))\n",
        "\n",
        "sns.heatmap(cf_, annot = True, fmt = '.2%', cmap = 'coolwarm')\n",
        "\n",
        "print(\"Migliori parametri:\", grid_search.best_params_)\n",
        "print(\"ROC AUC:\", roc_auc)\n",
        "print(\"Accuracy:\", accuracy)\n",
        "print(\"F1-score:\", f1)\n",
        "print(\"Precision:\", precision)\n",
        "print(\"Recall:\", recall)"
      ]
    },
    {
      "cell_type": "code",
      "execution_count": null,
      "metadata": {
        "id": "EelRtHPZxXZT"
      },
      "outputs": [],
      "source": [
        "metrics = np.array(roc_auc)\n",
        "metrics = np.append(metrics, accuracy)\n",
        "metrics = np.append(metrics, f1)\n",
        "metrics = np.append(metrics, precision)\n",
        "metrics = np.append(metrics, recall)\n",
        "\n",
        "S1_result = np.vstack((S1_result, metrics))"
      ]
    },
    {
      "cell_type": "markdown",
      "metadata": {
        "id": "1woPJM4MxXZT"
      },
      "source": [
        "#### *Polinomiale*"
      ]
    },
    {
      "cell_type": "code",
      "execution_count": null,
      "metadata": {
        "colab": {
          "base_uri": "https://localhost:8080/"
        },
        "id": "2cRRu2jTxXZT",
        "outputId": "d71c4a16-6911-446c-b40d-acf4e6636790"
      },
      "outputs": [
        {
          "output_type": "stream",
          "name": "stdout",
          "text": [
            "ROC score medio (cross validation):  0.8387721755368813\n"
          ]
        }
      ],
      "source": [
        "svm_poli = SVC(kernel = 'poly', probability = True)\n",
        "\n",
        "scores = cross_val_score(svm_poli, X_train, y_train, cv = cv, scoring = 'roc_auc')\n",
        "ROC_mean = scores.mean()\n",
        "\n",
        "print(\"ROC score medio (cross validation): \", ROC_mean)"
      ]
    },
    {
      "cell_type": "code",
      "execution_count": null,
      "metadata": {
        "colab": {
          "base_uri": "https://localhost:8080/",
          "height": 620
        },
        "id": "4H-YIf2bxXZT",
        "outputId": "17d09116-d48e-41bf-c9e7-37fbc8abd6c7"
      },
      "outputs": [
        {
          "output_type": "stream",
          "name": "stderr",
          "text": [
            "/usr/local/lib/python3.10/dist-packages/sklearn/metrics/_classification.py:1344: UndefinedMetricWarning: Precision is ill-defined and being set to 0.0 due to no predicted samples. Use `zero_division` parameter to control this behavior.\n",
            "  _warn_prf(average, modifier, msg_start, len(result))\n"
          ]
        },
        {
          "output_type": "stream",
          "name": "stdout",
          "text": [
            "Migliori parametri: {'C': 0.01, 'degree': 3}\n",
            "ROC AUC: 0.7844054580896686\n",
            "Accuracy: 0.8766233766233766\n",
            "F1-score: 0.0\n",
            "Precision: 0.0\n",
            "Recall: 0.0\n",
            "CPU times: user 1min 32s, sys: 190 ms, total: 1min 33s\n",
            "Wall time: 1min 33s\n"
          ]
        },
        {
          "output_type": "display_data",
          "data": {
            "text/plain": [
              "<Figure size 640x480 with 2 Axes>"
            ],
            "image/png": "[encoded data removed]"
          },
          "metadata": {}
        }
      ],
      "source": [
        "%%time\n",
        "parameters = {'degree': [2, 3, 4], 'C': np.linspace(0.01, 5, 20)}\n",
        "\n",
        "grid_search = GridSearchCV(svm_poli, parameters, cv = cv, scoring = 'roc_auc')\n",
        "\n",
        "# Grid search sul training set\n",
        "grid_search.fit(X_train, y_train)\n",
        "\n",
        "svm_poli.C = grid_search.best_params_['C']\n",
        "svm_poli.degree = grid_search.best_params_['degree']\n",
        "\n",
        "# Addestro il modello con il miglior parametro\n",
        "svm_poli.fit(X_train, y_train)\n",
        "\n",
        "# Predizioni sul set di validazione\n",
        "y_pred_prob = svm_poli.predict_proba(X_val)[0:,1]\n",
        "y_pred = svm_poli.predict(X_val)\n",
        "\n",
        "roc_auc = roc_auc_score(y_val, y_pred_prob)\n",
        "accuracy = accuracy_score(y_val, y_pred)\n",
        "f1 = f1_score(y_val, y_pred)\n",
        "precision = precision_score(y_val, y_pred)\n",
        "recall = recall_score(y_val, y_pred)\n",
        "\n",
        "cf_matrix = confusion_matrix(y_val, y_pred, labels = svm_poli.classes_)\n",
        "\n",
        "cf_ = cf_matrix.copy().astype(float)\n",
        "\n",
        "for j in range(2):\n",
        "  for i in range(2):\n",
        "    cf_[i,j] = (float(cf_matrix[i,j]) / float(np.sum(cf_matrix[:,j]) + 1e-5))\n",
        "\n",
        "sns.heatmap(cf_, annot = True, fmt = '.2%', cmap = 'coolwarm')\n",
        "\n",
        "print(\"Migliori parametri:\", grid_search.best_params_)\n",
        "print(\"ROC AUC:\", roc_auc)\n",
        "print(\"Accuracy:\", accuracy)\n",
        "print(\"F1-score:\", f1)\n",
        "print(\"Precision:\", precision)\n",
        "print(\"Recall:\", recall)"
      ]
    },
    {
      "cell_type": "code",
      "execution_count": null,
      "metadata": {
        "id": "2oxpN-HQxXZU"
      },
      "outputs": [],
      "source": [
        "metrics = np.array(roc_auc)\n",
        "metrics = np.append(metrics, accuracy)\n",
        "metrics = np.append(metrics, f1)\n",
        "metrics = np.append(metrics, precision)\n",
        "metrics = np.append(metrics, recall)\n",
        "\n",
        "S1_result = np.vstack((S1_result, metrics))"
      ]
    },
    {
      "cell_type": "markdown",
      "metadata": {
        "id": "528etsEuxXZU"
      },
      "source": [
        "#### *Radial Basis Function (RBF)*"
      ]
    },
    {
      "cell_type": "code",
      "execution_count": null,
      "metadata": {
        "colab": {
          "base_uri": "https://localhost:8080/"
        },
        "id": "i-nH55XzxXZU",
        "outputId": "fc2cd33a-552b-489d-8b80-97ce4ce17cb0"
      },
      "outputs": [
        {
          "output_type": "stream",
          "name": "stdout",
          "text": [
            "ROC score medio (cross validation):  0.8996440242763774\n"
          ]
        }
      ],
      "source": [
        "svm_rbf = SVC(kernel = \"rbf\", class_weight = \"balanced\", random_state = 42, probability = True)\n",
        "\n",
        "scores = cross_val_score(svm_rbf, X_train, y_train, cv = cv, scoring = 'roc_auc')\n",
        "ROC_mean = scores.mean()\n",
        "\n",
        "print(\"ROC score medio (cross validation): \", ROC_mean)"
      ]
    },
    {
      "cell_type": "code",
      "execution_count": null,
      "metadata": {
        "colab": {
          "base_uri": "https://localhost:8080/",
          "height": 566
        },
        "id": "5b0iyYioxXZU",
        "outputId": "dbd8a1f8-3d76-4651-eaa1-7cadf5770378"
      },
      "outputs": [
        {
          "output_type": "stream",
          "name": "stdout",
          "text": [
            "Migliori parametri: {'C': 1.9473684210526314}\n",
            "ROC AUC: 0.8643274853801169\n",
            "Accuracy: 0.8766233766233766\n",
            "F1-score: 0.45714285714285713\n",
            "Precision: 0.5\n",
            "Recall: 0.42105263157894735\n",
            "CPU times: user 39.1 s, sys: 49.7 ms, total: 39.2 s\n",
            "Wall time: 39.2 s\n"
          ]
        },
        {
          "output_type": "display_data",
          "data": {
            "text/plain": [
              "<Figure size 640x480 with 2 Axes>"
            ],
            "image/png": "[encoded data removed]"
          },
          "metadata": {}
        }
      ],
      "source": [
        "%%time\n",
        "parameters = {'C': np.linspace(1, 10, 20)}\n",
        "\n",
        "grid_search = GridSearchCV(svm_rbf, parameters, cv = cv, scoring = 'roc_auc')\n",
        "\n",
        "# Grid search sul training set\n",
        "grid_search.fit(X_train, y_train)\n",
        "\n",
        "svm_rbf.C = grid_search.best_params_['C']\n",
        "\n",
        "# Addestro il modello con il miglior parametro\n",
        "svm_rbf.fit(X_train, y_train)\n",
        "\n",
        "# Predizioni sul set di validazione\n",
        "y_pred_prob = svm_rbf.predict_proba(X_val)[0:,1]\n",
        "y_pred = svm_rbf.predict(X_val)\n",
        "\n",
        "roc_auc = roc_auc_score(y_val, y_pred_prob)\n",
        "accuracy = accuracy_score(y_val, y_pred)\n",
        "f1 = f1_score(y_val, y_pred)\n",
        "precision = precision_score(y_val, y_pred)\n",
        "recall = recall_score(y_val, y_pred)\n",
        "\n",
        "cf_matrix = confusion_matrix(y_val, y_pred, labels = svm_rbf.classes_)\n",
        "\n",
        "cf_ = cf_matrix.copy().astype(float)\n",
        "\n",
        "for j in range(2):\n",
        "  for i in range(2):\n",
        "    cf_[i,j] = (float(cf_matrix[i,j]) / float(np.sum(cf_matrix[:,j]) + 1e-5))\n",
        "\n",
        "sns.heatmap(cf_, annot = True, fmt = '.2%', cmap = 'coolwarm')\n",
        "\n",
        "print(\"Migliori parametri:\", grid_search.best_params_)\n",
        "print(\"ROC AUC:\", roc_auc)\n",
        "print(\"Accuracy:\", accuracy)\n",
        "print(\"F1-score:\", f1)\n",
        "print(\"Precision:\", precision)\n",
        "print(\"Recall:\", recall)"
      ]
    },
    {
      "cell_type": "code",
      "execution_count": null,
      "metadata": {
        "id": "RiccaTaqxXZU"
      },
      "outputs": [],
      "source": [
        "metrics = np.array(roc_auc)\n",
        "metrics = np.append(metrics, accuracy)\n",
        "metrics = np.append(metrics, f1)\n",
        "metrics = np.append(metrics, precision)\n",
        "metrics = np.append(metrics, recall)\n",
        "\n",
        "S1_result = np.vstack((S1_result, metrics))"
      ]
    },
    {
      "cell_type": "markdown",
      "metadata": {
        "id": "35HCmPRxxXZU"
      },
      "source": [
        "### **S1 (70% vs 30%) 5. LDA**"
      ]
    },
    {
      "cell_type": "code",
      "execution_count": null,
      "metadata": {
        "colab": {
          "base_uri": "https://localhost:8080/"
        },
        "id": "mzx5jTEYxXZU",
        "outputId": "5fe7a727-c961-4aec-c0f6-a949913be373"
      },
      "outputs": [
        {
          "output_type": "stream",
          "name": "stdout",
          "text": [
            "ROC score medio (cross validation):  0.878577264239029\n",
            "CPU times: user 1min 31s, sys: 9.36 s, total: 1min 40s\n",
            "Wall time: 59 s\n"
          ]
        }
      ],
      "source": [
        "%%time\n",
        "lda = LinearDiscriminantAnalysis(solver = 'lsqr', shrinkage = 'auto')\n",
        "\n",
        "scores = cross_val_score(lda, X_train, y_train, cv = cv, scoring = 'roc_auc')\n",
        "ROC_mean = scores.mean()\n",
        "\n",
        "print(\"ROC score medio (cross validation): \", ROC_mean)"
      ]
    },
    {
      "cell_type": "code",
      "execution_count": null,
      "metadata": {
        "colab": {
          "base_uri": "https://localhost:8080/"
        },
        "id": "BMX85t4ZQfHu",
        "outputId": "3440fc3f-2225-44c4-b746-0c5053e62a36"
      },
      "outputs": [
        {
          "output_type": "execute_result",
          "data": {
            "text/plain": [
              "array([0.5  , 0.625, 0.75 , 0.875, 1.   ])"
            ]
          },
          "metadata": {},
          "execution_count": 71
        }
      ],
      "source": [
        "np.linspace(0.5, 1, 5)"
      ]
    },
    {
      "cell_type": "code",
      "execution_count": null,
      "metadata": {
        "colab": {
          "base_uri": "https://localhost:8080/",
          "height": 566
        },
        "id": "fwNnhgYpxXZU",
        "outputId": "133ccf76-667d-4934-eb09-847e1f8aed68"
      },
      "outputs": [
        {
          "output_type": "stream",
          "name": "stdout",
          "text": [
            "Migliori parametri: {'shrinkage': 0.88888889}\n",
            "ROC AUC: 0.892007797270955\n",
            "Accuracy: 0.8311688311688312\n",
            "F1-score: 0.5\n",
            "Precision: 0.3939393939393939\n",
            "Recall: 0.6842105263157895\n",
            "CPU times: user 14min 11s, sys: 1min 22s, total: 15min 33s\n",
            "Wall time: 9min 1s\n"
          ]
        },
        {
          "output_type": "display_data",
          "data": {
            "text/plain": [
              "<Figure size 640x480 with 2 Axes>"
            ],
            "image/png": "[encoded data removed]"
          },
          "metadata": {}
        }
      ],
      "source": [
        "%%time\n",
        "parameters = {'shrinkage' : np.linspace(1e-8, 1, 10)}\n",
        "\n",
        "grid_search = GridSearchCV(lda, parameters, cv = cv, scoring = 'roc_auc')\n",
        "\n",
        "# Grid search sul training set\n",
        "grid_search.fit(X_train, y_train)\n",
        "\n",
        "lda.shrinkage = grid_search.best_params_['shrinkage']\n",
        "\n",
        "# Addestro il modello con il miglior parametro\n",
        "lda.fit(X_train, y_train)\n",
        "\n",
        "# Predizioni sul set di validazione\n",
        "y_pred_prob = lda.predict_proba(X_val)[0:,1]\n",
        "y_pred = lda.predict(X_val)\n",
        "\n",
        "roc_auc = roc_auc_score(y_val, y_pred_prob)\n",
        "accuracy = accuracy_score(y_val, y_pred)\n",
        "f1 = f1_score(y_val, y_pred)\n",
        "precision = precision_score(y_val, y_pred)\n",
        "recall = recall_score(y_val, y_pred)\n",
        "\n",
        "cf_matrix = confusion_matrix(y_val, y_pred, labels = lda.classes_)\n",
        "\n",
        "\n",
        "cf_ = cf_matrix.copy().astype(float)\n",
        "\n",
        "for j in range(2):\n",
        "  for i in range(2):\n",
        "    cf_[i,j] = (float(cf_matrix[i,j]) / float(np.sum(cf_matrix[:,j]) + 1e-5))\n",
        "\n",
        "sns.heatmap(cf_, annot = True, fmt = '.2%', cmap = 'coolwarm')\n",
        "\n",
        "print(\"Migliori parametri:\", grid_search.best_params_)\n",
        "print(\"ROC AUC:\", roc_auc)\n",
        "print(\"Accuracy:\", accuracy)\n",
        "print(\"F1-score:\", f1)\n",
        "print(\"Precision:\", precision)\n",
        "print(\"Recall:\", recall)"
      ]
    },
    {
      "cell_type": "code",
      "execution_count": null,
      "metadata": {
        "id": "B1LObPIkxXZV"
      },
      "outputs": [],
      "source": [
        "metrics = np.array(roc_auc)\n",
        "metrics = np.append(metrics, accuracy)\n",
        "metrics = np.append(metrics, f1)\n",
        "metrics = np.append(metrics, precision)\n",
        "metrics = np.append(metrics, recall)\n",
        "\n",
        "S1_result = np.vstack((S1_result, metrics))"
      ]
    },
    {
      "cell_type": "code",
      "execution_count": null,
      "metadata": {
        "colab": {
          "base_uri": "https://localhost:8080/"
        },
        "id": "Z4vAyN3QxXZV",
        "outputId": "a269d19d-2a2e-41d1-be60-fa206e3f8da7"
      },
      "outputs": [
        {
          "output_type": "execute_result",
          "data": {
            "text/plain": [
              "(16, 5)"
            ]
          },
          "metadata": {},
          "execution_count": 74
        }
      ],
      "source": [
        "S1_result.shape"
      ]
    },
    {
      "cell_type": "markdown",
      "metadata": {
        "id": "-LFIJEag0exq"
      },
      "source": [
        "# Paziente S1 - dati unbalanced (60% vs 40%)"
      ]
    },
    {
      "cell_type": "markdown",
      "metadata": {
        "id": "SvokKSOg0exr"
      },
      "source": [
        "## Definizione dei Dataset"
      ]
    },
    {
      "cell_type": "markdown",
      "metadata": {
        "id": "NV13AXEN0exr"
      },
      "source": [
        "Suddivisione dei dati tra set di training, set di validazione e set di test e bilanciamento dei dati"
      ]
    },
    {
      "cell_type": "code",
      "execution_count": null,
      "metadata": {
        "colab": {
          "base_uri": "https://localhost:8080/"
        },
        "id": "oUKPdp050ext",
        "outputId": "2b4bb630-621c-471e-cdd0-507f081d7316"
      },
      "outputs": [
        {
          "output_type": "stream",
          "name": "stdout",
          "text": [
            "La parecentuale di dati di training NT è  60.0 % e quella di T è 40.0 %. E in termini assoluti: Counter({0: 114, 1: 76})\n"
          ]
        }
      ],
      "source": [
        "undersampler = RandomUnderSampler(sampling_strategy = 40/60, random_state=42)\n",
        "X_train, y_train = undersampler.fit_resample(X_train_original, y_train_original)\n",
        "\n",
        "class_counter = Counter(y_train)\n",
        "first_class, count = class_counter.most_common(1)[0]\n",
        "NT_perc = (count/ len(y_train)) * 100\n",
        "print(\"La parecentuale di dati di training NT è \", NT_perc, \"% e quella di T è\", 100 - NT_perc , \"%. E in termini assoluti:\", class_counter)"
      ]
    },
    {
      "cell_type": "markdown",
      "metadata": {
        "id": "fgIDnjs30exu"
      },
      "source": [
        "## **Model selection**"
      ]
    },
    {
      "cell_type": "markdown",
      "metadata": {
        "id": "7lPXRQru0exv"
      },
      "source": [
        "### **S1 (60% vs 40%) 1. Logistic Regression**"
      ]
    },
    {
      "cell_type": "code",
      "execution_count": null,
      "metadata": {
        "colab": {
          "base_uri": "https://localhost:8080/"
        },
        "id": "F-L-q0_M0exv",
        "outputId": "29607a1e-a817-4a8b-eb9d-055a98f6b85e"
      },
      "outputs": [
        {
          "output_type": "stream",
          "name": "stdout",
          "text": [
            "ROC (cross-validation):  0.898809523809524\n",
            "CPU times: user 551 ms, sys: 245 ms, total: 796 ms\n",
            "Wall time: 422 ms\n"
          ]
        }
      ],
      "source": [
        "%%time\n",
        "LR = LogisticRegression(max_iter = 1000)\n",
        "\n",
        "scores = cross_val_score(LR, X_train, y_train, cv = cv, scoring = 'roc_auc')\n",
        "ROC_mean = scores.mean()\n",
        "\n",
        "print(\"ROC (cross-validation): \", ROC_mean)"
      ]
    },
    {
      "cell_type": "markdown",
      "metadata": {
        "id": "EAqriaAa0exv"
      },
      "source": [
        "Cerco i migliori parameti con Grid search"
      ]
    },
    {
      "cell_type": "code",
      "execution_count": null,
      "metadata": {
        "colab": {
          "base_uri": "https://localhost:8080/",
          "height": 566
        },
        "id": "obxD2v1V0exv",
        "outputId": "444918d8-b208-465e-8615-fb4b74cf6ada"
      },
      "outputs": [
        {
          "output_type": "stream",
          "name": "stdout",
          "text": [
            "Migliori parametri: {'C': 0.6070000000000001}\n",
            "ROC AUC: 0.8604288499025341\n",
            "Accuracy: 0.8181818181818182\n",
            "F1-score: 0.5333333333333333\n",
            "Precision: 0.3902439024390244\n",
            "Recall: 0.8421052631578947\n",
            "CPU times: user 51.4 s, sys: 25.1 s, total: 1min 16s\n",
            "Wall time: 43.5 s\n"
          ]
        },
        {
          "output_type": "display_data",
          "data": {
            "text/plain": [
              "<Figure size 640x480 with 2 Axes>"
            ],
            "image/png": "[encoded data removed]"
          },
          "metadata": {}
        }
      ],
      "source": [
        "%%time\n",
        "parameters = {'C': np.linspace(0.001, 10, 100)}\n",
        "grid_search = GridSearchCV(LR, parameters, cv = cv, scoring = 'roc_auc')\n",
        "\n",
        "# Grid search sul training set\n",
        "grid_search.fit(X_train, y_train)\n",
        "\n",
        "LR.C = grid_search.best_params_['C']\n",
        "\n",
        "# Addestro il modello con il miglior parametro\n",
        "LR.fit(X_train, y_train)\n",
        "\n",
        "# Predizioni sul set di validazione\n",
        "y_pred_prob = LR.predict_proba(X_val)[0:,1]\n",
        "y_pred = LR.predict(X_val)\n",
        "\n",
        "roc_auc = roc_auc_score(y_val, y_pred_prob)\n",
        "accuracy = accuracy_score(y_val, y_pred)\n",
        "f1 = f1_score(y_val, y_pred)\n",
        "precision = precision_score(y_val, y_pred)\n",
        "recall = recall_score(y_val, y_pred)\n",
        "\n",
        "cf_matrix = confusion_matrix(y_val, y_pred, labels = LR.classes_)\n",
        "\n",
        "\n",
        "cf_ = cf_matrix.copy().astype(float)\n",
        "\n",
        "for j in range(2):\n",
        "  for i in range(2):\n",
        "    cf_[i,j] = (float(cf_matrix[i,j]) / float(np.sum(cf_matrix[:,j]) + 1e-5))\n",
        "\n",
        "sns.heatmap(cf_, annot = True, fmt = '.2%', cmap = 'coolwarm')\n",
        "\n",
        "print(\"Migliori parametri:\", grid_search.best_params_)\n",
        "print(\"ROC AUC:\", roc_auc)\n",
        "print(\"Accuracy:\", accuracy)\n",
        "print(\"F1-score:\", f1)\n",
        "print(\"Precision:\", precision)\n",
        "print(\"Recall:\", recall)"
      ]
    },
    {
      "cell_type": "code",
      "execution_count": null,
      "metadata": {
        "id": "vtpCxvl70exv"
      },
      "outputs": [],
      "source": [
        "metrics = np.array(roc_auc)\n",
        "metrics = np.append(metrics, accuracy)\n",
        "metrics = np.append(metrics, f1)\n",
        "metrics = np.append(metrics, precision)\n",
        "metrics = np.append(metrics, recall)\n",
        "S1_result = np.vstack((S1_result, metrics))"
      ]
    },
    {
      "cell_type": "markdown",
      "metadata": {
        "id": "YlDteQjx0exw"
      },
      "source": [
        "### **S1 (60% vs 40%) 2. Random Forest**"
      ]
    },
    {
      "cell_type": "code",
      "execution_count": null,
      "metadata": {
        "id": "R0gJUyzJ0exw",
        "colab": {
          "base_uri": "https://localhost:8080/"
        },
        "outputId": "0867361c-9dc9-4b8b-a22d-89fface09abc"
      },
      "outputs": [
        {
          "output_type": "stream",
          "name": "stdout",
          "text": [
            "ROC score medio (cross validation):  0.8732683982683984\n",
            "CPU times: user 3.93 s, sys: 7.55 ms, total: 3.94 s\n",
            "Wall time: 3.99 s\n"
          ]
        }
      ],
      "source": [
        "%%time\n",
        "RF = RandomForestClassifier(criterion = 'gini')\n",
        "\n",
        "scores = cross_val_score(RF, X_train, y_train, cv = cv, scoring = 'roc_auc')\n",
        "ROC_mean = scores.mean()\n",
        "\n",
        "print(\"ROC score medio (cross validation): \", ROC_mean)"
      ]
    },
    {
      "cell_type": "code",
      "execution_count": null,
      "metadata": {
        "colab": {
          "base_uri": "https://localhost:8080/",
          "height": 566
        },
        "id": "ET5i23ji0exw",
        "outputId": "d9a10430-261e-4646-82a0-e609ab1ed95e"
      },
      "outputs": [
        {
          "output_type": "stream",
          "name": "stdout",
          "text": [
            "Migliori parametri: {'n_estimators': 1000}\n",
            "ROC AUC: 0.9138401559454191\n",
            "Accuracy: 0.9025974025974026\n",
            "F1-score: 0.5945945945945946\n",
            "Precision: 0.6111111111111112\n",
            "Recall: 0.5789473684210527\n",
            "CPU times: user 10min 53s, sys: 1.83 s, total: 10min 55s\n",
            "Wall time: 10min 58s\n"
          ]
        },
        {
          "output_type": "display_data",
          "data": {
            "text/plain": [
              "<Figure size 640x480 with 2 Axes>"
            ],
            "image/png": "[encoded data removed]"
          },
          "metadata": {}
        }
      ],
      "source": [
        "%%time\n",
        "parameters = {'n_estimators': np.linspace(300, 1000, 29).astype(int)}\n",
        "\n",
        "grid_search = GridSearchCV(RF, parameters, cv = cv, scoring = 'roc_auc')\n",
        "\n",
        "# Grid search sul training set\n",
        "grid_search.fit(X_train, y_train)\n",
        "\n",
        "RF.n_estimators = grid_search.best_params_['n_estimators']\n",
        "RF.fit(X_train, y_train)\n",
        "\n",
        "# Predizioni sul set di validazione\n",
        "y_pred_prob = RF.predict_proba(X_val)[0:,1]\n",
        "y_pred = RF.predict(X_val)\n",
        "\n",
        "roc_auc = roc_auc_score(y_val, y_pred_prob)\n",
        "accuracy = accuracy_score(y_val, y_pred)\n",
        "f1 = f1_score(y_val, y_pred)\n",
        "precision = precision_score(y_val, y_pred)\n",
        "recall = recall_score(y_val, y_pred)\n",
        "\n",
        "cf_matrix = confusion_matrix(y_val, y_pred, labels = RF.classes_)\n",
        "\n",
        "\n",
        "cf_ = cf_matrix.copy().astype(float)\n",
        "\n",
        "for j in range(2):\n",
        "  for i in range(2):\n",
        "    cf_[i,j] = (float(cf_matrix[i,j]) / float(np.sum(cf_matrix[:,j]) + 1e-5))\n",
        "\n",
        "sns.heatmap(cf_, annot = True, fmt = '.2%', cmap = 'coolwarm')\n",
        "\n",
        "print(\"Migliori parametri:\", grid_search.best_params_)\n",
        "print(\"ROC AUC:\", roc_auc)\n",
        "print(\"Accuracy:\", accuracy)\n",
        "print(\"F1-score:\", f1)\n",
        "print(\"Precision:\", precision)\n",
        "print(\"Recall:\", recall)"
      ]
    },
    {
      "cell_type": "code",
      "execution_count": null,
      "metadata": {
        "id": "3nh1V45g0exw"
      },
      "outputs": [],
      "source": [
        "metrics = np.array(roc_auc)\n",
        "metrics = np.append(metrics, accuracy)\n",
        "metrics = np.append(metrics, f1)\n",
        "metrics = np.append(metrics, precision)\n",
        "metrics = np.append(metrics, recall)\n",
        "\n",
        "S1_result = np.vstack((S1_result, metrics))"
      ]
    },
    {
      "cell_type": "markdown",
      "metadata": {
        "id": "SNo3RYdv0exw"
      },
      "source": [
        "### **S1 (60% vs 40%) 3. Naive Bayes**"
      ]
    },
    {
      "cell_type": "markdown",
      "metadata": {
        "id": "CSqIMRkL0exw"
      },
      "source": [
        "Traslazione dei dati per rendere positivi i valori per il Naive Bayes"
      ]
    },
    {
      "cell_type": "code",
      "execution_count": null,
      "metadata": {
        "id": "KnSv7b74Xt2q",
        "colab": {
          "base_uri": "https://localhost:8080/"
        },
        "outputId": "c995beea-bd9e-4c1a-88bc-90968603a167"
      },
      "outputs": [
        {
          "output_type": "stream",
          "name": "stdout",
          "text": [
            "La parecentuale di dati di training NT è  60.0 % e quella di T è 40.0 %. E in termini assoluti: Counter({0: 114, 1: 76})\n"
          ]
        }
      ],
      "source": [
        "undersampler = RandomUnderSampler(sampling_strategy = 40/60, random_state = 42)\n",
        "X_bayes_train, y_bayes_train = undersampler.fit_resample(X_bayes_train_original, y_bayes_train_original)\n",
        "\n",
        "class_counter = Counter(y_bayes_train)\n",
        "first_class, count = class_counter.most_common(1)[0]\n",
        "NT_perc = (count/ len(y_bayes_train)) * 100\n",
        "print(\"La parecentuale di dati di training NT è \", NT_perc, \"% e quella di T è\", 100 - NT_perc , \"%. E in termini assoluti:\", class_counter)"
      ]
    },
    {
      "cell_type": "markdown",
      "metadata": {
        "id": "bN4uqGvH0exx"
      },
      "source": [
        "#### *MultiNB*"
      ]
    },
    {
      "cell_type": "code",
      "execution_count": null,
      "metadata": {
        "id": "AEjRSSZC0exx",
        "colab": {
          "base_uri": "https://localhost:8080/"
        },
        "outputId": "0c9340d7-6e59-4ffc-b8ca-62e191b94293"
      },
      "outputs": [
        {
          "output_type": "stream",
          "name": "stdout",
          "text": [
            "ROC score medio (cross-validation): 0.8287337662337663\n",
            "CPU times: user 54.5 ms, sys: 21.9 ms, total: 76.4 ms\n",
            "Wall time: 49.5 ms\n"
          ]
        }
      ],
      "source": [
        "%%time\n",
        "Multi_NB = MultinomialNB()\n",
        "\n",
        "# Valutazione tramite validazione incrociata (cross-validation)\n",
        "scores = cross_val_score(Multi_NB, X_bayes_train, y_bayes_train, cv = cv, scoring = 'roc_auc')\n",
        "\n",
        "# ROC medio dei risultati\n",
        "mean_ROC = np.mean(scores)\n",
        "\n",
        "print(\"ROC score medio (cross-validation):\", mean_ROC)"
      ]
    },
    {
      "cell_type": "code",
      "execution_count": null,
      "metadata": {
        "id": "i4mdtWMB0exx",
        "colab": {
          "base_uri": "https://localhost:8080/",
          "height": 566
        },
        "outputId": "921bf975-45d6-40a6-8477-bbfffa4ac3d9"
      },
      "outputs": [
        {
          "output_type": "stream",
          "name": "stdout",
          "text": [
            "Migliori parametri: {'alpha': 10.328281259410275}\n",
            "ROC AUC: 0.8202729044834307\n",
            "Accuracy: 0.6948051948051948\n",
            "F1-score: 0.4050632911392405\n",
            "Precision: 0.26666666666666666\n",
            "Recall: 0.8421052631578947\n",
            "CPU times: user 23.8 s, sys: 14.3 s, total: 38.1 s\n",
            "Wall time: 22.3 s\n"
          ]
        },
        {
          "output_type": "display_data",
          "data": {
            "text/plain": [
              "<Figure size 640x480 with 2 Axes>"
            ],
            "image/png": "[encoded data removed]"
          },
          "metadata": {}
        }
      ],
      "source": [
        "%%time\n",
        "\n",
        "# GridSearchCV\n",
        "parameters = {'alpha': np.logspace(-8, 5, 500)}\n",
        "grid_search = GridSearchCV(Multi_NB, parameters, cv = cv, scoring = 'roc_auc')\n",
        "\n",
        "# grid search sul training set\n",
        "grid_search.fit(X_bayes_train, y_bayes_train)\n",
        "\n",
        "Multi_NB.alpha = grid_search.best_params_['alpha']\n",
        "\n",
        "# Addestro il modello con il miglior parametro\n",
        "Multi_NB.fit(X_bayes_train, y_bayes_train)\n",
        "\n",
        "# Predizioni sul set di validazione\n",
        "y_pred_prob = Multi_NB.predict_proba(X_bayes_val)[:,1]\n",
        "y_pred = Multi_NB.predict(X_bayes_val)\n",
        "\n",
        "roc_auc = roc_auc_score(y_bayes_val, y_pred_prob)\n",
        "accuracy = accuracy_score(y_bayes_val, y_pred)\n",
        "f1 = f1_score(y_bayes_val, y_pred)\n",
        "precision = precision_score(y_bayes_val, y_pred)\n",
        "recall = recall_score(y_bayes_val, y_pred)\n",
        "\n",
        "cf_matrix = confusion_matrix(y_bayes_val, y_pred, labels = Multi_NB.classes_)\n",
        "\n",
        "\n",
        "cf_ = cf_matrix.copy().astype(float)\n",
        "\n",
        "for j in range(2):\n",
        "  for i in range(2):\n",
        "    cf_[i,j] = (float(cf_matrix[i,j]) / float(np.sum(cf_matrix[:,j]) + 1e-5))\n",
        "\n",
        "sns.heatmap(cf_, annot = True, fmt = '.2%', cmap = 'coolwarm')\n",
        "\n",
        "\n",
        "print(\"Migliori parametri:\", grid_search.best_params_)\n",
        "print(\"ROC AUC:\", roc_auc)\n",
        "print(\"Accuracy:\", accuracy)\n",
        "print(\"F1-score:\", f1)\n",
        "print(\"Precision:\", precision)\n",
        "print(\"Recall:\", recall)"
      ]
    },
    {
      "cell_type": "code",
      "execution_count": null,
      "metadata": {
        "id": "2hoCtAKy0exy"
      },
      "outputs": [],
      "source": [
        "metrics = np.array(roc_auc)\n",
        "metrics = np.append(metrics, accuracy)\n",
        "metrics = np.append(metrics, f1)\n",
        "metrics = np.append(metrics, precision)\n",
        "metrics = np.append(metrics, recall)\n",
        "\n",
        "S1_result = np.vstack((S1_result, metrics))"
      ]
    },
    {
      "cell_type": "markdown",
      "metadata": {
        "id": "8BAX8LkC0exy"
      },
      "source": [
        "#### *Complement NB*"
      ]
    },
    {
      "cell_type": "code",
      "execution_count": null,
      "metadata": {
        "id": "H8hmHlGe0exy",
        "colab": {
          "base_uri": "https://localhost:8080/"
        },
        "outputId": "f38b4c0e-590f-40e8-f02b-39c22c4fdb7c"
      },
      "outputs": [
        {
          "output_type": "stream",
          "name": "stdout",
          "text": [
            "ROC Auc (cross-validation): 0.8293019480519479\n",
            "CPU times: user 59.8 ms, sys: 38.9 ms, total: 98.7 ms\n",
            "Wall time: 65.5 ms\n"
          ]
        }
      ],
      "source": [
        "%%time\n",
        "Compl_NB = ComplementNB()\n",
        "\n",
        "# Cross-validation\n",
        "scores = cross_val_score(Compl_NB, X_bayes_train, y_bayes_train, cv = cv, scoring = 'roc_auc')\n",
        "\n",
        "# ROC medio dei risultati\n",
        "mean_ROC = np.mean(scores)\n",
        "\n",
        "print(\"ROC Auc (cross-validation):\", mean_ROC)"
      ]
    },
    {
      "cell_type": "code",
      "execution_count": null,
      "metadata": {
        "colab": {
          "base_uri": "https://localhost:8080/",
          "height": 566
        },
        "id": "duQsYalY0exy",
        "outputId": "b676f7b0-aedc-487a-8cf3-d8b5c38775e5"
      },
      "outputs": [
        {
          "output_type": "stream",
          "name": "stdout",
          "text": [
            "Migliori parametri: {'alpha': 10.328281259410275}\n",
            "ROC AUC: 0.8202729044834307\n",
            "Accuracy: 0.6883116883116883\n",
            "F1-score: 0.4\n",
            "Precision: 0.26229508196721313\n",
            "Recall: 0.8421052631578947\n",
            "CPU times: user 24 s, sys: 14.5 s, total: 38.5 s\n",
            "Wall time: 22.5 s\n"
          ]
        },
        {
          "output_type": "display_data",
          "data": {
            "text/plain": [
              "<Figure size 640x480 with 2 Axes>"
            ],
            "image/png": "[encoded data removed]"
          },
          "metadata": {}
        }
      ],
      "source": [
        "%%time\n",
        "\n",
        "parameters = {'alpha': np.logspace(-8, 5, 500)}\n",
        "grid_search = GridSearchCV(Compl_NB, parameters, cv = cv, scoring = 'roc_auc')\n",
        "\n",
        "grid_search.fit(X_bayes_train, y_bayes_train)\n",
        "\n",
        "Compl_NB.alpha = grid_search.best_params_['alpha']\n",
        "\n",
        "# Addestro il modello con il miglior parametro\n",
        "Compl_NB.fit(X_bayes_train, y_bayes_train)\n",
        "\n",
        "# Predizioni sul set di validazione\n",
        "y_pred_prob = Compl_NB.predict_proba(X_bayes_val)[:,1]\n",
        "y_pred = Compl_NB.predict(X_bayes_val)\n",
        "\n",
        "roc_auc = roc_auc_score(y_bayes_val, y_pred_prob)\n",
        "accuracy = accuracy_score(y_bayes_val, y_pred)\n",
        "f1 = f1_score(y_bayes_val, y_pred)\n",
        "precision = precision_score(y_bayes_val, y_pred)\n",
        "recall = recall_score(y_bayes_val, y_pred)\n",
        "\n",
        "cf_matrix = confusion_matrix(y_bayes_val, y_pred, labels = Compl_NB.classes_)\n",
        "\n",
        "cf_ = cf_matrix.copy().astype(float)\n",
        "\n",
        "for j in range(2):\n",
        "  for i in range(2):\n",
        "    cf_[i,j] = (float(cf_matrix[i,j]) / float(np.sum(cf_matrix[:,j]) + 1e-5))\n",
        "\n",
        "sns.heatmap(cf_, annot = True, fmt = '.2%', cmap = 'coolwarm')\n",
        "\n",
        "\n",
        "print(\"Migliori parametri:\", grid_search.best_params_)\n",
        "print(\"ROC AUC:\", roc_auc)\n",
        "print(\"Accuracy:\", accuracy)\n",
        "print(\"F1-score:\", f1)\n",
        "print(\"Precision:\", precision)\n",
        "print(\"Recall:\", recall)"
      ]
    },
    {
      "cell_type": "code",
      "execution_count": null,
      "metadata": {
        "id": "KI7lFvxk0exy"
      },
      "outputs": [],
      "source": [
        "metrics = np.array(roc_auc)\n",
        "metrics = np.append(metrics, accuracy)\n",
        "metrics = np.append(metrics, f1)\n",
        "metrics = np.append(metrics, precision)\n",
        "metrics = np.append(metrics, recall)\n",
        "\n",
        "S1_result = np.vstack((S1_result, metrics))"
      ]
    },
    {
      "cell_type": "markdown",
      "metadata": {
        "id": "Spbq7lfX0exy"
      },
      "source": [
        "### **S1 (60% vs 40%) 4. SVM**"
      ]
    },
    {
      "cell_type": "markdown",
      "metadata": {
        "id": "2eJk6zcX0exy"
      },
      "source": [
        "#### *Lineare*"
      ]
    },
    {
      "cell_type": "code",
      "execution_count": null,
      "metadata": {
        "id": "rRvL3Vtv0exz",
        "colab": {
          "base_uri": "https://localhost:8080/"
        },
        "outputId": "de32cb8a-c861-4c4a-a551-7532fe2e9545"
      },
      "outputs": [
        {
          "output_type": "stream",
          "name": "stdout",
          "text": [
            "ROC score medio (cross validation):  0.8906385281385282\n"
          ]
        }
      ],
      "source": [
        "svm_linear = SVC(kernel = 'linear',class_weight = \"balanced\", random_state = 42, probability = True)\n",
        "\n",
        "scores = cross_val_score(svm_linear, X_train, y_train, cv = cv, scoring = 'roc_auc')\n",
        "ROC_mean = scores.mean()\n",
        "\n",
        "print(\"ROC score medio (cross validation): \", ROC_mean)"
      ]
    },
    {
      "cell_type": "code",
      "execution_count": null,
      "metadata": {
        "id": "wp7lGc-ZJaSj",
        "colab": {
          "base_uri": "https://localhost:8080/"
        },
        "outputId": "36434a48-7caa-4949-ea08-725627795e21"
      },
      "outputs": [
        {
          "output_type": "execute_result",
          "data": {
            "text/plain": [
              "array([0.001     , 0.00733333, 0.01366667, 0.02      ])"
            ]
          },
          "metadata": {},
          "execution_count": 90
        }
      ],
      "source": [
        "np.linspace(0.001, 0.02, 4)"
      ]
    },
    {
      "cell_type": "code",
      "execution_count": null,
      "metadata": {
        "id": "zR03zD820exz",
        "colab": {
          "base_uri": "https://localhost:8080/",
          "height": 566
        },
        "outputId": "251cd08c-147e-435b-dafb-86f3b0607354"
      },
      "outputs": [
        {
          "output_type": "stream",
          "name": "stdout",
          "text": [
            "Migliori parametri: {'C': 0.10110909090909091}\n",
            "ROC AUC: 0.8514619883040936\n",
            "Accuracy: 0.7987012987012987\n",
            "F1-score: 0.4918032786885246\n",
            "Precision: 0.35714285714285715\n",
            "Recall: 0.7894736842105263\n",
            "CPU times: user 1min 21s, sys: 119 ms, total: 1min 21s\n",
            "Wall time: 1min 21s\n"
          ]
        },
        {
          "output_type": "display_data",
          "data": {
            "text/plain": [
              "<Figure size 640x480 with 2 Axes>"
            ],
            "image/png": "[encoded data removed]"
          },
          "metadata": {}
        }
      ],
      "source": [
        "%%time\n",
        "parameters = {'C': np.linspace(1e-4, 10, 100)}\n",
        "\n",
        "grid_search = GridSearchCV(svm_linear, parameters, cv = cv, scoring = 'roc_auc')\n",
        "\n",
        "# Grid search sul training set\n",
        "grid_search.fit(X_train, y_train)\n",
        "\n",
        "svm_linear.C = grid_search.best_params_['C']\n",
        "svm_linear.fit(X_train, y_train)\n",
        "\n",
        "# Predizioni sul set di validazione\n",
        "y_pred_prob = svm_linear.predict_proba(X_val)[0:,1]\n",
        "y_pred = svm_linear.predict(X_val)\n",
        "\n",
        "roc_auc = roc_auc_score(y_val, y_pred_prob)\n",
        "accuracy = accuracy_score(y_val, y_pred)\n",
        "f1 = f1_score(y_val, y_pred)\n",
        "precision = precision_score(y_val, y_pred)\n",
        "recall = recall_score(y_val, y_pred)\n",
        "\n",
        "cf_matrix = confusion_matrix(y_val, y_pred, labels = svm_linear.classes_)\n",
        "\n",
        "\n",
        "cf_ = cf_matrix.copy().astype(float)\n",
        "\n",
        "for j in range(2):\n",
        "  for i in range(2):\n",
        "    cf_[i,j] = (float(cf_matrix[i,j]) / float(np.sum(cf_matrix[:,j]) + 1e-5))\n",
        "\n",
        "sns.heatmap(cf_, annot = True, fmt = '.2%', cmap = 'coolwarm')\n",
        "\n",
        "print(\"Migliori parametri:\", grid_search.best_params_)\n",
        "print(\"ROC AUC:\", roc_auc)\n",
        "print(\"Accuracy:\", accuracy)\n",
        "print(\"F1-score:\", f1)\n",
        "print(\"Precision:\", precision)\n",
        "print(\"Recall:\", recall)"
      ]
    },
    {
      "cell_type": "code",
      "execution_count": null,
      "metadata": {
        "id": "AClHolMO0exz"
      },
      "outputs": [],
      "source": [
        "metrics = np.array(roc_auc)\n",
        "metrics = np.append(metrics, accuracy)\n",
        "metrics = np.append(metrics, f1)\n",
        "metrics = np.append(metrics, precision)\n",
        "metrics = np.append(metrics, recall)\n",
        "\n",
        "S1_result = np.vstack((S1_result, metrics))"
      ]
    },
    {
      "cell_type": "markdown",
      "metadata": {
        "id": "bXYfNAdQ0exz"
      },
      "source": [
        "#### *Polinomiale*"
      ]
    },
    {
      "cell_type": "code",
      "execution_count": null,
      "metadata": {
        "id": "D9X0xBxI0exz",
        "colab": {
          "base_uri": "https://localhost:8080/"
        },
        "outputId": "e0b8645b-2e5e-463d-d601-032454360f63"
      },
      "outputs": [
        {
          "output_type": "stream",
          "name": "stdout",
          "text": [
            "ROC score medio (cross validation):  0.8125\n"
          ]
        }
      ],
      "source": [
        "svm_poli = SVC(kernel = 'poly', probability = True)\n",
        "\n",
        "scores = cross_val_score(svm_poli, X_train, y_train, cv = cv, scoring = 'roc_auc')\n",
        "ROC_mean = scores.mean()\n",
        "\n",
        "print(\"ROC score medio (cross validation): \", ROC_mean)"
      ]
    },
    {
      "cell_type": "code",
      "execution_count": null,
      "metadata": {
        "id": "rYCU9Yow0exz",
        "colab": {
          "base_uri": "https://localhost:8080/",
          "height": 620
        },
        "outputId": "a5d31222-b8bf-41ff-9593-865292ff1705"
      },
      "outputs": [
        {
          "output_type": "stream",
          "name": "stdout",
          "text": [
            "Migliori parametri: {'C': 1.3231578947368423, 'degree': 3}\n",
            "ROC AUC: 0.7805068226120858\n",
            "Accuracy: 0.8766233766233766\n",
            "F1-score: 0.0\n",
            "Precision: 0.0\n",
            "Recall: 0.0\n",
            "CPU times: user 53.7 s, sys: 83 ms, total: 53.8 s\n",
            "Wall time: 54 s\n"
          ]
        },
        {
          "output_type": "stream",
          "name": "stderr",
          "text": [
            "/usr/local/lib/python3.10/dist-packages/sklearn/metrics/_classification.py:1344: UndefinedMetricWarning: Precision is ill-defined and being set to 0.0 due to no predicted samples. Use `zero_division` parameter to control this behavior.\n",
            "  _warn_prf(average, modifier, msg_start, len(result))\n"
          ]
        },
        {
          "output_type": "display_data",
          "data": {
            "text/plain": [
              "<Figure size 640x480 with 2 Axes>"
            ],
            "image/png": "[encoded data removed]"
          },
          "metadata": {}
        }
      ],
      "source": [
        "%%time\n",
        "parameters = {'degree': [2, 3, 4], 'C': np.linspace(0.01, 5, 20)}\n",
        "\n",
        "grid_search = GridSearchCV(svm_poli, parameters, cv = cv, scoring = 'roc_auc')\n",
        "\n",
        "# Grid search sul training set\n",
        "grid_search.fit(X_train, y_train)\n",
        "\n",
        "svm_poli.C = grid_search.best_params_['C']\n",
        "svm_poli.degree = grid_search.best_params_['degree']\n",
        "svm_poli.fit(X_train, y_train)\n",
        "\n",
        "# Predizioni sul set di validazione\n",
        "y_pred_prob = svm_poli.predict_proba(X_val)[0:,1]\n",
        "y_pred = svm_poli.predict(X_val)\n",
        "\n",
        "roc_auc = roc_auc_score(y_val, y_pred_prob)\n",
        "accuracy = accuracy_score(y_val, y_pred)\n",
        "f1 = f1_score(y_val, y_pred)\n",
        "precision = precision_score(y_val, y_pred)\n",
        "recall = recall_score(y_val, y_pred)\n",
        "\n",
        "cf_matrix = confusion_matrix(y_val, y_pred, labels = svm_poli.classes_)\n",
        "\n",
        "\n",
        "cf_ = cf_matrix.copy().astype(float)\n",
        "\n",
        "for j in range(2):\n",
        "  for i in range(2):\n",
        "    cf_[i,j] = (float(cf_matrix[i,j]) / float(np.sum(cf_matrix[:,j]) + 1e-5))\n",
        "\n",
        "sns.heatmap(cf_, annot = True, fmt = '.2%', cmap = 'coolwarm')\n",
        "\n",
        "print(\"Migliori parametri:\", grid_search.best_params_)\n",
        "print(\"ROC AUC:\", roc_auc)\n",
        "print(\"Accuracy:\", accuracy)\n",
        "print(\"F1-score:\", f1)\n",
        "print(\"Precision:\", precision)\n",
        "print(\"Recall:\", recall)"
      ]
    },
    {
      "cell_type": "code",
      "execution_count": null,
      "metadata": {
        "id": "_OQZu_W00exz"
      },
      "outputs": [],
      "source": [
        "metrics = np.array(roc_auc)\n",
        "metrics = np.append(metrics, accuracy)\n",
        "metrics = np.append(metrics, f1)\n",
        "metrics = np.append(metrics, precision)\n",
        "metrics = np.append(metrics, recall)\n",
        "\n",
        "S1_result = np.vstack((S1_result, metrics))"
      ]
    },
    {
      "cell_type": "markdown",
      "metadata": {
        "id": "ZGJj4y7e0ex0"
      },
      "source": [
        "#### *Radial Basis Function (RBF)*"
      ]
    },
    {
      "cell_type": "code",
      "execution_count": null,
      "metadata": {
        "id": "hxLhgHwE0ex0",
        "colab": {
          "base_uri": "https://localhost:8080/"
        },
        "outputId": "1673e1d4-e74d-45ef-8699-810f3fd3da84"
      },
      "outputs": [
        {
          "output_type": "stream",
          "name": "stdout",
          "text": [
            "ROC score medio (cross validation):  0.8859848484848485\n"
          ]
        }
      ],
      "source": [
        "\n",
        "svm_rbf = SVC(kernel = \"rbf\", class_weight = \"balanced\", random_state = 42, probability = True)\n",
        "\n",
        "scores = cross_val_score(svm_rbf, X_train, y_train, cv = cv, scoring = 'roc_auc')\n",
        "ROC_mean = scores.mean()\n",
        "\n",
        "print(\"ROC score medio (cross validation): \", ROC_mean)"
      ]
    },
    {
      "cell_type": "code",
      "execution_count": null,
      "metadata": {
        "id": "pGuOnEjA0ex0",
        "colab": {
          "base_uri": "https://localhost:8080/",
          "height": 566
        },
        "outputId": "d614a7eb-4189-4534-8aaa-de00d0f125ea"
      },
      "outputs": [
        {
          "output_type": "stream",
          "name": "stdout",
          "text": [
            "Migliori parametri: {'C': 1.4736842105263157}\n",
            "ROC AUC: 0.8510721247563353\n",
            "Accuracy: 0.8636363636363636\n",
            "F1-score: 0.5333333333333333\n",
            "Precision: 0.46153846153846156\n",
            "Recall: 0.631578947368421\n",
            "CPU times: user 22.8 s, sys: 68.5 ms, total: 22.9 s\n",
            "Wall time: 22.9 s\n"
          ]
        },
        {
          "output_type": "display_data",
          "data": {
            "text/plain": [
              "<Figure size 640x480 with 2 Axes>"
            ],
            "image/png": "[encoded data removed]"
          },
          "metadata": {}
        }
      ],
      "source": [
        "%%time\n",
        "parameters = {'C': np.linspace(1, 10, 20)}\n",
        "\n",
        "grid_search = GridSearchCV(svm_rbf, parameters, cv = cv, scoring = 'roc_auc')\n",
        "\n",
        "# Grid search sul training set\n",
        "grid_search.fit(X_train, y_train)\n",
        "\n",
        "svm_rbf.C = grid_search.best_params_['C']\n",
        "\n",
        "# Addestro il modello con il miglior parametro\n",
        "svm_rbf.fit(X_train, y_train)\n",
        "\n",
        "# Predizioni sul set di validazione\n",
        "y_pred_prob = svm_rbf.predict_proba(X_val)[0:,1]\n",
        "y_pred = svm_rbf.predict(X_val)\n",
        "\n",
        "roc_auc = roc_auc_score(y_val, y_pred_prob)\n",
        "accuracy = accuracy_score(y_val, y_pred)\n",
        "f1 = f1_score(y_val, y_pred)\n",
        "precision = precision_score(y_val, y_pred)\n",
        "recall = recall_score(y_val, y_pred)\n",
        "\n",
        "cf_matrix = confusion_matrix(y_val, y_pred, labels = svm_rbf.classes_)\n",
        "\n",
        "\n",
        "cf_ = cf_matrix.copy().astype(float)\n",
        "\n",
        "for j in range(2):\n",
        "  for i in range(2):\n",
        "    cf_[i,j] = (float(cf_matrix[i,j]) / float(np.sum(cf_matrix[:,j]) + 1e-5))\n",
        "\n",
        "sns.heatmap(cf_, annot = True, fmt = '.2%', cmap = 'coolwarm')\n",
        "\n",
        "print(\"Migliori parametri:\", grid_search.best_params_)\n",
        "print(\"ROC AUC:\", roc_auc)\n",
        "print(\"Accuracy:\", accuracy)\n",
        "print(\"F1-score:\", f1)\n",
        "print(\"Precision:\", precision)\n",
        "print(\"Recall:\", recall)"
      ]
    },
    {
      "cell_type": "code",
      "execution_count": null,
      "metadata": {
        "id": "GWp6eThr0ex0"
      },
      "outputs": [],
      "source": [
        "metrics = np.array(roc_auc)\n",
        "metrics = np.append(metrics, accuracy)\n",
        "metrics = np.append(metrics, f1)\n",
        "metrics = np.append(metrics, precision)\n",
        "metrics = np.append(metrics, recall)\n",
        "\n",
        "S1_result = np.vstack((S1_result, metrics))"
      ]
    },
    {
      "cell_type": "markdown",
      "metadata": {
        "id": "l4iYOleI0ex0"
      },
      "source": [
        "### **S1 (60% vs 40%) 5. LDA**"
      ]
    },
    {
      "cell_type": "code",
      "execution_count": null,
      "metadata": {
        "id": "mp01jydU0ex0",
        "colab": {
          "base_uri": "https://localhost:8080/"
        },
        "outputId": "90b27774-d151-41aa-ac61-391da14bea04"
      },
      "outputs": [
        {
          "output_type": "stream",
          "name": "stdout",
          "text": [
            "ROC score medio (cross validation):  0.8886363636363637\n"
          ]
        }
      ],
      "source": [
        "lda = LinearDiscriminantAnalysis(solver = 'lsqr', shrinkage = 'auto')\n",
        "\n",
        "scores = cross_val_score(lda, X_train, y_train, cv = cv, scoring = 'roc_auc')\n",
        "ROC_mean = scores.mean()\n",
        "\n",
        "print(\"ROC score medio (cross validation): \", ROC_mean)"
      ]
    },
    {
      "cell_type": "code",
      "execution_count": null,
      "metadata": {
        "id": "RcAdz9yMW9XE",
        "colab": {
          "base_uri": "https://localhost:8080/"
        },
        "outputId": "8592d385-1e5f-41bc-c05b-19bc4e3ad2a1"
      },
      "outputs": [
        {
          "output_type": "execute_result",
          "data": {
            "text/plain": [
              "array([0.5  , 0.625, 0.75 , 0.875, 1.   ])"
            ]
          },
          "metadata": {},
          "execution_count": 100
        }
      ],
      "source": [
        "np.linspace(0.5, 1, 5)"
      ]
    },
    {
      "cell_type": "code",
      "execution_count": null,
      "metadata": {
        "colab": {
          "base_uri": "https://localhost:8080/",
          "height": 566
        },
        "id": "YbrHvm7X0ex0",
        "outputId": "37720e93-2eee-4976-b258-a4b6a9157894"
      },
      "outputs": [
        {
          "output_type": "stream",
          "name": "stdout",
          "text": [
            "Migliori parametri: {'shrinkage': 0.88888889}\n",
            "ROC AUC: 0.86588693957115\n",
            "Accuracy: 0.7857142857142857\n",
            "F1-score: 0.49230769230769234\n",
            "Precision: 0.34782608695652173\n",
            "Recall: 0.8421052631578947\n",
            "CPU times: user 14min 19s, sys: 1min 23s, total: 15min 42s\n",
            "Wall time: 9min 6s\n"
          ]
        },
        {
          "output_type": "display_data",
          "data": {
            "text/plain": [
              "<Figure size 640x480 with 2 Axes>"
            ],
            "image/png": "[encoded data removed]"
          },
          "metadata": {}
        }
      ],
      "source": [
        "%%time\n",
        "parameters = {'shrinkage' : np.linspace(1e-8, 1, 10)}\n",
        "\n",
        "grid_search = GridSearchCV(lda, parameters, cv = cv, scoring = 'roc_auc')\n",
        "\n",
        "# Grid search sul training set\n",
        "grid_search.fit(X_train, y_train)\n",
        "\n",
        "lda.shrinkage = grid_search.best_params_['shrinkage']\n",
        "\n",
        "# Addestro il modello con il miglior parametro\n",
        "lda.fit(X_train, y_train)\n",
        "\n",
        "# Predizioni sul set di validazione\n",
        "y_pred_prob = lda.predict_proba(X_val)[0:,1]\n",
        "y_pred = lda.predict(X_val)\n",
        "\n",
        "roc_auc = roc_auc_score(y_val, y_pred_prob)\n",
        "accuracy = accuracy_score(y_val, y_pred)\n",
        "f1 = f1_score(y_val, y_pred)\n",
        "precision = precision_score(y_val, y_pred)\n",
        "recall = recall_score(y_val, y_pred)\n",
        "\n",
        "cf_matrix = confusion_matrix(y_val, y_pred, labels = lda.classes_)\n",
        "\n",
        "\n",
        "cf_ = cf_matrix.copy().astype(float)\n",
        "\n",
        "for j in range(2):\n",
        "  for i in range(2):\n",
        "    cf_[i,j] = (float(cf_matrix[i,j]) / float(np.sum(cf_matrix[:,j]) + 1e-5))\n",
        "\n",
        "sns.heatmap(cf_, annot = True, fmt = '.2%', cmap = 'coolwarm')\n",
        "\n",
        "print(\"Migliori parametri:\", grid_search.best_params_)\n",
        "print(\"ROC AUC:\", roc_auc)\n",
        "print(\"Accuracy:\", accuracy)\n",
        "print(\"F1-score:\", f1)\n",
        "print(\"Precision:\", precision)\n",
        "print(\"Recall:\", recall)"
      ]
    },
    {
      "cell_type": "code",
      "execution_count": null,
      "metadata": {
        "id": "AS72hJXF0ex1"
      },
      "outputs": [],
      "source": [
        "metrics = np.array(roc_auc)\n",
        "metrics = np.append(metrics, accuracy)\n",
        "metrics = np.append(metrics, f1)\n",
        "metrics = np.append(metrics, precision)\n",
        "metrics = np.append(metrics, recall)\n",
        "\n",
        "S1_result = np.vstack((S1_result, metrics))"
      ]
    },
    {
      "cell_type": "code",
      "execution_count": null,
      "metadata": {
        "colab": {
          "base_uri": "https://localhost:8080/"
        },
        "id": "TZYKqgGb0ex1",
        "outputId": "2745119b-f583-46da-8e55-d5750cede997"
      },
      "outputs": [
        {
          "output_type": "execute_result",
          "data": {
            "text/plain": [
              "(24, 5)"
            ]
          },
          "metadata": {},
          "execution_count": 103
        }
      ],
      "source": [
        "S1_result.shape"
      ]
    },
    {
      "cell_type": "markdown",
      "metadata": {
        "id": "vGu5r86c2LMc"
      },
      "source": [
        "# Paziente S1 - dati unbalanced (50% vs 50%)"
      ]
    },
    {
      "cell_type": "markdown",
      "metadata": {
        "id": "76ZH0aBD2LMi"
      },
      "source": [
        "## Definizione dei Dataset"
      ]
    },
    {
      "cell_type": "markdown",
      "metadata": {
        "id": "2dT1bvm_2LMj"
      },
      "source": [
        "Suddivisione dei dati tra set di training, set di validazione e set di test e bilanciamento dei dati"
      ]
    },
    {
      "cell_type": "code",
      "execution_count": null,
      "metadata": {
        "colab": {
          "base_uri": "https://localhost:8080/"
        },
        "id": "YGlgJKuE2LMj",
        "outputId": "8e6f5a01-1f4e-4641-8ccc-377437bc711e"
      },
      "outputs": [
        {
          "output_type": "stream",
          "name": "stdout",
          "text": [
            "La parecentuale di dati di training NT è  50.0 % e quella di T è 50.0 %. E in termini assoluti: Counter({0: 76, 1: 76})\n"
          ]
        }
      ],
      "source": [
        "undersampler = RandomUnderSampler(sampling_strategy = 1, random_state = 42)\n",
        "X_train, y_train = undersampler.fit_resample(X_train_original, y_train_original)\n",
        "\n",
        "class_counter = Counter(y_train)\n",
        "first_class, count = class_counter.most_common(1)[0]\n",
        "NT_perc = (count/ len(y_train)) * 100\n",
        "print(\"La parecentuale di dati di training NT è \", NT_perc, \"% e quella di T è\", 100 - NT_perc , \"%. E in termini assoluti:\", class_counter)"
      ]
    },
    {
      "cell_type": "markdown",
      "metadata": {
        "id": "LN5KLDXa2LMk"
      },
      "source": [
        "## **Model selection**"
      ]
    },
    {
      "cell_type": "markdown",
      "metadata": {
        "id": "uzjW9tLk2LMk"
      },
      "source": [
        "### **S1 (50% vs 50%) 1. Logistic Regression**"
      ]
    },
    {
      "cell_type": "code",
      "execution_count": null,
      "metadata": {
        "colab": {
          "base_uri": "https://localhost:8080/"
        },
        "id": "mUCjAyRx2LMk",
        "outputId": "be70ff4f-0296-4fbc-8328-f68d60178279"
      },
      "outputs": [
        {
          "output_type": "stream",
          "name": "stdout",
          "text": [
            "ROC (cross-validation):  0.8235689619977545\n",
            "CPU times: user 473 ms, sys: 421 ms, total: 894 ms\n",
            "Wall time: 763 ms\n"
          ]
        }
      ],
      "source": [
        "%%time\n",
        "\n",
        "LR = LogisticRegression(max_iter = 1000)\n",
        "\n",
        "scores = cross_val_score(LR, X_train, y_train, cv = cv, scoring = 'f1')\n",
        "ROC_mean = scores.mean()\n",
        "\n",
        "print(\"ROC (cross-validation): \", ROC_mean)"
      ]
    },
    {
      "cell_type": "markdown",
      "metadata": {
        "id": "eCKaXZhc2LMl"
      },
      "source": [
        "Cerco i migliori parameti con Grid search"
      ]
    },
    {
      "cell_type": "code",
      "execution_count": null,
      "metadata": {
        "colab": {
          "base_uri": "https://localhost:8080/",
          "height": 566
        },
        "id": "xPWqc2252LMl",
        "outputId": "aa46497d-6a67-4924-be55-5595cbde1939"
      },
      "outputs": [
        {
          "output_type": "stream",
          "name": "stdout",
          "text": [
            "Migliori parametri: {'C': 0.001}\n",
            "ROC AUC: 0.8534113060428851\n",
            "Accuracy: 0.7272727272727273\n",
            "F1-score: 0.46153846153846156\n",
            "Precision: 0.3050847457627119\n",
            "Recall: 0.9473684210526315\n",
            "CPU times: user 41.3 s, sys: 21.3 s, total: 1min 2s\n",
            "Wall time: 35.2 s\n"
          ]
        },
        {
          "output_type": "display_data",
          "data": {
            "text/plain": [
              "<Figure size 640x480 with 2 Axes>"
            ],
            "image/png": "[encoded data removed]"
          },
          "metadata": {}
        }
      ],
      "source": [
        "%%time\n",
        "parameters = {'C': np.linspace(0.001, 10, 100)}\n",
        "grid_search = GridSearchCV(LR, parameters, cv = cv, scoring = 'roc_auc')\n",
        "\n",
        "# Grid search sul training set\n",
        "grid_search.fit(X_train, y_train)\n",
        "\n",
        "LR.C = grid_search.best_params_['C']\n",
        "LR.fit(X_train, y_train)\n",
        "\n",
        "# Predizioni sul set di validazione\n",
        "y_pred_prob = LR.predict_proba(X_val)[0:,1]\n",
        "y_pred = LR.predict(X_val)\n",
        "\n",
        "roc_auc = roc_auc_score(y_val, y_pred_prob)\n",
        "accuracy = accuracy_score(y_val, y_pred)\n",
        "f1 = f1_score(y_val, y_pred)\n",
        "precision = precision_score(y_val, y_pred)\n",
        "recall = recall_score(y_val, y_pred)\n",
        "\n",
        "cf_matrix = confusion_matrix(y_val, y_pred, labels = LR.classes_)\n",
        "\n",
        "\n",
        "cf_ = cf_matrix.copy().astype(float)\n",
        "\n",
        "for j in range(2):\n",
        "  for i in range(2):\n",
        "    cf_[i,j] = (float(cf_matrix[i,j]) / float(np.sum(cf_matrix[:,j]) + 1e-5))\n",
        "\n",
        "sns.heatmap(cf_, annot = True, fmt = '.2%', cmap = 'coolwarm')\n",
        "\n",
        "print(\"Migliori parametri:\", grid_search.best_params_)\n",
        "print(\"ROC AUC:\", roc_auc)\n",
        "print(\"Accuracy:\", accuracy)\n",
        "print(\"F1-score:\", f1)\n",
        "print(\"Precision:\", precision)\n",
        "print(\"Recall:\", recall)"
      ]
    },
    {
      "cell_type": "code",
      "execution_count": null,
      "metadata": {
        "id": "H4UoQvI12LMl"
      },
      "outputs": [],
      "source": [
        "metrics = np.array(roc_auc)\n",
        "metrics = np.append(metrics, accuracy)\n",
        "metrics = np.append(metrics, f1)\n",
        "metrics = np.append(metrics, precision)\n",
        "metrics = np.append(metrics, recall)\n",
        "S1_result = np.vstack((S1_result, metrics))"
      ]
    },
    {
      "cell_type": "markdown",
      "metadata": {
        "id": "kzH6hG4w2LMl"
      },
      "source": [
        "### **S1 (50% vs 50%) 2. Random Forest**"
      ]
    },
    {
      "cell_type": "code",
      "execution_count": null,
      "metadata": {
        "colab": {
          "base_uri": "https://localhost:8080/"
        },
        "id": "Abr-_GZL2LMl",
        "outputId": "239769f8-59df-4d4b-e9de-c24ca0cf108c"
      },
      "outputs": [
        {
          "output_type": "stream",
          "name": "stdout",
          "text": [
            "ROC score medio (cross validation):  0.8841517857142858\n",
            "CPU times: user 3 s, sys: 7.88 ms, total: 3.01 s\n",
            "Wall time: 3.02 s\n"
          ]
        }
      ],
      "source": [
        "%%time\n",
        "RF = RandomForestClassifier(criterion = 'gini')\n",
        "\n",
        "scores = cross_val_score(RF, X_train, y_train, cv = cv, scoring = 'roc_auc')\n",
        "ROC_mean = scores.mean()\n",
        "\n",
        "print(\"ROC score medio (cross validation): \", ROC_mean)"
      ]
    },
    {
      "cell_type": "code",
      "execution_count": null,
      "metadata": {
        "colab": {
          "base_uri": "https://localhost:8080/",
          "height": 566
        },
        "id": "uVW2HZJH2LMl",
        "outputId": "a826cb5f-13e0-41fd-c862-90027b10df8d"
      },
      "outputs": [
        {
          "output_type": "stream",
          "name": "stdout",
          "text": [
            "Migliori parametri: {'n_estimators': 325}\n",
            "ROC AUC: 0.8816764132553606\n",
            "Accuracy: 0.8051948051948052\n",
            "F1-score: 0.4999999999999999\n",
            "Precision: 0.36585365853658536\n",
            "Recall: 0.7894736842105263\n",
            "CPU times: user 8min 41s, sys: 1.67 s, total: 8min 42s\n",
            "Wall time: 8min 45s\n"
          ]
        },
        {
          "output_type": "display_data",
          "data": {
            "text/plain": [
              "<Figure size 640x480 with 2 Axes>"
            ],
            "image/png": "[encoded data removed]"
          },
          "metadata": {}
        }
      ],
      "source": [
        "%%time\n",
        "parameters = {'n_estimators': np.linspace(300, 1000, 29).astype(int)}\n",
        "\n",
        "grid_search = GridSearchCV(RF, parameters, cv = cv, scoring = 'roc_auc')\n",
        "\n",
        "# Grid search sul training set\n",
        "grid_search.fit(X_train, y_train)\n",
        "\n",
        "RF.n_estimators = grid_search.best_params_['n_estimators']\n",
        "RF.fit(X_train, y_train)\n",
        "\n",
        "# Predizioni sul set di validazione\n",
        "y_pred_prob = RF.predict_proba(X_val)[0:,1]\n",
        "y_pred = RF.predict(X_val)\n",
        "\n",
        "roc_auc = roc_auc_score(y_val, y_pred_prob)\n",
        "accuracy = accuracy_score(y_val, y_pred)\n",
        "f1 = f1_score(y_val, y_pred)\n",
        "precision = precision_score(y_val, y_pred)\n",
        "recall = recall_score(y_val, y_pred)\n",
        "\n",
        "cf_matrix = confusion_matrix(y_val, y_pred, labels = RF.classes_)\n",
        "\n",
        "\n",
        "cf_ = cf_matrix.copy().astype(float)\n",
        "\n",
        "for j in range(2):\n",
        "  for i in range(2):\n",
        "    cf_[i,j] = (float(cf_matrix[i,j]) / float(np.sum(cf_matrix[:,j]) + 1e-5))\n",
        "\n",
        "sns.heatmap(cf_, annot = True, fmt = '.2%', cmap = 'coolwarm')\n",
        "\n",
        "print(\"Migliori parametri:\", grid_search.best_params_)\n",
        "print(\"ROC AUC:\", roc_auc)\n",
        "print(\"Accuracy:\", accuracy)\n",
        "print(\"F1-score:\", f1)\n",
        "print(\"Precision:\", precision)\n",
        "print(\"Recall:\", recall)"
      ]
    },
    {
      "cell_type": "code",
      "execution_count": null,
      "metadata": {
        "id": "Qc6y9KcR2LMl"
      },
      "outputs": [],
      "source": [
        "metrics = np.array(roc_auc)\n",
        "metrics = np.append(metrics, accuracy)\n",
        "metrics = np.append(metrics, f1)\n",
        "metrics = np.append(metrics, precision)\n",
        "metrics = np.append(metrics, recall)\n",
        "\n",
        "S1_result = np.vstack((S1_result, metrics))"
      ]
    },
    {
      "cell_type": "markdown",
      "metadata": {
        "id": "JwWa84wB2LMl"
      },
      "source": [
        "### **S1 (50% vs 50%) 3. Naive Bayes**"
      ]
    },
    {
      "cell_type": "markdown",
      "metadata": {
        "id": "mLUoQPc52LMl"
      },
      "source": [
        "Traslazione dei dati per rendere positivi i valori per il Naive Bayes"
      ]
    },
    {
      "cell_type": "code",
      "execution_count": null,
      "metadata": {
        "colab": {
          "base_uri": "https://localhost:8080/"
        },
        "id": "GTgNrT8zYAHO",
        "outputId": "78701f88-5774-4889-cd0f-b45e66e8abbc"
      },
      "outputs": [
        {
          "output_type": "stream",
          "name": "stdout",
          "text": [
            "La parecentuale di dati di training NT è  50.0 % e quella di T è 50.0 %. E in termini assoluti: Counter({0: 76, 1: 76})\n"
          ]
        }
      ],
      "source": [
        "undersampler = RandomUnderSampler(sampling_strategy = 1, random_state = 42)\n",
        "X_bayes_train, y_bayes_train = undersampler.fit_resample(X_bayes_train_original, y_bayes_train_original)\n",
        "\n",
        "class_counter = Counter(y_bayes_train)\n",
        "first_class, count = class_counter.most_common(1)[0]\n",
        "NT_perc = (count/ len(y_bayes_train)) * 100\n",
        "print(\"La parecentuale di dati di training NT è \", NT_perc, \"% e quella di T è\", 100 - NT_perc , \"%. E in termini assoluti:\", class_counter)"
      ]
    },
    {
      "cell_type": "markdown",
      "metadata": {
        "id": "I4OeVbhD2LMm"
      },
      "source": [
        "#### *MultiNB*"
      ]
    },
    {
      "cell_type": "code",
      "execution_count": null,
      "metadata": {
        "colab": {
          "base_uri": "https://localhost:8080/"
        },
        "id": "vhVIyXZ02LMm",
        "outputId": "32816c3f-0204-4927-99e5-5173c994048c"
      },
      "outputs": [
        {
          "output_type": "stream",
          "name": "stdout",
          "text": [
            "ROC score medio (cross-validation): 0.8622767857142858\n"
          ]
        }
      ],
      "source": [
        "Multi_NB = MultinomialNB()\n",
        "\n",
        "# Valutazione tramite validazione incrociata (cross-validation)\n",
        "scores = cross_val_score(Multi_NB, X_bayes_train, y_bayes_train, cv = cv, scoring = 'roc_auc')\n",
        "\n",
        "# ROC medio dei risultati\n",
        "mean_ROC = np.mean(scores)\n",
        "\n",
        "print(\"ROC score medio (cross-validation):\", mean_ROC)"
      ]
    },
    {
      "cell_type": "code",
      "execution_count": null,
      "metadata": {
        "colab": {
          "base_uri": "https://localhost:8080/",
          "height": 566
        },
        "id": "svindlK12LMm",
        "outputId": "d03781fa-238b-46f4-f4ad-b483cdc0c67c"
      },
      "outputs": [
        {
          "output_type": "stream",
          "name": "stdout",
          "text": [
            "Migliori parametri: {'alpha': 21.21550171362448}\n",
            "ROC AUC: 0.8167641325536062\n",
            "Accuracy: 0.6753246753246753\n",
            "F1-score: 0.41860465116279066\n",
            "Precision: 0.26865671641791045\n",
            "Recall: 0.9473684210526315\n",
            "CPU times: user 21.7 s, sys: 13.4 s, total: 35 s\n",
            "Wall time: 19.3 s\n"
          ]
        },
        {
          "output_type": "display_data",
          "data": {
            "text/plain": [
              "<Figure size 640x480 with 2 Axes>"
            ],
            "image/png": "[encoded data removed]"
          },
          "metadata": {}
        }
      ],
      "source": [
        "%%time\n",
        "\n",
        "# GridSearchCV\n",
        "parameters = {'alpha': np.logspace(-8, 5, 500)}\n",
        "grid_search = GridSearchCV(Multi_NB, parameters, cv = cv, scoring = 'roc_auc')\n",
        "\n",
        "# grid search sul training set\n",
        "grid_search.fit(X_bayes_train, y_bayes_train)\n",
        "\n",
        "Multi_NB.alpha = grid_search.best_params_['alpha']\n",
        "Multi_NB.fit(X_bayes_train, y_bayes_train)\n",
        "\n",
        "# Predizioni sul set di validazione\n",
        "y_pred_prob = Multi_NB.predict_proba(X_bayes_val)[:,1]\n",
        "y_pred = Multi_NB.predict(X_bayes_val)\n",
        "\n",
        "roc_auc = roc_auc_score(y_bayes_val, y_pred_prob)\n",
        "accuracy = accuracy_score(y_bayes_val, y_pred)\n",
        "f1 = f1_score(y_bayes_val, y_pred)\n",
        "precision = precision_score(y_bayes_val, y_pred)\n",
        "recall = recall_score(y_bayes_val, y_pred)\n",
        "\n",
        "cf_matrix = confusion_matrix(y_bayes_val, y_pred, labels = Multi_NB.classes_)\n",
        "\n",
        "\n",
        "cf_ = cf_matrix.copy().astype(float)\n",
        "\n",
        "for j in range(2):\n",
        "  for i in range(2):\n",
        "    cf_[i,j] = (float(cf_matrix[i,j]) / float(np.sum(cf_matrix[:,j]) + 1e-5))\n",
        "\n",
        "sns.heatmap(cf_, annot = True, fmt = '.2%', cmap = 'coolwarm')\n",
        "\n",
        "\n",
        "print(\"Migliori parametri:\", grid_search.best_params_)\n",
        "print(\"ROC AUC:\", roc_auc)\n",
        "print(\"Accuracy:\", accuracy)\n",
        "print(\"F1-score:\", f1)\n",
        "print(\"Precision:\", precision)\n",
        "print(\"Recall:\", recall)"
      ]
    },
    {
      "cell_type": "code",
      "execution_count": null,
      "metadata": {
        "id": "NNbediJY2LMm"
      },
      "outputs": [],
      "source": [
        "metrics = np.array(roc_auc)\n",
        "metrics = np.append(metrics, accuracy)\n",
        "metrics = np.append(metrics, f1)\n",
        "metrics = np.append(metrics, precision)\n",
        "metrics = np.append(metrics, recall)\n",
        "\n",
        "S1_result = np.vstack((S1_result, metrics))"
      ]
    },
    {
      "cell_type": "markdown",
      "metadata": {
        "id": "-EoL-dLC2LMm"
      },
      "source": [
        "#### *Complement NB*"
      ]
    },
    {
      "cell_type": "code",
      "execution_count": null,
      "metadata": {
        "colab": {
          "base_uri": "https://localhost:8080/"
        },
        "id": "UFJvqCpK2LMm",
        "outputId": "87c27b53-f887-407e-8f8d-bdd321ca00e2"
      },
      "outputs": [
        {
          "output_type": "stream",
          "name": "stdout",
          "text": [
            "ROC Auc (cross-validation): 0.8622767857142858\n",
            "CPU times: user 46.4 ms, sys: 23 ms, total: 69.4 ms\n",
            "Wall time: 38.1 ms\n"
          ]
        }
      ],
      "source": [
        "%%time\n",
        "Compl_NB = ComplementNB()\n",
        "\n",
        "# Cross-validation\n",
        "scores = cross_val_score(Compl_NB, X_bayes_train, y_bayes_train, cv = cv, scoring = 'roc_auc')\n",
        "\n",
        "# ROC medio dei risultati\n",
        "mean_ROC = np.mean(scores)\n",
        "\n",
        "print(\"ROC Auc (cross-validation):\", mean_ROC)"
      ]
    },
    {
      "cell_type": "code",
      "execution_count": null,
      "metadata": {
        "colab": {
          "base_uri": "https://localhost:8080/",
          "height": 566
        },
        "id": "6YMdu4CD2LMm",
        "outputId": "55aa7d7a-2dd3-4d15-8be6-3715d48ed6ee"
      },
      "outputs": [
        {
          "output_type": "stream",
          "name": "stdout",
          "text": [
            "Migliori parametri: {'alpha': 21.21550171362448}\n",
            "ROC AUC: 0.8167641325536062\n",
            "Accuracy: 0.6753246753246753\n",
            "F1-score: 0.41860465116279066\n",
            "Precision: 0.26865671641791045\n",
            "Recall: 0.9473684210526315\n",
            "CPU times: user 22.7 s, sys: 13.9 s, total: 36.7 s\n",
            "Wall time: 22.9 s\n"
          ]
        },
        {
          "output_type": "display_data",
          "data": {
            "text/plain": [
              "<Figure size 640x480 with 2 Axes>"
            ],
            "image/png": "[encoded data removed]"
          },
          "metadata": {}
        }
      ],
      "source": [
        "%%time\n",
        "parameters = {'alpha': np.logspace(-8, 5, 500)}\n",
        "grid_search = GridSearchCV(Compl_NB, parameters, cv = cv, scoring = 'roc_auc')\n",
        "\n",
        "grid_search.fit(X_bayes_train, y_bayes_train)\n",
        "\n",
        "Compl_NB.alpha = grid_search.best_params_['alpha']\n",
        "Compl_NB.fit(X_bayes_train, y_bayes_train)\n",
        "\n",
        "# Predizioni sul set di validazione\n",
        "y_pred_prob = Compl_NB.predict_proba(X_bayes_val)[:,1]\n",
        "y_pred = Compl_NB.predict(X_bayes_val)\n",
        "\n",
        "roc_auc = roc_auc_score(y_bayes_val, y_pred_prob)\n",
        "accuracy = accuracy_score(y_bayes_val, y_pred)\n",
        "f1 = f1_score(y_bayes_val, y_pred)\n",
        "precision = precision_score(y_bayes_val, y_pred)\n",
        "recall = recall_score(y_bayes_val, y_pred)\n",
        "\n",
        "cf_matrix = confusion_matrix(y_bayes_val, y_pred, labels = Compl_NB.classes_)\n",
        "\n",
        "cf_ = cf_matrix.copy().astype(float)\n",
        "\n",
        "for j in range(2):\n",
        "  for i in range(2):\n",
        "    cf_[i,j] = (float(cf_matrix[i,j]) / float(np.sum(cf_matrix[:,j]) + 1e-5))\n",
        "\n",
        "sns.heatmap(cf_, annot = True, fmt = '.2%', cmap = 'coolwarm')\n",
        "\n",
        "\n",
        "print(\"Migliori parametri:\", grid_search.best_params_)\n",
        "print(\"ROC AUC:\", roc_auc)\n",
        "print(\"Accuracy:\", accuracy)\n",
        "print(\"F1-score:\", f1)\n",
        "print(\"Precision:\", precision)\n",
        "print(\"Recall:\", recall)"
      ]
    },
    {
      "cell_type": "code",
      "execution_count": null,
      "metadata": {
        "id": "STgrvuEN2LMn"
      },
      "outputs": [],
      "source": [
        "metrics = np.array(roc_auc)\n",
        "metrics = np.append(metrics, accuracy)\n",
        "metrics = np.append(metrics, f1)\n",
        "metrics = np.append(metrics, precision)\n",
        "metrics = np.append(metrics, recall)\n",
        "\n",
        "S1_result = np.vstack((S1_result, metrics))"
      ]
    },
    {
      "cell_type": "markdown",
      "metadata": {
        "id": "sIGzsl0Y2LMn"
      },
      "source": [
        "### **S1 (50% vs 50%) 4. SVM**"
      ]
    },
    {
      "cell_type": "markdown",
      "metadata": {
        "id": "okcA3FIX2LMn"
      },
      "source": [
        "#### *Lineare*"
      ]
    },
    {
      "cell_type": "code",
      "execution_count": null,
      "metadata": {
        "colab": {
          "base_uri": "https://localhost:8080/"
        },
        "id": "QgPQfWpm2LMn",
        "outputId": "697f904a-761b-44bb-a51d-dcedcafb75bc"
      },
      "outputs": [
        {
          "output_type": "stream",
          "name": "stdout",
          "text": [
            "ROC score medio (cross validation):  0.8756696428571429\n"
          ]
        }
      ],
      "source": [
        "svm_linear = SVC(kernel = 'linear',class_weight = \"balanced\", random_state = 42, probability = True)\n",
        "\n",
        "scores = cross_val_score(svm_linear, X_train, y_train, cv = cv, scoring = 'roc_auc')\n",
        "ROC_mean = scores.mean()\n",
        "\n",
        "print(\"ROC score medio (cross validation): \", ROC_mean)"
      ]
    },
    {
      "cell_type": "code",
      "execution_count": null,
      "metadata": {
        "colab": {
          "base_uri": "https://localhost:8080/",
          "height": 566
        },
        "id": "gXbM5XVD2LMn",
        "outputId": "41f6b240-ca6a-45fe-957b-6a47807b2a56"
      },
      "outputs": [
        {
          "output_type": "stream",
          "name": "stdout",
          "text": [
            "Migliori parametri: {'C': 0.10110909090909091}\n",
            "ROC AUC: 0.8319688109161792\n",
            "Accuracy: 0.7207792207792207\n",
            "F1-score: 0.410958904109589\n",
            "Precision: 0.2777777777777778\n",
            "Recall: 0.7894736842105263\n",
            "CPU times: user 55.1 s, sys: 80.6 ms, total: 55.2 s\n",
            "Wall time: 55.3 s\n"
          ]
        },
        {
          "output_type": "display_data",
          "data": {
            "text/plain": [
              "<Figure size 640x480 with 2 Axes>"
            ],
            "image/png": "[encoded data removed]"
          },
          "metadata": {}
        }
      ],
      "source": [
        "%%time\n",
        "parameters = {'C': np.linspace(1e-4, 10, 100)}\n",
        "\n",
        "grid_search = GridSearchCV(svm_linear, parameters, cv = cv, scoring = 'roc_auc')\n",
        "\n",
        "# Grid search sul training set\n",
        "grid_search.fit(X_train, y_train)\n",
        "\n",
        "svm_linear.C = grid_search.best_params_['C']\n",
        "svm_linear.fit(X_train, y_train)\n",
        "\n",
        "# Predizioni sul set di validazione\n",
        "y_pred_prob = svm_linear.predict_proba(X_val)[0:,1]\n",
        "y_pred = svm_linear.predict(X_val)\n",
        "\n",
        "roc_auc = roc_auc_score(y_val, y_pred_prob)\n",
        "accuracy = accuracy_score(y_val, y_pred)\n",
        "f1 = f1_score(y_val, y_pred)\n",
        "precision = precision_score(y_val, y_pred)\n",
        "recall = recall_score(y_val, y_pred)\n",
        "\n",
        "cf_matrix = confusion_matrix(y_val, y_pred, labels = svm_linear.classes_)\n",
        "\n",
        "\n",
        "cf_ = cf_matrix.copy().astype(float)\n",
        "\n",
        "for j in range(2):\n",
        "  for i in range(2):\n",
        "    cf_[i,j] = (float(cf_matrix[i,j]) / float(np.sum(cf_matrix[:,j]) + 1e-5))\n",
        "\n",
        "sns.heatmap(cf_, annot = True, fmt = '.2%', cmap = 'coolwarm')\n",
        "\n",
        "print(\"Migliori parametri:\", grid_search.best_params_)\n",
        "print(\"ROC AUC:\", roc_auc)\n",
        "print(\"Accuracy:\", accuracy)\n",
        "print(\"F1-score:\", f1)\n",
        "print(\"Precision:\", precision)\n",
        "print(\"Recall:\", recall)"
      ]
    },
    {
      "cell_type": "code",
      "execution_count": null,
      "metadata": {
        "id": "h1VvLpwo2LMn"
      },
      "outputs": [],
      "source": [
        "metrics = np.array(roc_auc)\n",
        "metrics = np.append(metrics, accuracy)\n",
        "metrics = np.append(metrics, f1)\n",
        "metrics = np.append(metrics, precision)\n",
        "metrics = np.append(metrics, recall)\n",
        "\n",
        "S1_result = np.vstack((S1_result, metrics))"
      ]
    },
    {
      "cell_type": "markdown",
      "metadata": {
        "id": "L22JXYP42LMn"
      },
      "source": [
        "#### *Polinomiale*"
      ]
    },
    {
      "cell_type": "code",
      "execution_count": null,
      "metadata": {
        "colab": {
          "base_uri": "https://localhost:8080/"
        },
        "id": "UUy62qTF2LMn",
        "outputId": "0c78817f-619b-4047-982e-bae2ba7593b2"
      },
      "outputs": [
        {
          "output_type": "stream",
          "name": "stdout",
          "text": [
            "ROC score medio (cross validation):  0.8611607142857143\n"
          ]
        }
      ],
      "source": [
        "svm_poli = SVC(kernel = 'poly', probability = True)\n",
        "\n",
        "scores = cross_val_score(svm_poli, X_train, y_train, cv = cv, scoring = 'roc_auc')\n",
        "ROC_mean = scores.mean()\n",
        "\n",
        "print(\"ROC score medio (cross validation): \", ROC_mean)"
      ]
    },
    {
      "cell_type": "code",
      "execution_count": null,
      "metadata": {
        "colab": {
          "base_uri": "https://localhost:8080/",
          "height": 566
        },
        "id": "33fOMiFT2LMn",
        "outputId": "9fec1a08-bc63-46bd-82ff-c368cb64d445"
      },
      "outputs": [
        {
          "output_type": "stream",
          "name": "stdout",
          "text": [
            "Migliori parametri: {'C': 1.0605263157894738, 'degree': 3}\n",
            "ROC AUC: 0.7590643274853801\n",
            "Accuracy: 0.7012987012987013\n",
            "F1-score: 0.32352941176470584\n",
            "Precision: 0.22448979591836735\n",
            "Recall: 0.5789473684210527\n",
            "CPU times: user 34.6 s, sys: 94.4 ms, total: 34.7 s\n",
            "Wall time: 34.7 s\n"
          ]
        },
        {
          "output_type": "display_data",
          "data": {
            "text/plain": [
              "<Figure size 640x480 with 2 Axes>"
            ],
            "image/png": "[encoded data removed]"
          },
          "metadata": {}
        }
      ],
      "source": [
        "%%time\n",
        "parameters = {'degree': [2, 3, 4], 'C': np.linspace(0.01, 5, 20)}\n",
        "\n",
        "grid_search = GridSearchCV(svm_poli, parameters, cv = cv, scoring = 'roc_auc')\n",
        "\n",
        "# Grid search sul training set\n",
        "grid_search.fit(X_train, y_train)\n",
        "\n",
        "svm_poli.C = grid_search.best_params_['C']\n",
        "svm_poli.degree = grid_search.best_params_['degree']\n",
        "svm_poli.fit(X_train, y_train)\n",
        "\n",
        "# Predizioni sul set di validazione\n",
        "y_pred_prob = svm_poli.predict_proba(X_val)[0:,1]\n",
        "y_pred = svm_poli.predict(X_val)\n",
        "\n",
        "roc_auc = roc_auc_score(y_val, y_pred_prob)\n",
        "accuracy = accuracy_score(y_val, y_pred)\n",
        "f1 = f1_score(y_val, y_pred)\n",
        "precision = precision_score(y_val, y_pred)\n",
        "recall = recall_score(y_val, y_pred)\n",
        "\n",
        "cf_matrix = confusion_matrix(y_val, y_pred, labels = svm_poli.classes_)\n",
        "\n",
        "\n",
        "cf_ = cf_matrix.copy().astype(float)\n",
        "\n",
        "for j in range(2):\n",
        "  for i in range(2):\n",
        "    cf_[i,j] = (float(cf_matrix[i,j]) / float(np.sum(cf_matrix[:,j]) + 1e-5))\n",
        "\n",
        "sns.heatmap(cf_, annot = True, fmt = '.2%', cmap = 'coolwarm')\n",
        "\n",
        "print(\"Migliori parametri:\", grid_search.best_params_)\n",
        "print(\"ROC AUC:\", roc_auc)\n",
        "print(\"Accuracy:\", accuracy)\n",
        "print(\"F1-score:\", f1)\n",
        "print(\"Precision:\", precision)\n",
        "print(\"Recall:\", recall)"
      ]
    },
    {
      "cell_type": "code",
      "execution_count": null,
      "metadata": {
        "id": "GStusqdi2LMn"
      },
      "outputs": [],
      "source": [
        "metrics = np.array(roc_auc)\n",
        "metrics = np.append(metrics, accuracy)\n",
        "metrics = np.append(metrics, f1)\n",
        "metrics = np.append(metrics, precision)\n",
        "metrics = np.append(metrics, recall)\n",
        "\n",
        "S1_result = np.vstack((S1_result, metrics))"
      ]
    },
    {
      "cell_type": "markdown",
      "metadata": {
        "id": "k2Sb8LM_2LMn"
      },
      "source": [
        "#### *Radial Basis Function (RBF)*"
      ]
    },
    {
      "cell_type": "code",
      "execution_count": null,
      "metadata": {
        "colab": {
          "base_uri": "https://localhost:8080/"
        },
        "id": "dK6v5N2s2LMn",
        "outputId": "2df9887a-df78-4b31-a3c6-f331a29f5d88"
      },
      "outputs": [
        {
          "output_type": "stream",
          "name": "stdout",
          "text": [
            "ROC score medio (cross validation):  0.8888392857142857\n"
          ]
        }
      ],
      "source": [
        "svm_rbf = SVC(kernel = \"rbf\", class_weight = \"balanced\", random_state = 42, probability = True)\n",
        "\n",
        "scores = cross_val_score(svm_rbf, X_train, y_train, cv = cv, scoring = 'roc_auc')\n",
        "ROC_mean = scores.mean()\n",
        "\n",
        "print(\"ROC score medio (cross validation): \", ROC_mean)"
      ]
    },
    {
      "cell_type": "code",
      "execution_count": null,
      "metadata": {
        "colab": {
          "base_uri": "https://localhost:8080/",
          "height": 566
        },
        "id": "U_hJZwBc2LMo",
        "outputId": "b4b16e76-19e6-434a-c2d7-b71b40ad6344"
      },
      "outputs": [
        {
          "output_type": "stream",
          "name": "stdout",
          "text": [
            "Migliori parametri: {'C': 1.9473684210526314}\n",
            "ROC AUC: 0.839766081871345\n",
            "Accuracy: 0.7207792207792207\n",
            "F1-score: 0.4556962025316456\n",
            "Precision: 0.3\n",
            "Recall: 0.9473684210526315\n",
            "CPU times: user 14.8 s, sys: 49.3 ms, total: 14.9 s\n",
            "Wall time: 14.9 s\n"
          ]
        },
        {
          "output_type": "display_data",
          "data": {
            "text/plain": [
              "<Figure size 640x480 with 2 Axes>"
            ],
            "image/png": "[encoded data removed]"
          },
          "metadata": {}
        }
      ],
      "source": [
        "%%time\n",
        "parameters = {'C': np.linspace(1, 10, 20)}\n",
        "\n",
        "grid_search = GridSearchCV(svm_rbf, parameters, cv = cv, scoring = 'roc_auc')\n",
        "\n",
        "# Grid search sul training set\n",
        "grid_search.fit(X_train, y_train)\n",
        "\n",
        "svm_rbf.C = grid_search.best_params_['C']\n",
        "svm_rbf.fit(X_train, y_train)\n",
        "\n",
        "# Predizioni sul set di validazione\n",
        "y_pred_prob = svm_rbf.predict_proba(X_val)[0:,1]\n",
        "y_pred = svm_rbf.predict(X_val)\n",
        "\n",
        "roc_auc = roc_auc_score(y_val, y_pred_prob)\n",
        "accuracy = accuracy_score(y_val, y_pred)\n",
        "f1 = f1_score(y_val, y_pred)\n",
        "precision = precision_score(y_val, y_pred)\n",
        "recall = recall_score(y_val, y_pred)\n",
        "\n",
        "cf_matrix = confusion_matrix(y_val, y_pred, labels = svm_rbf.classes_)\n",
        "\n",
        "\n",
        "cf_ = cf_matrix.copy().astype(float)\n",
        "\n",
        "for j in range(2):\n",
        "  for i in range(2):\n",
        "    cf_[i,j] = (float(cf_matrix[i,j]) / float(np.sum(cf_matrix[:,j]) + 1e-5))\n",
        "\n",
        "sns.heatmap(cf_, annot = True, fmt = '.2%', cmap = 'coolwarm')\n",
        "\n",
        "print(\"Migliori parametri:\", grid_search.best_params_)\n",
        "print(\"ROC AUC:\", roc_auc)\n",
        "print(\"Accuracy:\", accuracy)\n",
        "print(\"F1-score:\", f1)\n",
        "print(\"Precision:\", precision)\n",
        "print(\"Recall:\", recall)"
      ]
    },
    {
      "cell_type": "code",
      "execution_count": null,
      "metadata": {
        "id": "N-5qiXOJ2LMo"
      },
      "outputs": [],
      "source": [
        "metrics = np.array(roc_auc)\n",
        "metrics = np.append(metrics, accuracy)\n",
        "metrics = np.append(metrics, f1)\n",
        "metrics = np.append(metrics, precision)\n",
        "metrics = np.append(metrics, recall)\n",
        "\n",
        "S1_result = np.vstack((S1_result, metrics))"
      ]
    },
    {
      "cell_type": "markdown",
      "metadata": {
        "id": "Q0wDLl_H2LMo"
      },
      "source": [
        "### **S1 (50% vs 50%) 5. LDA**"
      ]
    },
    {
      "cell_type": "code",
      "execution_count": null,
      "metadata": {
        "colab": {
          "base_uri": "https://localhost:8080/"
        },
        "id": "dHPS3knU2LMo",
        "outputId": "6b18083c-e5a3-4c23-a353-bf7f2c856ffa"
      },
      "outputs": [
        {
          "output_type": "stream",
          "name": "stdout",
          "text": [
            "ROC score medio (cross validation):  0.8801339285714287\n"
          ]
        }
      ],
      "source": [
        "lda = LinearDiscriminantAnalysis(solver = 'lsqr', shrinkage = 'auto')\n",
        "\n",
        "scores = cross_val_score(lda, X_train, y_train, cv = cv, scoring = 'roc_auc')\n",
        "ROC_mean = scores.mean()\n",
        "\n",
        "print(\"ROC score medio (cross validation): \", ROC_mean)"
      ]
    },
    {
      "cell_type": "code",
      "execution_count": null,
      "metadata": {
        "colab": {
          "base_uri": "https://localhost:8080/"
        },
        "id": "r_MvMExlc0FB",
        "outputId": "a7baabd4-879e-411b-ed06-1f300f596408"
      },
      "outputs": [
        {
          "output_type": "execute_result",
          "data": {
            "text/plain": [
              "array([0.4 , 0.55, 0.7 , 0.85, 1.  ])"
            ]
          },
          "metadata": {},
          "execution_count": 128
        }
      ],
      "source": [
        "np.linspace(0.4, 1, 5)"
      ]
    },
    {
      "cell_type": "code",
      "execution_count": null,
      "metadata": {
        "colab": {
          "base_uri": "https://localhost:8080/",
          "height": 566
        },
        "id": "dTx2pp242LMo",
        "outputId": "adce7614-a4c9-4510-9234-b177d74e1ccf"
      },
      "outputs": [
        {
          "output_type": "stream",
          "name": "stdout",
          "text": [
            "Migliori parametri: {'shrinkage': 0.88888889}\n",
            "ROC AUC: 0.8432748538011695\n",
            "Accuracy: 0.7207792207792207\n",
            "F1-score: 0.44155844155844154\n",
            "Precision: 0.29310344827586204\n",
            "Recall: 0.8947368421052632\n",
            "CPU times: user 14min 15s, sys: 1min 20s, total: 15min 36s\n",
            "Wall time: 9min 2s\n"
          ]
        },
        {
          "output_type": "display_data",
          "data": {
            "text/plain": [
              "<Figure size 640x480 with 2 Axes>"
            ],
            "image/png": "[encoded data removed]"
          },
          "metadata": {}
        }
      ],
      "source": [
        "%%time\n",
        "parameters = {'shrinkage' : np.linspace(1e-8, 1, 10)}\n",
        "\n",
        "grid_search = GridSearchCV(lda, parameters, cv = cv, scoring = 'roc_auc')\n",
        "\n",
        "# Grid search sul training set\n",
        "grid_search.fit(X_train, y_train)\n",
        "\n",
        "lda.shrinkage = grid_search.best_params_['shrinkage']\n",
        "lda.fit(X_train, y_train)\n",
        "\n",
        "# Predizioni sul set di validazione\n",
        "y_pred_prob = lda.predict_proba(X_val)[0:,1]\n",
        "y_pred = lda.predict(X_val)\n",
        "\n",
        "roc_auc = roc_auc_score(y_val, y_pred_prob)\n",
        "accuracy = accuracy_score(y_val, y_pred)\n",
        "f1 = f1_score(y_val, y_pred)\n",
        "precision = precision_score(y_val, y_pred)\n",
        "recall = recall_score(y_val, y_pred)\n",
        "\n",
        "cf_matrix = confusion_matrix(y_val, y_pred, labels = lda.classes_)\n",
        "\n",
        "\n",
        "cf_ = cf_matrix.copy().astype(float)\n",
        "\n",
        "for j in range(2):\n",
        "  for i in range(2):\n",
        "    cf_[i,j] = (float(cf_matrix[i,j]) / float(np.sum(cf_matrix[:,j]) + 1e-5))\n",
        "\n",
        "sns.heatmap(cf_, annot = True, fmt = '.2%', cmap = 'coolwarm')\n",
        "\n",
        "print(\"Migliori parametri:\", grid_search.best_params_)\n",
        "print(\"ROC AUC:\", roc_auc)\n",
        "print(\"Accuracy:\", accuracy)\n",
        "print(\"F1-score:\", f1)\n",
        "print(\"Precision:\", precision)\n",
        "print(\"Recall:\", recall)"
      ]
    },
    {
      "cell_type": "code",
      "execution_count": null,
      "metadata": {
        "id": "cRYQP9kr2LMo"
      },
      "outputs": [],
      "source": [
        "metrics = np.array(roc_auc)\n",
        "metrics = np.append(metrics, accuracy)\n",
        "metrics = np.append(metrics, f1)\n",
        "metrics = np.append(metrics, precision)\n",
        "metrics = np.append(metrics, recall)\n",
        "\n",
        "S1_result = np.vstack((S1_result, metrics))"
      ]
    },
    {
      "cell_type": "code",
      "execution_count": null,
      "metadata": {
        "id": "LQf9kQT72LMo",
        "colab": {
          "base_uri": "https://localhost:8080/"
        },
        "outputId": "3d9aae3c-33c7-4acb-cad2-7075dfe5bfd8"
      },
      "outputs": [
        {
          "output_type": "execute_result",
          "data": {
            "text/plain": [
              "(32, 5)"
            ]
          },
          "metadata": {},
          "execution_count": 131
        }
      ],
      "source": [
        "S1_result.shape"
      ]
    },
    {
      "cell_type": "markdown",
      "source": [
        "# Salvataggio risultati per il paziente"
      ],
      "metadata": {
        "id": "Z_gbhViitTRV"
      }
    },
    {
      "cell_type": "code",
      "execution_count": null,
      "metadata": {
        "colab": {
          "base_uri": "https://localhost:8080/"
        },
        "id": "W47iACvjGei0",
        "outputId": "99552783-ed2b-4ade-867a-c128b165a926"
      },
      "outputs": [
        {
          "output_type": "stream",
          "name": "stdout",
          "text": [
            "/content/drive/MyDrive/Colab Notebooks/data/DataMiningProject/Results/S1\n"
          ]
        }
      ],
      "source": [
        "path_data = '/content/drive/MyDrive/Colab Notebooks/data/DataMiningProject/Results'\n",
        "file_path = os.path.join(path_mount, path_data, subject)\n",
        "np.save(file_path + \"_results\", S1_result)\n",
        "print(file_path)"
      ]
    },
    {
      "cell_type": "code",
      "execution_count": null,
      "metadata": {
        "id": "4KJnT5Zda2Vn"
      },
      "outputs": [],
      "source": []
    }
  ],
  "metadata": {
    "colab": {
      "collapsed_sections": [
        "ams-32UpWJlv",
        "9OeGjsCbxXZE",
        "_ty3cB3YxXZO",
        "-LFIJEag0exq",
        "SvokKSOg0exr",
        "vGu5r86c2LMc",
        "Z_gbhViitTRV"
      ],
      "provenance": [],
      "include_colab_link": true
    },
    "kernelspec": {
      "display_name": "Python 3",
      "name": "python3"
    },
    "language_info": {
      "name": "python"
    }
  },
  "nbformat": 4,
  "nbformat_minor": 0
}